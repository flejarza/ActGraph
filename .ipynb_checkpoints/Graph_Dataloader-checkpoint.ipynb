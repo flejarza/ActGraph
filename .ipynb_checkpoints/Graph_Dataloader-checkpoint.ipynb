{
 "cells": [
  {
   "cell_type": "code",
   "execution_count": null,
   "metadata": {},
   "outputs": [],
   "source": [
    "import os\n",
    "import math\n",
    "import sys\n",
    "import pandas as pd\n",
    "\n",
    "import torch\n",
    "import torch.nn as nn\n",
    "import numpy as np\n",
    "import torch.nn.functional as Func\n",
    "from torch.nn import init\n",
    "from torch.nn.parameter import Parameter\n",
    "from torch.nn.modules.module import Module\n",
    "\n",
    "import torch.optim as optim\n",
    "\n",
    "from torch.utils.data import Dataset\n",
    "from torch.utils.data import DataLoader\n",
    "from numpy import linalg as LA\n",
    "import networkx as nx\n",
    "from tqdm import tqdm\n",
    "import time"
   ]
  },
  {
   "cell_type": "code",
   "execution_count": 1,
   "metadata": {},
   "outputs": [
    {
     "ename": "NameError",
     "evalue": "name 'Dataset' is not defined",
     "output_type": "error",
     "traceback": [
      "\u001b[0;31m---------------------------------------------------------------------------\u001b[0m",
      "\u001b[0;31mNameError\u001b[0m                                 Traceback (most recent call last)",
      "\u001b[0;32m<ipython-input-1-b227d53deb61>\u001b[0m in \u001b[0;36m<module>\u001b[0;34m\u001b[0m\n\u001b[0;32m----> 1\u001b[0;31m \u001b[0;32mclass\u001b[0m \u001b[0mActionGraphDataset\u001b[0m\u001b[0;34m(\u001b[0m\u001b[0mDataset\u001b[0m\u001b[0;34m)\u001b[0m\u001b[0;34m:\u001b[0m\u001b[0;34m\u001b[0m\u001b[0;34m\u001b[0m\u001b[0m\n\u001b[0m\u001b[1;32m      2\u001b[0m     \u001b[0;34m\"\"\"Dataloader for the Trajectory datasets\"\"\"\u001b[0m\u001b[0;34m\u001b[0m\u001b[0;34m\u001b[0m\u001b[0m\n\u001b[1;32m      3\u001b[0m     def __init__(\n\u001b[1;32m      4\u001b[0m         self, encoded_vals, nodes_count=3):\n\u001b[1;32m      5\u001b[0m \u001b[0;34m\u001b[0m\u001b[0m\n",
      "\u001b[0;31mNameError\u001b[0m: name 'Dataset' is not defined"
     ]
    }
   ],
   "source": [
    "# TODO: SCC - Corrections will most likely need to be made\n",
    "# TODO: SCC - Make sure this file is in the appropriate filepath\n",
    "class ActionGraphDataset(Dataset):\n",
    "    \"\"\"Dataloader for the Trajectory datasets\"\"\"\n",
    "    def __init__(\n",
    "        self, encoded_vals, nodes_count=3):\n",
    "       \n",
    "        super(ActionGraphDataset, self).__init__()\n",
    "        \n",
    "        self.v = [] #Holds the vertices\n",
    "        self.A = [] #Holds the adjacency\n",
    "        \n",
    "        #Convert to Graphs for each sequence of nodes_count, \n",
    "        #So, we will have a graph of nodes_count and its adjacency matrix\n",
    "        for i in range(nodes_count):\n",
    "            features = encoded_vals[i] # size = 64\n",
    "            \n",
    "            V = np.zeros((len(features),nodes_count))\n",
    "            A = np.zeros((len(features),nodes_count,nodes_count))\n",
    "            \n",
    "            #loop over the data and construct a graph as following\n",
    "            for f in range(len(features)):\n",
    "                #V = vertex = <feature_vector=encoded_state,class>\n",
    "                V[f, i] = features[f]\n",
    "                #A as an adjacency matrix where diagonal elements is 1\n",
    "                A[i, i] = 1\n",
    "            \n",
    "                G = nx.from_numpy_matrix(A[f,:,:]) #create a graph \n",
    "                A[f,:,:] = nx.normalized_laplacian_matrix(G).toarray() #to normalize \n",
    "            \n",
    "            #convert it to torch tensor\n",
    "            torch.from_numpy(V).type(torch.float)\n",
    "            torch.from_numpy(A).type(torch.float)\n",
    "            \n",
    "            self.v.append(V)\n",
    "            self.A.append(A)\n",
    "\n",
    "\n",
    "    def __len__(self):\n",
    "        return len(self.v)\n",
    "\n",
    "    def __getitem__(self, index):\n",
    "        return self.v[index], self.A[index]"
   ]
  },
  {
   "cell_type": "code",
   "execution_count": null,
   "metadata": {},
   "outputs": [],
   "source": [
    "# encoded_graph_vals = [j for j in range(count)]\n",
    "\n",
    "# # create graph for each user (60 graphs total)\n",
    "# for i in range(count):\n",
    "#     encoded_graph_vals[i] = ActionGraphDataset(encoded_vals=encoded_vals[i])"
   ]
  }
 ],
 "metadata": {
  "kernelspec": {
   "display_name": "Python 3",
   "language": "python",
   "name": "python3"
  },
  "language_info": {
   "codemirror_mode": {
    "name": "ipython",
    "version": 3
   },
   "file_extension": ".py",
   "mimetype": "text/x-python",
   "name": "python",
   "nbconvert_exporter": "python",
   "pygments_lexer": "ipython3",
   "version": "3.6.9"
  }
 },
 "nbformat": 4,
 "nbformat_minor": 2
}
