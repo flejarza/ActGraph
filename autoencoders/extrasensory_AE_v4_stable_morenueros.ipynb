{
 "cells": [
  {
   "cell_type": "markdown",
   "metadata": {},
   "source": [
    "## Import libraries for initial data exploration"
   ]
  },
  {
   "cell_type": "code",
   "execution_count": 1,
   "metadata": {},
   "outputs": [],
   "source": [
    "#This is an updated version"
   ]
  },
  {
   "cell_type": "code",
   "execution_count": 2,
   "metadata": {},
   "outputs": [],
   "source": [
    "%matplotlib inline\n",
    "import matplotlib as mpl\n",
    "import matplotlib.pyplot as plt\n",
    "import pandas as pd\n",
    "import zipfile\n",
    "\n",
    "import numpy as np\n",
    "import gzip\n",
    "from io import StringIO;\n",
    "import os\n",
    "\n",
    "import torch \n",
    "from torchvision import datasets\n",
    "import torchvision.transforms as transforms\n",
    "from torch.utils.data import Dataset, DataLoader\n",
    "import torch.nn as nn\n",
    "import torch.optim as optim\n",
    "import seaborn as sns \n",
    "\n",
    "from os import listdir\n",
    "from os.path import isfile, join\n",
    "import gzip\n",
    "import shutil\n",
    "import pickle\n",
    "import random"
   ]
  },
  {
   "cell_type": "markdown",
   "metadata": {},
   "source": [
    "## Read and visualize an input file"
   ]
  },
  {
   "cell_type": "markdown",
   "metadata": {},
   "source": [
    "### Provide the root directory for where the user input files are, relative to the notebook location"
   ]
  },
  {
   "cell_type": "code",
   "execution_count": 3,
   "metadata": {},
   "outputs": [],
   "source": [
    "root_dir = \"ExtraSensory.per_uuid_features_labels/\""
   ]
  },
  {
   "cell_type": "markdown",
   "metadata": {},
   "source": [
    "### File parser helper functions"
   ]
  },
  {
   "cell_type": "code",
   "execution_count": 4,
   "metadata": {},
   "outputs": [],
   "source": [
    "def parse_header_of_csv(csv_str):\n",
    "    # Isolate the headline columns:\n",
    "    headline = csv_str[:csv_str.index(b'\\n')];\n",
    "    columns = headline.split(b',');\n",
    "\n",
    "    # The first column should be timestamp:\n",
    "    assert columns[0] == b'timestamp';\n",
    "    \n",
    "    # The last column should be label_source:\n",
    "    assert columns[-1] == b'label_source';\n",
    "    \n",
    "    # Search for the column of the first label:\n",
    "    for (ci,col) in enumerate(columns):\n",
    "        if col.startswith(b'label:'):\n",
    "            first_label_ind = ci;\n",
    "            break;\n",
    "        pass;\n",
    "\n",
    "    # Feature columns come after timestamp and before the labels:\n",
    "    feature_names = columns[1:first_label_ind];\n",
    "    \n",
    "    # Then come the labels, till the one-before-last column:\n",
    "    label_names = columns[first_label_ind:-1];\n",
    "    for (li,label) in enumerate(label_names):\n",
    "        \n",
    "        # In the CSV the label names appear with prefix 'label:', but we don't need it after reading the data:\n",
    "        assert label.startswith(b'label:');\n",
    "        label_names[li] = label.replace(b'label:',b'');\n",
    "        pass;\n",
    "    \n",
    "    return (feature_names, label_names);\n",
    "\n",
    "def parse_body_of_csv(csv_str,n_features):\n",
    "    # Read the entire CSV body into a single numeric matrix:\n",
    "    full_table = np.loadtxt(StringIO(csv_str.decode(\"utf-8\")),delimiter=',',skiprows=1);\n",
    "    \n",
    "    # Timestamp is the primary key for the records (examples):\n",
    "    timestamps = full_table[:,0].astype(int);\n",
    "    \n",
    "    # Read the sensor features:\n",
    "    X = full_table[:,1:(n_features+1)];\n",
    "    \n",
    "    # Read the binary label values, and the 'missing label' indicators:\n",
    "    trinary_labels_mat = full_table[:,(n_features+1):-1]; # This should have values of either 0., 1. or NaN\n",
    "    M = np.isnan(trinary_labels_mat); # M is the missing label matrix\n",
    "    Y = np.where(M,0,trinary_labels_mat) > 0.; # Y is the label matrix\n",
    "    \n",
    "    return (X,Y,M,timestamps);\n",
    "\n",
    "'''\n",
    "Read the data (precomputed sensor-features and labels) for a user.\n",
    "This function assumes the user's data file is present.\n",
    "'''\n",
    "def read_user_data(uuid):\n",
    "    user_data_file = '%s%s.features_labels.csv.gz' % (root_dir, uuid);\n",
    "\n",
    "    # Read the entire csv file of the user:\n",
    "    with gzip.open(user_data_file,'rb') as fid:\n",
    "        csv_str = fid.read();\n",
    "        pass;\n",
    "    \n",
    "    (feature_names,label_names) = parse_header_of_csv(csv_str);\n",
    "    n_features = len(feature_names);\n",
    "    (X,Y,M,timestamps) = parse_body_of_csv(csv_str,n_features);\n",
    "\n",
    "    return (X,Y,M,timestamps,feature_names,label_names);"
   ]
  },
  {
   "cell_type": "markdown",
   "metadata": {},
   "source": [
    "## Read and store all the file data"
   ]
  },
  {
   "cell_type": "markdown",
   "metadata": {},
   "source": [
    "### Now that we've explored the dataset, we can store the rest of the files for processing."
   ]
  },
  {
   "cell_type": "code",
   "execution_count": 5,
   "metadata": {},
   "outputs": [],
   "source": [
    "onlyfiles = [f for f in listdir(root_dir)]\n",
    "final_files = [] \n",
    "for i in onlyfiles: \n",
    "    #x = '/%s%s' % (root_dir, i[0:len(i)-3]) \n",
    "    if \".csv\" in i and \".gz\" not in i:\n",
    "        final_files.append(i)"
   ]
  },
  {
   "cell_type": "code",
   "execution_count": 6,
   "metadata": {},
   "outputs": [],
   "source": [
    "if os.path.isfile(\"./sensor.pkl\") and  os.path.isfile(\"./labels.pkl\"):\n",
    "    with open(\"./sensor.pkl\", \"rb\") as f:\n",
    "        sensor_data= pickle.load(f)\n",
    "    with open(\"./labels.pkl\", \"rb\") as f:\n",
    "        labels_data= pickle.load(f) \n",
    "else:       \n",
    "    raw_d = pd.read_csv('./'+root_dir + final_files[0] )\n",
    "    sensor_data = raw_d.iloc[:,1:225]\n",
    "    labels_data = raw_d.iloc[:,226:-1]\n",
    "\n",
    "    for i in range(1,len(final_files)):\n",
    "        raw_d = pd.read_csv('./'+root_dir + final_files[i] )\n",
    "        sensor_data = sensor_data.append(raw_d.iloc[:,1:225],ignore_index=True)\n",
    "        labels_data = labels_data.append(raw_d.iloc[:,226:-1],ignore_index=True)\n",
    "    with open(\"./sensor.pkl\", \"wb\") as f:\n",
    "        pickle.dump(sensor_data,f)\n",
    "    with open(\"./labels.pkl\", \"wb\") as f:\n",
    "        pickle.dump(labels_data,f)\n"
   ]
  },
  {
   "cell_type": "code",
   "execution_count": null,
   "metadata": {},
   "outputs": [],
   "source": []
  },
  {
   "cell_type": "markdown",
   "metadata": {},
   "source": [
    "### Fill NaN with column mode, and drop remaining NaN"
   ]
  },
  {
   "cell_type": "code",
   "execution_count": 7,
   "metadata": {},
   "outputs": [],
   "source": [
    "sensor_data = sensor_data.fillna(0)\n",
    "labels_data = labels_data.fillna(0)"
   ]
  },
  {
   "cell_type": "code",
   "execution_count": 8,
   "metadata": {},
   "outputs": [
    {
     "data": {
      "text/html": [
       "<div>\n",
       "<style scoped>\n",
       "    .dataframe tbody tr th:only-of-type {\n",
       "        vertical-align: middle;\n",
       "    }\n",
       "\n",
       "    .dataframe tbody tr th {\n",
       "        vertical-align: top;\n",
       "    }\n",
       "\n",
       "    .dataframe thead th {\n",
       "        text-align: right;\n",
       "    }\n",
       "</style>\n",
       "<table border=\"1\" class=\"dataframe\">\n",
       "  <thead>\n",
       "    <tr style=\"text-align: right;\">\n",
       "      <th></th>\n",
       "      <th>label:LYING_DOWN</th>\n",
       "      <th>label:SITTING</th>\n",
       "      <th>label:FIX_walking</th>\n",
       "      <th>label:FIX_running</th>\n",
       "      <th>label:BICYCLING</th>\n",
       "      <th>label:SLEEPING</th>\n",
       "      <th>label:LAB_WORK</th>\n",
       "      <th>label:IN_CLASS</th>\n",
       "      <th>label:IN_A_MEETING</th>\n",
       "      <th>label:LOC_main_workplace</th>\n",
       "      <th>...</th>\n",
       "      <th>label:STAIRS_-_GOING_UP</th>\n",
       "      <th>label:STAIRS_-_GOING_DOWN</th>\n",
       "      <th>label:ELEVATOR</th>\n",
       "      <th>label:OR_standing</th>\n",
       "      <th>label:AT_SCHOOL</th>\n",
       "      <th>label:PHONE_IN_HAND</th>\n",
       "      <th>label:PHONE_IN_BAG</th>\n",
       "      <th>label:PHONE_ON_TABLE</th>\n",
       "      <th>label:WITH_CO-WORKERS</th>\n",
       "      <th>label:WITH_FRIENDS</th>\n",
       "    </tr>\n",
       "  </thead>\n",
       "  <tbody>\n",
       "    <tr>\n",
       "      <th>0</th>\n",
       "      <td>0.0</td>\n",
       "      <td>1.0</td>\n",
       "      <td>0.0</td>\n",
       "      <td>0.0</td>\n",
       "      <td>0.0</td>\n",
       "      <td>0.0</td>\n",
       "      <td>0.0</td>\n",
       "      <td>0.0</td>\n",
       "      <td>0.0</td>\n",
       "      <td>0.0</td>\n",
       "      <td>...</td>\n",
       "      <td>0.0</td>\n",
       "      <td>0.0</td>\n",
       "      <td>0.0</td>\n",
       "      <td>0.0</td>\n",
       "      <td>0.0</td>\n",
       "      <td>0.0</td>\n",
       "      <td>0.0</td>\n",
       "      <td>1.0</td>\n",
       "      <td>0.0</td>\n",
       "      <td>0.0</td>\n",
       "    </tr>\n",
       "    <tr>\n",
       "      <th>1</th>\n",
       "      <td>0.0</td>\n",
       "      <td>1.0</td>\n",
       "      <td>0.0</td>\n",
       "      <td>0.0</td>\n",
       "      <td>0.0</td>\n",
       "      <td>0.0</td>\n",
       "      <td>0.0</td>\n",
       "      <td>0.0</td>\n",
       "      <td>0.0</td>\n",
       "      <td>0.0</td>\n",
       "      <td>...</td>\n",
       "      <td>0.0</td>\n",
       "      <td>0.0</td>\n",
       "      <td>0.0</td>\n",
       "      <td>0.0</td>\n",
       "      <td>0.0</td>\n",
       "      <td>0.0</td>\n",
       "      <td>0.0</td>\n",
       "      <td>1.0</td>\n",
       "      <td>0.0</td>\n",
       "      <td>0.0</td>\n",
       "    </tr>\n",
       "    <tr>\n",
       "      <th>2</th>\n",
       "      <td>0.0</td>\n",
       "      <td>1.0</td>\n",
       "      <td>0.0</td>\n",
       "      <td>0.0</td>\n",
       "      <td>0.0</td>\n",
       "      <td>0.0</td>\n",
       "      <td>0.0</td>\n",
       "      <td>0.0</td>\n",
       "      <td>0.0</td>\n",
       "      <td>0.0</td>\n",
       "      <td>...</td>\n",
       "      <td>0.0</td>\n",
       "      <td>0.0</td>\n",
       "      <td>0.0</td>\n",
       "      <td>0.0</td>\n",
       "      <td>0.0</td>\n",
       "      <td>0.0</td>\n",
       "      <td>0.0</td>\n",
       "      <td>1.0</td>\n",
       "      <td>0.0</td>\n",
       "      <td>0.0</td>\n",
       "    </tr>\n",
       "    <tr>\n",
       "      <th>3</th>\n",
       "      <td>0.0</td>\n",
       "      <td>1.0</td>\n",
       "      <td>0.0</td>\n",
       "      <td>0.0</td>\n",
       "      <td>0.0</td>\n",
       "      <td>0.0</td>\n",
       "      <td>0.0</td>\n",
       "      <td>0.0</td>\n",
       "      <td>0.0</td>\n",
       "      <td>0.0</td>\n",
       "      <td>...</td>\n",
       "      <td>0.0</td>\n",
       "      <td>0.0</td>\n",
       "      <td>0.0</td>\n",
       "      <td>0.0</td>\n",
       "      <td>0.0</td>\n",
       "      <td>0.0</td>\n",
       "      <td>0.0</td>\n",
       "      <td>1.0</td>\n",
       "      <td>0.0</td>\n",
       "      <td>0.0</td>\n",
       "    </tr>\n",
       "    <tr>\n",
       "      <th>4</th>\n",
       "      <td>0.0</td>\n",
       "      <td>1.0</td>\n",
       "      <td>0.0</td>\n",
       "      <td>0.0</td>\n",
       "      <td>0.0</td>\n",
       "      <td>0.0</td>\n",
       "      <td>0.0</td>\n",
       "      <td>0.0</td>\n",
       "      <td>0.0</td>\n",
       "      <td>0.0</td>\n",
       "      <td>...</td>\n",
       "      <td>0.0</td>\n",
       "      <td>0.0</td>\n",
       "      <td>0.0</td>\n",
       "      <td>0.0</td>\n",
       "      <td>0.0</td>\n",
       "      <td>0.0</td>\n",
       "      <td>0.0</td>\n",
       "      <td>1.0</td>\n",
       "      <td>0.0</td>\n",
       "      <td>0.0</td>\n",
       "    </tr>\n",
       "  </tbody>\n",
       "</table>\n",
       "<p>5 rows × 51 columns</p>\n",
       "</div>"
      ],
      "text/plain": [
       "   label:LYING_DOWN  label:SITTING  label:FIX_walking  label:FIX_running  \\\n",
       "0               0.0            1.0                0.0                0.0   \n",
       "1               0.0            1.0                0.0                0.0   \n",
       "2               0.0            1.0                0.0                0.0   \n",
       "3               0.0            1.0                0.0                0.0   \n",
       "4               0.0            1.0                0.0                0.0   \n",
       "\n",
       "   label:BICYCLING  label:SLEEPING  label:LAB_WORK  label:IN_CLASS  \\\n",
       "0              0.0             0.0             0.0             0.0   \n",
       "1              0.0             0.0             0.0             0.0   \n",
       "2              0.0             0.0             0.0             0.0   \n",
       "3              0.0             0.0             0.0             0.0   \n",
       "4              0.0             0.0             0.0             0.0   \n",
       "\n",
       "   label:IN_A_MEETING  label:LOC_main_workplace  ...  label:STAIRS_-_GOING_UP  \\\n",
       "0                 0.0                       0.0  ...                      0.0   \n",
       "1                 0.0                       0.0  ...                      0.0   \n",
       "2                 0.0                       0.0  ...                      0.0   \n",
       "3                 0.0                       0.0  ...                      0.0   \n",
       "4                 0.0                       0.0  ...                      0.0   \n",
       "\n",
       "   label:STAIRS_-_GOING_DOWN  label:ELEVATOR  label:OR_standing  \\\n",
       "0                        0.0             0.0                0.0   \n",
       "1                        0.0             0.0                0.0   \n",
       "2                        0.0             0.0                0.0   \n",
       "3                        0.0             0.0                0.0   \n",
       "4                        0.0             0.0                0.0   \n",
       "\n",
       "   label:AT_SCHOOL  label:PHONE_IN_HAND  label:PHONE_IN_BAG  \\\n",
       "0              0.0                  0.0                 0.0   \n",
       "1              0.0                  0.0                 0.0   \n",
       "2              0.0                  0.0                 0.0   \n",
       "3              0.0                  0.0                 0.0   \n",
       "4              0.0                  0.0                 0.0   \n",
       "\n",
       "   label:PHONE_ON_TABLE  label:WITH_CO-WORKERS  label:WITH_FRIENDS  \n",
       "0                   1.0                    0.0                 0.0  \n",
       "1                   1.0                    0.0                 0.0  \n",
       "2                   1.0                    0.0                 0.0  \n",
       "3                   1.0                    0.0                 0.0  \n",
       "4                   1.0                    0.0                 0.0  \n",
       "\n",
       "[5 rows x 51 columns]"
      ]
     },
     "execution_count": 8,
     "metadata": {},
     "output_type": "execute_result"
    }
   ],
   "source": [
    "labels_data.head()"
   ]
  },
  {
   "cell_type": "code",
   "execution_count": 9,
   "metadata": {},
   "outputs": [
    {
     "data": {
      "text/html": [
       "<div>\n",
       "<style scoped>\n",
       "    .dataframe tbody tr th:only-of-type {\n",
       "        vertical-align: middle;\n",
       "    }\n",
       "\n",
       "    .dataframe tbody tr th {\n",
       "        vertical-align: top;\n",
       "    }\n",
       "\n",
       "    .dataframe thead th {\n",
       "        text-align: right;\n",
       "    }\n",
       "</style>\n",
       "<table border=\"1\" class=\"dataframe\">\n",
       "  <thead>\n",
       "    <tr style=\"text-align: right;\">\n",
       "      <th></th>\n",
       "      <th>raw_acc:magnitude_stats:mean</th>\n",
       "      <th>raw_acc:magnitude_stats:std</th>\n",
       "      <th>raw_acc:magnitude_stats:moment3</th>\n",
       "      <th>raw_acc:magnitude_stats:moment4</th>\n",
       "      <th>raw_acc:magnitude_stats:percentile25</th>\n",
       "      <th>raw_acc:magnitude_stats:percentile50</th>\n",
       "      <th>raw_acc:magnitude_stats:percentile75</th>\n",
       "      <th>raw_acc:magnitude_stats:value_entropy</th>\n",
       "      <th>raw_acc:magnitude_stats:time_entropy</th>\n",
       "      <th>raw_acc:magnitude_spectrum:log_energy_band0</th>\n",
       "      <th>...</th>\n",
       "      <th>lf_measurements:battery_level</th>\n",
       "      <th>lf_measurements:screen_brightness</th>\n",
       "      <th>lf_measurements:temperature_ambient</th>\n",
       "      <th>discrete:time_of_day:between0and6</th>\n",
       "      <th>discrete:time_of_day:between3and9</th>\n",
       "      <th>discrete:time_of_day:between6and12</th>\n",
       "      <th>discrete:time_of_day:between9and15</th>\n",
       "      <th>discrete:time_of_day:between12and18</th>\n",
       "      <th>discrete:time_of_day:between15and21</th>\n",
       "      <th>discrete:time_of_day:between18and24</th>\n",
       "    </tr>\n",
       "  </thead>\n",
       "  <tbody>\n",
       "    <tr>\n",
       "      <th>0</th>\n",
       "      <td>1.026050</td>\n",
       "      <td>0.004956</td>\n",
       "      <td>-0.011147</td>\n",
       "      <td>0.020062</td>\n",
       "      <td>1.024622</td>\n",
       "      <td>1.026169</td>\n",
       "      <td>1.027758</td>\n",
       "      <td>0.784843</td>\n",
       "      <td>6.684600</td>\n",
       "      <td>5.043212</td>\n",
       "      <td>...</td>\n",
       "      <td>0.90</td>\n",
       "      <td>0.0</td>\n",
       "      <td>0.0</td>\n",
       "      <td>0.0</td>\n",
       "      <td>0.0</td>\n",
       "      <td>1.0</td>\n",
       "      <td>1.0</td>\n",
       "      <td>0.0</td>\n",
       "      <td>0.0</td>\n",
       "      <td>0.0</td>\n",
       "    </tr>\n",
       "    <tr>\n",
       "      <th>1</th>\n",
       "      <td>1.026225</td>\n",
       "      <td>0.064620</td>\n",
       "      <td>-0.061327</td>\n",
       "      <td>0.172650</td>\n",
       "      <td>1.022154</td>\n",
       "      <td>1.024484</td>\n",
       "      <td>1.026789</td>\n",
       "      <td>0.671550</td>\n",
       "      <td>6.682509</td>\n",
       "      <td>5.040791</td>\n",
       "      <td>...</td>\n",
       "      <td>0.90</td>\n",
       "      <td>0.0</td>\n",
       "      <td>0.0</td>\n",
       "      <td>0.0</td>\n",
       "      <td>0.0</td>\n",
       "      <td>1.0</td>\n",
       "      <td>1.0</td>\n",
       "      <td>0.0</td>\n",
       "      <td>0.0</td>\n",
       "      <td>0.0</td>\n",
       "    </tr>\n",
       "    <tr>\n",
       "      <th>2</th>\n",
       "      <td>1.026042</td>\n",
       "      <td>0.013626</td>\n",
       "      <td>0.013009</td>\n",
       "      <td>0.035978</td>\n",
       "      <td>1.023549</td>\n",
       "      <td>1.025964</td>\n",
       "      <td>1.027842</td>\n",
       "      <td>0.583047</td>\n",
       "      <td>6.684524</td>\n",
       "      <td>5.042936</td>\n",
       "      <td>...</td>\n",
       "      <td>0.90</td>\n",
       "      <td>0.0</td>\n",
       "      <td>0.0</td>\n",
       "      <td>0.0</td>\n",
       "      <td>0.0</td>\n",
       "      <td>1.0</td>\n",
       "      <td>1.0</td>\n",
       "      <td>0.0</td>\n",
       "      <td>0.0</td>\n",
       "      <td>0.0</td>\n",
       "    </tr>\n",
       "    <tr>\n",
       "      <th>3</th>\n",
       "      <td>1.027755</td>\n",
       "      <td>0.048011</td>\n",
       "      <td>0.056932</td>\n",
       "      <td>0.106184</td>\n",
       "      <td>1.021865</td>\n",
       "      <td>1.024913</td>\n",
       "      <td>1.027899</td>\n",
       "      <td>0.921563</td>\n",
       "      <td>6.683540</td>\n",
       "      <td>5.038209</td>\n",
       "      <td>...</td>\n",
       "      <td>0.89</td>\n",
       "      <td>0.0</td>\n",
       "      <td>0.0</td>\n",
       "      <td>0.0</td>\n",
       "      <td>0.0</td>\n",
       "      <td>1.0</td>\n",
       "      <td>1.0</td>\n",
       "      <td>0.0</td>\n",
       "      <td>0.0</td>\n",
       "      <td>0.0</td>\n",
       "    </tr>\n",
       "    <tr>\n",
       "      <th>4</th>\n",
       "      <td>1.026951</td>\n",
       "      <td>0.004087</td>\n",
       "      <td>-0.004915</td>\n",
       "      <td>0.012900</td>\n",
       "      <td>1.025302</td>\n",
       "      <td>1.026997</td>\n",
       "      <td>1.028592</td>\n",
       "      <td>0.914141</td>\n",
       "      <td>6.684604</td>\n",
       "      <td>5.043455</td>\n",
       "      <td>...</td>\n",
       "      <td>0.89</td>\n",
       "      <td>0.0</td>\n",
       "      <td>0.0</td>\n",
       "      <td>0.0</td>\n",
       "      <td>0.0</td>\n",
       "      <td>1.0</td>\n",
       "      <td>1.0</td>\n",
       "      <td>0.0</td>\n",
       "      <td>0.0</td>\n",
       "      <td>0.0</td>\n",
       "    </tr>\n",
       "  </tbody>\n",
       "</table>\n",
       "<p>5 rows × 224 columns</p>\n",
       "</div>"
      ],
      "text/plain": [
       "   raw_acc:magnitude_stats:mean  raw_acc:magnitude_stats:std  \\\n",
       "0                      1.026050                     0.004956   \n",
       "1                      1.026225                     0.064620   \n",
       "2                      1.026042                     0.013626   \n",
       "3                      1.027755                     0.048011   \n",
       "4                      1.026951                     0.004087   \n",
       "\n",
       "   raw_acc:magnitude_stats:moment3  raw_acc:magnitude_stats:moment4  \\\n",
       "0                        -0.011147                         0.020062   \n",
       "1                        -0.061327                         0.172650   \n",
       "2                         0.013009                         0.035978   \n",
       "3                         0.056932                         0.106184   \n",
       "4                        -0.004915                         0.012900   \n",
       "\n",
       "   raw_acc:magnitude_stats:percentile25  raw_acc:magnitude_stats:percentile50  \\\n",
       "0                              1.024622                              1.026169   \n",
       "1                              1.022154                              1.024484   \n",
       "2                              1.023549                              1.025964   \n",
       "3                              1.021865                              1.024913   \n",
       "4                              1.025302                              1.026997   \n",
       "\n",
       "   raw_acc:magnitude_stats:percentile75  \\\n",
       "0                              1.027758   \n",
       "1                              1.026789   \n",
       "2                              1.027842   \n",
       "3                              1.027899   \n",
       "4                              1.028592   \n",
       "\n",
       "   raw_acc:magnitude_stats:value_entropy  \\\n",
       "0                               0.784843   \n",
       "1                               0.671550   \n",
       "2                               0.583047   \n",
       "3                               0.921563   \n",
       "4                               0.914141   \n",
       "\n",
       "   raw_acc:magnitude_stats:time_entropy  \\\n",
       "0                              6.684600   \n",
       "1                              6.682509   \n",
       "2                              6.684524   \n",
       "3                              6.683540   \n",
       "4                              6.684604   \n",
       "\n",
       "   raw_acc:magnitude_spectrum:log_energy_band0  ...  \\\n",
       "0                                     5.043212  ...   \n",
       "1                                     5.040791  ...   \n",
       "2                                     5.042936  ...   \n",
       "3                                     5.038209  ...   \n",
       "4                                     5.043455  ...   \n",
       "\n",
       "   lf_measurements:battery_level  lf_measurements:screen_brightness  \\\n",
       "0                           0.90                                0.0   \n",
       "1                           0.90                                0.0   \n",
       "2                           0.90                                0.0   \n",
       "3                           0.89                                0.0   \n",
       "4                           0.89                                0.0   \n",
       "\n",
       "   lf_measurements:temperature_ambient  discrete:time_of_day:between0and6  \\\n",
       "0                                  0.0                                0.0   \n",
       "1                                  0.0                                0.0   \n",
       "2                                  0.0                                0.0   \n",
       "3                                  0.0                                0.0   \n",
       "4                                  0.0                                0.0   \n",
       "\n",
       "   discrete:time_of_day:between3and9  discrete:time_of_day:between6and12  \\\n",
       "0                                0.0                                 1.0   \n",
       "1                                0.0                                 1.0   \n",
       "2                                0.0                                 1.0   \n",
       "3                                0.0                                 1.0   \n",
       "4                                0.0                                 1.0   \n",
       "\n",
       "   discrete:time_of_day:between9and15  discrete:time_of_day:between12and18  \\\n",
       "0                                 1.0                                  0.0   \n",
       "1                                 1.0                                  0.0   \n",
       "2                                 1.0                                  0.0   \n",
       "3                                 1.0                                  0.0   \n",
       "4                                 1.0                                  0.0   \n",
       "\n",
       "   discrete:time_of_day:between15and21  discrete:time_of_day:between18and24  \n",
       "0                                  0.0                                  0.0  \n",
       "1                                  0.0                                  0.0  \n",
       "2                                  0.0                                  0.0  \n",
       "3                                  0.0                                  0.0  \n",
       "4                                  0.0                                  0.0  \n",
       "\n",
       "[5 rows x 224 columns]"
      ]
     },
     "execution_count": 9,
     "metadata": {},
     "output_type": "execute_result"
    }
   ],
   "source": [
    "sensor_data.head()"
   ]
  },
  {
   "cell_type": "code",
   "execution_count": null,
   "metadata": {},
   "outputs": [],
   "source": []
  },
  {
   "cell_type": "markdown",
   "metadata": {},
   "source": [
    "### Visualize data before normalization"
   ]
  },
  {
   "cell_type": "code",
   "execution_count": 10,
   "metadata": {},
   "outputs": [
    {
     "data": {
      "image/png": "[encoded data removed]",
      "text/plain": [
       "<Figure size 936x432 with 4 Axes>"
      ]
     },
     "metadata": {
      "needs_background": "light"
     },
     "output_type": "display_data"
    }
   ],
   "source": [
    "plt.figure(figsize = (13, 6))\n",
    "plt.title('Unnormalizaed data')\n",
    "for i in range(4): \n",
    "    ax = plt.subplot(1, 4, i+1)\n",
    "    row_i = sensor_data.iloc[i,:].to_numpy().reshape(14, 16)\n",
    "    ax.imshow(row_i)"
   ]
  },
  {
   "cell_type": "markdown",
   "metadata": {},
   "source": [
    "### Normalize the data"
   ]
  },
  {
   "cell_type": "code",
   "execution_count": 11,
   "metadata": {},
   "outputs": [],
   "source": [
    "per_col_mean = []\n",
    "per_col_std = []\n",
    "def normalize_data(data):\n",
    "    norm_data = pd.DataFrame() \n",
    "    for col in data.columns: \n",
    "        col_mean = data[col].mean()\n",
    "        col_std = data[col].std()\n",
    "        per_col_mean.append(col_mean)\n",
    "        per_col_std.append(col_std)\n",
    "        if col_std != 0:\n",
    "            norm_data[col] = (data[col] - col_mean)/col_std\n",
    "        else:\n",
    "            norm_data[col] = data[col]    \n",
    "    #norm_data.dropna(inplace = True, axis = 'columns' )\n",
    "    return norm_data\n",
    "def normalize_test_data(data):\n",
    "    norm_data = pd.DataFrame() \n",
    "    i  = 0\n",
    "    for col in data.columns: \n",
    "        col_mean = per_col_mean[i]\n",
    "        col_std = per_col_std[i]\n",
    "        if col_std != 0:\n",
    "            norm_data[col] = (data[col] - col_mean)/col_std\n",
    "        else:\n",
    "            norm_data[col] = data[col]   \n",
    "        i = i +1\n",
    "    \n",
    "    #norm_data.dropna(inplace = True, axis = 'columns' )\n",
    "    return norm_data\n"
   ]
  },
  {
   "cell_type": "markdown",
   "metadata": {},
   "source": [
    "### Store the Input Shape"
   ]
  },
  {
   "cell_type": "code",
   "execution_count": 12,
   "metadata": {},
   "outputs": [],
   "source": [
    "input_shape = 224\n",
    "input_shape_s1 = 14\n",
    "input_shape_s2 = 16"
   ]
  },
  {
   "cell_type": "markdown",
   "metadata": {},
   "source": [
    "### Define helper functions for image manipulation"
   ]
  },
  {
   "cell_type": "code",
   "execution_count": 13,
   "metadata": {},
   "outputs": [],
   "source": [
    "# Construct 2D image \n",
    "def reshape_img(tensor,w,h):\n",
    "    return tensor.reshape([1,w,h])\n"
   ]
  },
  {
   "cell_type": "markdown",
   "metadata": {},
   "source": [
    "### Create a SensorDataset class that can be used to store the data"
   ]
  },
  {
   "cell_type": "code",
   "execution_count": 28,
   "metadata": {},
   "outputs": [],
   "source": [
    "class SensorDataset(Dataset): \n",
    "    \n",
    "    def __init__(self, sensor_data, transform,labels_data):\n",
    "        \"\"\"provide directory with the user's data\"\"\"\n",
    "        self.sensor_data = sensor_data\n",
    "        self.transform = transform\n",
    "        self.labels_data = labels_data\n",
    "        \n",
    "    def __len__(self):\n",
    "        return len(self.sensor_data)\n",
    "        \n",
    "    # This function can be used to index into the dataset\n",
    "    def __getitem__(self, idx):\n",
    "        if torch.is_tensor(idx):\n",
    "            idx = idx.tolist()\n",
    "                 \n",
    "\n",
    "        sample =  self.sensor_data.iloc[idx,:]\n",
    "        labels =  self.labels_data.iloc[idx,:]\n",
    "        \n",
    "        if self.transform:\n",
    "            # Transform to tensor\n",
    "            sample = self.transform(sample.to_numpy().reshape(input_shape_s1,input_shape_s2))\n",
    "            \n",
    "        return sample, torch.from_numpy(labels.to_numpy())"
   ]
  },
  {
   "cell_type": "markdown",
   "metadata": {},
   "source": [
    "### Define the batch size parameter"
   ]
  },
  {
   "cell_type": "code",
   "execution_count": 29,
   "metadata": {},
   "outputs": [],
   "source": [
    "batch_size = 64"
   ]
  },
  {
   "cell_type": "markdown",
   "metadata": {},
   "source": [
    "### Create the training & test datasets"
   ]
  },
  {
   "cell_type": "code",
   "execution_count": 30,
   "metadata": {},
   "outputs": [],
   "source": [
    "def create_train_test_sets(sensor_data,labels=None):\n",
    "    img_transform = transforms.Compose([\n",
    "        transforms.ToTensor()])\n",
    "    #     transforms.Lambda(lambda tensor:min_max_norm(tensor, 0, 1)),\n",
    "    #     transforms.Lambda(lambda tensor:reshape_img(tensor,11,20))\n",
    "\n",
    "#     sensor_data=sensor_data.fillna(0)\n",
    "#     sensor_data[sensor_data == \"nan\"] = 0\n",
    "    dataset_size = len(sensor_data)\n",
    "    \n",
    "    \n",
    "    all_indices = [i for i in range(dataset_size)]\n",
    "    random.shuffle(all_indices) #pick random trainig samples\n",
    "    row_train = all_indices[:int(2*dataset_size/3)]\n",
    "    row_test = all_indices[int(2*dataset_size/3):]\n",
    "\n",
    "    # Indexes for 0 -> 2/3 of dataset_size\n",
    "#     row_train = [i for i in range(int(2*dataset_size/3))]\n",
    "    train_data = sensor_data.loc[row_train,:]\n",
    "\n",
    "    # Indexes for 2/3 dataset_size -> end\n",
    "#     row_test = [i for i in range(int(2*dataset_size/3),dataset_size)] \n",
    "    test_data = sensor_data.loc[row_test,:]\n",
    "    \n",
    "    train_data = normalize_data(train_data)\n",
    "    test_data = normalize_test_data(test_data)\n",
    "#  Note the the number of columns has changed from the data set without normalization\n",
    "    \n",
    "    print(len(train_data))\n",
    "    print(len(test_data))\n",
    "\n",
    "    train_data = SensorDataset(train_data, transform = img_transform,labels_data=labels.loc[row_train,:])\n",
    "    test_data = SensorDataset(test_data, transform = img_transform,labels_data=labels.loc[row_test,:])\n",
    "    \n",
    "    \n",
    "    train_loader = torch.utils.data.DataLoader(train_data, batch_size = batch_size, shuffle = True)\n",
    "    test_loader = torch.utils.data.DataLoader(test_data, batch_size = batch_size, shuffle=True)\n",
    "    \n",
    "    return train_data, test_data, train_loader, test_loader\n"
   ]
  },
  {
   "cell_type": "code",
   "execution_count": 31,
   "metadata": {},
   "outputs": [
    {
     "name": "stdout",
     "output_type": "stream",
     "text": [
      "251564\n",
      "125782\n"
     ]
    }
   ],
   "source": [
    "train_data, test_data, train_loader, test_loader = create_train_test_sets(sensor_data, labels = labels_data)"
   ]
  },
  {
   "cell_type": "markdown",
   "metadata": {},
   "source": [
    "## Visualize the training data as images"
   ]
  },
  {
   "cell_type": "code",
   "execution_count": 32,
   "metadata": {},
   "outputs": [
    {
     "data": {
      "image/png": "[encoded data removed]",
      "text/plain": [
       "<Figure size 720x576 with 24 Axes>"
      ]
     },
     "metadata": {},
     "output_type": "display_data"
    }
   ],
   "source": [
    "fig = plt.figure(figsize=(10, 8))\n",
    "count = 0 \n",
    "for i in range(24):\n",
    "    ax = plt.subplot(6,4,count+1)\n",
    "    \n",
    "    im = train_data[count][0]\n",
    "    ax.set_xticks([]) \n",
    "    ax.set_yticks([])\n",
    "    plt.imshow(im.numpy().squeeze().reshape((input_shape_s1,input_shape_s2)))\n",
    "    count +=1\n",
    "    \n",
    "fig.tight_layout(pad=1.0)\n"
   ]
  },
  {
   "cell_type": "markdown",
   "metadata": {},
   "source": [
    "## Process the data with an Autoencoder"
   ]
  },
  {
   "cell_type": "markdown",
   "metadata": {},
   "source": [
    "### Initialize the Autoencoder variables and hyperparameters"
   ]
  },
  {
   "cell_type": "code",
   "execution_count": 33,
   "metadata": {},
   "outputs": [],
   "source": [
    "seed = 42\n",
    "torch.manual_seed(seed)\n",
    "torch.backends.cudnn.benchmark = False\n",
    "torch.backends.cudnn.deterministic = True"
   ]
  },
  {
   "cell_type": "markdown",
   "metadata": {},
   "source": [
    "### Create Autoencoder class"
   ]
  },
  {
   "cell_type": "code",
   "execution_count": 38,
   "metadata": {},
   "outputs": [],
   "source": [
    "class Autoencoder(nn.Module):\n",
    "    def __init__(self, **kwargs):\n",
    "        super().__init__()\n",
    "        \n",
    "        self.encoder = nn.Sequential(\n",
    "            nn.Linear(in_features=kwargs[\"input_shape\"],out_features=200),\n",
    "            nn.PReLU(),\n",
    "            nn.Linear(200, 100),\n",
    "            nn.PReLU(),\n",
    "            nn.Linear(100, 50),\n",
    "            nn.PReLU(),\n",
    "            nn.Linear(50, 32),\n",
    "            nn.PReLU()\n",
    "        )\n",
    "        self.decoder = nn.Sequential(\n",
    "            nn.Linear(32, 50),\n",
    "            nn.PReLU(),\n",
    "            nn.Linear(50, 100),\n",
    "            nn.PReLU(),\n",
    "            nn.Linear(100, 200),\n",
    "            nn.PReLU(),\n",
    "            nn.Linear(in_features= 200, out_features=kwargs[\"input_shape\"]))\n",
    "\n",
    "    def forward(self, x):\n",
    "        x = self.encoder(x)\n",
    "        x = self.decoder(x)\n",
    "        return x\n",
    "    def forward_encoder_only(self,x):\n",
    "        return self.encoder(x)"
   ]
  },
  {
   "cell_type": "markdown",
   "metadata": {},
   "source": [
    "### Leverage GPU, if available"
   ]
  },
  {
   "cell_type": "code",
   "execution_count": 39,
   "metadata": {},
   "outputs": [],
   "source": [
    "device = torch.device(\"cuda\" if torch.cuda.is_available() else \"cpu\")"
   ]
  },
  {
   "cell_type": "code",
   "execution_count": 40,
   "metadata": {},
   "outputs": [
    {
     "name": "stdout",
     "output_type": "stream",
     "text": [
      "cuda\n"
     ]
    }
   ],
   "source": [
    "print(device)"
   ]
  },
  {
   "cell_type": "markdown",
   "metadata": {},
   "source": [
    "### Create an autoencoder instance"
   ]
  },
  {
   "cell_type": "code",
   "execution_count": 41,
   "metadata": {},
   "outputs": [],
   "source": [
    "model = Autoencoder(input_shape = input_shape).to(device)"
   ]
  },
  {
   "cell_type": "markdown",
   "metadata": {},
   "source": [
    "## Train the autoencoder"
   ]
  },
  {
   "cell_type": "markdown",
   "metadata": {},
   "source": [
    "### Define the `fit()` method"
   ]
  },
  {
   "cell_type": "code",
   "execution_count": 42,
   "metadata": {},
   "outputs": [
    {
     "name": "stdout",
     "output_type": "stream",
     "text": [
      "1966 3931\n"
     ]
    }
   ],
   "source": [
    "print(len(test_loader),len(train_loader))"
   ]
  },
  {
   "cell_type": "code",
   "execution_count": 43,
   "metadata": {},
   "outputs": [],
   "source": [
    "def fit(current_epoch):\n",
    "    model.train()\n",
    "    \n",
    "    # Reset local variables\n",
    "    loss = 0\n",
    "    count = 0\n",
    "\n",
    "    # Iterate through the training dataset\n",
    "    for batch_features,y_obs in train_loader:\n",
    "        count +=1\n",
    "        # Reshape mini-batch data to [N, input_shape] matrix\n",
    "        batch_features = batch_features.view(-1, input_shape).to(device)\n",
    "\n",
    "        # Reset the gradients back to zero\n",
    "        optimizer.zero_grad()\n",
    "\n",
    "        # Compute reconstructions\n",
    "        y_pred = model(batch_features.float())\n",
    "\n",
    "        # Compute training reconstruction loss\n",
    "        train_loss = criterion(y_pred, batch_features.float())\n",
    "\n",
    "        # Compute accumulated gradients\n",
    "        train_loss.backward()\n",
    "\n",
    "        # Perform parameter update based on current gradients\n",
    "        optimizer.step()\n",
    "\n",
    "        # Add the mini-batch training loss to epoch loss\n",
    "        loss += train_loss.item()\n",
    "        if count%500==0:\n",
    "            print(\"\\t \\t -->: Training loss = {:.6f}\".format(loss/count)) \n",
    "\n",
    "\n",
    "    # Compute the average training loss across the epoch\n",
    "    loss = loss / len(train_loader)\n",
    "    \n",
    "    # Return the loss for this iteration\n",
    "    return loss"
   ]
  },
  {
   "cell_type": "markdown",
   "metadata": {},
   "source": [
    "### Define a validate function"
   ]
  },
  {
   "cell_type": "code",
   "execution_count": 44,
   "metadata": {},
   "outputs": [],
   "source": [
    "def validate(current_epoch):\n",
    "    model.eval()\n",
    "    \n",
    "    # Reset local variables\n",
    "    loss = 0 \n",
    "    count = 0    \n",
    "    \n",
    "    # Iterate through the test dataset (we are using this data for validation, too)\n",
    "    for batch_features, y_obs in test_loader:\n",
    "        count+=1\n",
    "        # Reshape mini-batch data to [N, input_shape] matrix\n",
    "        batch_features = batch_features.view(-1, input_shape).to(device)\n",
    "        \n",
    "        # Use the model\n",
    "        y_pred = model(batch_features.float())\n",
    "        \n",
    "        # Test loss\n",
    "        val_loss = criterion(batch_features.float(), y_pred)\n",
    "\n",
    "        # Add the mini-batch training loss to epoch loss\n",
    "        loss += val_loss.item()\n",
    "        if count%500==0:\n",
    "            print(\"\\t \\t-->: Validation loss = {:.6f}\".format(loss/count)) \n",
    "\n",
    "    # Compute the average training loss across the epoch\n",
    "    loss = loss / len(test_loader)\n",
    "    \n",
    "    # Return the loss for this iteration\n",
    "    return loss"
   ]
  },
  {
   "cell_type": "markdown",
   "metadata": {},
   "source": [
    "### Run the fit and validation functions"
   ]
  },
  {
   "cell_type": "code",
   "execution_count": null,
   "metadata": {},
   "outputs": [
    {
     "name": "stdout",
     "output_type": "stream",
     "text": [
      "\t \t -->: Training loss = 0.807257\n",
      "\t \t -->: Training loss = 0.682852\n",
      "\t \t -->: Training loss = 0.600585\n",
      "\t \t -->: Training loss = 0.539567\n",
      "\t \t -->: Training loss = 0.513376\n",
      "\t \t -->: Training loss = 0.482019\n",
      "\t \t -->: Training loss = 0.455663\n",
      "Epoch 1/100: Training loss = 0.437846\n",
      "\t \t-->: Validation loss = 0.278936\n",
      "\t \t-->: Validation loss = 0.292035\n",
      "\t \t-->: Validation loss = 0.292967\n",
      "Epoch 1/100: Validation loss = 0.289484\n",
      "\t \t -->: Training loss = 0.288677\n",
      "\t \t -->: Training loss = 0.270734\n",
      "\t \t -->: Training loss = 0.290352\n",
      "\t \t -->: Training loss = 0.276697\n",
      "\t \t -->: Training loss = 0.267101\n",
      "\t \t -->: Training loss = 0.259464\n",
      "\t \t -->: Training loss = 0.252663\n",
      "Epoch 2/100: Training loss = 0.246739\n",
      "\t \t-->: Validation loss = 0.215436\n",
      "\t \t-->: Validation loss = 0.212234\n",
      "\t \t-->: Validation loss = 0.210067\n",
      "Epoch 2/100: Validation loss = 0.214199\n",
      "\t \t -->: Training loss = 0.198761\n",
      "\t \t -->: Training loss = 0.233757\n",
      "\t \t -->: Training loss = 0.223843\n",
      "\t \t -->: Training loss = 0.211227\n",
      "\t \t -->: Training loss = 0.203795\n",
      "\t \t -->: Training loss = 0.201250\n",
      "\t \t -->: Training loss = 0.197297\n",
      "Epoch 3/100: Training loss = 0.194068\n",
      "\t \t-->: Validation loss = 0.193550\n",
      "\t \t-->: Validation loss = 0.178951\n",
      "\t \t-->: Validation loss = 0.187835\n",
      "Epoch 3/100: Validation loss = 0.185459\n",
      "\t \t -->: Training loss = 0.170324\n",
      "\t \t -->: Training loss = 0.159967\n",
      "\t \t -->: Training loss = 0.160775\n",
      "\t \t -->: Training loss = 0.177270\n",
      "\t \t -->: Training loss = 0.173207\n",
      "\t \t -->: Training loss = 0.170411\n",
      "\t \t -->: Training loss = 0.169238\n",
      "Epoch 4/100: Training loss = 0.167468\n",
      "\t \t-->: Validation loss = 0.182179\n",
      "\t \t-->: Validation loss = 0.171022\n",
      "\t \t-->: Validation loss = 0.166088\n",
      "Epoch 4/100: Validation loss = 0.165248\n",
      "\t \t -->: Training loss = 0.145785\n",
      "\t \t -->: Training loss = 0.151240\n",
      "\t \t -->: Training loss = 0.150159\n",
      "\t \t -->: Training loss = 0.148508\n",
      "\t \t -->: Training loss = 0.147036\n",
      "\t \t -->: Training loss = 0.155867\n",
      "\t \t -->: Training loss = 0.153948\n",
      "Epoch 5/100: Training loss = 0.152081\n",
      "\t \t-->: Validation loss = 0.151617\n",
      "\t \t-->: Validation loss = 0.157272\n",
      "\t \t-->: Validation loss = 0.150816\n",
      "Epoch 5/100: Validation loss = 0.147340\n",
      "\t \t -->: Training loss = 0.145982\n",
      "\t \t -->: Training loss = 0.140253\n",
      "\t \t -->: Training loss = 0.137230\n",
      "\t \t -->: Training loss = 0.135004\n",
      "\t \t -->: Training loss = 0.134136\n",
      "\t \t -->: Training loss = 0.133140\n",
      "\t \t -->: Training loss = 0.131409\n",
      "Epoch 6/100: Training loss = 0.139882\n",
      "\t \t-->: Validation loss = 0.154146\n",
      "\t \t-->: Validation loss = 0.142221\n",
      "\t \t-->: Validation loss = 0.146196\n",
      "Epoch 6/100: Validation loss = 0.141769\n",
      "\t \t -->: Training loss = 0.127777\n",
      "\t \t -->: Training loss = 0.129242\n",
      "\t \t -->: Training loss = 0.126562\n",
      "\t \t -->: Training loss = 0.125894\n",
      "\t \t -->: Training loss = 0.124505\n",
      "\t \t -->: Training loss = 0.121987\n",
      "\t \t -->: Training loss = 0.130754\n",
      "Epoch 7/100: Training loss = 0.130529\n",
      "\t \t-->: Validation loss = 0.122558\n",
      "\t \t-->: Validation loss = 0.129247\n",
      "\t \t-->: Validation loss = 0.132238\n",
      "Epoch 7/100: Validation loss = 0.132515\n",
      "\t \t -->: Training loss = 0.112688\n",
      "\t \t -->: Training loss = 0.113644\n",
      "\t \t -->: Training loss = 0.139414\n",
      "\t \t -->: Training loss = 0.130107\n",
      "\t \t -->: Training loss = 0.125547\n",
      "\t \t -->: Training loss = 0.124096\n",
      "\t \t -->: Training loss = 0.122058\n",
      "Epoch 8/100: Training loss = 0.121857\n",
      "\t \t-->: Validation loss = 0.114497\n",
      "\t \t-->: Validation loss = 0.117569\n",
      "\t \t-->: Validation loss = 0.122540\n",
      "Epoch 8/100: Validation loss = 0.122795\n",
      "\t \t -->: Training loss = 0.118154\n",
      "\t \t -->: Training loss = 0.117554\n"
     ]
    }
   ],
   "source": [
    "# Define parameters for autoencoder\n",
    "num_epochs = 100\n",
    "learn_rate = 1e-3\n",
    "train_loss_array = []\n",
    "validate_loss_array = []\n",
    "optimizer = optim.Adadelta(model.parameters())\n",
    "criterion = nn.MSELoss()\n",
    "\n",
    "min_val_loss = 100000000\n",
    "min_val_epoch = 1\n",
    "\n",
    "# Create a directory to store the best \n",
    "checkpoint_dir = './checkpoint/autoencoder/'\n",
    "if not os.path.exists(checkpoint_dir):\n",
    "    os.makedirs(checkpoint_dir)\n",
    "    \n",
    "# Iterate through all epochs\n",
    "for current_epoch in range(num_epochs):\n",
    "    \n",
    "    # Train & validate for the current epoch\n",
    "    fit_loss = fit(current_epoch)\n",
    "    train_loss_array.append(fit_loss)\n",
    "    print(\"Epoch {}/{}: Training loss = {:.6f}\".format(current_epoch + 1, num_epochs, fit_loss)) \n",
    "\n",
    "    val_loss = validate(current_epoch)\n",
    "    validate_loss_array.append(val_loss)\n",
    "    print(\"Epoch {}/{}: Validation loss = {:.6f}\".format(current_epoch + 1, num_epochs, val_loss)) \n",
    "    \n",
    "    if validate_loss_array[-1] < min_val_loss:\n",
    "        min_val_loss =  validate_loss_array[-1]\n",
    "        min_val_epoch = current_epoch\n",
    "        \n",
    "        torch.save(model.state_dict(), checkpoint_dir + 'val_best_morenn.pth') \n",
    "\n",
    "print(min_val_loss)\n",
    "print(min_val_epoch + 1)"
   ]
  },
  {
   "cell_type": "markdown",
   "metadata": {},
   "source": [
    "### Visualize how loss changes with # of epochs for training data "
   ]
  },
  {
   "cell_type": "code",
   "execution_count": null,
   "metadata": {
    "scrolled": true
   },
   "outputs": [],
   "source": [
    "fig = plt.figure()\n",
    "ax1 = fig.add_subplot(111)\n",
    "fig.tight_layout()\n",
    "ax1.plot(train_loss_array, label = \"Training Loss\")\n",
    "ax1.plot(validate_loss_array, label = \"Validation Loss\")\n",
    "\n",
    "plt.xlabel(\"Number of Epochs\")\n",
    "plt.ylabel(\"Average loss for the epoch\")\n",
    "plt.title(\"Epoch v. Loss\")\n",
    "plt.legend(loc='center left', bbox_to_anchor=(1.0, 0.5))\n",
    "plt.show()"
   ]
  },
  {
   "cell_type": "markdown",
   "metadata": {},
   "source": [
    "## Test the dataset"
   ]
  },
  {
   "cell_type": "code",
   "execution_count": null,
   "metadata": {},
   "outputs": [],
   "source": [
    "test_examples = None\n",
    "reconstruction = None\n",
    "\n",
    "with torch.no_grad():\n",
    "    for batch_features,_ in test_loader:\n",
    "        test_examples = batch_features.view(-1, input_shape)\n",
    "        reconstruction = model(test_examples.float())\n",
    "        break"
   ]
  },
  {
   "cell_type": "markdown",
   "metadata": {},
   "source": [
    "### Visualize the results"
   ]
  },
  {
   "cell_type": "code",
   "execution_count": null,
   "metadata": {
    "scrolled": true
   },
   "outputs": [],
   "source": [
    "print(test_examples.shape)\n",
    "print(reconstruction.shape)"
   ]
  },
  {
   "cell_type": "code",
   "execution_count": null,
   "metadata": {},
   "outputs": [],
   "source": [
    "with torch.no_grad():\n",
    "    number = 4\n",
    "    plt.figure(figsize=(12, 6))\n",
    "    for index in range(number):\n",
    "        \n",
    "        # display original\n",
    "        ax = plt.subplot(2, number, index + 1)\n",
    "        plt.imshow(test_examples[index].numpy().reshape(input_shape_s1, input_shape_s2))\n",
    "        plt.title('Original #' + str(index + 1))\n",
    "        ax.get_xaxis().set_visible(False)\n",
    "        ax.get_yaxis().set_visible(False)\n",
    "        \n",
    "        # display reconstructed\n",
    "        ax = plt.subplot(2, number, index + 1+ number)\n",
    "        plt.imshow(reconstruction[index].numpy().reshape(input_shape_s1, input_shape_s2))\n",
    "        plt.title('Reconstructed #' + str(index + 1))\n",
    "        ax.get_xaxis().set_visible(False)\n",
    "        ax.get_yaxis().set_visible(False)  "
   ]
  },
  {
   "cell_type": "code",
   "execution_count": null,
   "metadata": {},
   "outputs": [],
   "source": [
    "t = [i for i in range(input_shape)]\n",
    "count = 0 \n",
    "with torch.no_grad():\n",
    "    number = 4\n",
    "    fig, axes = plt.subplots(1, number, figsize=(15, 5))\n",
    "    fig.subplots_adjust(left=None, bottom=None, right=None, top=None, wspace=0.3, hspace=0.5)\n",
    "    for index in range(number):\n",
    "        # display original\n",
    "        ax = plt.subplot(1, number, index + 1)\n",
    "        sensor_read = test_examples[index].numpy().reshape(input_shape, 1)\n",
    "        plt.title('Sample #' + str(index + 1))\n",
    "        plt.xlabel('Feature')\n",
    "        plt.ylabel('Value')\n",
    "        plt.subplot(ax)\n",
    "        plt.plot(t, sensor_read, color = 'b', label = 'Actual')\n",
    "\n",
    "        sensor_read_rec = reconstruction[index].numpy().reshape(input_shape, 1)\n",
    "        plt.plot(t, sensor_read_rec, color = 'r', label = 'Reconstructed'); \n",
    "\n",
    "plt.legend(loc ='best')\n",
    "plt.show() "
   ]
  },
  {
   "cell_type": "markdown",
   "metadata": {},
   "source": [
    "# Run the Autoencoder logic for all the files"
   ]
  },
  {
   "cell_type": "code",
   "execution_count": null,
   "metadata": {},
   "outputs": [],
   "source": [
    "encoded_vals = [j for j in range(len(final_files))]\n",
    "count = 0\n",
    "reconstruction = []\n",
    "\n",
    "for file in final_files:\n",
    "    print(\"file: \", file)\n",
    "    if (file.endswith('.cs')):\n",
    "        continue\n",
    "       \n",
    "    raw_d = pd.read_csv('.' + file + '.csv')\n",
    "    \n",
    "    input_shape = raw_d.shape[1]\n",
    "    labels_shape = input_shape\n",
    "    \n",
    "    sensor_data = raw_d.iloc[:,1 : input_shape + 1]\n",
    "    sensor_data = remove_and_fill_nan(sensor_data)\n",
    "    labels_data = raw_d.iloc[:, labels_shape:-1]\n",
    "    labels_data = remove_and_fill_nan_zero(labels_data)\n",
    "    norm_sensor_data = normalize_data(sensor_data)\n",
    "    train_data_set, test_data_set, train_dataset_loader, test_dataset_loader = create_train_test_sets(norm_sensor_data,labels_data)\n",
    "\n",
    "    # Use the Autoencoder that only encodes\n",
    "    device = torch.device(\"cuda\" if torch.cuda.is_available() else \"cpu\")\n",
    "    \n",
    "    input_shape = norm_sensor_data.shape[1]\n",
    "    input_shape_s1 = 26 \n",
    "    input_shape_s2 = 10\n",
    "    model = Autoencoder(input_shape = input_shape).to(device)\n",
    "    \n",
    "    # Use the Autoencoder that both encodes and decodes\n",
    "    # model = Autoencoder(input_shape = input_shape).to(device)\n",
    "    \n",
    "    # loss_results = fit(num_epochs = 20, learn_rate = 1e-3)\n",
    "    \n",
    "    reconstruction.append([])\n",
    "    with torch.no_grad():\n",
    "        for batch_features, y_obs in test_dataset_loader:\n",
    "            test_examples = batch_features.view(-1, input_shape)\n",
    "            reconstruction[count] = model(test_examples.float())\n",
    "            break\n",
    "    \n",
    "    encoded_vals[count] = model(test_examples.float())\n",
    "    count += 1\n",
    "    break\n",
    "\n",
    "print(\"Envoded vals: \\n\", encoded_vals[0])"
   ]
  },
  {
   "cell_type": "code",
   "execution_count": null,
   "metadata": {},
   "outputs": [],
   "source": []
  }
 ],
 "metadata": {
  "kernelspec": {
   "display_name": "Python 3",
   "language": "python",
   "name": "python3"
  },
  "language_info": {
   "codemirror_mode": {
    "name": "ipython",
    "version": 3
   },
   "file_extension": ".py",
   "mimetype": "text/x-python",
   "name": "python",
   "nbconvert_exporter": "python",
   "pygments_lexer": "ipython3",
   "version": "3.6.8"
  }
 },
 "nbformat": 4,
 "nbformat_minor": 4
}
