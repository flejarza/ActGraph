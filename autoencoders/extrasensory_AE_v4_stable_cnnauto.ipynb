{
 "cells": [
  {
   "cell_type": "markdown",
   "metadata": {},
   "source": [
    "## Import libraries for initial data exploration"
   ]
  },
  {
   "cell_type": "code",
   "execution_count": null,
   "metadata": {},
   "outputs": [],
   "source": [
    "#This is an updated version"
   ]
  },
  {
   "cell_type": "code",
   "execution_count": 1,
   "metadata": {},
   "outputs": [],
   "source": [
    "%matplotlib inline\n",
    "import matplotlib as mpl\n",
    "import matplotlib.pyplot as plt\n",
    "import pandas as pd\n",
    "import zipfile\n",
    "\n",
    "import numpy as np\n",
    "import gzip\n",
    "from io import StringIO;\n",
    "import os\n",
    "\n",
    "import torch \n",
    "from torchvision import datasets\n",
    "import torchvision.transforms as transforms\n",
    "from torch.utils.data import Dataset, DataLoader\n",
    "import torch.nn as nn\n",
    "import torch.optim as optim\n",
    "import seaborn as sns \n",
    "\n",
    "from os import listdir\n",
    "from os.path import isfile, join\n",
    "import gzip\n",
    "import shutil\n",
    "import pickle\n",
    "import random"
   ]
  },
  {
   "cell_type": "markdown",
   "metadata": {},
   "source": [
    "## Read and visualize an input file"
   ]
  },
  {
   "cell_type": "markdown",
   "metadata": {},
   "source": [
    "### Provide the root directory for where the user input files are, relative to the notebook location"
   ]
  },
  {
   "cell_type": "code",
   "execution_count": 2,
   "metadata": {},
   "outputs": [],
   "source": [
    "root_dir = \"ExtraSensory.per_uuid_features_labels/\""
   ]
  },
  {
   "cell_type": "markdown",
   "metadata": {},
   "source": [
    "### File parser helper functions"
   ]
  },
  {
   "cell_type": "code",
   "execution_count": 3,
   "metadata": {},
   "outputs": [],
   "source": [
    "def parse_header_of_csv(csv_str):\n",
    "    # Isolate the headline columns:\n",
    "    headline = csv_str[:csv_str.index(b'\\n')];\n",
    "    columns = headline.split(b',');\n",
    "\n",
    "    # The first column should be timestamp:\n",
    "    assert columns[0] == b'timestamp';\n",
    "    \n",
    "    # The last column should be label_source:\n",
    "    assert columns[-1] == b'label_source';\n",
    "    \n",
    "    # Search for the column of the first label:\n",
    "    for (ci,col) in enumerate(columns):\n",
    "        if col.startswith(b'label:'):\n",
    "            first_label_ind = ci;\n",
    "            break;\n",
    "        pass;\n",
    "\n",
    "    # Feature columns come after timestamp and before the labels:\n",
    "    feature_names = columns[1:first_label_ind];\n",
    "    \n",
    "    # Then come the labels, till the one-before-last column:\n",
    "    label_names = columns[first_label_ind:-1];\n",
    "    for (li,label) in enumerate(label_names):\n",
    "        \n",
    "        # In the CSV the label names appear with prefix 'label:', but we don't need it after reading the data:\n",
    "        assert label.startswith(b'label:');\n",
    "        label_names[li] = label.replace(b'label:',b'');\n",
    "        pass;\n",
    "    \n",
    "    return (feature_names, label_names);\n",
    "\n",
    "def parse_body_of_csv(csv_str,n_features):\n",
    "    # Read the entire CSV body into a single numeric matrix:\n",
    "    full_table = np.loadtxt(StringIO(csv_str.decode(\"utf-8\")),delimiter=',',skiprows=1);\n",
    "    \n",
    "    # Timestamp is the primary key for the records (examples):\n",
    "    timestamps = full_table[:,0].astype(int);\n",
    "    \n",
    "    # Read the sensor features:\n",
    "    X = full_table[:,1:(n_features+1)];\n",
    "    \n",
    "    # Read the binary label values, and the 'missing label' indicators:\n",
    "    trinary_labels_mat = full_table[:,(n_features+1):-1]; # This should have values of either 0., 1. or NaN\n",
    "    M = np.isnan(trinary_labels_mat); # M is the missing label matrix\n",
    "    Y = np.where(M,0,trinary_labels_mat) > 0.; # Y is the label matrix\n",
    "    \n",
    "    return (X,Y,M,timestamps);\n",
    "\n",
    "'''\n",
    "Read the data (precomputed sensor-features and labels) for a user.\n",
    "This function assumes the user's data file is present.\n",
    "'''\n",
    "def read_user_data(uuid):\n",
    "    user_data_file = '%s%s.features_labels.csv.gz' % (root_dir, uuid);\n",
    "\n",
    "    # Read the entire csv file of the user:\n",
    "    with gzip.open(user_data_file,'rb') as fid:\n",
    "        csv_str = fid.read();\n",
    "        pass;\n",
    "    \n",
    "    (feature_names,label_names) = parse_header_of_csv(csv_str);\n",
    "    n_features = len(feature_names);\n",
    "    (X,Y,M,timestamps) = parse_body_of_csv(csv_str,n_features);\n",
    "\n",
    "    return (X,Y,M,timestamps,feature_names,label_names);"
   ]
  },
  {
   "cell_type": "markdown",
   "metadata": {},
   "source": [
    "## Read and store all the file data"
   ]
  },
  {
   "cell_type": "markdown",
   "metadata": {},
   "source": [
    "### Now that we've explored the dataset, we can store the rest of the files for processing."
   ]
  },
  {
   "cell_type": "code",
   "execution_count": 4,
   "metadata": {},
   "outputs": [],
   "source": [
    "onlyfiles = [f for f in listdir(root_dir)]\n",
    "final_files = [] \n",
    "for i in onlyfiles: \n",
    "    #x = '/%s%s' % (root_dir, i[0:len(i)-3]) \n",
    "    if \".csv\" in i and \".gz\" not in i:\n",
    "        final_files.append(i)"
   ]
  },
  {
   "cell_type": "code",
   "execution_count": 5,
   "metadata": {},
   "outputs": [],
   "source": [
    "if os.path.isfile(\"./sensor.pkl\") and  os.path.isfile(\"./labels.pkl\"):\n",
    "    with open(\"./sensor.pkl\", \"rb\") as f:\n",
    "        sensor_data= pickle.load(f)\n",
    "    with open(\"./labels.pkl\", \"rb\") as f:\n",
    "        labels_data= pickle.load(f) \n",
    "else:       \n",
    "    raw_d = pd.read_csv('./'+root_dir + final_files[0] )\n",
    "    sensor_data = raw_d.iloc[:,1:225]\n",
    "    labels_data = raw_d.iloc[:,226:-1]\n",
    "\n",
    "    for i in range(1,len(final_files)):\n",
    "        raw_d = pd.read_csv('./'+root_dir + final_files[i] )\n",
    "        sensor_data = sensor_data.append(raw_d.iloc[:,1:225],ignore_index=True)\n",
    "        labels_data = labels_data.append(raw_d.iloc[:,226:-1],ignore_index=True)\n",
    "    with open(\"./sensor.pkl\", \"wb\") as f:\n",
    "        pickle.dump(sensor_data,f)\n",
    "    with open(\"./labels.pkl\", \"wb\") as f:\n",
    "        pickle.dump(labels_data,f)\n"
   ]
  },
  {
   "cell_type": "code",
   "execution_count": null,
   "metadata": {},
   "outputs": [],
   "source": []
  },
  {
   "cell_type": "markdown",
   "metadata": {},
   "source": [
    "### Fill NaN with column mode, and drop remaining NaN"
   ]
  },
  {
   "cell_type": "code",
   "execution_count": 6,
   "metadata": {},
   "outputs": [],
   "source": [
    "sensor_data = sensor_data.fillna(0)\n",
    "labels_data = labels_data.fillna(0)"
   ]
  },
  {
   "cell_type": "code",
   "execution_count": 7,
   "metadata": {},
   "outputs": [
    {
     "data": {
      "text/html": [
       "<div>\n",
       "<style scoped>\n",
       "    .dataframe tbody tr th:only-of-type {\n",
       "        vertical-align: middle;\n",
       "    }\n",
       "\n",
       "    .dataframe tbody tr th {\n",
       "        vertical-align: top;\n",
       "    }\n",
       "\n",
       "    .dataframe thead th {\n",
       "        text-align: right;\n",
       "    }\n",
       "</style>\n",
       "<table border=\"1\" class=\"dataframe\">\n",
       "  <thead>\n",
       "    <tr style=\"text-align: right;\">\n",
       "      <th></th>\n",
       "      <th>label:LYING_DOWN</th>\n",
       "      <th>label:SITTING</th>\n",
       "      <th>label:FIX_walking</th>\n",
       "      <th>label:FIX_running</th>\n",
       "      <th>label:BICYCLING</th>\n",
       "      <th>label:SLEEPING</th>\n",
       "      <th>label:LAB_WORK</th>\n",
       "      <th>label:IN_CLASS</th>\n",
       "      <th>label:IN_A_MEETING</th>\n",
       "      <th>label:LOC_main_workplace</th>\n",
       "      <th>...</th>\n",
       "      <th>label:STAIRS_-_GOING_UP</th>\n",
       "      <th>label:STAIRS_-_GOING_DOWN</th>\n",
       "      <th>label:ELEVATOR</th>\n",
       "      <th>label:OR_standing</th>\n",
       "      <th>label:AT_SCHOOL</th>\n",
       "      <th>label:PHONE_IN_HAND</th>\n",
       "      <th>label:PHONE_IN_BAG</th>\n",
       "      <th>label:PHONE_ON_TABLE</th>\n",
       "      <th>label:WITH_CO-WORKERS</th>\n",
       "      <th>label:WITH_FRIENDS</th>\n",
       "    </tr>\n",
       "  </thead>\n",
       "  <tbody>\n",
       "    <tr>\n",
       "      <th>0</th>\n",
       "      <td>0.0</td>\n",
       "      <td>1.0</td>\n",
       "      <td>0.0</td>\n",
       "      <td>0.0</td>\n",
       "      <td>0.0</td>\n",
       "      <td>0.0</td>\n",
       "      <td>0.0</td>\n",
       "      <td>0.0</td>\n",
       "      <td>0.0</td>\n",
       "      <td>0.0</td>\n",
       "      <td>...</td>\n",
       "      <td>0.0</td>\n",
       "      <td>0.0</td>\n",
       "      <td>0.0</td>\n",
       "      <td>0.0</td>\n",
       "      <td>0.0</td>\n",
       "      <td>0.0</td>\n",
       "      <td>0.0</td>\n",
       "      <td>1.0</td>\n",
       "      <td>0.0</td>\n",
       "      <td>0.0</td>\n",
       "    </tr>\n",
       "    <tr>\n",
       "      <th>1</th>\n",
       "      <td>0.0</td>\n",
       "      <td>1.0</td>\n",
       "      <td>0.0</td>\n",
       "      <td>0.0</td>\n",
       "      <td>0.0</td>\n",
       "      <td>0.0</td>\n",
       "      <td>0.0</td>\n",
       "      <td>0.0</td>\n",
       "      <td>0.0</td>\n",
       "      <td>0.0</td>\n",
       "      <td>...</td>\n",
       "      <td>0.0</td>\n",
       "      <td>0.0</td>\n",
       "      <td>0.0</td>\n",
       "      <td>0.0</td>\n",
       "      <td>0.0</td>\n",
       "      <td>0.0</td>\n",
       "      <td>0.0</td>\n",
       "      <td>1.0</td>\n",
       "      <td>0.0</td>\n",
       "      <td>0.0</td>\n",
       "    </tr>\n",
       "    <tr>\n",
       "      <th>2</th>\n",
       "      <td>0.0</td>\n",
       "      <td>1.0</td>\n",
       "      <td>0.0</td>\n",
       "      <td>0.0</td>\n",
       "      <td>0.0</td>\n",
       "      <td>0.0</td>\n",
       "      <td>0.0</td>\n",
       "      <td>0.0</td>\n",
       "      <td>0.0</td>\n",
       "      <td>0.0</td>\n",
       "      <td>...</td>\n",
       "      <td>0.0</td>\n",
       "      <td>0.0</td>\n",
       "      <td>0.0</td>\n",
       "      <td>0.0</td>\n",
       "      <td>0.0</td>\n",
       "      <td>0.0</td>\n",
       "      <td>0.0</td>\n",
       "      <td>1.0</td>\n",
       "      <td>0.0</td>\n",
       "      <td>0.0</td>\n",
       "    </tr>\n",
       "    <tr>\n",
       "      <th>3</th>\n",
       "      <td>0.0</td>\n",
       "      <td>1.0</td>\n",
       "      <td>0.0</td>\n",
       "      <td>0.0</td>\n",
       "      <td>0.0</td>\n",
       "      <td>0.0</td>\n",
       "      <td>0.0</td>\n",
       "      <td>0.0</td>\n",
       "      <td>0.0</td>\n",
       "      <td>0.0</td>\n",
       "      <td>...</td>\n",
       "      <td>0.0</td>\n",
       "      <td>0.0</td>\n",
       "      <td>0.0</td>\n",
       "      <td>0.0</td>\n",
       "      <td>0.0</td>\n",
       "      <td>0.0</td>\n",
       "      <td>0.0</td>\n",
       "      <td>1.0</td>\n",
       "      <td>0.0</td>\n",
       "      <td>0.0</td>\n",
       "    </tr>\n",
       "    <tr>\n",
       "      <th>4</th>\n",
       "      <td>0.0</td>\n",
       "      <td>1.0</td>\n",
       "      <td>0.0</td>\n",
       "      <td>0.0</td>\n",
       "      <td>0.0</td>\n",
       "      <td>0.0</td>\n",
       "      <td>0.0</td>\n",
       "      <td>0.0</td>\n",
       "      <td>0.0</td>\n",
       "      <td>0.0</td>\n",
       "      <td>...</td>\n",
       "      <td>0.0</td>\n",
       "      <td>0.0</td>\n",
       "      <td>0.0</td>\n",
       "      <td>0.0</td>\n",
       "      <td>0.0</td>\n",
       "      <td>0.0</td>\n",
       "      <td>0.0</td>\n",
       "      <td>1.0</td>\n",
       "      <td>0.0</td>\n",
       "      <td>0.0</td>\n",
       "    </tr>\n",
       "  </tbody>\n",
       "</table>\n",
       "<p>5 rows × 51 columns</p>\n",
       "</div>"
      ],
      "text/plain": [
       "   label:LYING_DOWN  label:SITTING  label:FIX_walking  label:FIX_running  \\\n",
       "0               0.0            1.0                0.0                0.0   \n",
       "1               0.0            1.0                0.0                0.0   \n",
       "2               0.0            1.0                0.0                0.0   \n",
       "3               0.0            1.0                0.0                0.0   \n",
       "4               0.0            1.0                0.0                0.0   \n",
       "\n",
       "   label:BICYCLING  label:SLEEPING  label:LAB_WORK  label:IN_CLASS  \\\n",
       "0              0.0             0.0             0.0             0.0   \n",
       "1              0.0             0.0             0.0             0.0   \n",
       "2              0.0             0.0             0.0             0.0   \n",
       "3              0.0             0.0             0.0             0.0   \n",
       "4              0.0             0.0             0.0             0.0   \n",
       "\n",
       "   label:IN_A_MEETING  label:LOC_main_workplace  ...  label:STAIRS_-_GOING_UP  \\\n",
       "0                 0.0                       0.0  ...                      0.0   \n",
       "1                 0.0                       0.0  ...                      0.0   \n",
       "2                 0.0                       0.0  ...                      0.0   \n",
       "3                 0.0                       0.0  ...                      0.0   \n",
       "4                 0.0                       0.0  ...                      0.0   \n",
       "\n",
       "   label:STAIRS_-_GOING_DOWN  label:ELEVATOR  label:OR_standing  \\\n",
       "0                        0.0             0.0                0.0   \n",
       "1                        0.0             0.0                0.0   \n",
       "2                        0.0             0.0                0.0   \n",
       "3                        0.0             0.0                0.0   \n",
       "4                        0.0             0.0                0.0   \n",
       "\n",
       "   label:AT_SCHOOL  label:PHONE_IN_HAND  label:PHONE_IN_BAG  \\\n",
       "0              0.0                  0.0                 0.0   \n",
       "1              0.0                  0.0                 0.0   \n",
       "2              0.0                  0.0                 0.0   \n",
       "3              0.0                  0.0                 0.0   \n",
       "4              0.0                  0.0                 0.0   \n",
       "\n",
       "   label:PHONE_ON_TABLE  label:WITH_CO-WORKERS  label:WITH_FRIENDS  \n",
       "0                   1.0                    0.0                 0.0  \n",
       "1                   1.0                    0.0                 0.0  \n",
       "2                   1.0                    0.0                 0.0  \n",
       "3                   1.0                    0.0                 0.0  \n",
       "4                   1.0                    0.0                 0.0  \n",
       "\n",
       "[5 rows x 51 columns]"
      ]
     },
     "execution_count": 7,
     "metadata": {},
     "output_type": "execute_result"
    }
   ],
   "source": [
    "labels_data.head()"
   ]
  },
  {
   "cell_type": "code",
   "execution_count": 8,
   "metadata": {},
   "outputs": [
    {
     "data": {
      "text/html": [
       "<div>\n",
       "<style scoped>\n",
       "    .dataframe tbody tr th:only-of-type {\n",
       "        vertical-align: middle;\n",
       "    }\n",
       "\n",
       "    .dataframe tbody tr th {\n",
       "        vertical-align: top;\n",
       "    }\n",
       "\n",
       "    .dataframe thead th {\n",
       "        text-align: right;\n",
       "    }\n",
       "</style>\n",
       "<table border=\"1\" class=\"dataframe\">\n",
       "  <thead>\n",
       "    <tr style=\"text-align: right;\">\n",
       "      <th></th>\n",
       "      <th>raw_acc:magnitude_stats:mean</th>\n",
       "      <th>raw_acc:magnitude_stats:std</th>\n",
       "      <th>raw_acc:magnitude_stats:moment3</th>\n",
       "      <th>raw_acc:magnitude_stats:moment4</th>\n",
       "      <th>raw_acc:magnitude_stats:percentile25</th>\n",
       "      <th>raw_acc:magnitude_stats:percentile50</th>\n",
       "      <th>raw_acc:magnitude_stats:percentile75</th>\n",
       "      <th>raw_acc:magnitude_stats:value_entropy</th>\n",
       "      <th>raw_acc:magnitude_stats:time_entropy</th>\n",
       "      <th>raw_acc:magnitude_spectrum:log_energy_band0</th>\n",
       "      <th>...</th>\n",
       "      <th>lf_measurements:battery_level</th>\n",
       "      <th>lf_measurements:screen_brightness</th>\n",
       "      <th>lf_measurements:temperature_ambient</th>\n",
       "      <th>discrete:time_of_day:between0and6</th>\n",
       "      <th>discrete:time_of_day:between3and9</th>\n",
       "      <th>discrete:time_of_day:between6and12</th>\n",
       "      <th>discrete:time_of_day:between9and15</th>\n",
       "      <th>discrete:time_of_day:between12and18</th>\n",
       "      <th>discrete:time_of_day:between15and21</th>\n",
       "      <th>discrete:time_of_day:between18and24</th>\n",
       "    </tr>\n",
       "  </thead>\n",
       "  <tbody>\n",
       "    <tr>\n",
       "      <th>0</th>\n",
       "      <td>1.026050</td>\n",
       "      <td>0.004956</td>\n",
       "      <td>-0.011147</td>\n",
       "      <td>0.020062</td>\n",
       "      <td>1.024622</td>\n",
       "      <td>1.026169</td>\n",
       "      <td>1.027758</td>\n",
       "      <td>0.784843</td>\n",
       "      <td>6.684600</td>\n",
       "      <td>5.043212</td>\n",
       "      <td>...</td>\n",
       "      <td>0.90</td>\n",
       "      <td>0.0</td>\n",
       "      <td>0.0</td>\n",
       "      <td>0.0</td>\n",
       "      <td>0.0</td>\n",
       "      <td>1.0</td>\n",
       "      <td>1.0</td>\n",
       "      <td>0.0</td>\n",
       "      <td>0.0</td>\n",
       "      <td>0.0</td>\n",
       "    </tr>\n",
       "    <tr>\n",
       "      <th>1</th>\n",
       "      <td>1.026225</td>\n",
       "      <td>0.064620</td>\n",
       "      <td>-0.061327</td>\n",
       "      <td>0.172650</td>\n",
       "      <td>1.022154</td>\n",
       "      <td>1.024484</td>\n",
       "      <td>1.026789</td>\n",
       "      <td>0.671550</td>\n",
       "      <td>6.682509</td>\n",
       "      <td>5.040791</td>\n",
       "      <td>...</td>\n",
       "      <td>0.90</td>\n",
       "      <td>0.0</td>\n",
       "      <td>0.0</td>\n",
       "      <td>0.0</td>\n",
       "      <td>0.0</td>\n",
       "      <td>1.0</td>\n",
       "      <td>1.0</td>\n",
       "      <td>0.0</td>\n",
       "      <td>0.0</td>\n",
       "      <td>0.0</td>\n",
       "    </tr>\n",
       "    <tr>\n",
       "      <th>2</th>\n",
       "      <td>1.026042</td>\n",
       "      <td>0.013626</td>\n",
       "      <td>0.013009</td>\n",
       "      <td>0.035978</td>\n",
       "      <td>1.023549</td>\n",
       "      <td>1.025964</td>\n",
       "      <td>1.027842</td>\n",
       "      <td>0.583047</td>\n",
       "      <td>6.684524</td>\n",
       "      <td>5.042936</td>\n",
       "      <td>...</td>\n",
       "      <td>0.90</td>\n",
       "      <td>0.0</td>\n",
       "      <td>0.0</td>\n",
       "      <td>0.0</td>\n",
       "      <td>0.0</td>\n",
       "      <td>1.0</td>\n",
       "      <td>1.0</td>\n",
       "      <td>0.0</td>\n",
       "      <td>0.0</td>\n",
       "      <td>0.0</td>\n",
       "    </tr>\n",
       "    <tr>\n",
       "      <th>3</th>\n",
       "      <td>1.027755</td>\n",
       "      <td>0.048011</td>\n",
       "      <td>0.056932</td>\n",
       "      <td>0.106184</td>\n",
       "      <td>1.021865</td>\n",
       "      <td>1.024913</td>\n",
       "      <td>1.027899</td>\n",
       "      <td>0.921563</td>\n",
       "      <td>6.683540</td>\n",
       "      <td>5.038209</td>\n",
       "      <td>...</td>\n",
       "      <td>0.89</td>\n",
       "      <td>0.0</td>\n",
       "      <td>0.0</td>\n",
       "      <td>0.0</td>\n",
       "      <td>0.0</td>\n",
       "      <td>1.0</td>\n",
       "      <td>1.0</td>\n",
       "      <td>0.0</td>\n",
       "      <td>0.0</td>\n",
       "      <td>0.0</td>\n",
       "    </tr>\n",
       "    <tr>\n",
       "      <th>4</th>\n",
       "      <td>1.026951</td>\n",
       "      <td>0.004087</td>\n",
       "      <td>-0.004915</td>\n",
       "      <td>0.012900</td>\n",
       "      <td>1.025302</td>\n",
       "      <td>1.026997</td>\n",
       "      <td>1.028592</td>\n",
       "      <td>0.914141</td>\n",
       "      <td>6.684604</td>\n",
       "      <td>5.043455</td>\n",
       "      <td>...</td>\n",
       "      <td>0.89</td>\n",
       "      <td>0.0</td>\n",
       "      <td>0.0</td>\n",
       "      <td>0.0</td>\n",
       "      <td>0.0</td>\n",
       "      <td>1.0</td>\n",
       "      <td>1.0</td>\n",
       "      <td>0.0</td>\n",
       "      <td>0.0</td>\n",
       "      <td>0.0</td>\n",
       "    </tr>\n",
       "  </tbody>\n",
       "</table>\n",
       "<p>5 rows × 224 columns</p>\n",
       "</div>"
      ],
      "text/plain": [
       "   raw_acc:magnitude_stats:mean  raw_acc:magnitude_stats:std  \\\n",
       "0                      1.026050                     0.004956   \n",
       "1                      1.026225                     0.064620   \n",
       "2                      1.026042                     0.013626   \n",
       "3                      1.027755                     0.048011   \n",
       "4                      1.026951                     0.004087   \n",
       "\n",
       "   raw_acc:magnitude_stats:moment3  raw_acc:magnitude_stats:moment4  \\\n",
       "0                        -0.011147                         0.020062   \n",
       "1                        -0.061327                         0.172650   \n",
       "2                         0.013009                         0.035978   \n",
       "3                         0.056932                         0.106184   \n",
       "4                        -0.004915                         0.012900   \n",
       "\n",
       "   raw_acc:magnitude_stats:percentile25  raw_acc:magnitude_stats:percentile50  \\\n",
       "0                              1.024622                              1.026169   \n",
       "1                              1.022154                              1.024484   \n",
       "2                              1.023549                              1.025964   \n",
       "3                              1.021865                              1.024913   \n",
       "4                              1.025302                              1.026997   \n",
       "\n",
       "   raw_acc:magnitude_stats:percentile75  \\\n",
       "0                              1.027758   \n",
       "1                              1.026789   \n",
       "2                              1.027842   \n",
       "3                              1.027899   \n",
       "4                              1.028592   \n",
       "\n",
       "   raw_acc:magnitude_stats:value_entropy  \\\n",
       "0                               0.784843   \n",
       "1                               0.671550   \n",
       "2                               0.583047   \n",
       "3                               0.921563   \n",
       "4                               0.914141   \n",
       "\n",
       "   raw_acc:magnitude_stats:time_entropy  \\\n",
       "0                              6.684600   \n",
       "1                              6.682509   \n",
       "2                              6.684524   \n",
       "3                              6.683540   \n",
       "4                              6.684604   \n",
       "\n",
       "   raw_acc:magnitude_spectrum:log_energy_band0  ...  \\\n",
       "0                                     5.043212  ...   \n",
       "1                                     5.040791  ...   \n",
       "2                                     5.042936  ...   \n",
       "3                                     5.038209  ...   \n",
       "4                                     5.043455  ...   \n",
       "\n",
       "   lf_measurements:battery_level  lf_measurements:screen_brightness  \\\n",
       "0                           0.90                                0.0   \n",
       "1                           0.90                                0.0   \n",
       "2                           0.90                                0.0   \n",
       "3                           0.89                                0.0   \n",
       "4                           0.89                                0.0   \n",
       "\n",
       "   lf_measurements:temperature_ambient  discrete:time_of_day:between0and6  \\\n",
       "0                                  0.0                                0.0   \n",
       "1                                  0.0                                0.0   \n",
       "2                                  0.0                                0.0   \n",
       "3                                  0.0                                0.0   \n",
       "4                                  0.0                                0.0   \n",
       "\n",
       "   discrete:time_of_day:between3and9  discrete:time_of_day:between6and12  \\\n",
       "0                                0.0                                 1.0   \n",
       "1                                0.0                                 1.0   \n",
       "2                                0.0                                 1.0   \n",
       "3                                0.0                                 1.0   \n",
       "4                                0.0                                 1.0   \n",
       "\n",
       "   discrete:time_of_day:between9and15  discrete:time_of_day:between12and18  \\\n",
       "0                                 1.0                                  0.0   \n",
       "1                                 1.0                                  0.0   \n",
       "2                                 1.0                                  0.0   \n",
       "3                                 1.0                                  0.0   \n",
       "4                                 1.0                                  0.0   \n",
       "\n",
       "   discrete:time_of_day:between15and21  discrete:time_of_day:between18and24  \n",
       "0                                  0.0                                  0.0  \n",
       "1                                  0.0                                  0.0  \n",
       "2                                  0.0                                  0.0  \n",
       "3                                  0.0                                  0.0  \n",
       "4                                  0.0                                  0.0  \n",
       "\n",
       "[5 rows x 224 columns]"
      ]
     },
     "execution_count": 8,
     "metadata": {},
     "output_type": "execute_result"
    }
   ],
   "source": [
    "sensor_data.head()"
   ]
  },
  {
   "cell_type": "code",
   "execution_count": null,
   "metadata": {},
   "outputs": [],
   "source": []
  },
  {
   "cell_type": "markdown",
   "metadata": {},
   "source": [
    "### Visualize data before normalization"
   ]
  },
  {
   "cell_type": "code",
   "execution_count": 9,
   "metadata": {},
   "outputs": [
    {
     "data": {
      "image/png": "[encoded data removed]",
      "text/plain": [
       "<Figure size 936x432 with 4 Axes>"
      ]
     },
     "metadata": {
      "needs_background": "light"
     },
     "output_type": "display_data"
    }
   ],
   "source": [
    "plt.figure(figsize = (13, 6))\n",
    "plt.title('Unnormalizaed data')\n",
    "for i in range(4): \n",
    "    ax = plt.subplot(1, 4, i+1)\n",
    "    row_i = sensor_data.iloc[i,:].to_numpy().reshape(14, 16)\n",
    "    ax.imshow(row_i)"
   ]
  },
  {
   "cell_type": "markdown",
   "metadata": {},
   "source": [
    "### Normalize the data"
   ]
  },
  {
   "cell_type": "code",
   "execution_count": 10,
   "metadata": {},
   "outputs": [],
   "source": [
    "per_col_mean = []\n",
    "per_col_std = []\n",
    "def normalize_data(data):\n",
    "    norm_data = pd.DataFrame() \n",
    "    for col in data.columns: \n",
    "        col_mean = data[col].mean()\n",
    "        col_std = data[col].std()\n",
    "        per_col_mean.append(col_mean)\n",
    "        per_col_std.append(col_std)\n",
    "        if col_std != 0:\n",
    "            norm_data[col] = (data[col] - col_mean)/col_std\n",
    "        else:\n",
    "            norm_data[col] = data[col]    \n",
    "    #norm_data.dropna(inplace = True, axis = 'columns' )\n",
    "    return norm_data\n",
    "def normalize_test_data(data):\n",
    "    norm_data = pd.DataFrame() \n",
    "    i  = 0\n",
    "    for col in data.columns: \n",
    "        col_mean = per_col_mean[i]\n",
    "        col_std = per_col_std[i]\n",
    "        if col_std != 0:\n",
    "            norm_data[col] = (data[col] - col_mean)/col_std\n",
    "        else:\n",
    "            norm_data[col] = data[col]   \n",
    "        i = i +1\n",
    "    \n",
    "    #norm_data.dropna(inplace = True, axis = 'columns' )\n",
    "    return norm_data\n"
   ]
  },
  {
   "cell_type": "markdown",
   "metadata": {},
   "source": [
    "### Store the Input Shape"
   ]
  },
  {
   "cell_type": "code",
   "execution_count": 11,
   "metadata": {},
   "outputs": [],
   "source": [
    "input_shape = 224\n",
    "input_shape_s1 = 14\n",
    "input_shape_s2 = 16"
   ]
  },
  {
   "cell_type": "markdown",
   "metadata": {},
   "source": [
    "### Create a SensorDataset class that can be used to store the data"
   ]
  },
  {
   "cell_type": "code",
   "execution_count": 12,
   "metadata": {},
   "outputs": [],
   "source": [
    "class SensorDataset(Dataset): \n",
    "    \n",
    "    def __init__(self, sensor_data, transform,labels_data):\n",
    "        \"\"\"provide directory with the user's data\"\"\"\n",
    "        self.sensor_data = sensor_data\n",
    "        self.transform = transform\n",
    "        self.labels_data = labels_data\n",
    "        \n",
    "    def __len__(self):\n",
    "        return len(self.sensor_data)\n",
    "        \n",
    "    # This function can be used to index into the dataset\n",
    "    def __getitem__(self, idx):\n",
    "        if torch.is_tensor(idx):\n",
    "            idx = idx.tolist()\n",
    "                 \n",
    "\n",
    "        sample =  self.sensor_data.iloc[idx,:]\n",
    "        labels =  self.labels_data.iloc[idx,:]\n",
    "        \n",
    "        if self.transform:\n",
    "            # Transform to tensor\n",
    "            sample = self.transform(sample.to_numpy().reshape(input_shape_s1, input_shape_s2))\n",
    "            \n",
    "        return sample, torch.from_numpy(labels.to_numpy())"
   ]
  },
  {
   "cell_type": "markdown",
   "metadata": {},
   "source": [
    "### Define the batch size parameter"
   ]
  },
  {
   "cell_type": "code",
   "execution_count": 13,
   "metadata": {},
   "outputs": [],
   "source": [
    "batch_size = 64"
   ]
  },
  {
   "cell_type": "markdown",
   "metadata": {},
   "source": [
    "### Create the training & test datasets"
   ]
  },
  {
   "cell_type": "code",
   "execution_count": 14,
   "metadata": {},
   "outputs": [],
   "source": [
    "def create_train_test_sets(sensor_data,labels=None):\n",
    "    img_transform = transforms.Compose([\n",
    "        transforms.ToTensor()])\n",
    "    #     transforms.Lambda(lambda tensor:min_max_norm(tensor, 0, 1)),\n",
    "    #     transforms.Lambda(lambda tensor:reshape_img(tensor,11,20))\n",
    "\n",
    "#     sensor_data=sensor_data.fillna(0)\n",
    "#     sensor_data[sensor_data == \"nan\"] = 0\n",
    "    dataset_size = len(sensor_data)\n",
    "    \n",
    "    \n",
    "    all_indices = [i for i in range(dataset_size)]\n",
    "    random.shuffle(all_indices) #pick random trainig samples\n",
    "    row_train = all_indices[:int(2*dataset_size/3)]\n",
    "    row_test = all_indices[int(2*dataset_size/3):]\n",
    "\n",
    "    # Indexes for 0 -> 2/3 of dataset_size\n",
    "#     row_train = [i for i in range(int(2*dataset_size/3))]\n",
    "    train_data = sensor_data.loc[row_train,:]\n",
    "\n",
    "    # Indexes for 2/3 dataset_size -> end\n",
    "#     row_test = [i for i in range(int(2*dataset_size/3),dataset_size)] \n",
    "    test_data = sensor_data.loc[row_test,:]\n",
    "    \n",
    "    train_data = normalize_data(train_data)\n",
    "    test_data = normalize_test_data(test_data)\n",
    "#  Note the the number of columns has changed from the data set without normalization\n",
    "    \n",
    "    print(len(train_data))\n",
    "    print(len(test_data))\n",
    "\n",
    "    train_data = SensorDataset(train_data, transform = img_transform,labels_data=labels.loc[row_train,:])\n",
    "    test_data = SensorDataset(test_data, transform = img_transform,labels_data=labels.loc[row_test,:])\n",
    "    \n",
    "    \n",
    "    train_loader = torch.utils.data.DataLoader(train_data, batch_size = batch_size, shuffle = True)\n",
    "    test_loader = torch.utils.data.DataLoader(test_data, batch_size = batch_size, shuffle=True)\n",
    "    \n",
    "    return train_data, test_data, train_loader, test_loader\n"
   ]
  },
  {
   "cell_type": "code",
   "execution_count": 15,
   "metadata": {},
   "outputs": [
    {
     "name": "stdout",
     "output_type": "stream",
     "text": [
      "251564\n",
      "125782\n"
     ]
    }
   ],
   "source": [
    "train_data, test_data, train_loader, test_loader = create_train_test_sets(sensor_data, labels = labels_data)"
   ]
  },
  {
   "cell_type": "markdown",
   "metadata": {},
   "source": [
    "## Visualize the training data as images"
   ]
  },
  {
   "cell_type": "code",
   "execution_count": 16,
   "metadata": {},
   "outputs": [
    {
     "data": {
      "image/png": "[encoded data removed]",
      "text/plain": [
       "<Figure size 720x576 with 24 Axes>"
      ]
     },
     "metadata": {},
     "output_type": "display_data"
    }
   ],
   "source": [
    "fig = plt.figure(figsize=(10, 8))\n",
    "count = 0 \n",
    "for i in range(24):\n",
    "    ax = plt.subplot(6,4,count+1)\n",
    "    \n",
    "    im = train_data[count][0]\n",
    "    ax.set_xticks([]) \n",
    "    ax.set_yticks([])\n",
    "    plt.imshow(im.numpy().squeeze())\n",
    "    count +=1\n",
    "    \n",
    "fig.tight_layout(pad=1.0)\n"
   ]
  },
  {
   "cell_type": "markdown",
   "metadata": {},
   "source": [
    "## Process the data with an Autoencoder"
   ]
  },
  {
   "cell_type": "markdown",
   "metadata": {},
   "source": [
    "### Initialize the Autoencoder variables and hyperparameters"
   ]
  },
  {
   "cell_type": "code",
   "execution_count": 17,
   "metadata": {},
   "outputs": [],
   "source": [
    "seed = 42\n",
    "torch.manual_seed(seed)\n",
    "torch.backends.cudnn.benchmark = False\n",
    "torch.backends.cudnn.deterministic = True"
   ]
  },
  {
   "cell_type": "markdown",
   "metadata": {},
   "source": [
    "### Create Autoencoder class"
   ]
  },
  {
   "cell_type": "code",
   "execution_count": 18,
   "metadata": {},
   "outputs": [],
   "source": [
    "class Autoencoder(nn.Module):\n",
    "    def __init__(self, **kwargs):\n",
    "        super().__init__()\n",
    "        \n",
    "        self.encoder = nn.Sequential(\n",
    "            nn.Conv2d(1,8,2),\n",
    "            nn.ReLU(True),\n",
    "            nn.MaxPool2d(2),\n",
    "            \n",
    "            nn.Conv2d(8,16,2),\n",
    "            nn.ReLU(True),\n",
    "            nn.MaxPool2d(2),\n",
    "\n",
    "            \n",
    "            nn.Conv2d(16,32,2),\n",
    "            nn.Sigmoid()\n",
    "        )\n",
    "        self.decoder = nn.Sequential(\n",
    "            nn.ConvTranspose2d(32,16,3),\n",
    "            nn.ReLU(True),\n",
    "            nn.ConvTranspose2d(16,16,(2,3)),\n",
    "            nn.ReLU(True),\n",
    "            nn.ConvTranspose2d(16,8,3),\n",
    "            nn.ReLU(True),\n",
    "            nn.ConvTranspose2d(8,8,3),\n",
    "            nn.ReLU(True),\n",
    "            nn.ConvTranspose2d(8,3,3),\n",
    "            nn.ReLU(True),\n",
    "            nn.ConvTranspose2d(3,3,3),\n",
    "            nn.ReLU(True),\n",
    "            nn.ConvTranspose2d(3,1,3)\n",
    "#             nn.UpsamplingBilinear2d(2),\n",
    "            \n",
    "        )\n",
    "\n",
    "    def forward(self, x):\n",
    "        x = self.encoder(x)\n",
    "        x = self.decoder(x)\n",
    "        return x\n",
    "    def forward_encoder_only(self,x):\n",
    "        return self.encoder(x)"
   ]
  },
  {
   "cell_type": "code",
   "execution_count": 19,
   "metadata": {},
   "outputs": [],
   "source": [
    "model = Autoencoder()"
   ]
  },
  {
   "cell_type": "code",
   "execution_count": 20,
   "metadata": {},
   "outputs": [
    {
     "name": "stdout",
     "output_type": "stream",
     "text": [
      "(10, 1, 14, 16)\n",
      "torch.Size([10, 1, 14, 16])\n"
     ]
    }
   ],
   "source": [
    "print((10,1,input_shape_s1, input_shape_s2))\n",
    "print(model(torch.rand(10,1,input_shape_s1, input_shape_s2)).shape)"
   ]
  },
  {
   "cell_type": "markdown",
   "metadata": {},
   "source": [
    "### Leverage GPU, if available"
   ]
  },
  {
   "cell_type": "code",
   "execution_count": 21,
   "metadata": {},
   "outputs": [],
   "source": [
    "device = torch.device(\"cuda\" if torch.cuda.is_available() else \"cpu\")"
   ]
  },
  {
   "cell_type": "code",
   "execution_count": 22,
   "metadata": {},
   "outputs": [
    {
     "name": "stdout",
     "output_type": "stream",
     "text": [
      "cuda\n"
     ]
    }
   ],
   "source": [
    "print(device)"
   ]
  },
  {
   "cell_type": "markdown",
   "metadata": {},
   "source": [
    "### Create an autoencoder instance"
   ]
  },
  {
   "cell_type": "code",
   "execution_count": 23,
   "metadata": {},
   "outputs": [],
   "source": [
    "model = Autoencoder().to(device)"
   ]
  },
  {
   "cell_type": "markdown",
   "metadata": {},
   "source": [
    "## Train the autoencoder"
   ]
  },
  {
   "cell_type": "markdown",
   "metadata": {},
   "source": [
    "### Define the `fit()` method"
   ]
  },
  {
   "cell_type": "code",
   "execution_count": 24,
   "metadata": {},
   "outputs": [
    {
     "name": "stdout",
     "output_type": "stream",
     "text": [
      "1966 3931\n"
     ]
    }
   ],
   "source": [
    "print(len(test_loader),len(train_loader))"
   ]
  },
  {
   "cell_type": "code",
   "execution_count": 26,
   "metadata": {},
   "outputs": [],
   "source": [
    "def fit(current_epoch):\n",
    "    model.train()\n",
    "    \n",
    "    # Reset local variables\n",
    "    loss = 0\n",
    "    count = 0\n",
    "\n",
    "    # Iterate through the training dataset\n",
    "    for batch_features,y_obs in train_loader:\n",
    "        count +=1\n",
    "        # Reshape mini-batch data to [N, ch, w,h] matrix\n",
    "        batch_features = batch_features.to(device)\n",
    "        # Reset the gradients back to zero\n",
    "        optimizer.zero_grad()\n",
    "\n",
    "        # Compute reconstructions\n",
    "        y_pred = model(batch_features.float())\n",
    "\n",
    "        # Compute training reconstruction loss\n",
    "        train_loss = criterion(y_pred, batch_features.float())\n",
    "\n",
    "        # Compute accumulated gradients\n",
    "        train_loss.backward()\n",
    "\n",
    "        # Perform parameter update based on current gradients\n",
    "        optimizer.step()\n",
    "\n",
    "        # Add the mini-batch training loss to epoch loss\n",
    "        loss += train_loss.item()\n",
    "        if count%500==0:\n",
    "            print(\"\\t \\t -->: Training loss = {:.6f}\".format(loss/count)) \n",
    "\n",
    "\n",
    "    # Compute the average training loss across the epoch\n",
    "    loss = loss / len(train_loader)\n",
    "    \n",
    "    # Return the loss for this iteration\n",
    "    return loss"
   ]
  },
  {
   "cell_type": "markdown",
   "metadata": {},
   "source": [
    "### Define a validate function"
   ]
  },
  {
   "cell_type": "code",
   "execution_count": 27,
   "metadata": {},
   "outputs": [],
   "source": [
    "def validate(current_epoch):\n",
    "    model.eval()\n",
    "    \n",
    "    # Reset local variables\n",
    "    loss = 0 \n",
    "    count = 0    \n",
    "    \n",
    "    # Iterate through the test dataset (we are using this data for validation, too)\n",
    "    for batch_features, y_obs in test_loader:\n",
    "        count+=1\n",
    "        # Reshape mini-batch data to [N, input_shape] matrix\n",
    "        batch_features = batch_features.to(device)\n",
    "        \n",
    "        # Use the model\n",
    "        y_pred = model(batch_features.float())\n",
    "        \n",
    "        # Test loss\n",
    "        val_loss = criterion(batch_features.float(), y_pred)\n",
    "\n",
    "        # Add the mini-batch training loss to epoch loss\n",
    "        loss += val_loss.item()\n",
    "        if count%500==0:\n",
    "            print(\"\\t \\t-->: Validation loss = {:.6f}\".format(loss/count)) \n",
    "\n",
    "    # Compute the average training loss across the epoch\n",
    "    loss = loss / len(test_loader)\n",
    "    \n",
    "    # Return the loss for this iteration\n",
    "    return loss"
   ]
  },
  {
   "cell_type": "markdown",
   "metadata": {},
   "source": [
    "### Run the fit and validation functions"
   ]
  },
  {
   "cell_type": "code",
   "execution_count": 29,
   "metadata": {},
   "outputs": [
    {
     "name": "stdout",
     "output_type": "stream",
     "text": [
      "\t \t -->: Training loss = 0.996050\n",
      "\t \t -->: Training loss = 1.003727\n",
      "\t \t -->: Training loss = 0.994581\n",
      "\t \t -->: Training loss = 0.995492\n",
      "\t \t -->: Training loss = 0.987525\n",
      "\t \t -->: Training loss = 0.986568\n",
      "\t \t -->: Training loss = 0.981658\n",
      "Epoch 1/100: Training loss = 0.982183\n",
      "\t \t-->: Validation loss = 0.976622\n",
      "\t \t-->: Validation loss = 0.976725\n",
      "\t \t-->: Validation loss = 0.979828\n",
      "Epoch 1/100: Validation loss = 5.325736\n",
      "\t \t -->: Training loss = 0.969076\n",
      "\t \t -->: Training loss = 0.969275\n",
      "\t \t -->: Training loss = 0.973486\n",
      "\t \t -->: Training loss = 0.980124\n",
      "\t \t -->: Training loss = 0.979346\n",
      "\t \t -->: Training loss = 0.977134\n",
      "\t \t -->: Training loss = 0.978099\n",
      "Epoch 2/100: Training loss = 0.982161\n",
      "\t \t-->: Validation loss = 0.976328\n",
      "\t \t-->: Validation loss = 9.525914\n",
      "\t \t-->: Validation loss = 6.671325\n",
      "Epoch 2/100: Validation loss = 5.324861\n",
      "\t \t -->: Training loss = 0.996882\n",
      "\t \t -->: Training loss = 0.989277\n",
      "\t \t -->: Training loss = 0.984783\n",
      "\t \t -->: Training loss = 0.983172\n",
      "\t \t -->: Training loss = 0.978489\n",
      "\t \t -->: Training loss = 0.978307\n",
      "\t \t -->: Training loss = 0.980659\n",
      "Epoch 3/100: Training loss = 0.982182\n",
      "\t \t-->: Validation loss = 0.975903\n",
      "\t \t-->: Validation loss = 9.538695\n",
      "\t \t-->: Validation loss = 6.677737\n",
      "Epoch 3/100: Validation loss = 5.325065\n",
      "\t \t -->: Training loss = 0.975988\n"
     ]
    },
    {
     "ename": "KeyboardInterrupt",
     "evalue": "",
     "output_type": "error",
     "traceback": [
      "\u001b[0;31m---------------------------------------------------------------------------\u001b[0m",
      "\u001b[0;31mKeyboardInterrupt\u001b[0m                         Traceback (most recent call last)",
      "\u001b[0;32m<ipython-input-29-e0c181fca393>\u001b[0m in \u001b[0;36m<module>\u001b[0;34m\u001b[0m\n\u001b[1;32m     19\u001b[0m \u001b[0;34m\u001b[0m\u001b[0m\n\u001b[1;32m     20\u001b[0m     \u001b[0;31m# Train & validate for the current epoch\u001b[0m\u001b[0;34m\u001b[0m\u001b[0;34m\u001b[0m\u001b[0;34m\u001b[0m\u001b[0m\n\u001b[0;32m---> 21\u001b[0;31m     \u001b[0mfit_loss\u001b[0m \u001b[0;34m=\u001b[0m \u001b[0mfit\u001b[0m\u001b[0;34m(\u001b[0m\u001b[0mcurrent_epoch\u001b[0m\u001b[0;34m)\u001b[0m\u001b[0;34m\u001b[0m\u001b[0;34m\u001b[0m\u001b[0m\n\u001b[0m\u001b[1;32m     22\u001b[0m     \u001b[0mtrain_loss_array\u001b[0m\u001b[0;34m.\u001b[0m\u001b[0mappend\u001b[0m\u001b[0;34m(\u001b[0m\u001b[0mfit_loss\u001b[0m\u001b[0;34m)\u001b[0m\u001b[0;34m\u001b[0m\u001b[0;34m\u001b[0m\u001b[0m\n\u001b[1;32m     23\u001b[0m     \u001b[0mprint\u001b[0m\u001b[0;34m(\u001b[0m\u001b[0;34m\"Epoch {}/{}: Training loss = {:.6f}\"\u001b[0m\u001b[0;34m.\u001b[0m\u001b[0mformat\u001b[0m\u001b[0;34m(\u001b[0m\u001b[0mcurrent_epoch\u001b[0m \u001b[0;34m+\u001b[0m \u001b[0;36m1\u001b[0m\u001b[0;34m,\u001b[0m \u001b[0mnum_epochs\u001b[0m\u001b[0;34m,\u001b[0m \u001b[0mfit_loss\u001b[0m\u001b[0;34m)\u001b[0m\u001b[0;34m)\u001b[0m\u001b[0;34m\u001b[0m\u001b[0;34m\u001b[0m\u001b[0m\n",
      "\u001b[0;32m<ipython-input-26-4d32b18ffbc1>\u001b[0m in \u001b[0;36mfit\u001b[0;34m(current_epoch)\u001b[0m\n\u001b[1;32m      7\u001b[0m \u001b[0;34m\u001b[0m\u001b[0m\n\u001b[1;32m      8\u001b[0m     \u001b[0;31m# Iterate through the training dataset\u001b[0m\u001b[0;34m\u001b[0m\u001b[0;34m\u001b[0m\u001b[0;34m\u001b[0m\u001b[0m\n\u001b[0;32m----> 9\u001b[0;31m     \u001b[0;32mfor\u001b[0m \u001b[0mbatch_features\u001b[0m\u001b[0;34m,\u001b[0m\u001b[0my_obs\u001b[0m \u001b[0;32min\u001b[0m \u001b[0mtrain_loader\u001b[0m\u001b[0;34m:\u001b[0m\u001b[0;34m\u001b[0m\u001b[0;34m\u001b[0m\u001b[0m\n\u001b[0m\u001b[1;32m     10\u001b[0m         \u001b[0mcount\u001b[0m \u001b[0;34m+=\u001b[0m\u001b[0;36m1\u001b[0m\u001b[0;34m\u001b[0m\u001b[0;34m\u001b[0m\u001b[0m\n\u001b[1;32m     11\u001b[0m         \u001b[0;31m# Reshape mini-batch data to [N, ch, w,h] matrix\u001b[0m\u001b[0;34m\u001b[0m\u001b[0;34m\u001b[0m\u001b[0;34m\u001b[0m\u001b[0m\n",
      "\u001b[0;32m~/.local/lib/python3.6/site-packages/torch/utils/data/dataloader.py\u001b[0m in \u001b[0;36m__next__\u001b[0;34m(self)\u001b[0m\n\u001b[1;32m    343\u001b[0m \u001b[0;34m\u001b[0m\u001b[0m\n\u001b[1;32m    344\u001b[0m     \u001b[0;32mdef\u001b[0m \u001b[0m__next__\u001b[0m\u001b[0;34m(\u001b[0m\u001b[0mself\u001b[0m\u001b[0;34m)\u001b[0m\u001b[0;34m:\u001b[0m\u001b[0;34m\u001b[0m\u001b[0;34m\u001b[0m\u001b[0m\n\u001b[0;32m--> 345\u001b[0;31m         \u001b[0mdata\u001b[0m \u001b[0;34m=\u001b[0m \u001b[0mself\u001b[0m\u001b[0;34m.\u001b[0m\u001b[0m_next_data\u001b[0m\u001b[0;34m(\u001b[0m\u001b[0;34m)\u001b[0m\u001b[0;34m\u001b[0m\u001b[0;34m\u001b[0m\u001b[0m\n\u001b[0m\u001b[1;32m    346\u001b[0m         \u001b[0mself\u001b[0m\u001b[0;34m.\u001b[0m\u001b[0m_num_yielded\u001b[0m \u001b[0;34m+=\u001b[0m \u001b[0;36m1\u001b[0m\u001b[0;34m\u001b[0m\u001b[0;34m\u001b[0m\u001b[0m\n\u001b[1;32m    347\u001b[0m         \u001b[0;32mif\u001b[0m \u001b[0mself\u001b[0m\u001b[0;34m.\u001b[0m\u001b[0m_dataset_kind\u001b[0m \u001b[0;34m==\u001b[0m \u001b[0m_DatasetKind\u001b[0m\u001b[0;34m.\u001b[0m\u001b[0mIterable\u001b[0m \u001b[0;32mand\u001b[0m\u001b[0;31m \u001b[0m\u001b[0;31m\\\u001b[0m\u001b[0;34m\u001b[0m\u001b[0;34m\u001b[0m\u001b[0m\n",
      "\u001b[0;32m~/.local/lib/python3.6/site-packages/torch/utils/data/dataloader.py\u001b[0m in \u001b[0;36m_next_data\u001b[0;34m(self)\u001b[0m\n\u001b[1;32m    383\u001b[0m     \u001b[0;32mdef\u001b[0m \u001b[0m_next_data\u001b[0m\u001b[0;34m(\u001b[0m\u001b[0mself\u001b[0m\u001b[0;34m)\u001b[0m\u001b[0;34m:\u001b[0m\u001b[0;34m\u001b[0m\u001b[0;34m\u001b[0m\u001b[0m\n\u001b[1;32m    384\u001b[0m         \u001b[0mindex\u001b[0m \u001b[0;34m=\u001b[0m \u001b[0mself\u001b[0m\u001b[0;34m.\u001b[0m\u001b[0m_next_index\u001b[0m\u001b[0;34m(\u001b[0m\u001b[0;34m)\u001b[0m  \u001b[0;31m# may raise StopIteration\u001b[0m\u001b[0;34m\u001b[0m\u001b[0;34m\u001b[0m\u001b[0m\n\u001b[0;32m--> 385\u001b[0;31m         \u001b[0mdata\u001b[0m \u001b[0;34m=\u001b[0m \u001b[0mself\u001b[0m\u001b[0;34m.\u001b[0m\u001b[0m_dataset_fetcher\u001b[0m\u001b[0;34m.\u001b[0m\u001b[0mfetch\u001b[0m\u001b[0;34m(\u001b[0m\u001b[0mindex\u001b[0m\u001b[0;34m)\u001b[0m  \u001b[0;31m# may raise StopIteration\u001b[0m\u001b[0;34m\u001b[0m\u001b[0;34m\u001b[0m\u001b[0m\n\u001b[0m\u001b[1;32m    386\u001b[0m         \u001b[0;32mif\u001b[0m \u001b[0mself\u001b[0m\u001b[0;34m.\u001b[0m\u001b[0m_pin_memory\u001b[0m\u001b[0;34m:\u001b[0m\u001b[0;34m\u001b[0m\u001b[0;34m\u001b[0m\u001b[0m\n\u001b[1;32m    387\u001b[0m             \u001b[0mdata\u001b[0m \u001b[0;34m=\u001b[0m \u001b[0m_utils\u001b[0m\u001b[0;34m.\u001b[0m\u001b[0mpin_memory\u001b[0m\u001b[0;34m.\u001b[0m\u001b[0mpin_memory\u001b[0m\u001b[0;34m(\u001b[0m\u001b[0mdata\u001b[0m\u001b[0;34m)\u001b[0m\u001b[0;34m\u001b[0m\u001b[0;34m\u001b[0m\u001b[0m\n",
      "\u001b[0;32m~/.local/lib/python3.6/site-packages/torch/utils/data/_utils/fetch.py\u001b[0m in \u001b[0;36mfetch\u001b[0;34m(self, possibly_batched_index)\u001b[0m\n\u001b[1;32m     42\u001b[0m     \u001b[0;32mdef\u001b[0m \u001b[0mfetch\u001b[0m\u001b[0;34m(\u001b[0m\u001b[0mself\u001b[0m\u001b[0;34m,\u001b[0m \u001b[0mpossibly_batched_index\u001b[0m\u001b[0;34m)\u001b[0m\u001b[0;34m:\u001b[0m\u001b[0;34m\u001b[0m\u001b[0;34m\u001b[0m\u001b[0m\n\u001b[1;32m     43\u001b[0m         \u001b[0;32mif\u001b[0m \u001b[0mself\u001b[0m\u001b[0;34m.\u001b[0m\u001b[0mauto_collation\u001b[0m\u001b[0;34m:\u001b[0m\u001b[0;34m\u001b[0m\u001b[0;34m\u001b[0m\u001b[0m\n\u001b[0;32m---> 44\u001b[0;31m             \u001b[0mdata\u001b[0m \u001b[0;34m=\u001b[0m \u001b[0;34m[\u001b[0m\u001b[0mself\u001b[0m\u001b[0;34m.\u001b[0m\u001b[0mdataset\u001b[0m\u001b[0;34m[\u001b[0m\u001b[0midx\u001b[0m\u001b[0;34m]\u001b[0m \u001b[0;32mfor\u001b[0m \u001b[0midx\u001b[0m \u001b[0;32min\u001b[0m \u001b[0mpossibly_batched_index\u001b[0m\u001b[0;34m]\u001b[0m\u001b[0;34m\u001b[0m\u001b[0;34m\u001b[0m\u001b[0m\n\u001b[0m\u001b[1;32m     45\u001b[0m         \u001b[0;32melse\u001b[0m\u001b[0;34m:\u001b[0m\u001b[0;34m\u001b[0m\u001b[0;34m\u001b[0m\u001b[0m\n\u001b[1;32m     46\u001b[0m             \u001b[0mdata\u001b[0m \u001b[0;34m=\u001b[0m \u001b[0mself\u001b[0m\u001b[0;34m.\u001b[0m\u001b[0mdataset\u001b[0m\u001b[0;34m[\u001b[0m\u001b[0mpossibly_batched_index\u001b[0m\u001b[0;34m]\u001b[0m\u001b[0;34m\u001b[0m\u001b[0;34m\u001b[0m\u001b[0m\n",
      "\u001b[0;32m~/.local/lib/python3.6/site-packages/torch/utils/data/_utils/fetch.py\u001b[0m in \u001b[0;36m<listcomp>\u001b[0;34m(.0)\u001b[0m\n\u001b[1;32m     42\u001b[0m     \u001b[0;32mdef\u001b[0m \u001b[0mfetch\u001b[0m\u001b[0;34m(\u001b[0m\u001b[0mself\u001b[0m\u001b[0;34m,\u001b[0m \u001b[0mpossibly_batched_index\u001b[0m\u001b[0;34m)\u001b[0m\u001b[0;34m:\u001b[0m\u001b[0;34m\u001b[0m\u001b[0;34m\u001b[0m\u001b[0m\n\u001b[1;32m     43\u001b[0m         \u001b[0;32mif\u001b[0m \u001b[0mself\u001b[0m\u001b[0;34m.\u001b[0m\u001b[0mauto_collation\u001b[0m\u001b[0;34m:\u001b[0m\u001b[0;34m\u001b[0m\u001b[0;34m\u001b[0m\u001b[0m\n\u001b[0;32m---> 44\u001b[0;31m             \u001b[0mdata\u001b[0m \u001b[0;34m=\u001b[0m \u001b[0;34m[\u001b[0m\u001b[0mself\u001b[0m\u001b[0;34m.\u001b[0m\u001b[0mdataset\u001b[0m\u001b[0;34m[\u001b[0m\u001b[0midx\u001b[0m\u001b[0;34m]\u001b[0m \u001b[0;32mfor\u001b[0m \u001b[0midx\u001b[0m \u001b[0;32min\u001b[0m \u001b[0mpossibly_batched_index\u001b[0m\u001b[0;34m]\u001b[0m\u001b[0;34m\u001b[0m\u001b[0;34m\u001b[0m\u001b[0m\n\u001b[0m\u001b[1;32m     45\u001b[0m         \u001b[0;32melse\u001b[0m\u001b[0;34m:\u001b[0m\u001b[0;34m\u001b[0m\u001b[0;34m\u001b[0m\u001b[0m\n\u001b[1;32m     46\u001b[0m             \u001b[0mdata\u001b[0m \u001b[0;34m=\u001b[0m \u001b[0mself\u001b[0m\u001b[0;34m.\u001b[0m\u001b[0mdataset\u001b[0m\u001b[0;34m[\u001b[0m\u001b[0mpossibly_batched_index\u001b[0m\u001b[0;34m]\u001b[0m\u001b[0;34m\u001b[0m\u001b[0;34m\u001b[0m\u001b[0m\n",
      "\u001b[0;32m<ipython-input-12-9d56b17f9350>\u001b[0m in \u001b[0;36m__getitem__\u001b[0;34m(self, idx)\u001b[0m\n\u001b[1;32m     17\u001b[0m \u001b[0;34m\u001b[0m\u001b[0m\n\u001b[1;32m     18\u001b[0m         \u001b[0msample\u001b[0m \u001b[0;34m=\u001b[0m  \u001b[0mself\u001b[0m\u001b[0;34m.\u001b[0m\u001b[0msensor_data\u001b[0m\u001b[0;34m.\u001b[0m\u001b[0miloc\u001b[0m\u001b[0;34m[\u001b[0m\u001b[0midx\u001b[0m\u001b[0;34m,\u001b[0m\u001b[0;34m:\u001b[0m\u001b[0;34m]\u001b[0m\u001b[0;34m\u001b[0m\u001b[0;34m\u001b[0m\u001b[0m\n\u001b[0;32m---> 19\u001b[0;31m         \u001b[0mlabels\u001b[0m \u001b[0;34m=\u001b[0m  \u001b[0mself\u001b[0m\u001b[0;34m.\u001b[0m\u001b[0mlabels_data\u001b[0m\u001b[0;34m.\u001b[0m\u001b[0miloc\u001b[0m\u001b[0;34m[\u001b[0m\u001b[0midx\u001b[0m\u001b[0;34m,\u001b[0m\u001b[0;34m:\u001b[0m\u001b[0;34m]\u001b[0m\u001b[0;34m\u001b[0m\u001b[0;34m\u001b[0m\u001b[0m\n\u001b[0m\u001b[1;32m     20\u001b[0m \u001b[0;34m\u001b[0m\u001b[0m\n\u001b[1;32m     21\u001b[0m         \u001b[0;32mif\u001b[0m \u001b[0mself\u001b[0m\u001b[0;34m.\u001b[0m\u001b[0mtransform\u001b[0m\u001b[0;34m:\u001b[0m\u001b[0;34m\u001b[0m\u001b[0;34m\u001b[0m\u001b[0m\n",
      "\u001b[0;32m~/.local/lib/python3.6/site-packages/pandas/core/indexing.py\u001b[0m in \u001b[0;36m__getitem__\u001b[0;34m(self, key)\u001b[0m\n\u001b[1;32m   1760\u001b[0m                 \u001b[0;32mexcept\u001b[0m \u001b[0;34m(\u001b[0m\u001b[0mKeyError\u001b[0m\u001b[0;34m,\u001b[0m \u001b[0mIndexError\u001b[0m\u001b[0;34m,\u001b[0m \u001b[0mAttributeError\u001b[0m\u001b[0;34m)\u001b[0m\u001b[0;34m:\u001b[0m\u001b[0;34m\u001b[0m\u001b[0;34m\u001b[0m\u001b[0m\n\u001b[1;32m   1761\u001b[0m                     \u001b[0;32mpass\u001b[0m\u001b[0;34m\u001b[0m\u001b[0;34m\u001b[0m\u001b[0m\n\u001b[0;32m-> 1762\u001b[0;31m             \u001b[0;32mreturn\u001b[0m \u001b[0mself\u001b[0m\u001b[0;34m.\u001b[0m\u001b[0m_getitem_tuple\u001b[0m\u001b[0;34m(\u001b[0m\u001b[0mkey\u001b[0m\u001b[0;34m)\u001b[0m\u001b[0;34m\u001b[0m\u001b[0;34m\u001b[0m\u001b[0m\n\u001b[0m\u001b[1;32m   1763\u001b[0m         \u001b[0;32melse\u001b[0m\u001b[0;34m:\u001b[0m\u001b[0;34m\u001b[0m\u001b[0;34m\u001b[0m\u001b[0m\n\u001b[1;32m   1764\u001b[0m             \u001b[0;31m# we by definition only have the 0th axis\u001b[0m\u001b[0;34m\u001b[0m\u001b[0;34m\u001b[0m\u001b[0;34m\u001b[0m\u001b[0m\n",
      "\u001b[0;32m~/.local/lib/python3.6/site-packages/pandas/core/indexing.py\u001b[0m in \u001b[0;36m_getitem_tuple\u001b[0;34m(self, tup)\u001b[0m\n\u001b[1;32m   2067\u001b[0m         \u001b[0mself\u001b[0m\u001b[0;34m.\u001b[0m\u001b[0m_has_valid_tuple\u001b[0m\u001b[0;34m(\u001b[0m\u001b[0mtup\u001b[0m\u001b[0;34m)\u001b[0m\u001b[0;34m\u001b[0m\u001b[0;34m\u001b[0m\u001b[0m\n\u001b[1;32m   2068\u001b[0m         \u001b[0;32mtry\u001b[0m\u001b[0;34m:\u001b[0m\u001b[0;34m\u001b[0m\u001b[0;34m\u001b[0m\u001b[0m\n\u001b[0;32m-> 2069\u001b[0;31m             \u001b[0;32mreturn\u001b[0m \u001b[0mself\u001b[0m\u001b[0;34m.\u001b[0m\u001b[0m_getitem_lowerdim\u001b[0m\u001b[0;34m(\u001b[0m\u001b[0mtup\u001b[0m\u001b[0;34m)\u001b[0m\u001b[0;34m\u001b[0m\u001b[0;34m\u001b[0m\u001b[0m\n\u001b[0m\u001b[1;32m   2070\u001b[0m         \u001b[0;32mexcept\u001b[0m \u001b[0mIndexingError\u001b[0m\u001b[0;34m:\u001b[0m\u001b[0;34m\u001b[0m\u001b[0;34m\u001b[0m\u001b[0m\n\u001b[1;32m   2071\u001b[0m             \u001b[0;32mpass\u001b[0m\u001b[0;34m\u001b[0m\u001b[0;34m\u001b[0m\u001b[0m\n",
      "\u001b[0;32m~/.local/lib/python3.6/site-packages/pandas/core/indexing.py\u001b[0m in \u001b[0;36m_getitem_lowerdim\u001b[0;34m(self, tup)\u001b[0m\n\u001b[1;32m   1387\u001b[0m         \u001b[0;32mfor\u001b[0m \u001b[0mi\u001b[0m\u001b[0;34m,\u001b[0m \u001b[0mkey\u001b[0m \u001b[0;32min\u001b[0m \u001b[0menumerate\u001b[0m\u001b[0;34m(\u001b[0m\u001b[0mtup\u001b[0m\u001b[0;34m)\u001b[0m\u001b[0;34m:\u001b[0m\u001b[0;34m\u001b[0m\u001b[0;34m\u001b[0m\u001b[0m\n\u001b[1;32m   1388\u001b[0m             \u001b[0;32mif\u001b[0m \u001b[0mis_label_like\u001b[0m\u001b[0;34m(\u001b[0m\u001b[0mkey\u001b[0m\u001b[0;34m)\u001b[0m \u001b[0;32mor\u001b[0m \u001b[0misinstance\u001b[0m\u001b[0;34m(\u001b[0m\u001b[0mkey\u001b[0m\u001b[0;34m,\u001b[0m \u001b[0mtuple\u001b[0m\u001b[0;34m)\u001b[0m\u001b[0;34m:\u001b[0m\u001b[0;34m\u001b[0m\u001b[0;34m\u001b[0m\u001b[0m\n\u001b[0;32m-> 1389\u001b[0;31m                 \u001b[0msection\u001b[0m \u001b[0;34m=\u001b[0m \u001b[0mself\u001b[0m\u001b[0;34m.\u001b[0m\u001b[0m_getitem_axis\u001b[0m\u001b[0;34m(\u001b[0m\u001b[0mkey\u001b[0m\u001b[0;34m,\u001b[0m \u001b[0maxis\u001b[0m\u001b[0;34m=\u001b[0m\u001b[0mi\u001b[0m\u001b[0;34m)\u001b[0m\u001b[0;34m\u001b[0m\u001b[0;34m\u001b[0m\u001b[0m\n\u001b[0m\u001b[1;32m   1390\u001b[0m \u001b[0;34m\u001b[0m\u001b[0m\n\u001b[1;32m   1391\u001b[0m                 \u001b[0;31m# we have yielded a scalar ?\u001b[0m\u001b[0;34m\u001b[0m\u001b[0;34m\u001b[0m\u001b[0;34m\u001b[0m\u001b[0m\n",
      "\u001b[0;32m~/.local/lib/python3.6/site-packages/pandas/core/indexing.py\u001b[0m in \u001b[0;36m_getitem_axis\u001b[0;34m(self, key, axis)\u001b[0m\n\u001b[1;32m   2136\u001b[0m \u001b[0;34m\u001b[0m\u001b[0m\n\u001b[1;32m   2137\u001b[0m             \u001b[0;31m# validate the location\u001b[0m\u001b[0;34m\u001b[0m\u001b[0;34m\u001b[0m\u001b[0;34m\u001b[0m\u001b[0m\n\u001b[0;32m-> 2138\u001b[0;31m             \u001b[0mself\u001b[0m\u001b[0;34m.\u001b[0m\u001b[0m_validate_integer\u001b[0m\u001b[0;34m(\u001b[0m\u001b[0mkey\u001b[0m\u001b[0;34m,\u001b[0m \u001b[0maxis\u001b[0m\u001b[0;34m)\u001b[0m\u001b[0;34m\u001b[0m\u001b[0;34m\u001b[0m\u001b[0m\n\u001b[0m\u001b[1;32m   2139\u001b[0m \u001b[0;34m\u001b[0m\u001b[0m\n\u001b[1;32m   2140\u001b[0m             \u001b[0;32mreturn\u001b[0m \u001b[0mself\u001b[0m\u001b[0;34m.\u001b[0m\u001b[0m_get_loc\u001b[0m\u001b[0;34m(\u001b[0m\u001b[0mkey\u001b[0m\u001b[0;34m,\u001b[0m \u001b[0maxis\u001b[0m\u001b[0;34m=\u001b[0m\u001b[0maxis\u001b[0m\u001b[0;34m)\u001b[0m\u001b[0;34m\u001b[0m\u001b[0;34m\u001b[0m\u001b[0m\n",
      "\u001b[0;32m~/.local/lib/python3.6/site-packages/pandas/core/indexing.py\u001b[0m in \u001b[0;36m_validate_integer\u001b[0;34m(self, key, axis)\u001b[0m\n\u001b[1;32m   2059\u001b[0m             \u001b[0mIf\u001b[0m \u001b[0;34m'key'\u001b[0m \u001b[0;32mis\u001b[0m \u001b[0;32mnot\u001b[0m \u001b[0ma\u001b[0m \u001b[0mvalid\u001b[0m \u001b[0mposition\u001b[0m \u001b[0;32min\u001b[0m \u001b[0maxis\u001b[0m \u001b[0;34m'axis'\u001b[0m\u001b[0;34m.\u001b[0m\u001b[0;34m\u001b[0m\u001b[0;34m\u001b[0m\u001b[0m\n\u001b[1;32m   2060\u001b[0m         \"\"\"\n\u001b[0;32m-> 2061\u001b[0;31m         \u001b[0mlen_axis\u001b[0m \u001b[0;34m=\u001b[0m \u001b[0mlen\u001b[0m\u001b[0;34m(\u001b[0m\u001b[0mself\u001b[0m\u001b[0;34m.\u001b[0m\u001b[0mobj\u001b[0m\u001b[0;34m.\u001b[0m\u001b[0m_get_axis\u001b[0m\u001b[0;34m(\u001b[0m\u001b[0maxis\u001b[0m\u001b[0;34m)\u001b[0m\u001b[0;34m)\u001b[0m\u001b[0;34m\u001b[0m\u001b[0;34m\u001b[0m\u001b[0m\n\u001b[0m\u001b[1;32m   2062\u001b[0m         \u001b[0;32mif\u001b[0m \u001b[0mkey\u001b[0m \u001b[0;34m>=\u001b[0m \u001b[0mlen_axis\u001b[0m \u001b[0;32mor\u001b[0m \u001b[0mkey\u001b[0m \u001b[0;34m<\u001b[0m \u001b[0;34m-\u001b[0m\u001b[0mlen_axis\u001b[0m\u001b[0;34m:\u001b[0m\u001b[0;34m\u001b[0m\u001b[0;34m\u001b[0m\u001b[0m\n\u001b[1;32m   2063\u001b[0m             \u001b[0;32mraise\u001b[0m \u001b[0mIndexError\u001b[0m\u001b[0;34m(\u001b[0m\u001b[0;34m\"single positional indexer is out-of-bounds\"\u001b[0m\u001b[0;34m)\u001b[0m\u001b[0;34m\u001b[0m\u001b[0;34m\u001b[0m\u001b[0m\n",
      "\u001b[0;31mKeyboardInterrupt\u001b[0m: "
     ]
    }
   ],
   "source": [
    "# Define parameters for autoencoder\n",
    "num_epochs = 100\n",
    "learn_rate = 1e-3\n",
    "train_loss_array = []\n",
    "validate_loss_array = []\n",
    "optimizer = optim.Adadelta(model.parameters())\n",
    "criterion = nn.MSELoss()\n",
    "\n",
    "min_val_loss = 100000000\n",
    "min_val_epoch = 1\n",
    "\n",
    "# Create a directory to store the best \n",
    "checkpoint_dir = './checkpoint/autoencoder/'\n",
    "if not os.path.exists(checkpoint_dir):\n",
    "    os.makedirs(checkpoint_dir)\n",
    "    \n",
    "# Iterate through all epochs\n",
    "for current_epoch in range(num_epochs):\n",
    "    \n",
    "    # Train & validate for the current epoch\n",
    "    fit_loss = fit(current_epoch)\n",
    "    train_loss_array.append(fit_loss)\n",
    "    print(\"Epoch {}/{}: Training loss = {:.6f}\".format(current_epoch + 1, num_epochs, fit_loss)) \n",
    "\n",
    "    val_loss = validate(current_epoch)\n",
    "    validate_loss_array.append(val_loss)\n",
    "    print(\"Epoch {}/{}: Validation loss = {:.6f}\".format(current_epoch + 1, num_epochs, val_loss)) \n",
    "    \n",
    "    if validate_loss_array[-1] < min_val_loss:\n",
    "        min_val_loss =  validate_loss_array[-1]\n",
    "        min_val_epoch = current_epoch\n",
    "        \n",
    "        torch.save(model.state_dict(), checkpoint_dir + 'val_best_cnn.pth') \n",
    "\n",
    "print(min_val_loss)\n",
    "print(min_val_epoch + 1)"
   ]
  },
  {
   "cell_type": "markdown",
   "metadata": {},
   "source": [
    "### Visualize how loss changes with # of epochs for training data "
   ]
  },
  {
   "cell_type": "code",
   "execution_count": null,
   "metadata": {
    "scrolled": true
   },
   "outputs": [],
   "source": [
    "fig = plt.figure()\n",
    "ax1 = fig.add_subplot(111)\n",
    "fig.tight_layout()\n",
    "ax1.plot(train_loss_array, label = \"Training Loss\")\n",
    "ax1.plot(validate_loss_array, label = \"Validation Loss\")\n",
    "\n",
    "plt.xlabel(\"Number of Epochs\")\n",
    "plt.ylabel(\"Average loss for the epoch\")\n",
    "plt.title(\"Epoch v. Loss\")\n",
    "plt.legend(loc='center left', bbox_to_anchor=(1.0, 0.5))\n",
    "plt.show()"
   ]
  },
  {
   "cell_type": "markdown",
   "metadata": {},
   "source": [
    "## Test the dataset"
   ]
  },
  {
   "cell_type": "code",
   "execution_count": null,
   "metadata": {},
   "outputs": [],
   "source": [
    "test_examples = None\n",
    "reconstruction = None\n",
    "\n",
    "with torch.no_grad():\n",
    "    for batch_features,_ in test_loader:\n",
    "        test_examples = batch_features.view(-1, input_shape)\n",
    "        reconstruction = model(test_examples.float())\n",
    "        break"
   ]
  },
  {
   "cell_type": "markdown",
   "metadata": {},
   "source": [
    "### Visualize the results"
   ]
  },
  {
   "cell_type": "code",
   "execution_count": null,
   "metadata": {
    "scrolled": true
   },
   "outputs": [],
   "source": [
    "print(test_examples.shape)\n",
    "print(reconstruction.shape)"
   ]
  },
  {
   "cell_type": "code",
   "execution_count": null,
   "metadata": {},
   "outputs": [],
   "source": [
    "with torch.no_grad():\n",
    "    number = 4\n",
    "    plt.figure(figsize=(12, 6))\n",
    "    for index in range(number):\n",
    "        \n",
    "        # display original\n",
    "        ax = plt.subplot(2, number, index + 1)\n",
    "        plt.imshow(test_examples[index].numpy().reshape(input_shape_s1, input_shape_s2))\n",
    "        plt.title('Original #' + str(index + 1))\n",
    "        ax.get_xaxis().set_visible(False)\n",
    "        ax.get_yaxis().set_visible(False)\n",
    "        \n",
    "        # display reconstructed\n",
    "        ax = plt.subplot(2, number, index + 1+ number)\n",
    "        plt.imshow(reconstruction[index].numpy().reshape(input_shape_s1, input_shape_s2))\n",
    "        plt.title('Reconstructed #' + str(index + 1))\n",
    "        ax.get_xaxis().set_visible(False)\n",
    "        ax.get_yaxis().set_visible(False)  "
   ]
  },
  {
   "cell_type": "code",
   "execution_count": null,
   "metadata": {},
   "outputs": [],
   "source": [
    "t = [i for i in range(input_shape)]\n",
    "count = 0 \n",
    "with torch.no_grad():\n",
    "    number = 4\n",
    "    fig, axes = plt.subplots(1, number, figsize=(15, 5))\n",
    "    fig.subplots_adjust(left=None, bottom=None, right=None, top=None, wspace=0.3, hspace=0.5)\n",
    "    for index in range(number):\n",
    "        # display original\n",
    "        ax = plt.subplot(1, number, index + 1)\n",
    "        sensor_read = test_examples[index].numpy().reshape(input_shape, 1)\n",
    "        plt.title('Sample #' + str(index + 1))\n",
    "        plt.xlabel('Feature')\n",
    "        plt.ylabel('Value')\n",
    "        plt.subplot(ax)\n",
    "        plt.plot(t, sensor_read, color = 'b', label = 'Actual')\n",
    "\n",
    "        sensor_read_rec = reconstruction[index].numpy().reshape(input_shape, 1)\n",
    "        plt.plot(t, sensor_read_rec, color = 'r', label = 'Reconstructed'); \n",
    "\n",
    "plt.legend(loc ='best')\n",
    "plt.show() "
   ]
  },
  {
   "cell_type": "markdown",
   "metadata": {},
   "source": [
    "# Run the Autoencoder logic for all the files"
   ]
  },
  {
   "cell_type": "code",
   "execution_count": null,
   "metadata": {},
   "outputs": [],
   "source": [
    "encoded_vals = [j for j in range(len(final_files))]\n",
    "count = 0\n",
    "reconstruction = []\n",
    "\n",
    "for file in final_files:\n",
    "    print(\"file: \", file)\n",
    "    if (file.endswith('.cs')):\n",
    "        continue\n",
    "       \n",
    "    raw_d = pd.read_csv('.' + file + '.csv')\n",
    "    \n",
    "    input_shape = raw_d.shape[1]\n",
    "    labels_shape = input_shape\n",
    "    \n",
    "    sensor_data = raw_d.iloc[:,1 : input_shape + 1]\n",
    "    sensor_data = remove_and_fill_nan(sensor_data)\n",
    "    labels_data = raw_d.iloc[:, labels_shape:-1]\n",
    "    labels_data = remove_and_fill_nan_zero(labels_data)\n",
    "    norm_sensor_data = normalize_data(sensor_data)\n",
    "    train_data_set, test_data_set, train_dataset_loader, test_dataset_loader = create_train_test_sets(norm_sensor_data,labels_data)\n",
    "\n",
    "    # Use the Autoencoder that only encodes\n",
    "    device = torch.device(\"cuda\" if torch.cuda.is_available() else \"cpu\")\n",
    "    \n",
    "    input_shape = norm_sensor_data.shape[1]\n",
    "    input_shape_s1 = 26 \n",
    "    input_shape_s2 = 10\n",
    "    model = Autoencoder(input_shape = input_shape).to(device)\n",
    "    \n",
    "    # Use the Autoencoder that both encodes and decodes\n",
    "    # model = Autoencoder(input_shape = input_shape).to(device)\n",
    "    \n",
    "    # loss_results = fit(num_epochs = 20, learn_rate = 1e-3)\n",
    "    \n",
    "    reconstruction.append([])\n",
    "    with torch.no_grad():\n",
    "        for batch_features, y_obs in test_dataset_loader:\n",
    "            test_examples = batch_features.view(-1, input_shape)\n",
    "            reconstruction[count] = model(test_examples.float())\n",
    "            break\n",
    "    \n",
    "    encoded_vals[count] = model(test_examples.float())\n",
    "    count += 1\n",
    "    break\n",
    "\n",
    "print(\"Envoded vals: \\n\", encoded_vals[0])"
   ]
  },
  {
   "cell_type": "code",
   "execution_count": null,
   "metadata": {},
   "outputs": [],
   "source": []
  }
 ],
 "metadata": {
  "kernelspec": {
   "display_name": "Python 3",
   "language": "python",
   "name": "python3"
  },
  "language_info": {
   "codemirror_mode": {
    "name": "ipython",
    "version": 3
   },
   "file_extension": ".py",
   "mimetype": "text/x-python",
   "name": "python",
   "nbconvert_exporter": "python",
   "pygments_lexer": "ipython3",
   "version": "3.6.8"
  }
 },
 "nbformat": 4,
 "nbformat_minor": 4
}
