{
 "cells": [
  {
   "cell_type": "markdown",
   "metadata": {},
   "source": [
    "## Import libraries for initial data exploration"
   ]
  },
  {
   "cell_type": "code",
<<<<<<< HEAD
<<<<<<< HEAD
   "execution_count": 1,
=======
=======
   "execution_count": null,
   "metadata": {},
   "outputs": [],
   "source": [
    "#This is an updated version"
   ]
  },
  {
   "cell_type": "code",
>>>>>>> c16a5c00dd6e10e328fc523797b83069cc1b6f54
   "execution_count": 2,
>>>>>>> 1f28cb82c557aa9eb045c3a05cc9f11c3167a865
   "metadata": {},
   "outputs": [],
   "source": [
    "%matplotlib inline\n",
    "import matplotlib as mpl;\n",
    "import matplotlib.pyplot as plt;\n",
    "import pandas as pd\n",
    "import zipfile\n",
    "\n",
    "import numpy as np;\n",
    "import gzip;\n",
    "from io import StringIO; "
   ]
  },
  {
   "cell_type": "markdown",
   "metadata": {},
   "source": [
    "## Read and visualize an input file"
   ]
  },
  {
   "cell_type": "markdown",
   "metadata": {},
   "source": [
    "### Provide the root directory for where the user input files are, relative to the notebook location"
   ]
  },
  {
   "cell_type": "code",
<<<<<<< HEAD
   "execution_count": 2,
=======
   "execution_count": 3,
>>>>>>> 1f28cb82c557aa9eb045c3a05cc9f11c3167a865
   "metadata": {},
   "outputs": [],
   "source": [
    "root_dir = \"ExtraSensory.per_uuid_features_labels/\""
   ]
  },
  {
   "cell_type": "markdown",
   "metadata": {},
   "source": [
    "### File parser helper functions"
   ]
  },
  {
   "cell_type": "code",
<<<<<<< HEAD
   "execution_count": 3,
=======
   "execution_count": 4,
>>>>>>> 1f28cb82c557aa9eb045c3a05cc9f11c3167a865
   "metadata": {},
   "outputs": [],
   "source": [
    "def parse_header_of_csv(csv_str):\n",
    "    # Isolate the headline columns:\n",
    "    headline = csv_str[:csv_str.index(b'\\n')];\n",
    "    columns = headline.split(b',');\n",
    "\n",
    "    # The first column should be timestamp:\n",
    "    assert columns[0] == b'timestamp';\n",
    "    \n",
    "    # The last column should be label_source:\n",
    "    assert columns[-1] == b'label_source';\n",
    "    \n",
    "    # Search for the column of the first label:\n",
    "    for (ci,col) in enumerate(columns):\n",
    "        if col.startswith(b'label:'):\n",
    "            first_label_ind = ci;\n",
    "            break;\n",
    "        pass;\n",
    "\n",
    "    # Feature columns come after timestamp and before the labels:\n",
    "    feature_names = columns[1:first_label_ind];\n",
    "    \n",
    "    # Then come the labels, till the one-before-last column:\n",
    "    label_names = columns[first_label_ind:-1];\n",
    "    for (li,label) in enumerate(label_names):\n",
    "        \n",
    "        # In the CSV the label names appear with prefix 'label:', but we don't need it after reading the data:\n",
    "        assert label.startswith(b'label:');\n",
    "        label_names[li] = label.replace(b'label:',b'');\n",
    "        pass;\n",
    "    \n",
    "    return (feature_names, label_names);\n",
    "\n",
    "def parse_body_of_csv(csv_str,n_features):\n",
    "    # Read the entire CSV body into a single numeric matrix:\n",
    "    full_table = np.loadtxt(StringIO(csv_str.decode(\"utf-8\")),delimiter=',',skiprows=1);\n",
    "    \n",
    "    # Timestamp is the primary key for the records (examples):\n",
    "    timestamps = full_table[:,0].astype(int);\n",
    "    \n",
    "    # Read the sensor features:\n",
    "    X = full_table[:,1:(n_features+1)];\n",
    "    \n",
    "    # Read the binary label values, and the 'missing label' indicators:\n",
    "    trinary_labels_mat = full_table[:,(n_features+1):-1]; # This should have values of either 0., 1. or NaN\n",
    "    M = np.isnan(trinary_labels_mat); # M is the missing label matrix\n",
    "    Y = np.where(M,0,trinary_labels_mat) > 0.; # Y is the label matrix\n",
    "    \n",
    "    return (X,Y,M,timestamps);\n",
    "\n",
    "'''\n",
    "Read the data (precomputed sensor-features and labels) for a user.\n",
    "This function assumes the user's data file is present.\n",
    "'''\n",
    "def read_user_data(uuid):\n",
    "    user_data_file = '%s%s.features_labels.csv.gz' % (root_dir, uuid);\n",
    "\n",
    "    # Read the entire csv file of the user:\n",
    "    with gzip.open(user_data_file,'rb') as fid:\n",
    "        csv_str = fid.read();\n",
    "        pass;\n",
    "    \n",
    "    (feature_names,label_names) = parse_header_of_csv(csv_str);\n",
    "    n_features = len(feature_names);\n",
    "    (X,Y,M,timestamps) = parse_body_of_csv(csv_str,n_features);\n",
    "\n",
    "    return (X,Y,M,timestamps,feature_names,label_names);"
   ]
  },
  {
   "cell_type": "markdown",
   "metadata": {},
   "source": [
    "### Visualize contents of a single input file"
   ]
  },
  {
   "cell_type": "code",
<<<<<<< HEAD
   "execution_count": 4,
=======
   "execution_count": 5,
>>>>>>> 1f28cb82c557aa9eb045c3a05cc9f11c3167a865
   "metadata": {},
   "outputs": [],
   "source": [
    "uuid = '1155FF54-63D3-4AB2-9863-8385D0BD0A13'"
   ]
  },
  {
   "cell_type": "code",
<<<<<<< HEAD
   "execution_count": 5,
=======
   "execution_count": 6,
>>>>>>> 1f28cb82c557aa9eb045c3a05cc9f11c3167a865
   "metadata": {},
   "outputs": [
    {
     "name": "stdout",
     "output_type": "stream",
     "text": [
      "0   raw_acc:magnitude_stats:mean\n",
      "1   raw_acc:magnitude_stats:std\n",
      "2   raw_acc:magnitude_stats:moment3\n",
      "3   raw_acc:magnitude_stats:moment4\n",
      "4   raw_acc:magnitude_stats:percentile25\n",
      "5   raw_acc:magnitude_stats:percentile50\n",
      "6   raw_acc:magnitude_stats:percentile75\n",
      "7   raw_acc:magnitude_stats:value_entropy\n",
      "8   raw_acc:magnitude_stats:time_entropy\n",
      "9   raw_acc:magnitude_spectrum:log_energy_band0\n",
      "10   raw_acc:magnitude_spectrum:log_energy_band1\n",
      "11   raw_acc:magnitude_spectrum:log_energy_band2\n",
      "12   raw_acc:magnitude_spectrum:log_energy_band3\n",
      "13   raw_acc:magnitude_spectrum:log_energy_band4\n",
      "14   raw_acc:magnitude_spectrum:spectral_entropy\n",
      "15   raw_acc:magnitude_autocorrelation:period\n",
      "16   raw_acc:magnitude_autocorrelation:normalized_ac\n",
      "17   raw_acc:3d:mean_x\n",
      "18   raw_acc:3d:mean_y\n",
      "19   raw_acc:3d:mean_z\n",
      "20   raw_acc:3d:std_x\n",
      "21   raw_acc:3d:std_y\n",
      "22   raw_acc:3d:std_z\n",
      "23   raw_acc:3d:ro_xy\n",
      "24   raw_acc:3d:ro_xz\n",
      "25   raw_acc:3d:ro_yz\n",
      "26   proc_gyro:magnitude_stats:mean\n",
      "27   proc_gyro:magnitude_stats:std\n",
      "28   proc_gyro:magnitude_stats:moment3\n",
      "29   proc_gyro:magnitude_stats:moment4\n",
      "30   proc_gyro:magnitude_stats:percentile25\n",
      "31   proc_gyro:magnitude_stats:percentile50\n",
      "32   proc_gyro:magnitude_stats:percentile75\n",
      "33   proc_gyro:magnitude_stats:value_entropy\n",
      "34   proc_gyro:magnitude_stats:time_entropy\n",
      "35   proc_gyro:magnitude_spectrum:log_energy_band0\n",
      "36   proc_gyro:magnitude_spectrum:log_energy_band1\n",
      "37   proc_gyro:magnitude_spectrum:log_energy_band2\n",
      "38   proc_gyro:magnitude_spectrum:log_energy_band3\n",
      "39   proc_gyro:magnitude_spectrum:log_energy_band4\n",
      "40   proc_gyro:magnitude_spectrum:spectral_entropy\n",
      "41   proc_gyro:magnitude_autocorrelation:period\n",
      "42   proc_gyro:magnitude_autocorrelation:normalized_ac\n",
      "43   proc_gyro:3d:mean_x\n",
      "44   proc_gyro:3d:mean_y\n",
      "45   proc_gyro:3d:mean_z\n",
      "46   proc_gyro:3d:std_x\n",
      "47   proc_gyro:3d:std_y\n",
      "48   proc_gyro:3d:std_z\n",
      "49   proc_gyro:3d:ro_xy\n",
      "50   proc_gyro:3d:ro_xz\n",
      "51   proc_gyro:3d:ro_yz\n",
      "52   raw_magnet:magnitude_stats:mean\n",
      "53   raw_magnet:magnitude_stats:std\n",
      "54   raw_magnet:magnitude_stats:moment3\n",
      "55   raw_magnet:magnitude_stats:moment4\n",
      "56   raw_magnet:magnitude_stats:percentile25\n",
      "57   raw_magnet:magnitude_stats:percentile50\n",
      "58   raw_magnet:magnitude_stats:percentile75\n",
      "59   raw_magnet:magnitude_stats:value_entropy\n",
      "60   raw_magnet:magnitude_stats:time_entropy\n",
      "61   raw_magnet:magnitude_spectrum:log_energy_band0\n",
      "62   raw_magnet:magnitude_spectrum:log_energy_band1\n",
      "63   raw_magnet:magnitude_spectrum:log_energy_band2\n",
      "64   raw_magnet:magnitude_spectrum:log_energy_band3\n",
      "65   raw_magnet:magnitude_spectrum:log_energy_band4\n",
      "66   raw_magnet:magnitude_spectrum:spectral_entropy\n",
      "67   raw_magnet:magnitude_autocorrelation:period\n",
      "68   raw_magnet:magnitude_autocorrelation:normalized_ac\n",
      "69   raw_magnet:3d:mean_x\n",
      "70   raw_magnet:3d:mean_y\n",
      "71   raw_magnet:3d:mean_z\n",
      "72   raw_magnet:3d:std_x\n",
      "73   raw_magnet:3d:std_y\n",
      "74   raw_magnet:3d:std_z\n",
      "75   raw_magnet:3d:ro_xy\n",
      "76   raw_magnet:3d:ro_xz\n",
      "77   raw_magnet:3d:ro_yz\n",
      "78   raw_magnet:avr_cosine_similarity_lag_range0\n",
      "79   raw_magnet:avr_cosine_similarity_lag_range1\n",
      "80   raw_magnet:avr_cosine_similarity_lag_range2\n",
      "81   raw_magnet:avr_cosine_similarity_lag_range3\n",
      "82   raw_magnet:avr_cosine_similarity_lag_range4\n",
      "83   watch_acceleration:magnitude_stats:mean\n",
      "84   watch_acceleration:magnitude_stats:std\n",
      "85   watch_acceleration:magnitude_stats:moment3\n",
      "86   watch_acceleration:magnitude_stats:moment4\n",
      "87   watch_acceleration:magnitude_stats:percentile25\n",
      "88   watch_acceleration:magnitude_stats:percentile50\n",
      "89   watch_acceleration:magnitude_stats:percentile75\n",
      "90   watch_acceleration:magnitude_stats:value_entropy\n",
      "91   watch_acceleration:magnitude_stats:time_entropy\n",
      "92   watch_acceleration:magnitude_spectrum:log_energy_band0\n",
      "93   watch_acceleration:magnitude_spectrum:log_energy_band1\n",
      "94   watch_acceleration:magnitude_spectrum:log_energy_band2\n",
      "95   watch_acceleration:magnitude_spectrum:log_energy_band3\n",
      "96   watch_acceleration:magnitude_spectrum:log_energy_band4\n",
      "97   watch_acceleration:magnitude_spectrum:spectral_entropy\n",
      "98   watch_acceleration:magnitude_autocorrelation:period\n",
      "99   watch_acceleration:magnitude_autocorrelation:normalized_ac\n",
      "100   watch_acceleration:3d:mean_x\n",
      "101   watch_acceleration:3d:mean_y\n",
      "102   watch_acceleration:3d:mean_z\n",
      "103   watch_acceleration:3d:std_x\n",
      "104   watch_acceleration:3d:std_y\n",
      "105   watch_acceleration:3d:std_z\n",
      "106   watch_acceleration:3d:ro_xy\n",
      "107   watch_acceleration:3d:ro_xz\n",
      "108   watch_acceleration:3d:ro_yz\n",
      "109   watch_acceleration:spectrum:x_log_energy_band0\n",
      "110   watch_acceleration:spectrum:x_log_energy_band1\n",
      "111   watch_acceleration:spectrum:x_log_energy_band2\n",
      "112   watch_acceleration:spectrum:x_log_energy_band3\n",
      "113   watch_acceleration:spectrum:x_log_energy_band4\n",
      "114   watch_acceleration:spectrum:y_log_energy_band0\n",
      "115   watch_acceleration:spectrum:y_log_energy_band1\n",
      "116   watch_acceleration:spectrum:y_log_energy_band2\n",
      "117   watch_acceleration:spectrum:y_log_energy_band3\n",
      "118   watch_acceleration:spectrum:y_log_energy_band4\n",
      "119   watch_acceleration:spectrum:z_log_energy_band0\n",
      "120   watch_acceleration:spectrum:z_log_energy_band1\n",
      "121   watch_acceleration:spectrum:z_log_energy_band2\n",
      "122   watch_acceleration:spectrum:z_log_energy_band3\n",
      "123   watch_acceleration:spectrum:z_log_energy_band4\n",
      "124   watch_acceleration:relative_directions:avr_cosine_similarity_lag_range0\n",
      "125   watch_acceleration:relative_directions:avr_cosine_similarity_lag_range1\n",
      "126   watch_acceleration:relative_directions:avr_cosine_similarity_lag_range2\n",
      "127   watch_acceleration:relative_directions:avr_cosine_similarity_lag_range3\n",
      "128   watch_acceleration:relative_directions:avr_cosine_similarity_lag_range4\n",
      "129   watch_heading:mean_cos\n",
      "130   watch_heading:std_cos\n",
      "131   watch_heading:mom3_cos\n",
      "132   watch_heading:mom4_cos\n",
      "133   watch_heading:mean_sin\n",
      "134   watch_heading:std_sin\n",
      "135   watch_heading:mom3_sin\n",
      "136   watch_heading:mom4_sin\n",
      "137   watch_heading:entropy_8bins\n",
      "138   location:num_valid_updates\n",
      "139   location:log_latitude_range\n",
      "140   location:log_longitude_range\n",
      "141   location:min_altitude\n",
      "142   location:max_altitude\n",
      "143   location:min_speed\n",
      "144   location:max_speed\n",
      "145   location:best_horizontal_accuracy\n",
      "146   location:best_vertical_accuracy\n",
      "147   location:diameter\n",
      "148   location:log_diameter\n",
      "149   location_quick_features:std_lat\n",
      "150   location_quick_features:std_long\n",
      "151   location_quick_features:lat_change\n",
      "152   location_quick_features:long_change\n",
      "153   location_quick_features:mean_abs_lat_deriv\n",
      "154   location_quick_features:mean_abs_long_deriv\n",
      "155   audio_naive:mfcc0:mean\n",
      "156   audio_naive:mfcc1:mean\n",
      "157   audio_naive:mfcc2:mean\n",
      "158   audio_naive:mfcc3:mean\n",
      "159   audio_naive:mfcc4:mean\n",
      "160   audio_naive:mfcc5:mean\n",
      "161   audio_naive:mfcc6:mean\n",
      "162   audio_naive:mfcc7:mean\n",
      "163   audio_naive:mfcc8:mean\n",
      "164   audio_naive:mfcc9:mean\n",
      "165   audio_naive:mfcc10:mean\n",
      "166   audio_naive:mfcc11:mean\n",
      "167   audio_naive:mfcc12:mean\n",
      "168   audio_naive:mfcc0:std\n",
      "169   audio_naive:mfcc1:std\n",
      "170   audio_naive:mfcc2:std\n",
      "171   audio_naive:mfcc3:std\n",
      "172   audio_naive:mfcc4:std\n",
      "173   audio_naive:mfcc5:std\n",
      "174   audio_naive:mfcc6:std\n",
      "175   audio_naive:mfcc7:std\n",
      "176   audio_naive:mfcc8:std\n",
      "177   audio_naive:mfcc9:std\n",
      "178   audio_naive:mfcc10:std\n",
      "179   audio_naive:mfcc11:std\n",
      "180   audio_naive:mfcc12:std\n",
      "181   audio_properties:max_abs_value\n",
      "182   audio_properties:normalization_multiplier\n",
      "183   discrete:app_state:is_active\n",
      "184   discrete:app_state:is_inactive\n",
      "185   discrete:app_state:is_background\n",
      "186   discrete:app_state:missing\n",
      "187   discrete:battery_plugged:is_ac\n",
      "188   discrete:battery_plugged:is_usb\n",
      "189   discrete:battery_plugged:is_wireless\n",
      "190   discrete:battery_plugged:missing\n",
      "191   discrete:battery_state:is_unknown\n",
      "192   discrete:battery_state:is_unplugged\n",
      "193   discrete:battery_state:is_not_charging\n",
      "194   discrete:battery_state:is_discharging\n",
      "195   discrete:battery_state:is_charging\n",
      "196   discrete:battery_state:is_full\n",
      "197   discrete:battery_state:missing\n",
      "198   discrete:on_the_phone:is_False\n",
      "199   discrete:on_the_phone:is_True\n",
      "200   discrete:on_the_phone:missing\n",
      "201   discrete:ringer_mode:is_normal\n",
      "202   discrete:ringer_mode:is_silent_no_vibrate\n",
      "203   discrete:ringer_mode:is_silent_with_vibrate\n",
      "204   discrete:ringer_mode:missing\n",
      "205   discrete:wifi_status:is_not_reachable\n",
      "206   discrete:wifi_status:is_reachable_via_wifi\n",
      "207   discrete:wifi_status:is_reachable_via_wwan\n",
      "208   discrete:wifi_status:missing\n",
      "209   lf_measurements:light\n",
      "210   lf_measurements:pressure\n",
      "211   lf_measurements:proximity_cm\n",
      "212   lf_measurements:proximity\n",
      "213   lf_measurements:relative_humidity\n",
      "214   lf_measurements:battery_level\n",
      "215   lf_measurements:screen_brightness\n",
      "216   lf_measurements:temperature_ambient\n",
      "217   discrete:time_of_day:between0and6\n",
      "218   discrete:time_of_day:between3and9\n",
      "219   discrete:time_of_day:between6and12\n",
      "220   discrete:time_of_day:between9and15\n",
      "221   discrete:time_of_day:between12and18\n",
      "222   discrete:time_of_day:between15and21\n",
      "223   discrete:time_of_day:between18and24\n",
      "224   discrete:time_of_day:between21and3\n"
     ]
    }
   ],
   "source": [
    "(X, Y, M, timestamps, feature_names, label_names) = read_user_data(uuid);\n",
    "feature_names = [i.decode(\"utf-8\") for i in feature_names]\n",
    "label_names = [i.decode(\"utf-8\") for i in label_names]\n",
    "\n",
    "for idx, feature in enumerate(feature_names):\n",
    "    print(idx, \" \", feature)"
   ]
  },
  {
   "cell_type": "code",
<<<<<<< HEAD
   "execution_count": 6,
=======
   "execution_count": 7,
>>>>>>> 1f28cb82c557aa9eb045c3a05cc9f11c3167a865
   "metadata": {},
   "outputs": [
    {
     "name": "stdout",
     "output_type": "stream",
     "text": [
      "[1464129912 1464129950 1464130031 ... 1464887023 1464887322 1464887622]\n",
      "2685\n"
     ]
    }
   ],
   "source": [
    "print(timestamps)\n",
    "print(len(timestamps))"
   ]
  },
  {
   "cell_type": "code",
<<<<<<< HEAD
   "execution_count": 7,
=======
   "execution_count": 8,
>>>>>>> 1f28cb82c557aa9eb045c3a05cc9f11c3167a865
   "metadata": {},
   "outputs": [
    {
     "name": "stdout",
     "output_type": "stream",
     "text": [
      "0   LYING_DOWN\n",
      "1   SITTING\n",
      "2   FIX_walking\n",
      "3   FIX_running\n",
      "4   BICYCLING\n",
      "5   SLEEPING\n",
      "6   LAB_WORK\n",
      "7   IN_CLASS\n",
      "8   IN_A_MEETING\n",
      "9   LOC_main_workplace\n",
      "10   OR_indoors\n",
      "11   OR_outside\n",
      "12   IN_A_CAR\n",
      "13   ON_A_BUS\n",
      "14   DRIVE_-_I_M_THE_DRIVER\n",
      "15   DRIVE_-_I_M_A_PASSENGER\n",
      "16   LOC_home\n",
      "17   FIX_restaurant\n",
      "18   PHONE_IN_POCKET\n",
      "19   OR_exercise\n",
      "20   COOKING\n",
      "21   SHOPPING\n",
      "22   STROLLING\n",
      "23   DRINKING__ALCOHOL_\n",
      "24   BATHING_-_SHOWER\n",
      "25   CLEANING\n",
      "26   DOING_LAUNDRY\n",
      "27   WASHING_DISHES\n",
      "28   WATCHING_TV\n",
      "29   SURFING_THE_INTERNET\n",
      "30   AT_A_PARTY\n",
      "31   AT_A_BAR\n",
      "32   LOC_beach\n",
      "33   SINGING\n",
      "34   TALKING\n",
      "35   COMPUTER_WORK\n",
      "36   EATING\n",
      "37   TOILET\n",
      "38   GROOMING\n",
      "39   DRESSING\n",
      "40   AT_THE_GYM\n",
      "41   STAIRS_-_GOING_UP\n",
      "42   STAIRS_-_GOING_DOWN\n",
      "43   ELEVATOR\n",
      "44   OR_standing\n",
      "45   AT_SCHOOL\n",
      "46   PHONE_IN_HAND\n",
      "47   PHONE_IN_BAG\n",
      "48   PHONE_ON_TABLE\n",
      "49   WITH_CO-WORKERS\n",
      "50   WITH_FRIENDS\n"
     ]
    }
   ],
   "source": [
    "for idx, label in enumerate(label_names):\n",
    "    print(idx, \" \", label)"
   ]
  },
  {
   "cell_type": "code",
<<<<<<< HEAD
   "execution_count": 8,
=======
   "execution_count": 9,
>>>>>>> 1f28cb82c557aa9eb045c3a05cc9f11c3167a865
   "metadata": {},
   "outputs": [
    {
     "data": {
      "text/plain": [
       "(2685, 51)"
      ]
     },
<<<<<<< HEAD
     "execution_count": 8,
=======
     "execution_count": 9,
>>>>>>> 1f28cb82c557aa9eb045c3a05cc9f11c3167a865
     "metadata": {},
     "output_type": "execute_result"
    }
   ],
   "source": [
    "Y.shape "
   ]
  },
  {
   "cell_type": "code",
<<<<<<< HEAD
   "execution_count": 9,
=======
   "execution_count": 10,
>>>>>>> 1f28cb82c557aa9eb045c3a05cc9f11c3167a865
   "metadata": {
    "scrolled": true
   },
   "outputs": [
    {
     "data": {
      "text/plain": [
       "(2685, 225)"
      ]
     },
<<<<<<< HEAD
     "execution_count": 9,
=======
     "execution_count": 10,
>>>>>>> 1f28cb82c557aa9eb045c3a05cc9f11c3167a865
     "metadata": {},
     "output_type": "execute_result"
    }
   ],
   "source": [
    "X.shape"
   ]
  },
  {
   "cell_type": "markdown",
   "metadata": {},
   "source": [
    "### Visualize raw data"
   ]
  },
  {
   "cell_type": "code",
<<<<<<< HEAD
   "execution_count": 10,
=======
   "execution_count": 11,
>>>>>>> 1f28cb82c557aa9eb045c3a05cc9f11c3167a865
   "metadata": {},
   "outputs": [
    {
     "data": {
<<<<<<< HEAD
      "image/png": "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\n",
=======
      "image/png": "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\n",
>>>>>>> 1f28cb82c557aa9eb045c3a05cc9f11c3167a865
      "text/plain": [
       "<Figure size 864x288 with 2 Axes>"
      ]
     },
<<<<<<< HEAD
     "metadata": {
      "needs_background": "light"
     },
=======
     "metadata": {},
>>>>>>> 1f28cb82c557aa9eb045c3a05cc9f11c3167a865
     "output_type": "display_data"
    }
   ],
   "source": [
    "t = [i for i in range(len(X[:,0]))]\n",
    "plt.figure(figsize=(12,4))\n",
    "plt.subplot(121)\n",
    "plt.plot(t,X[:,0])\n",
    "plt.xlabel('Time (min)')\n",
    "plt.title('Reading from:'+feature_names[0])\n",
    "plt.subplot(122)\n",
    "plt.plot(t,X[:,10])\n",
    "plt.xlabel('Time (min)')\n",
    "plt.title('Reading from:'+feature_names[10])\n",
    "plt.show()"
   ]
  },
  {
   "cell_type": "markdown",
   "metadata": {},
   "source": [
    "## Read and store all the file data"
   ]
  },
  {
   "cell_type": "markdown",
   "metadata": {},
   "source": [
    "### Now that we've explored the dataset, we can store the rest of the files for processing."
   ]
  },
  {
   "cell_type": "code",
<<<<<<< HEAD
   "execution_count": 11,
=======
   "execution_count": 12,
>>>>>>> 1f28cb82c557aa9eb045c3a05cc9f11c3167a865
   "metadata": {},
   "outputs": [],
   "source": [
    "from os import listdir\n",
    "from os.path import isfile, join\n",
    "import gzip\n",
    "import shutil"
   ]
  },
  {
   "cell_type": "code",
<<<<<<< HEAD
   "execution_count": 12,
=======
   "execution_count": 13,
>>>>>>> 1f28cb82c557aa9eb045c3a05cc9f11c3167a865
   "metadata": {},
   "outputs": [
    {
     "name": "stdout",
     "output_type": "stream",
     "text": [
<<<<<<< HEAD
      "/ExtraSensory.per_uuid_features_labels/81536B0A-8DBF-4D8A-AC24-9543E2E4C8E0.features_labels\n",
      "/ExtraSensory.per_uuid_features_labels/61359772-D8D8-480D-B623-7C636EAD0C81.features_labels\n",
      "/ExtraSensory.per_uuid_features_labels/A7599A50-24AE-46A6-8EA6-2576F1011D81.features_labels.cs\n",
      "/ExtraSensory.per_uuid_features_labels/78A91A4E-4A51-4065-BDA7-94755F0BB3BB.features_labels.cs\n",
      "/ExtraSensory.per_uuid_features_labels/11B5EC4D-4133-4289-B475-4E737182A406.features_labels.cs\n",
      "/ExtraSensory.per_uuid_features_labels/40E170A7-607B-4578-AF04-F021C3B0384A.features_labels\n",
      "/ExtraSensory.per_uuid_features_labels/CDA3BBF7-6631-45E8-85BA-EEB416B32A3C.features_labels.cs\n",
      "/ExtraSensory.per_uuid_features_labels/CF722AA9-2533-4E51-9FEB-9EAC84EE9AAC.features_labels.cs\n",
      "/ExtraSensory.per_uuid_features_labels/5152A2DF-FAF3-4BA8-9CA9-E66B32671A53.features_labels.cs\n",
      "/ExtraSensory.per_uuid_features_labels/806289BC-AD52-4CC1-806C-0CDB14D65EB6.features_labels\n",
      "/ExtraSensory.per_uuid_features_labels/A76A5AF5-5A93-4CF2-A16E-62353BB70E8A.features_labels.cs\n",
      "/ExtraSensory.per_uuid_features_labels/61976C24-1C50-4355-9C49-AAE44A7D09F6.features_labels\n",
      "/ExtraSensory.per_uuid_features_labels/665514DE-49DC-421F-8DCB-145D0B2609AD.features_labels.cs\n",
      "/ExtraSensory.per_uuid_features_labels/D7D20E2E-FC78-405D-B346-DBD3FD8FC92B.features_labels\n",
      "/ExtraSensory.per_uuid_features_labels/83CF687B-7CEC-434B-9FE8-00C3D5799BE6.features_labels.cs\n",
      "/ExtraSensory.per_uuid_features_labels/27E04243-B138-4F40-A164-F40B60165CF3.features_labels.cs\n",
      "/ExtraSensory.per_uuid_features_labels/1538C99F-BA1E-4EFB-A949-6C7C47701B20.features_labels.cs\n",
      "/ExtraSensory.per_uuid_features_labels/5EF64122-B513-46AE-BCF1-E62AAC285D2C.features_labels.cs\n",
      "/ExtraSensory.per_uuid_features_labels/7D9BB102-A612-4E2A-8E22-3159752F55D8.features_labels.cs\n",
      "/ExtraSensory.per_uuid_features_labels/7D9BB102-A612-4E2A-8E22-3159752F55D8.features_labels\n",
      "/ExtraSensory.per_uuid_features_labels/33A85C34-CFE4-4732-9E73-0A7AC861B27A.features_labels.cs\n",
      "/ExtraSensory.per_uuid_features_labels/74B86067-5D4B-43CF-82CF-341B76BEA0F4.features_labels.cs\n",
      "/ExtraSensory.per_uuid_features_labels/3600D531-0C55-44A7-AE95-A7A38519464E.features_labels.cs\n",
      "/ExtraSensory.per_uuid_features_labels/5119D0F8-FCA8-4184-A4EB-19421A40DE0D.features_labels\n",
      "/ExtraSensory.per_uuid_features_labels/9DC38D04-E82E-4F29-AB52-B476535226F2.features_labels\n",
      "/ExtraSensory.per_uuid_features_labels/A7599A50-24AE-46A6-8EA6-2576F1011D81.features_labels\n",
      "/ExtraSensory.per_uuid_features_labels/9DC38D04-E82E-4F29-AB52-B476535226F2.features_labels.cs\n",
      "/ExtraSensory.per_uuid_features_labels/59EEFAE0-DEB0-4FFF-9250-54D2A03D0CF2.features_labels\n",
      "/ExtraSensory.per_uuid_features_labels/5119D0F8-FCA8-4184-A4EB-19421A40DE0D.features_labels.cs\n",
      "/ExtraSensory.per_uuid_features_labels/24E40C4C-A349-4F9F-93AB-01D00FB994AF.features_labels\n",
      "/ExtraSensory.per_uuid_features_labels/7CE37510-56D0-4120-A1CF-0E23351428D2.features_labels.cs\n",
      "/ExtraSensory.per_uuid_features_labels/9759096F-1119-4E19-A0AD-6F16989C7E1C.features_labels\n",
      "/ExtraSensory.per_uuid_features_labels/1DBB0F6F-1F81-4A50-9DF4-CD62ACFA4842.features_labels.cs\n",
      "/ExtraSensory.per_uuid_features_labels/1155FF54-63D3-4AB2-9863-8385D0BD0A13.features_labels\n",
      "/ExtraSensory.per_uuid_features_labels/1155FF54-63D3-4AB2-9863-8385D0BD0A13.features_labels.cs\n",
      "/ExtraSensory.per_uuid_features_labels/61359772-D8D8-480D-B623-7C636EAD0C81.features_labels.cs\n",
      "/ExtraSensory.per_uuid_features_labels/24E40C4C-A349-4F9F-93AB-01D00FB994AF.features_labels.cs\n",
      "/ExtraSensory.per_uuid_features_labels/B9724848-C7E2-45F4-9B3F-A1F38D864495.features_labels.cs\n",
      "/ExtraSensory.per_uuid_features_labels/0A986513-7828-4D53-AA1F-E02D6DF9561B.features_labels.cs\n",
      "/ExtraSensory.per_uuid_features_labels/40E170A7-607B-4578-AF04-F021C3B0384A.features_labels.cs\n",
      "/ExtraSensory.per_uuid_features_labels/96A358A0-FFF2-4239-B93E-C7425B901B47.features_labels\n",
      "/ExtraSensory.per_uuid_features_labels/61976C24-1C50-4355-9C49-AAE44A7D09F6.features_labels.cs\n",
      "/ExtraSensory.per_uuid_features_labels/78A91A4E-4A51-4065-BDA7-94755F0BB3BB.features_labels\n",
      "/ExtraSensory.per_uuid_features_labels/C48CE857-A0DD-4DDB-BEA5-3A25449B2153.features_labels.cs\n",
      "/ExtraSensory.per_uuid_features_labels/F50235E0-DD67-4F2A-B00B-1F31ADA998B9.features_labels\n",
      "/ExtraSensory.per_uuid_features_labels/F50235E0-DD67-4F2A-B00B-1F31ADA998B9.features_labels.cs\n",
      "/ExtraSensory.per_uuid_features_labels/1538C99F-BA1E-4EFB-A949-6C7C47701B20.features_labels\n",
      "/ExtraSensory.per_uuid_features_labels/797D145F-3858-4A7F-A7C2-A4EB721E133C.features_labels.cs\n",
      "/ExtraSensory.per_uuid_features_labels/11B5EC4D-4133-4289-B475-4E737182A406.features_labels\n",
      "/ExtraSensory.per_uuid_features_labels/098A72A5-E3E5-4F54-A152-BBDA0DF7B694.features_labels\n",
      "/ExtraSensory.per_uuid_features_labels/59818CD2-24D7-4D32-B133-24C2FE3801E5.features_labels\n",
      "/ExtraSensory.per_uuid_features_labels/8023FE1A-D3B0-4E2C-A57A-9321B7FC755F.features_labels.cs\n",
      "/ExtraSensory.per_uuid_features_labels/33A85C34-CFE4-4732-9E73-0A7AC861B27A.features_labels\n",
      "/ExtraSensory.per_uuid_features_labels/00EABED2-271D-49D8-B599-1D4A09240601.features_labels\n",
      "/ExtraSensory.per_uuid_features_labels/136562B6-95B2-483D-88DC-065F28409FD2.features_labels\n",
      "/ExtraSensory.per_uuid_features_labels/2C32C23E-E30C-498A-8DD2-0EFB9150A02E.features_labels.cs\n",
      "/ExtraSensory.per_uuid_features_labels/B9724848-C7E2-45F4-9B3F-A1F38D864495.features_labels\n",
      "/ExtraSensory.per_uuid_features_labels/CF722AA9-2533-4E51-9FEB-9EAC84EE9AAC.features_labels\n",
      "/ExtraSensory.per_uuid_features_labels/81536B0A-8DBF-4D8A-AC24-9543E2E4C8E0.features_labels.cs\n",
      "/ExtraSensory.per_uuid_features_labels/FDAA70A1-42A3-4E3F-9AE3-3FDA412E03BF.features_labels\n",
      "/ExtraSensory.per_uuid_features_labels/A5CDF89D-02A2-4EC1-89F8-F534FDABDD96.features_labels\n",
      "/ExtraSensory.per_uuid_features_labels/0BFC35E2-4817-4865-BFA7-764742302A2D.features_labels\n",
      "/ExtraSensory.per_uuid_features_labels/E65577C1-8D5D-4F70-AF23-B3ADB9D3DBA3.features_labels.cs\n",
      "/ExtraSensory.per_uuid_features_labels/BEF6C611-50DA-4971-A040-87FB979F3FC1.features_labels\n",
      "/ExtraSensory.per_uuid_features_labels/4FC32141-E888-4BFF-8804-12559A491D8C.features_labels\n",
      "/ExtraSensory.per_uuid_features_labels/806289BC-AD52-4CC1-806C-0CDB14D65EB6.features_labels.cs\n",
      "/ExtraSensory.per_uuid_features_labels/A76A5AF5-5A93-4CF2-A16E-62353BB70E8A.features_labels\n",
      "/ExtraSensory.per_uuid_features_labels/3600D531-0C55-44A7-AE95-A7A38519464E.features_labels\n",
      "/ExtraSensory.per_uuid_features_labels/2C32C23E-E30C-498A-8DD2-0EFB9150A02E.features_labels\n",
      "/ExtraSensory.per_uuid_features_labels/86A4F379-B305-473D-9D83-FC7D800180EF.features_labels\n",
      "/ExtraSensory.per_uuid_features_labels/99B204C0-DD5C-4BB7-83E8-A37281B8D769.features_labels\n",
      "/ExtraSensory.per_uuid_features_labels/00EABED2-271D-49D8-B599-1D4A09240601.features_labels.cs\n",
      "/ExtraSensory.per_uuid_features_labels/098A72A5-E3E5-4F54-A152-BBDA0DF7B694.features_labels.cs\n",
      "/ExtraSensory.per_uuid_features_labels/74B86067-5D4B-43CF-82CF-341B76BEA0F4.features_labels\n",
      "/ExtraSensory.per_uuid_features_labels/5EF64122-B513-46AE-BCF1-E62AAC285D2C.features_labels\n",
      "/ExtraSensory.per_uuid_features_labels/96A358A0-FFF2-4239-B93E-C7425B901B47.features_labels.cs\n",
      "/ExtraSensory.per_uuid_features_labels/99B204C0-DD5C-4BB7-83E8-A37281B8D769.features_labels.cs\n",
      "/ExtraSensory.per_uuid_features_labels/B7F9D634-263E-4A97-87F9-6FFB4DDCB36C.features_labels\n",
      "/ExtraSensory.per_uuid_features_labels/A5A30F76-581E-4757-97A2-957553A2C6AA.features_labels\n",
      "/ExtraSensory.per_uuid_features_labels/C48CE857-A0DD-4DDB-BEA5-3A25449B2153.features_labels\n",
      "/ExtraSensory.per_uuid_features_labels/83CF687B-7CEC-434B-9FE8-00C3D5799BE6.features_labels\n",
      "/ExtraSensory.per_uuid_features_labels/0A986513-7828-4D53-AA1F-E02D6DF9561B.features_labels\n",
      "/ExtraSensory.per_uuid_features_labels/4E98F91F-4654-42EF-B908-A3389443F2E7.features_labels.cs\n",
      "/ExtraSensory.per_uuid_features_labels/D7D20E2E-FC78-405D-B346-DBD3FD8FC92B.features_labels.cs\n",
      "/ExtraSensory.per_uuid_features_labels/A5A30F76-581E-4757-97A2-957553A2C6AA.features_labels.cs\n",
      "/ExtraSensory.per_uuid_features_labels/7CE37510-56D0-4120-A1CF-0E23351428D2.features_labels\n",
      "/ExtraSensory.per_uuid_features_labels/E65577C1-8D5D-4F70-AF23-B3ADB9D3DBA3.features_labels\n",
      "/ExtraSensory.per_uuid_features_labels/B09E373F-8A54-44C8-895B-0039390B859F.features_labels.cs\n",
      "/ExtraSensory.per_uuid_features_labels/B7F9D634-263E-4A97-87F9-6FFB4DDCB36C.features_labels.cs\n",
      "/ExtraSensory.per_uuid_features_labels/59818CD2-24D7-4D32-B133-24C2FE3801E5.features_labels.cs\n",
      "/ExtraSensory.per_uuid_features_labels/CCAF77F0-FABB-4F2F-9E24-D56AD0C5A82F.features_labels\n",
      "/ExtraSensory.per_uuid_features_labels/BE3CA5A6-A561-4BBD-B7C9-5DF6805400FC.features_labels.cs\n",
      "/ExtraSensory.per_uuid_features_labels/136562B6-95B2-483D-88DC-065F28409FD2.features_labels.cs\n",
      "/ExtraSensory.per_uuid_features_labels/CA820D43-E5E2-42EF-9798-BE56F776370B.features_labels\n",
      "/ExtraSensory.per_uuid_features_labels/FDAA70A1-42A3-4E3F-9AE3-3FDA412E03BF.features_labels.cs\n",
      "/ExtraSensory.per_uuid_features_labels/CA820D43-E5E2-42EF-9798-BE56F776370B.features_labels.cs\n",
      "/ExtraSensory.per_uuid_features_labels/A5CDF89D-02A2-4EC1-89F8-F534FDABDD96.features_labels.cs\n",
      "/ExtraSensory.per_uuid_features_labels/8023FE1A-D3B0-4E2C-A57A-9321B7FC755F.features_labels\n",
      "/ExtraSensory.per_uuid_features_labels/481F4DD2-7689-43B9-A2AA-C8772227162B.features_labels\n",
      "/ExtraSensory.per_uuid_features_labels/9759096F-1119-4E19-A0AD-6F16989C7E1C.features_labels.cs\n",
      "/ExtraSensory.per_uuid_features_labels/481F4DD2-7689-43B9-A2AA-C8772227162B.features_labels.cs\n",
      "/ExtraSensory.per_uuid_features_labels/CCAF77F0-FABB-4F2F-9E24-D56AD0C5A82F.features_labels.cs\n",
      "/ExtraSensory.per_uuid_features_labels/CDA3BBF7-6631-45E8-85BA-EEB416B32A3C.features_labels\n",
      "/ExtraSensory.per_uuid_features_labels/59EEFAE0-DEB0-4FFF-9250-54D2A03D0CF2.features_labels.cs\n",
      "/ExtraSensory.per_uuid_features_labels/4E98F91F-4654-42EF-B908-A3389443F2E7.features_labels\n",
      "/ExtraSensory.per_uuid_features_labels/0E6184E1-90C0-48EE-B25A-F1ECB7B9714E.features_labels.cs\n",
      "/ExtraSensory.per_uuid_features_labels/ECECC2AB-D32F-4F90-B74C-E12A1C69BBE2.features_labels\n",
      "/ExtraSensory.per_uuid_features_labels/4FC32141-E888-4BFF-8804-12559A491D8C.features_labels.cs\n",
      "/ExtraSensory.per_uuid_features_labels/B09E373F-8A54-44C8-895B-0039390B859F.features_labels\n",
      "/ExtraSensory.per_uuid_features_labels/BE3CA5A6-A561-4BBD-B7C9-5DF6805400FC.features_labels\n",
      "/ExtraSensory.per_uuid_features_labels/797D145F-3858-4A7F-A7C2-A4EB721E133C.features_labels\n",
      "/ExtraSensory.per_uuid_features_labels/86A4F379-B305-473D-9D83-FC7D800180EF.features_labels.cs\n",
      "/ExtraSensory.per_uuid_features_labels/ECECC2AB-D32F-4F90-B74C-E12A1C69BBE2.features_labels.cs\n",
      "/ExtraSensory.per_uuid_features_labels/1DBB0F6F-1F81-4A50-9DF4-CD62ACFA4842.features_labels\n",
      "/ExtraSensory.per_uuid_features_labels/665514DE-49DC-421F-8DCB-145D0B2609AD.features_labels\n",
      "/ExtraSensory.per_uuid_features_labels/0BFC35E2-4817-4865-BFA7-764742302A2D.features_labels.cs\n",
      "/ExtraSensory.per_uuid_features_labels/5152A2DF-FAF3-4BA8-9CA9-E66B32671A53.features_labels\n",
      "/ExtraSensory.per_uuid_features_labels/0E6184E1-90C0-48EE-B25A-F1ECB7B9714E.features_labels\n",
      "/ExtraSensory.per_uuid_features_labels/BEF6C611-50DA-4971-A040-87FB979F3FC1.features_labels.cs\n",
      "/ExtraSensory.per_uuid_features_labels/27E04243-B138-4F40-A164-F40B60165CF3.features_labels\n"
=======
      "/ExtraSensory.per_uuid_features_labels/E65577C1-8D5D-4F70-AF23-B3ADB9D3DBA3.features_labels\n",
      "/ExtraSensory.per_uuid_features_labels/1155FF54-63D3-4AB2-9863-8385D0BD0A13.features_labels.cs\n",
      "/ExtraSensory.per_uuid_features_labels/797D145F-3858-4A7F-A7C2-A4EB721E133C.features_labels\n",
      "/ExtraSensory.per_uuid_features_labels/9759096F-1119-4E19-A0AD-6F16989C7E1C.features_labels.cs\n",
      "/ExtraSensory.per_uuid_features_labels/F50235E0-DD67-4F2A-B00B-1F31ADA998B9.features_labels.cs\n",
      "/ExtraSensory.per_uuid_features_labels/1538C99F-BA1E-4EFB-A949-6C7C47701B20.features_labels\n",
      "/ExtraSensory.per_uuid_features_labels/1538C99F-BA1E-4EFB-A949-6C7C47701B20.features_labels.cs\n",
      "/ExtraSensory.per_uuid_features_labels/1DBB0F6F-1F81-4A50-9DF4-CD62ACFA4842.features_labels\n",
      "/ExtraSensory.per_uuid_features_labels/CDA3BBF7-6631-45E8-85BA-EEB416B32A3C.features_labels.cs\n",
      "/ExtraSensory.per_uuid_features_labels/0E6184E1-90C0-48EE-B25A-F1ECB7B9714E.features_labels\n",
      "/ExtraSensory.per_uuid_features_labels/797D145F-3858-4A7F-A7C2-A4EB721E133C.features_labels.cs\n",
      "/ExtraSensory.per_uuid_features_labels/A76A5AF5-5A93-4CF2-A16E-62353BB70E8A.features_labels.cs\n",
      "/ExtraSensory.per_uuid_features_labels/CA820D43-E5E2-42EF-9798-BE56F776370B.features_labels.cs\n",
      "/ExtraSensory.per_uuid_features_labels/61359772-D8D8-480D-B623-7C636EAD0C81.features_labels\n",
      "/ExtraSensory.per_uuid_features_labels/D7D20E2E-FC78-405D-B346-DBD3FD8FC92B.features_labels.cs\n",
      "/ExtraSensory.per_uuid_features_labels/BE3CA5A6-A561-4BBD-B7C9-5DF6805400FC.features_labels.cs\n",
      "/ExtraSensory.per_uuid_features_labels/ECECC2AB-D32F-4F90-B74C-E12A1C69BBE2.features_labels\n",
      "/ExtraSensory.per_uuid_features_labels/BEF6C611-50DA-4971-A040-87FB979F3FC1.features_labels.cs\n",
      "/ExtraSensory.per_uuid_features_labels/86A4F379-B305-473D-9D83-FC7D800180EF.features_labels\n",
      "/ExtraSensory.per_uuid_features_labels/99B204C0-DD5C-4BB7-83E8-A37281B8D769.features_labels\n",
      "/ExtraSensory.per_uuid_features_labels/A7599A50-24AE-46A6-8EA6-2576F1011D81.features_labels.cs\n",
      "/ExtraSensory.per_uuid_features_labels/27E04243-B138-4F40-A164-F40B60165CF3.features_labels\n",
      "/ExtraSensory.per_uuid_features_labels/5EF64122-B513-46AE-BCF1-E62AAC285D2C.features_labels\n",
      "/ExtraSensory.per_uuid_features_labels/3600D531-0C55-44A7-AE95-A7A38519464E.features_labels.cs\n",
      "/ExtraSensory.per_uuid_features_labels/0BFC35E2-4817-4865-BFA7-764742302A2D.features_labels.cs\n",
      "/ExtraSensory.per_uuid_features_labels/CCAF77F0-FABB-4F2F-9E24-D56AD0C5A82F.features_labels\n",
      "/ExtraSensory.per_uuid_features_labels/59EEFAE0-DEB0-4FFF-9250-54D2A03D0CF2.features_labels.cs\n",
      "/ExtraSensory.per_uuid_features_labels/8023FE1A-D3B0-4E2C-A57A-9321B7FC755F.features_labels.cs\n",
      "/ExtraSensory.per_uuid_features_labels/86A4F379-B305-473D-9D83-FC7D800180EF.features_labels.cs\n",
      "/ExtraSensory.per_uuid_features_labels/B7F9D634-263E-4A97-87F9-6FFB4DDCB36C.features_labels\n",
      "/ExtraSensory.per_uuid_features_labels/481F4DD2-7689-43B9-A2AA-C8772227162B.features_labels\n",
      "/ExtraSensory.per_uuid_features_labels/9759096F-1119-4E19-A0AD-6F16989C7E1C.features_labels\n",
      "/ExtraSensory.per_uuid_features_labels/B9724848-C7E2-45F4-9B3F-A1F38D864495.features_labels.cs\n",
      "/ExtraSensory.per_uuid_features_labels/C48CE857-A0DD-4DDB-BEA5-3A25449B2153.features_labels.cs\n",
      "/ExtraSensory.per_uuid_features_labels/806289BC-AD52-4CC1-806C-0CDB14D65EB6.features_labels\n",
      "/ExtraSensory.per_uuid_features_labels/7CE37510-56D0-4120-A1CF-0E23351428D2.features_labels\n",
      "/ExtraSensory.per_uuid_features_labels/FDAA70A1-42A3-4E3F-9AE3-3FDA412E03BF.features_labels.cs\n",
      "/ExtraSensory.per_uuid_features_labels/74B86067-5D4B-43CF-82CF-341B76BEA0F4.features_labels.cs\n",
      "/ExtraSensory.per_uuid_features_labels/0A986513-7828-4D53-AA1F-E02D6DF9561B.features_labels.cs\n",
      "/ExtraSensory.per_uuid_features_labels/0BFC35E2-4817-4865-BFA7-764742302A2D.features_labels\n",
      "/ExtraSensory.per_uuid_features_labels/665514DE-49DC-421F-8DCB-145D0B2609AD.features_labels\n",
      "/ExtraSensory.per_uuid_features_labels/0E6184E1-90C0-48EE-B25A-F1ECB7B9714E.features_labels.cs\n",
      "/ExtraSensory.per_uuid_features_labels/5119D0F8-FCA8-4184-A4EB-19421A40DE0D.features_labels\n",
      "/ExtraSensory.per_uuid_features_labels/27E04243-B138-4F40-A164-F40B60165CF3.features_labels.cs\n",
      "/ExtraSensory.per_uuid_features_labels/7CE37510-56D0-4120-A1CF-0E23351428D2.features_labels.cs\n",
      "/ExtraSensory.per_uuid_features_labels/098A72A5-E3E5-4F54-A152-BBDA0DF7B694.features_labels\n",
      "/ExtraSensory.per_uuid_features_labels/481F4DD2-7689-43B9-A2AA-C8772227162B.features_labels.cs\n",
      "/ExtraSensory.per_uuid_features_labels/96A358A0-FFF2-4239-B93E-C7425B901B47.features_labels.cs\n",
      "/ExtraSensory.per_uuid_features_labels/A5CDF89D-02A2-4EC1-89F8-F534FDABDD96.features_labels\n",
      "/ExtraSensory.per_uuid_features_labels/A7599A50-24AE-46A6-8EA6-2576F1011D81.features_labels\n",
      "/ExtraSensory.per_uuid_features_labels/5152A2DF-FAF3-4BA8-9CA9-E66B32671A53.features_labels\n",
      "/ExtraSensory.per_uuid_features_labels/9DC38D04-E82E-4F29-AB52-B476535226F2.features_labels\n",
      "/ExtraSensory.per_uuid_features_labels/24E40C4C-A349-4F9F-93AB-01D00FB994AF.features_labels\n",
      "/ExtraSensory.per_uuid_features_labels/4E98F91F-4654-42EF-B908-A3389443F2E7.features_labels.cs\n",
      "/ExtraSensory.per_uuid_features_labels/CA820D43-E5E2-42EF-9798-BE56F776370B.features_labels\n",
      "/ExtraSensory.per_uuid_features_labels/9DC38D04-E82E-4F29-AB52-B476535226F2.features_labels.cs\n",
      "/ExtraSensory.per_uuid_features_labels/81536B0A-8DBF-4D8A-AC24-9543E2E4C8E0.features_labels\n",
      "/ExtraSensory.per_uuid_features_labels/24E40C4C-A349-4F9F-93AB-01D00FB994AF.features_labels.cs\n",
      "/ExtraSensory.per_uuid_features_labels/BEF6C611-50DA-4971-A040-87FB979F3FC1.features_labels\n",
      "/ExtraSensory.per_uuid_features_labels/A5A30F76-581E-4757-97A2-957553A2C6AA.features_labels.cs\n",
      "/ExtraSensory.per_uuid_features_labels/96A358A0-FFF2-4239-B93E-C7425B901B47.features_labels\n",
      "/ExtraSensory.per_uuid_features_labels/098A72A5-E3E5-4F54-A152-BBDA0DF7B694.features_labels.cs\n",
      "/ExtraSensory.per_uuid_features_labels/5119D0F8-FCA8-4184-A4EB-19421A40DE0D.features_labels.cs\n",
      "/ExtraSensory.per_uuid_features_labels/A5A30F76-581E-4757-97A2-957553A2C6AA.features_labels\n",
      "/ExtraSensory.per_uuid_features_labels/61976C24-1C50-4355-9C49-AAE44A7D09F6.features_labels.cs\n",
      "/ExtraSensory.per_uuid_features_labels/D7D20E2E-FC78-405D-B346-DBD3FD8FC92B.features_labels\n",
      "/ExtraSensory.per_uuid_features_labels/3600D531-0C55-44A7-AE95-A7A38519464E.features_labels\n",
      "/ExtraSensory.per_uuid_features_labels/2C32C23E-E30C-498A-8DD2-0EFB9150A02E.features_labels.cs\n",
      "/ExtraSensory.per_uuid_features_labels/5152A2DF-FAF3-4BA8-9CA9-E66B32671A53.features_labels.cs\n",
      "/ExtraSensory.per_uuid_features_labels/7D9BB102-A612-4E2A-8E22-3159752F55D8.features_labels\n",
      "/ExtraSensory.per_uuid_features_labels/11B5EC4D-4133-4289-B475-4E737182A406.features_labels\n",
      "/ExtraSensory.per_uuid_features_labels/BE3CA5A6-A561-4BBD-B7C9-5DF6805400FC.features_labels\n",
      "/ExtraSensory.per_uuid_features_labels/136562B6-95B2-483D-88DC-065F28409FD2.features_labels\n",
      "/ExtraSensory.per_uuid_features_labels/B09E373F-8A54-44C8-895B-0039390B859F.features_labels\n",
      "/ExtraSensory.per_uuid_features_labels/4E98F91F-4654-42EF-B908-A3389443F2E7.features_labels\n",
      "/ExtraSensory.per_uuid_features_labels/8023FE1A-D3B0-4E2C-A57A-9321B7FC755F.features_labels\n",
      "/ExtraSensory.per_uuid_features_labels/11B5EC4D-4133-4289-B475-4E737182A406.features_labels.cs\n",
      "/ExtraSensory.per_uuid_features_labels/33A85C34-CFE4-4732-9E73-0A7AC861B27A.features_labels\n",
      "/ExtraSensory.per_uuid_features_labels/59818CD2-24D7-4D32-B133-24C2FE3801E5.features_labels.cs\n",
      "/ExtraSensory.per_uuid_features_labels/ECECC2AB-D32F-4F90-B74C-E12A1C69BBE2.features_labels.cs\n",
      "/ExtraSensory.per_uuid_features_labels/59818CD2-24D7-4D32-B133-24C2FE3801E5.features_labels\n",
      "/ExtraSensory.per_uuid_features_labels/CF722AA9-2533-4E51-9FEB-9EAC84EE9AAC.features_labels.cs\n",
      "/ExtraSensory.per_uuid_features_labels/C48CE857-A0DD-4DDB-BEA5-3A25449B2153.features_labels\n",
      "/ExtraSensory.per_uuid_features_labels/136562B6-95B2-483D-88DC-065F28409FD2.features_labels.cs\n",
      "/ExtraSensory.per_uuid_features_labels/40E170A7-607B-4578-AF04-F021C3B0384A.features_labels\n",
      "/ExtraSensory.per_uuid_features_labels/B09E373F-8A54-44C8-895B-0039390B859F.features_labels.cs\n",
      "/ExtraSensory.per_uuid_features_labels/2C32C23E-E30C-498A-8DD2-0EFB9150A02E.features_labels\n",
      "/ExtraSensory.per_uuid_features_labels/00EABED2-271D-49D8-B599-1D4A09240601.features_labels.cs\n",
      "/ExtraSensory.per_uuid_features_labels/59EEFAE0-DEB0-4FFF-9250-54D2A03D0CF2.features_labels\n",
      "/ExtraSensory.per_uuid_features_labels/5EF64122-B513-46AE-BCF1-E62AAC285D2C.features_labels.cs\n",
      "/ExtraSensory.per_uuid_features_labels/78A91A4E-4A51-4065-BDA7-94755F0BB3BB.features_labels.cs\n",
      "/ExtraSensory.per_uuid_features_labels/4FC32141-E888-4BFF-8804-12559A491D8C.features_labels.cs\n",
      "/ExtraSensory.per_uuid_features_labels/FDAA70A1-42A3-4E3F-9AE3-3FDA412E03BF.features_labels\n",
      "/ExtraSensory.per_uuid_features_labels/B7F9D634-263E-4A97-87F9-6FFB4DDCB36C.features_labels.cs\n",
      "/ExtraSensory.per_uuid_features_labels/83CF687B-7CEC-434B-9FE8-00C3D5799BE6.features_labels\n",
      "/ExtraSensory.per_uuid_features_labels/81536B0A-8DBF-4D8A-AC24-9543E2E4C8E0.features_labels.cs\n",
      "/ExtraSensory.per_uuid_features_labels/F50235E0-DD67-4F2A-B00B-1F31ADA998B9.features_labels\n",
      "/ExtraSensory.per_uuid_features_labels/7D9BB102-A612-4E2A-8E22-3159752F55D8.features_labels.cs\n",
      "/ExtraSensory.per_uuid_features_labels/A5CDF89D-02A2-4EC1-89F8-F534FDABDD96.features_labels.cs\n",
      "/ExtraSensory.per_uuid_features_labels/00EABED2-271D-49D8-B599-1D4A09240601.features_labels\n",
      "/ExtraSensory.per_uuid_features_labels/74B86067-5D4B-43CF-82CF-341B76BEA0F4.features_labels\n",
      "/ExtraSensory.per_uuid_features_labels/0A986513-7828-4D53-AA1F-E02D6DF9561B.features_labels\n",
      "/ExtraSensory.per_uuid_features_labels/CF722AA9-2533-4E51-9FEB-9EAC84EE9AAC.features_labels\n",
      "/ExtraSensory.per_uuid_features_labels/1DBB0F6F-1F81-4A50-9DF4-CD62ACFA4842.features_labels.cs\n",
      "/ExtraSensory.per_uuid_features_labels/99B204C0-DD5C-4BB7-83E8-A37281B8D769.features_labels.cs\n",
      "/ExtraSensory.per_uuid_features_labels/4FC32141-E888-4BFF-8804-12559A491D8C.features_labels\n",
      "/ExtraSensory.per_uuid_features_labels/40E170A7-607B-4578-AF04-F021C3B0384A.features_labels.cs\n",
      "/ExtraSensory.per_uuid_features_labels/B9724848-C7E2-45F4-9B3F-A1F38D864495.features_labels\n",
      "/ExtraSensory.per_uuid_features_labels/83CF687B-7CEC-434B-9FE8-00C3D5799BE6.features_labels.cs\n",
      "/ExtraSensory.per_uuid_features_labels/A76A5AF5-5A93-4CF2-A16E-62353BB70E8A.features_labels\n",
      "/ExtraSensory.per_uuid_features_labels/78A91A4E-4A51-4065-BDA7-94755F0BB3BB.features_labels\n",
      "/ExtraSensory.per_uuid_features_labels/61976C24-1C50-4355-9C49-AAE44A7D09F6.features_labels\n",
      "/ExtraSensory.per_uuid_features_labels/33A85C34-CFE4-4732-9E73-0A7AC861B27A.features_labels.cs\n",
      "/ExtraSensory.per_uuid_features_labels/E65577C1-8D5D-4F70-AF23-B3ADB9D3DBA3.features_labels.cs\n",
      "/ExtraSensory.per_uuid_features_labels/806289BC-AD52-4CC1-806C-0CDB14D65EB6.features_labels.cs\n",
      "/ExtraSensory.per_uuid_features_labels/CDA3BBF7-6631-45E8-85BA-EEB416B32A3C.features_labels\n",
      "/ExtraSensory.per_uuid_features_labels/665514DE-49DC-421F-8DCB-145D0B2609AD.features_labels.cs\n",
      "/ExtraSensory.per_uuid_features_labels/61359772-D8D8-480D-B623-7C636EAD0C81.features_labels.cs\n",
      "/ExtraSensory.per_uuid_features_labels/CCAF77F0-FABB-4F2F-9E24-D56AD0C5A82F.features_labels.cs\n",
      "/ExtraSensory.per_uuid_features_labels/1155FF54-63D3-4AB2-9863-8385D0BD0A13.features_labels\n"
>>>>>>> 1f28cb82c557aa9eb045c3a05cc9f11c3167a865
     ]
    }
   ],
   "source": [
    "onlyfiles = [f for f in listdir(root_dir)]\n",
    "final_files = [] \n",
    "for i in onlyfiles: \n",
    "    x = '/%s%s' % (root_dir, i[0:len(i)-4]) \n",
    "    print(x)\n",
    "    final_files.append(x)"
   ]
  },
  {
   "cell_type": "code",
<<<<<<< HEAD
   "execution_count": 13,
=======
   "execution_count": 14,
>>>>>>> 1f28cb82c557aa9eb045c3a05cc9f11c3167a865
   "metadata": {},
   "outputs": [],
   "source": [
    "# for idx in range(len(final_files)):\n",
    "#     with gzip.open('.'+final_files[idx]+'.csv.gz', 'rb') as f_in:\n",
    "#                 with open('.'+final_files[idx]+'.csv', 'wb') as f_out:\n",
    "#                     shutil.copyfileobj(f_in, f_out)          "
   ]
  },
  {
   "cell_type": "markdown",
   "metadata": {},
   "source": [
    "### Import Torch Libraries"
   ]
  },
  {
   "cell_type": "code",
<<<<<<< HEAD
   "execution_count": 14,
=======
   "execution_count": 15,
>>>>>>> 1f28cb82c557aa9eb045c3a05cc9f11c3167a865
   "metadata": {},
   "outputs": [],
   "source": [
    "import torch \n",
    "from torchvision import datasets\n",
    "import torchvision.transforms as transforms\n",
    "from torch.utils.data import Dataset, DataLoader\n",
    "import torch.nn as nn\n",
    "import torch.optim as optim\n",
    "import seaborn as sns "
   ]
  },
  {
   "cell_type": "markdown",
   "metadata": {},
   "source": [
    "### Visualize NaN entries in a sensor reading"
   ]
  },
  {
   "cell_type": "code",
<<<<<<< HEAD
   "execution_count": 15,
   "metadata": {},
   "outputs": [
    {
     "ename": "NameError",
     "evalue": "name 'cols_to_drop' is not defined",
     "output_type": "error",
     "traceback": [
      "\u001b[0;31m---------------------------------------------------------------------------\u001b[0m",
      "\u001b[0;31mNameError\u001b[0m                                 Traceback (most recent call last)",
      "\u001b[0;32m<ipython-input-15-4e61350e2384>\u001b[0m in \u001b[0;36m<module>\u001b[0;34m\u001b[0m\n\u001b[1;32m      1\u001b[0m \u001b[0mraw_d\u001b[0m \u001b[0;34m=\u001b[0m \u001b[0mpd\u001b[0m\u001b[0;34m.\u001b[0m\u001b[0mread_csv\u001b[0m\u001b[0;34m(\u001b[0m\u001b[0;34m'.'\u001b[0m\u001b[0;34m+\u001b[0m\u001b[0mfinal_files\u001b[0m\u001b[0;34m[\u001b[0m\u001b[0;36m0\u001b[0m\u001b[0;34m]\u001b[0m\u001b[0;34m+\u001b[0m\u001b[0;34m'.csv'\u001b[0m\u001b[0;34m)\u001b[0m\u001b[0;34m\u001b[0m\u001b[0;34m\u001b[0m\u001b[0m\n\u001b[0;32m----> 2\u001b[0;31m \u001b[0msensor_data\u001b[0m \u001b[0;34m=\u001b[0m \u001b[0mraw_d\u001b[0m\u001b[0;34m.\u001b[0m\u001b[0miloc\u001b[0m\u001b[0;34m[\u001b[0m\u001b[0;34m:\u001b[0m\u001b[0;34m,\u001b[0m\u001b[0;36m1\u001b[0m\u001b[0;34m:\u001b[0m\u001b[0;36m226\u001b[0m\u001b[0;34m]\u001b[0m\u001b[0;34m.\u001b[0m\u001b[0mdrop\u001b[0m\u001b[0;34m(\u001b[0m\u001b[0mcolumns\u001b[0m \u001b[0;34m=\u001b[0m \u001b[0mcols_to_drop\u001b[0m\u001b[0;34m)\u001b[0m\u001b[0;34m\u001b[0m\u001b[0;34m\u001b[0m\u001b[0m\n\u001b[0m\u001b[1;32m      3\u001b[0m \u001b[0;34m\u001b[0m\u001b[0m\n\u001b[1;32m      4\u001b[0m \u001b[0msns\u001b[0m\u001b[0;34m.\u001b[0m\u001b[0mheatmap\u001b[0m\u001b[0;34m(\u001b[0m\u001b[0msensor_data\u001b[0m\u001b[0;34m.\u001b[0m\u001b[0misnull\u001b[0m\u001b[0;34m(\u001b[0m\u001b[0;34m)\u001b[0m\u001b[0;34m,\u001b[0m \u001b[0mcbar\u001b[0m\u001b[0;34m=\u001b[0m\u001b[0;32mFalse\u001b[0m\u001b[0;34m)\u001b[0m\u001b[0;34m\u001b[0m\u001b[0;34m\u001b[0m\u001b[0m\n\u001b[1;32m      5\u001b[0m \u001b[0;34m\u001b[0m\u001b[0m\n",
      "\u001b[0;31mNameError\u001b[0m: name 'cols_to_drop' is not defined"
     ]
    }
   ],
   "source": [
    "raw_d = pd.read_csv('.'+final_files[0]+'.csv')\n",
    "sensor_data = raw_d.iloc[:,1:226].drop(columns = cols_to_drop)\n",
    "\n",
    "sns.heatmap(sensor_data.isnull(), cbar=False)\n",
    "\n",
    "for i in sensor_data.columns: \n",
    "    if i in cols_to_drop: \n",
    "        print(i)"
=======
   "execution_count": 32,
   "metadata": {},
   "outputs": [
    {
     "data": {
      "image/png": "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\n",
      "text/plain": [
       "<Figure size 432x288 with 1 Axes>"
      ]
     },
     "metadata": {},
     "output_type": "display_data"
    }
   ],
   "source": [
    "raw_d = pd.read_csv('.' + final_files[0] + '.csv')\n",
    "sensor_data = raw_d.iloc[:,1:181]\n",
    "\n",
    "heatmap = sns.heatmap(sensor_data.isnull(), cbar = False)\n",
    "\n",
    "# for index, row in sensor_data.iterrows():\n",
    "#     print(row.isnull())"
   ]
  },
  {
   "cell_type": "code",
   "execution_count": 42,
   "metadata": {},
   "outputs": [
    {
     "name": "stdout",
     "output_type": "stream",
     "text": [
      "   label:LYING_DOWN  label:SITTING  label:FIX_walking  label:FIX_running  \\\n",
      "0               0.0            1.0                0.0                NaN   \n",
      "1               0.0            1.0                0.0                NaN   \n",
      "2               0.0            1.0                0.0                NaN   \n",
      "3               0.0            1.0                0.0                NaN   \n",
      "4               0.0            1.0                0.0                NaN   \n",
      "\n",
      "   label:BICYCLING  label:SLEEPING  label:LAB_WORK  label:IN_CLASS  \\\n",
      "0              0.0             0.0             NaN             NaN   \n",
      "1              0.0             0.0             NaN             NaN   \n",
      "2              0.0             0.0             NaN             NaN   \n",
      "3              0.0             0.0             NaN             NaN   \n",
      "4              0.0             0.0             NaN             NaN   \n",
      "\n",
      "   label:IN_A_MEETING  label:LOC_main_workplace  ...  label:STAIRS_-_GOING_UP  \\\n",
      "0                 0.0                         1  ...                      NaN   \n",
      "1                 0.0                         1  ...                      NaN   \n",
      "2                 0.0                         1  ...                      NaN   \n",
      "3                 0.0                         1  ...                      NaN   \n",
      "4                 0.0                         1  ...                      NaN   \n",
      "\n",
      "   label:STAIRS_-_GOING_DOWN  label:ELEVATOR  label:OR_standing  \\\n",
      "0                        0.0             NaN                0.0   \n",
      "1                        0.0             NaN                0.0   \n",
      "2                        0.0             NaN                0.0   \n",
      "3                        0.0             NaN                0.0   \n",
      "4                        0.0             NaN                0.0   \n",
      "\n",
      "   label:AT_SCHOOL  label:PHONE_IN_HAND  label:PHONE_IN_BAG  \\\n",
      "0              NaN                  NaN                 NaN   \n",
      "1              NaN                  NaN                 NaN   \n",
      "2              NaN                  NaN                 NaN   \n",
      "3              NaN                  NaN                 NaN   \n",
      "4              NaN                  NaN                 NaN   \n",
      "\n",
      "   label:PHONE_ON_TABLE  label:WITH_CO-WORKERS  label:WITH_FRIENDS  \n",
      "0                   NaN                    0.0                 NaN  \n",
      "1                   NaN                    0.0                 NaN  \n",
      "2                   NaN                    0.0                 NaN  \n",
      "3                   NaN                    0.0                 NaN  \n",
      "4                   NaN                    0.0                 NaN  \n",
      "\n",
      "[5 rows x 51 columns]\n"
     ]
    }
   ],
   "source": [
    "labels_data = raw_d.iloc[:,226:-1]\n",
    "\"\"\n",
    "print(labels_data.head())"
>>>>>>> 1f28cb82c557aa9eb045c3a05cc9f11c3167a865
   ]
  },
  {
   "cell_type": "markdown",
   "metadata": {},
   "source": [
    "### Fill NaN with column mode, and drop remaining NaN"
   ]
  },
  {
   "cell_type": "code",
<<<<<<< HEAD
   "execution_count": 16,
=======
   "execution_count": 43,
>>>>>>> 1f28cb82c557aa9eb045c3a05cc9f11c3167a865
   "metadata": {},
   "outputs": [],
   "source": [
    "def remove_and_fill_nan(data):\n",
    "    data[data.columns] = data[data.columns].fillna(data.mean().iloc[0])\n",
    "    data.dropna(inplace = True, axis = 'columns' )\n",
    "    return data\n",
<<<<<<< HEAD
    "\n",
    "sensor_data = remove_and_fill_nan(sensor_data)"
=======
    "def remove_and_fill_nan_zero(data):\n",
    "    data[data.columns] = data[data.columns].fillna(0)\n",
    "    data.dropna(inplace = True, axis = 'columns' )\n",
    "    return data\n",
    "\n",
    "sensor_data = remove_and_fill_nan(sensor_data)\n",
    "labels_data = remove_and_fill_nan_zero(labels_data)"
   ]
  },
  {
   "cell_type": "code",
   "execution_count": 44,
   "metadata": {},
   "outputs": [
    {
     "data": {
      "text/html": [
       "<div>\n",
       "<style scoped>\n",
       "    .dataframe tbody tr th:only-of-type {\n",
       "        vertical-align: middle;\n",
       "    }\n",
       "\n",
       "    .dataframe tbody tr th {\n",
       "        vertical-align: top;\n",
       "    }\n",
       "\n",
       "    .dataframe thead th {\n",
       "        text-align: right;\n",
       "    }\n",
       "</style>\n",
       "<table border=\"1\" class=\"dataframe\">\n",
       "  <thead>\n",
       "    <tr style=\"text-align: right;\">\n",
       "      <th></th>\n",
       "      <th>label:LYING_DOWN</th>\n",
       "      <th>label:SITTING</th>\n",
       "      <th>label:FIX_walking</th>\n",
       "      <th>label:FIX_running</th>\n",
       "      <th>label:BICYCLING</th>\n",
       "      <th>label:SLEEPING</th>\n",
       "      <th>label:LAB_WORK</th>\n",
       "      <th>label:IN_CLASS</th>\n",
       "      <th>label:IN_A_MEETING</th>\n",
       "      <th>label:LOC_main_workplace</th>\n",
       "      <th>...</th>\n",
       "      <th>label:STAIRS_-_GOING_UP</th>\n",
       "      <th>label:STAIRS_-_GOING_DOWN</th>\n",
       "      <th>label:ELEVATOR</th>\n",
       "      <th>label:OR_standing</th>\n",
       "      <th>label:AT_SCHOOL</th>\n",
       "      <th>label:PHONE_IN_HAND</th>\n",
       "      <th>label:PHONE_IN_BAG</th>\n",
       "      <th>label:PHONE_ON_TABLE</th>\n",
       "      <th>label:WITH_CO-WORKERS</th>\n",
       "      <th>label:WITH_FRIENDS</th>\n",
       "    </tr>\n",
       "  </thead>\n",
       "  <tbody>\n",
       "    <tr>\n",
       "      <th>0</th>\n",
       "      <td>0.0</td>\n",
       "      <td>1.0</td>\n",
       "      <td>0.0</td>\n",
       "      <td>0.0</td>\n",
       "      <td>0.0</td>\n",
       "      <td>0.0</td>\n",
       "      <td>0.0</td>\n",
       "      <td>0.0</td>\n",
       "      <td>0.0</td>\n",
       "      <td>1</td>\n",
       "      <td>...</td>\n",
       "      <td>0.0</td>\n",
       "      <td>0.0</td>\n",
       "      <td>0.0</td>\n",
       "      <td>0.0</td>\n",
       "      <td>0.0</td>\n",
       "      <td>0.0</td>\n",
       "      <td>0.0</td>\n",
       "      <td>0.0</td>\n",
       "      <td>0.0</td>\n",
       "      <td>0.0</td>\n",
       "    </tr>\n",
       "    <tr>\n",
       "      <th>1</th>\n",
       "      <td>0.0</td>\n",
       "      <td>1.0</td>\n",
       "      <td>0.0</td>\n",
       "      <td>0.0</td>\n",
       "      <td>0.0</td>\n",
       "      <td>0.0</td>\n",
       "      <td>0.0</td>\n",
       "      <td>0.0</td>\n",
       "      <td>0.0</td>\n",
       "      <td>1</td>\n",
       "      <td>...</td>\n",
       "      <td>0.0</td>\n",
       "      <td>0.0</td>\n",
       "      <td>0.0</td>\n",
       "      <td>0.0</td>\n",
       "      <td>0.0</td>\n",
       "      <td>0.0</td>\n",
       "      <td>0.0</td>\n",
       "      <td>0.0</td>\n",
       "      <td>0.0</td>\n",
       "      <td>0.0</td>\n",
       "    </tr>\n",
       "    <tr>\n",
       "      <th>2</th>\n",
       "      <td>0.0</td>\n",
       "      <td>1.0</td>\n",
       "      <td>0.0</td>\n",
       "      <td>0.0</td>\n",
       "      <td>0.0</td>\n",
       "      <td>0.0</td>\n",
       "      <td>0.0</td>\n",
       "      <td>0.0</td>\n",
       "      <td>0.0</td>\n",
       "      <td>1</td>\n",
       "      <td>...</td>\n",
       "      <td>0.0</td>\n",
       "      <td>0.0</td>\n",
       "      <td>0.0</td>\n",
       "      <td>0.0</td>\n",
       "      <td>0.0</td>\n",
       "      <td>0.0</td>\n",
       "      <td>0.0</td>\n",
       "      <td>0.0</td>\n",
       "      <td>0.0</td>\n",
       "      <td>0.0</td>\n",
       "    </tr>\n",
       "    <tr>\n",
       "      <th>3</th>\n",
       "      <td>0.0</td>\n",
       "      <td>1.0</td>\n",
       "      <td>0.0</td>\n",
       "      <td>0.0</td>\n",
       "      <td>0.0</td>\n",
       "      <td>0.0</td>\n",
       "      <td>0.0</td>\n",
       "      <td>0.0</td>\n",
       "      <td>0.0</td>\n",
       "      <td>1</td>\n",
       "      <td>...</td>\n",
       "      <td>0.0</td>\n",
       "      <td>0.0</td>\n",
       "      <td>0.0</td>\n",
       "      <td>0.0</td>\n",
       "      <td>0.0</td>\n",
       "      <td>0.0</td>\n",
       "      <td>0.0</td>\n",
       "      <td>0.0</td>\n",
       "      <td>0.0</td>\n",
       "      <td>0.0</td>\n",
       "    </tr>\n",
       "    <tr>\n",
       "      <th>4</th>\n",
       "      <td>0.0</td>\n",
       "      <td>1.0</td>\n",
       "      <td>0.0</td>\n",
       "      <td>0.0</td>\n",
       "      <td>0.0</td>\n",
       "      <td>0.0</td>\n",
       "      <td>0.0</td>\n",
       "      <td>0.0</td>\n",
       "      <td>0.0</td>\n",
       "      <td>1</td>\n",
       "      <td>...</td>\n",
       "      <td>0.0</td>\n",
       "      <td>0.0</td>\n",
       "      <td>0.0</td>\n",
       "      <td>0.0</td>\n",
       "      <td>0.0</td>\n",
       "      <td>0.0</td>\n",
       "      <td>0.0</td>\n",
       "      <td>0.0</td>\n",
       "      <td>0.0</td>\n",
       "      <td>0.0</td>\n",
       "    </tr>\n",
       "  </tbody>\n",
       "</table>\n",
       "<p>5 rows × 51 columns</p>\n",
       "</div>"
      ],
      "text/plain": [
       "   label:LYING_DOWN  label:SITTING  label:FIX_walking  label:FIX_running  \\\n",
       "0               0.0            1.0                0.0                0.0   \n",
       "1               0.0            1.0                0.0                0.0   \n",
       "2               0.0            1.0                0.0                0.0   \n",
       "3               0.0            1.0                0.0                0.0   \n",
       "4               0.0            1.0                0.0                0.0   \n",
       "\n",
       "   label:BICYCLING  label:SLEEPING  label:LAB_WORK  label:IN_CLASS  \\\n",
       "0              0.0             0.0             0.0             0.0   \n",
       "1              0.0             0.0             0.0             0.0   \n",
       "2              0.0             0.0             0.0             0.0   \n",
       "3              0.0             0.0             0.0             0.0   \n",
       "4              0.0             0.0             0.0             0.0   \n",
       "\n",
       "   label:IN_A_MEETING  label:LOC_main_workplace  ...  label:STAIRS_-_GOING_UP  \\\n",
       "0                 0.0                         1  ...                      0.0   \n",
       "1                 0.0                         1  ...                      0.0   \n",
       "2                 0.0                         1  ...                      0.0   \n",
       "3                 0.0                         1  ...                      0.0   \n",
       "4                 0.0                         1  ...                      0.0   \n",
       "\n",
       "   label:STAIRS_-_GOING_DOWN  label:ELEVATOR  label:OR_standing  \\\n",
       "0                        0.0             0.0                0.0   \n",
       "1                        0.0             0.0                0.0   \n",
       "2                        0.0             0.0                0.0   \n",
       "3                        0.0             0.0                0.0   \n",
       "4                        0.0             0.0                0.0   \n",
       "\n",
       "   label:AT_SCHOOL  label:PHONE_IN_HAND  label:PHONE_IN_BAG  \\\n",
       "0              0.0                  0.0                 0.0   \n",
       "1              0.0                  0.0                 0.0   \n",
       "2              0.0                  0.0                 0.0   \n",
       "3              0.0                  0.0                 0.0   \n",
       "4              0.0                  0.0                 0.0   \n",
       "\n",
       "   label:PHONE_ON_TABLE  label:WITH_CO-WORKERS  label:WITH_FRIENDS  \n",
       "0                   0.0                    0.0                 0.0  \n",
       "1                   0.0                    0.0                 0.0  \n",
       "2                   0.0                    0.0                 0.0  \n",
       "3                   0.0                    0.0                 0.0  \n",
       "4                   0.0                    0.0                 0.0  \n",
       "\n",
       "[5 rows x 51 columns]"
      ]
     },
     "execution_count": 44,
     "metadata": {},
     "output_type": "execute_result"
    }
   ],
   "source": [
    "labels_data.head()"
   ]
  },
  {
   "cell_type": "code",
   "execution_count": 48,
   "metadata": {},
   "outputs": [
    {
     "data": {
      "text/plain": [
       "(10, 51)"
      ]
     },
     "execution_count": 48,
     "metadata": {},
     "output_type": "execute_result"
    }
   ],
   "source": [
    "labels_data.iloc[:10,:].to_numpy().shape"
>>>>>>> 1f28cb82c557aa9eb045c3a05cc9f11c3167a865
   ]
  },
  {
   "cell_type": "markdown",
   "metadata": {},
   "source": [
    "### Visualize data before normalization"
   ]
  },
  {
   "cell_type": "code",
<<<<<<< HEAD
   "execution_count": 17,
=======
   "execution_count": 18,
>>>>>>> 1f28cb82c557aa9eb045c3a05cc9f11c3167a865
   "metadata": {},
   "outputs": [
    {
     "data": {
<<<<<<< HEAD
      "image/png": "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\n",
=======
      "image/png": "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\n",
>>>>>>> 1f28cb82c557aa9eb045c3a05cc9f11c3167a865
      "text/plain": [
       "<Figure size 936x432 with 4 Axes>"
      ]
     },
<<<<<<< HEAD
     "metadata": {
      "needs_background": "light"
     },
=======
     "metadata": {},
>>>>>>> 1f28cb82c557aa9eb045c3a05cc9f11c3167a865
     "output_type": "display_data"
    }
   ],
   "source": [
    "plt.figure(figsize = (13, 6))\n",
    "plt.title('Unnormalizaed data')\n",
    "for i in range(4): \n",
    "    ax = plt.subplot(1, 4, i+1)\n",
    "    row_i = sensor_data.iloc[i,:].to_numpy().reshape(12, 15)\n",
    "    ax.imshow(row_i)"
   ]
  },
  {
   "cell_type": "markdown",
   "metadata": {},
   "source": [
    "### Normalize the data"
   ]
  },
  {
   "cell_type": "code",
<<<<<<< HEAD
   "execution_count": 18,
=======
   "execution_count": 19,
>>>>>>> 1f28cb82c557aa9eb045c3a05cc9f11c3167a865
   "metadata": {},
   "outputs": [],
   "source": [
    "def normalize_data(data):\n",
    "    norm_data = pd.DataFrame() \n",
    "    for col in data.columns: \n",
    "        col_mean = data[col].mean()\n",
    "        col_std = data[col].std()\n",
    "        norm_data[col] = (data[col] - col_mean)/col_std\n",
    "    return norm_data\n",
    "\n",
    "norm_sensor_data = normalize_data(sensor_data)"
   ]
  },
  {
   "cell_type": "markdown",
   "metadata": {},
   "source": [
    "### Visualize the data after normalization"
   ]
  },
  {
   "cell_type": "code",
<<<<<<< HEAD
   "execution_count": 19,
=======
   "execution_count": 20,
>>>>>>> 1f28cb82c557aa9eb045c3a05cc9f11c3167a865
   "metadata": {},
   "outputs": [
    {
     "data": {
<<<<<<< HEAD
      "image/png": "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\n",
=======
      "image/png": "iVBORw0KGgoAAAANSUhEUgAAAvcAAACdCAYAAAAwj1euAAAABHNCSVQICAgIfAhkiAAAAAlwSFlzAAALEgAACxIB0t1+/AAAADh0RVh0U29mdHdhcmUAbWF0cGxvdGxpYiB2ZXJzaW9uMy4yLjEsIGh0dHA6Ly9tYXRwbG90bGliLm9yZy+j8jraAAAcDElEQVR4nO3de5Bc9Xnm8eed7rlLGkYS6IqwBCKAMQYiIMJrEiNsg0PAzq4xdi6s44S9xJfYcWxnk13XZlMJ2craobJe12qJA7EdvC7H1+AYE5xaQmIDI6CwQCCBBEI3dL/MjObS3b/9g3GVUJB4znSPuvuc76eK0mh4efuc00//+jdNT7+RUhIAAACA9tfR7AMAAAAA0Bhs7gEAAICcYHMPAAAA5ASbewAAACAn2NwDAAAAOcHmHgAAAMiJ8qm8sVJ/f+ocnNvYplk+yTPMlqUMLasZbt9kn1K58R9jGpPmRZKU/FL/9u0b93uO79i2N6V0+nSOp17lvv7UOeBlPmozfDAnUe30a8O89lkeGx0Vr67a7fd0M+Le9kxxH0fudZeko3ual/nSrP5UntvgdT4LdxHJckFdNX9R7Jg0W3ZnOE43TFmet8znmY6yv4DVJs3XFTNcz4ltzcu8JJVm96fyvEGv2L1LszzJdnhNo+Tnyf6k9Az3U2nEq63N8fNkH2dlBl7PzrSOuJtQr6yyf7+qw69+Qeva3EfEtZJul1SSdEdK6baT1XcOztWZv/lRq7e7wY4MT8zJvF8rA36oykfMplnWZ/c4BzOcvPnA79rp7/JqbmmG9cndEGbZCD/7e7/9gl/9GrebNfMDc7X8/R+zepdHzYOYgT3JyBK/qbsZ7j7g3/Hd+73bP7zCbqnShHf73fv8nh1V7zhrJf/c3cdRlh9CnvifH2tY5qVsuS/PnatFn/xII28+W+bdJbk7wyLibpxG/FeGend6taNnT9g9Y9zrWXKft+Q/z8xZMGz3PLxrtlVXOuJfzy0fb9w6L2Vf68vzBrXwP3/Ya1711oeOMf9+qvV5T549g2N2z4lxb4tYG/G3kvMe9mqH3+7nqVrxclLdm+HVIXcfnuFF1jDvd3e92/knt5/w3037x5iIKEn6nKTrJF0g6b0RccF0+wGtjsyjiMg9iobMo93V8/8oLpf0bEppc0ppQtJXJN3YmMMCWhKZRxGRexQNmUdbq2dzv0TSi8f8fdvU94C8IvMoInKPoiHzaGsz/mk5EXFrRAxFxFB1ZGSmbw5oumMzXxkl88i/V6zzw/57ZYF29orcH2GtR+uoZ3O/XdKZx/x96dT3XiGltDaltCqltKrU31/HzQFNlznz5T4yj7b3mrl/xTo/a9YpPThgBmTf38xmrUfrqGdz/4iklRGxPCK6JN0s6duNOSygJZF5FBG5R9GQebS1aX8UZkqpEhEflHSvXv6oqC+klJ5s2JEBLYbMo4jIPYqGzKPd1fU59yml70r6boOOBWh5ZB5FRO5RNGQe7eyUTqhVTeowB8skc4ra+BJzzJ+kcz8wZNVt/Pzlds+aO2wrwxCWar83XOWC2/bYPX/xnh9ZdV//+Z+xe2746AKvMMskW3euzEyMx50BpXFpYLN3UqOne++SO/jT/lCb8z7j/XLjzrf4E0Un5nh1WSY9H13g3Z8l/9T1tnc+bNVtXOO/V/a5j3sfdV3LMtjELWziBONMSkma7Q0+Ku/osupqZ/mDd/qHeq268UH/XanjZ5jT9TK80XV0pRfmJYv32z33rPPW5K6D/vo5usS7L4eHe+yeHbO85+3U7z+/N1tMhHq2eRPpxs7y7vvVF220b/+R+8+36iZG/PUuDZrXv9Nf7/a9yesZu/rsnp+57stW3e/95a/aPWuXHLHqOjubN+K8o+vE69KMf1oOAAAAgFODzT0AAACQE2zuAQAAgJxgcw8AAADkBJt7AAAAICfY3AMAAAA5weYeAAAAyAk29wAAAEBOsLkHAAAAcuKUTqhNJWliwBuz6E63jKP+GMzn/3C1Vde925/e95/e81Wr7sejZ9o9R6rdVt3977/E7nnHf3unVVf98312z87HvJ8N/+gmb3qcJP3O999rVmYY+dtElR7pwErvOiVvuKG6tpuFkvZeNmjVlUf963nofG9a5+o3brJ7rujfa9V9d6s3IVaSnrnlHKtuy1r/evb+o7c2DN6w3e65994lVl2WKddNlaRU8a5TZcm417Pa+InUVW84riTpxsseteq2jniPN0n6pYUPWXUbxhbbPf/qUW9C7c/etM7uuXrOs1bd7z/4LrtnR7e3hqRDGe6kJks9SeNne5OUSyXvwbxuu79v6NnnPUZG/EHCOm2eN6X1Ly78ot3z4m5vf/P4uLk2SPr1P/wtq+7ff+weu+cXn7/cqvvkynvtnp+4531WXZgDsWvjJ97/8so9AAAAkBPT3txHxJkR8Q8R8VREPBkRH2nkgQGthsyjiMg9iobMo93V87aciqTfTik9GhGzJa2LiPtSSk816NiAVkPmUUTkHkVD5tHWpv3KfUppZ0rp0amvj0jaIMl78yjQhsg8iojco2jIPNpdQ95zHxGvk3SJJO83hIA2R+ZRROQeRUPm0Y7q3txHxCxJfyPpt1JKh1/l398aEUMRMVQdGan35oCmI/MoopPl/hWZHybzyIdMa/1hco/WUdfmPiI69XLwv5xS+vqr1aSU1qaUVqWUVpX6++u5OaDpyDyK6LVy/4rMzyLzaH+Z1/o55B6to55PywlJfyFpQ0rpM407JKA1kXkUEblH0ZB5tLt6Xrl/k6RfkXR1RDw+9c87GnRcQCsi8ygico+iIfNoa9P+KMyU0oOSGj82EGhRZB5FRO5RNGQe7a6ez7nPLJJUPuo9XibmV7yeYycev3u8Sr838vmM83bbPZd0HrDqPnvHTXbPle97xqqbnFuze+662ptnHJvn2j0vvsobS/7lXVfYPVdd7PXcfOe5ds8X7MrGi/TyP44JM592Q0lj8xs/hLrvRW/Z2P3V5XbPoWvPm+7hnNChX/OuU+cG/xqNLvJ6Hn14sd0zzfN6dkzaLZsrheIkY9GPVerz1vnqpH8fDf/0Uauud32v3fOZN3d5df9rmd3zqV0LrbpqxX+Oqy4dt+rueeINds97e8+36rpne7ctSaWS99zVM+D/kmoz13lJKpWqGhwctmo7zfM/crTbvv2Ry0etuqr52JQkfWeeVfaLWz9st1x6jre/2rlvwO5Zu9BbQ//ssavtnovmH7Lqbt+yxu655IKXrLode0/zGnaeOEeNf+YHAAAA0BRs7gEAAICcYHMPAAAA5ASbewAAACAn2NwDAAAAOcHmHgAAAMgJNvcAAABATrC5BwAAAHKCzT0AAACQE6d0Qm3qkCbneJPZygfNQ8swIDqZtXueOt3u+e/W32rVxTJ/qugj68+26np3+pPmnvqP/9uqW37Pb9g9N/xgpVVX6fXPPZ3pTZesrvIm7kqS/o9fOiPM01/xDW/C4I4399dxMCeQ4XHU4Q0V1fhgp91z8QNmUz9K2nqzl5H5/+wf56EV3mNu+Gx/nOysTd7tD18wYfdsF0u+5J371mszvA5V88I8usRfQ57544usuoFH/OP81idvt+p+4X98wu45dqU3IbW0cZbdM3V403njosN2z+5O7/E+p8efetts1WqHDh4012Zzva1NZJgm666NGdb6/Zd761h0efs6Sfrk2X9n1f2XiRvsnsvP3GbVPf23/mT7nQu96cCrr3ja7vnQ86+z6jpK3toUJ7kveeUeAAAAyAk29wAAAEBO1L25j4hSRDwWEX/biAMCWh2ZR9GQeRQRuUe7asQr9x+RtKEBfYB2QeZRNGQeRUTu0Zbq2txHxFJJPy/pjsYcDtDayDyKhsyjiMg92lm9r9z/maRPSDrhr0pHxK0RMRQRQ9Vh7zf5gRaWKfOV0ZFTd2TAzGCdRxFly/1h1nq0jmlv7iPiekm7U0rrTlaXUlqbUlqVUlpVmuV//BbQaqaT+XLfDHxsJXCKsM6jiKaV+zms9Wgd9bxy/yZJN0TE85K+IunqiPhSQ44KaE1kHkVD5lFE5B5tbdqb+5TS76aUlqaUXifpZkk/SCn9csOODGgxZB5FQ+ZRROQe7Y7PuQcAAAByIlLKMM+9Tm98Y1e697vzrdo1f/47Vt2sbf7Y45dWm+ea5ZLMwI9HMenNh17wI7/nkbO8A61lmHbd4U2m1pyt/n3kShmu+0N3f3xdSmlVww/CMCfmpitijVV7747HrbprfunX7NvfcWWPVRdZMm/WdngTtF9mRmTRD0ftlodW9Fp1KVPmvZOf8/yY39SUMoyN/8E//n6uMv+Oq95l3/4zv7nAK8yQeffxkSVLUfHqupcfsXuOjXZZde+58KRvJX+FZd37rLrPb7zK7lmteQt4peIv9Jve/emmZV7Klvv/utm7/u//qw/Ztz9x9lG71pXMRSdluJ+i7C32SxccsHvueGKhVVfOcIkqfd6D/pxLX7R7jlfLVt1Yxatb/6G7NLJx56veSbxyDwAAAOQEm3sAAAAgJ9jcAwAAADnB5h4AAADICTb3AAAAQE6wuQcAAABygs09AAAAkBNs7gEAAICcYHMPAAAA5IQ3BqtBNu1coLff9jGrdvbexk817Zg7YdWl3d12z9psc0zrmD+6cPl5O626XbuX2j3Pf8dGq+6xR86xew5u8KbXHbhp2O7Z+eAcqy6yTD9totpp/Rpdc4VV+7Z3X2zVdbjjXCVNzPVqe/b4P+dPDHiT+0pj/kjVyXO90YEH93pTZyVp5BcOW3Xx8IDdc96TXvCefZ+/hix8wLtOHdVTN028HtHZqfLCJVbtpUM/ZdVV/9TP52l/Z07VzPDSVurwek7O9nt2moNnR8/0nzsG/smbSP1/911p9+zd6V2oJf/PX+efv77fqps43Rzj2wLGl/Vp4+9ebtX+wQuLrbplb95q3/6u7yyz6rLk3jXpPW1LksojXt2Lo6fbPXsPeY/Poyu8PaAk9bzgTXuu/IE5EVvSi9d7Pcsj3p1UHTnxFp5X7gEAAICcYHMPAAAA5ERdm/uIOC0ivhYRT0fEhohY3agDA1oRmUcRkXsUDZlHO6v3Pfe3S/peSunfRESXpL4GHBPQysg8iojco2jIPNrWtDf3ETEg6SpJ/1aSUkoTkvzfVgDaDJlHEZF7FA2ZR7ur5205yyXtkfSXEfFYRNwREf/iV+Aj4taIGIqIocpR89ekgdaUOfOT4/4nSAAt6jVzf2zmJ2reJx8BLSzzWl8dZn+D1lHP5r4s6VJJn08pXSJpRNKnji9KKa1NKa1KKa0q93offwW0qMyZ7+yedaqPEWi018z9sZnv6vA/rhRoUZnX+tIs9jdoHfVs7rdJ2pZSemjq71/Tyw8GIK/IPIqI3KNoyDza2rQ39ymlXZJejIifTCFZI+mphhwV0ILIPIqI3KNoyDzaXb2flvMhSV+e+k3yzZLeX/8hAS2NzKOIyD2KhsyjbdW1uU8pPS5plf0fhJTMSdrdv77Tqit31OybP33CG/0b3/HHHh9c6Y2ZjwxTtF885I1uT6f54+h3fO4cq67zfP9/5oyaU5cnnvffdz652Dun+Y/5595I08l8zcz8c//BG6EdHf65V8cnrbpF3/QfRwfO80bcR8U/zolD3vu0x+baLbX4s51W3b43+Mc5stC7M/u3ePelJA0v9eoWPNy8X1TNkvuxM7q08YPLrL6L11aturFB80EkqfaefVZdV9lflK9Z9IxV96O9y+2e1y1cb9UdqPjv5f5m90VWXV/y85mWebXja/xfKH33GY9ZdX+z6WK7Z6NlXeujEure6+X0wJi33h18yHySldRl3qXX/8qDds/fmPvPVt0f7Xq73fPBrSusuksW7LJ77l/hPUb2jfifZjrR73040nOLvOdDSZq7ZL9V19PprU07vnji53cm1AIAAAA5weYeAAAAyAk29wAAAEBOsLkHAAAAcoLNPQAAAJATbO4BAACAnGBzDwAAAOQEm3sAAAAgJ9jcAwAAADnB5h4AAADIifKpvLFaSZqY49Xu/sESr2e3f/vhTTpX9V3Dds9SqWbeuD/ivtOsSxlGiO9dZo5vz3Cc5pkrav7PkLWad077lpl3piT9tV/aaLWSND7gnf+8v/fGWFf8adfqMC/Tc+92701JHW7m/ZY2P54aOdO8UBkyb0t+T3dd2vyvMyx2D/iljVYalwY2ebUji7x1qZbhmar69/Otur0XeePlJelLey636kpl/3H0+b1XWXXVqr9+dnZ6YYoMmXefZ3YdnG33/Oq+S626snk+raCjIvXu9q7V6PcWWHWd5tO25D8vfPO5i+ye97zwequuu7Ni9zxt1qhV99KonyfXQO+YX9zrlVXnjNgtK1XvDm3EUyev3AMAAAA5UdfmPiI+GhFPRsT6iLg7IjK8pgi0HzKPIiL3KBoyj3Y27c19RCyR9GFJq1JKF0oqSbq5UQcGtBoyjyIi9ygaMo92V+/bcsqSeiOiLKlP0o76DwloaWQeRUTuUTRkHm1r2pv7lNJ2SX8qaauknZIOpZS+f3xdRNwaEUMRMVQd9X/xAGg108l8ZYzMo705uSfzyJNprfVHyT1aRz1vyxmUdKOk5ZIWS+qPiF8+vi6ltDaltCqltKrU1z/9IwWabDqZL/eQebQ3J/dkHnkyrbW+l9yjddTztpxrJG1JKe1JKU1K+rqkKxtzWEBLIvMoInKPoiHzaGv1bO63SvqZiOiLiJC0RtKGxhwW0JLIPIqI3KNoyDzaWj3vuX9I0tckPSrpx1O91jbouICWQ+ZRROQeRUPm0e7qmlCbUvq0pE/b/0FvTZULvemvyZxqWnvJ/+jZxQ94U/n2V2bZPZM5Qa7alWEKpjkRsNbd+CmYV65Zb/d8aNtZVl3tKf+9iOWqd+6V3hmYKmrImvlqr7T/Dd6xuvdR727/Z/KFD3kT+aLiTz9N5qpR7fTn7IU50bXanaGneT073rrP7nnwxdOsuoGnMoyWNNW6Gt7SliX3tYGqRq87YvV1J1JP7O6z6iRp8Anv8dGz1b+g7jDwWoZ13q7s9HtWzPXz6rc8bvf84Y7XWXVjT3uPDUn2ePOJLM+bDZZ1re8YmFT/9bus2qo79XeXf03nP+Dl+eCz/uTXcXOPcaTU+P1N6vanPYeZ+w/+7H12z3t2XWjVbdmwyO6ZyuZ1MtebyfETPxkzoRYAAADICTb3AAAAQE6wuQcAAABygs09AAAAkBNs7gEAAICcYHMPAAAA5ASbewAAACAn2NwDAAAAOcHmHgAAAMgJNvcAAABATpiD5BtkvEPa0u/VmuN3swx5f+kKd3S9P0p5YGOGAzDtu6Rq1S09d7fdc2Si06p79k8usHvGed7Vr8z1r+eye8etupcu67Z7NlPHuDR7s/kztBvPDPZc3OMVZpge3nnEK+6o+k1Hrxm26sZ39dk9+7Z5+Zx996Dd8/x/2GLVDV92lt3zyFLvOGdtz3AnNVEaL2liizniPswsZbj9QyvdSv96du/3HpwpwxNSdcVRr27Uf5oeXOet80/+94vsnvOOeM9HL9xQs3umbq/nnPVdds9mmxwva/uW+V7xDKz1e1dXvMKaf+MDT3rZO3yud39K0g1vGrLqjla9LEvS9594vVX3pc+93e7Zu89bH2K13VIamLTK0nD9W3NeuQcAAABy4jU39xHxhYjYHRHrj/ne3Ii4LyI2Tf3pv/QFtAFyj6Ih8ygaMo+8cl65v1PStcd971OS7k8prZR0/9TfgTy5U+QexXKnyDyK5U6ReeTQa27uU0oPSNp/3LdvlHTX1Nd3SXpng48LaCpyj6Ih8ygaMo+8mu577heklHZOfb1L0oITFUbErRExFBFD1ZGRad4c0BKs3L8i80fJPNpa9syzzqO9TW9/M0zu0Trq/oXalFLSST52IKW0NqW0KqW0qtRvflIO0OJOlvtXZL6XzCMf7MyzziMnMu1vZpF7tI7pbu5fiohFkjT1p/+ZjED7IvcoGjKPoiHzaHvT3dx/W9ItU1/fIulbjTkcoKWRexQNmUfRkHm0PeejMO+W9ENJPxUR2yLiA5Juk/TWiNgk6ZqpvwO5Qe5RNGQeRUPmkVevOQYrpfTeE/yrNVlvLKpS1yFvOlrVHEzXeekB+/ZHNg9YdbU+f9Le3tXmFLMJ/3+SpF5v2tu2p0/4ez7/Utk7zoNX+dPrYsGoV7jTnJIqadsa745P5mTL6WpY7jukqnn6Z6zzpvMeXu5PbTw637s/axkGQVb6vJ5lbwCnJKn/e7Osup6eDKMdzdLxAb/nznetsOpSKcNxmsvN6BkzMNbyGI3KfHTVVD7LmzicnvHu987XH7Zvf+Rgr1V3/vIdds/xqjcxcl6P/0uV+8a892gfHvPXz32rvevZffohu+eew95xvnX5JrvnhgMLrbqRBf6UUn3WL/2Jhu5vykk9871Fb3yHd01Tt78XKR8wp5pmeOo8ssK7/dTpN73n/sususocf+pt+aA3GvrAG/yeh8a8PVsty320q9srdFtWT/ycwIRaAAAAICfY3AMAAAA5weYeAAAAyAk29wAAAEBOsLkHAAAAcoLNPQAAAJATbO4BAACAnGBzDwAAAOQEm3sAAAAgJ9jcAwAAADkRKWWYRVzvjUXskfTCcd+eL2nvKTuIUyNv59Tu53NWSun0ZtwwmW9b7X4+rZZ5qf2v6fHydj5Se59T0zIvFWatz9v5SO19TifM/Cnd3L/qAUQMpZRWNfUgGixv55S382m2PF7PvJ1T3s6nFeTtmubtfKR8nlMz5e165u18pHyek8TbcgAAAIDcYHMPAAAA5EQrbO7XNvsAZkDezilv59NsebyeeTunvJ1PK8jbNc3b+Uj5PKdmytv1zNv5SPk8p+a/5x4AAABAY7TCK/cAAAAAGqCpm/uIuDYinomIZyPiU808lkaIiOcj4scR8XhEDDX7eKYjIr4QEbsjYv0x35sbEfdFxKapPwebeYztLG+Zl9o/92R+ZpH51kPmZxaZb01Fyn3TNvcRUZL0OUnXSbpA0nsj4oJmHU8DvSWldHEbf7TSnZKuPe57n5J0f0pppaT7p/6OjHKceam9c3+nyPyMIPMt606R+RlB5lvanSpI7pv5yv3lkp5NKW1OKU1I+oqkG5t4PJCUUnpA0v7jvn2jpLumvr5L0jtP6UHlB5lvQWR+RpH5FkTmZxSZb1FFyn0zN/dLJL14zN+3TX2vnSVJ34+IdRFxa7MPpoEWpJR2Tn29S9KCZh5MG8tj5qV85p7MNwaZbx9kvjHIfHvJZe7LzT6AnPlXKaXtEXGGpPsi4umpnxRzI6WUIoKPWMKxcp17Mo9XQeZRNLnOvJSv3Dfzlfvtks485u9Lp77XtlJK26f+3C3pG3r5f8/lwUsRsUiSpv7c3eTjaVe5y7yU29yT+cYg8+2DzDcGmW8vucx9Mzf3j0haGRHLI6JL0s2Svt3E46lLRPRHxOyffC3pbZLWn/y/ahvflnTL1Ne3SPpWE4+lneUq81Kuc0/mG4PMtw8y3xhkvr3kMvdNe1tOSqkSER+UdK+kkqQvpJSebNbxNMACSd+ICOnl6/rXKaXvNfeQsouIuyX9nKT5EbFN0qcl3SbpqxHxAUkvSLqpeUfYvnKYeSkHuSfzM4fMtyYyP3PIfOsqUu6ZUAsAAADkBBNqAQAAgJxgcw8AAADkBJt7AAAAICfY3AMAAAA5weYeAAAAyAk29wAAAEBOsLkHAAAAcoLNPQAAAJAT/x/8PZDP+TiMdgAAAABJRU5ErkJggg==\n",
>>>>>>> 1f28cb82c557aa9eb045c3a05cc9f11c3167a865
      "text/plain": [
       "<Figure size 936x432 with 4 Axes>"
      ]
     },
<<<<<<< HEAD
     "metadata": {
      "needs_background": "light"
     },
=======
     "metadata": {},
>>>>>>> 1f28cb82c557aa9eb045c3a05cc9f11c3167a865
     "output_type": "display_data"
    }
   ],
   "source": [
    "plt.figure(figsize = (13,6))\n",
    "plt.title('Normalized data')\n",
    "for i in range(4): \n",
    "    ax = plt.subplot(1,4,i+1)\n",
    "    row_i = norm_sensor_data.iloc[i,:].to_numpy().reshape(12,15)\n",
    "    plt.imshow(row_i)"
   ]
  },
  {
   "cell_type": "code",
<<<<<<< HEAD
   "execution_count": 20,
=======
   "execution_count": 21,
>>>>>>> 1f28cb82c557aa9eb045c3a05cc9f11c3167a865
   "metadata": {},
   "outputs": [],
   "source": [
    "# min_dim = 1e10\n",
    "# for idx in range(len(final_files)): \n",
    "#     raw_data = pd.read_csv('.'+final_files[idx]+'.csv')\n",
    "#     if min_dim > raw_data.shape[0]: \n",
    "#         min_dim = raw_data.shape[0]\n",
    "\n",
    "# print(min_dim)\n",
    "\n",
    "# new_file_list = [] \n",
    "\n",
    "# for idx in range(len(final_files)): \n",
    "#     raw_data1 = pd.read_csv('.'+final_files[idx]+'.csv')\n",
    "#     if min_dim < raw_data1.shape[0]: \n",
    "        \n",
    "        \n",
    "#         sensor_data = raw_data1.iloc[:,acc_gyr_ind]\n",
    "#         sensor_data.dropna(inplace = True)\n",
    "#         x = sensor_data.shape[0]\n",
    "        \n",
    "#         print(final_files[idx])\n",
    "#         if x == 0:\n",
    "#             continue \n",
    "#         sensor_data_sample = sensor_data.sample(min_dim,random_state=1)\n",
    "#         new_file_list.append(final_files[idx])\n",
    "#         print(x)"
   ]
  },
  {
   "cell_type": "markdown",
   "metadata": {},
   "source": [
    "### Define helper functions for image manipulation"
   ]
  },
  {
   "cell_type": "code",
<<<<<<< HEAD
   "execution_count": 21,
=======
   "execution_count": 22,
>>>>>>> 1f28cb82c557aa9eb045c3a05cc9f11c3167a865
   "metadata": {},
   "outputs": [],
   "source": [
    "# Construct 2D image \n",
    "def reshape_img(tensor,w,h):\n",
    "    return tensor.reshape([w,h])\n",
    "\n",
    "# min-max normalization  \n",
    "def min_max_norm(tensor, min_value, max_value):\n",
    "    min_val = tensor.min()\n",
    "    tensor = (tensor - min_val)\n",
    "    max_val = tensor.max()\n",
    "    tensor = tensor / max_val\n",
    "    tensor = tensor * (max_val - min_val) + min_val\n",
    "    return tensor "
   ]
  },
  {
   "cell_type": "markdown",
   "metadata": {},
   "source": [
    "### Create a SensorDataset class that can be used to store the data"
   ]
  },
  {
   "cell_type": "code",
<<<<<<< HEAD
   "execution_count": 22,
=======
   "execution_count": 49,
>>>>>>> 1f28cb82c557aa9eb045c3a05cc9f11c3167a865
   "metadata": {},
   "outputs": [],
   "source": [
    "class SensorDataset(Dataset): \n",
    "    \n",
<<<<<<< HEAD
    "    def __init__(self, sensor_data, rows, transform):\n",
=======
    "    def __init__(self, sensor_data, rows, transform,labels_data=None):\n",
>>>>>>> 1f28cb82c557aa9eb045c3a05cc9f11c3167a865
    "        \"\"\"provide directory with the user's data\"\"\"\n",
    "        self.sensor_data = sensor_data\n",
    "        self.rows = rows\n",
    "        self.transform = transform\n",
<<<<<<< HEAD
=======
    "        self.labels_data = labels_data\n",
>>>>>>> 1f28cb82c557aa9eb045c3a05cc9f11c3167a865
    "        \n",
    "    def __len__(self):\n",
    "        return len(self.rows)\n",
    "        \n",
    "    # This function can be used to index into the dataset\n",
    "    def __getitem__(self, idx):\n",
    "        if torch.is_tensor(idx):\n",
    "            idx = idx.tolist()\n",
    "                 \n",
    "#         rd = pd.read_csv('.'+self.file_name+'.csv')\n",
    "#         sd = rd.iloc[:,1:226]\n",
    "#         sd[sd.columns]=sd[sd.columns].fillna(sd.mode().iloc[0])\n",
    "#         sd.dropna(inplace = True, axis = 'columns' )\n",
    "        \n",
    "#         n_sd = pd.DataFrame()\n",
    "#         for col in sd.columns: \n",
    "#             col_mean = sd[col].mean()\n",
    "#             col_std = sd[col].std()\n",
    "#             n_sd[col] = (sd[col] - col_mean)/col_std\n",
    "        sample =  self.sensor_data.iloc[idx,:]\n",
<<<<<<< HEAD
=======
    "        labels =  self.labels_data.iloc[idx,:]\n",
>>>>>>> 1f28cb82c557aa9eb045c3a05cc9f11c3167a865
    "        \n",
    "        if self.transform:\n",
    "            # Transform to tensor\n",
    "            sample = self.transform(sample.to_numpy().reshape(12,15))\n",
<<<<<<< HEAD
    "        return sample "
=======
    "\n",
    "        return sample,torch.from_numpy(labels.to_numpy())"
>>>>>>> 1f28cb82c557aa9eb045c3a05cc9f11c3167a865
   ]
  },
  {
   "cell_type": "markdown",
   "metadata": {},
   "source": [
    "### Define the batch size parameter"
   ]
  },
  {
   "cell_type": "code",
<<<<<<< HEAD
   "execution_count": 23,
=======
   "execution_count": 24,
>>>>>>> 1f28cb82c557aa9eb045c3a05cc9f11c3167a865
   "metadata": {},
   "outputs": [],
   "source": [
    "batch_size = 20"
   ]
  },
  {
   "cell_type": "markdown",
   "metadata": {},
   "source": [
    "### Create the training & test datasets"
   ]
  },
  {
   "cell_type": "code",
<<<<<<< HEAD
   "execution_count": 24,
   "metadata": {},
   "outputs": [],
   "source": [
    "def create_train_test_sets(norm_data):\n",
=======
   "execution_count": 50,
   "metadata": {},
   "outputs": [],
   "source": [
    "def create_train_test_sets(norm_data,labels=None):\n",
>>>>>>> 1f28cb82c557aa9eb045c3a05cc9f11c3167a865
    "    img_transform = transforms.Compose([\n",
    "        transforms.ToTensor()])\n",
    "    #     transforms.Lambda(lambda tensor:min_max_norm(tensor, 0, 1)),\n",
    "    #     transforms.Lambda(lambda tensor:reshape_img(tensor,11,20))\n",
    "\n",
    "    dataset_size = len(norm_data)\n",
<<<<<<< HEAD
    "\n",
=======
    "    if labels:\n",
    "        print(labels.shape)\n",
>>>>>>> 1f28cb82c557aa9eb045c3a05cc9f11c3167a865
    "    # Indexes for 0 -> 2/3 of dataset_size\n",
    "    row_train = [i for i in range(int(2*dataset_size/3))]\n",
    "\n",
    "    # Indexes for 2/3 dataset_size -> end\n",
    "    row_test = [i for i in range(int(2*dataset_size/3),dataset_size)] \n",
    "\n",
<<<<<<< HEAD
    "    train_data = SensorDataset(sensor_data = norm_data, rows = row_train, transform = img_transform)\n",
    "    test_data = SensorDataset(sensor_data = norm_data, rows = row_test, transform = img_transform)\n",
=======
    "    train_data = SensorDataset(sensor_data = norm_data, rows = row_train, transform = img_transform,labels_data=labels)\n",
    "    test_data = SensorDataset(sensor_data = norm_data, rows = row_test, transform = img_transform,labels_data=labels)\n",
>>>>>>> 1f28cb82c557aa9eb045c3a05cc9f11c3167a865
    "    train_loader = torch.utils.data.DataLoader(train_data, batch_size = batch_size, shuffle = True)\n",
    "    test_loader = torch.utils.data.DataLoader(test_data, batch_size = batch_size, shuffle=True)\n",
    "    \n",
    "    return train_data, test_data, train_loader, test_loader\n",
    "\n",
    "train_data_set, test_data_set, train_dataset_loader, test_dataset_loader = create_train_test_sets(norm_sensor_data)"
   ]
  },
  {
   "cell_type": "markdown",
   "metadata": {},
   "source": [
    "## Visualize the training data as images"
   ]
  },
  {
   "cell_type": "code",
   "execution_count": 25,
   "metadata": {},
   "outputs": [
    {
     "data": {
      "image/png": "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\n",
      "text/plain": [
       "<Figure size 720x576 with 24 Axes>"
      ]
     },
     "metadata": {},
     "output_type": "display_data"
    }
   ],
   "source": [
    "fig = plt.figure(figsize=(10, 8))\n",
    "count = 0 \n",
    "for i in range(24):\n",
    "    ax = plt.subplot(6,4,count+1)\n",
    "    \n",
    "    im = train_data_set[count]\n",
    "\n",
    "    ax.set_xticks([]) \n",
    "    ax.set_yticks([])\n",
    "    plt.imshow(im.numpy().squeeze() )\n",
    "    \n",
    "    count +=1\n",
    "fig.tight_layout(pad=1.0)"
   ]
  },
  {
   "cell_type": "markdown",
   "metadata": {},
   "source": [
    "## Process the data with an Autoencoder"
   ]
  },
  {
   "cell_type": "markdown",
   "metadata": {},
   "source": [
    "### Initialize the Autoencoder variables and hyperparameters"
   ]
  },
  {
   "cell_type": "code",
   "execution_count": 26,
   "metadata": {},
   "outputs": [],
   "source": [
    "seed = 42\n",
    "torch.manual_seed(seed)\n",
    "torch.backends.cudnn.benchmark = False\n",
    "torch.backends.cudnn.deterministic = True"
   ]
  },
  {
   "cell_type": "markdown",
   "metadata": {},
   "source": [
    "### Create Autoencoder class"
   ]
  },
  {
   "cell_type": "code",
   "execution_count": 27,
   "metadata": {},
   "outputs": [],
   "source": [
    "class Autoencoder(nn.Module):\n",
    "    def __init__(self, **kwargs):\n",
    "        super().__init__()\n",
    "        \n",
    "        self.encoder = nn.Sequential(\n",
    "            nn.Linear(in_features=kwargs[\"input_shape\"],out_features=100),\n",
    "            nn.ReLU(True),\n",
    "            nn.Linear(100, 64),\n",
<<<<<<< HEAD
    "            nn.ReLU(True))\n",
    "        self.decoder = nn.Sequential(\n",
=======
    "            nn.ReLU(True),\n",
    "            nn.Linear(64, 32),\n",
    "            nn.ReLU(True),\n",
    "            nn.Linear(32, 16),\n",
    "            nn.ReLU(True)\n",
    "        )\n",
    "        self.decoder = nn.Sequential(\n",
    "            nn.Linear(16, 32),\n",
    "            nn.ReLU(True),\n",
    "            nn.Linear(32, 64),\n",
    "            nn.ReLU(True),\n",
>>>>>>> 1f28cb82c557aa9eb045c3a05cc9f11c3167a865
    "            nn.Linear(64, 100),\n",
    "            nn.ReLU(True),\n",
    "            nn.Linear(in_features= 100, out_features=kwargs[\"input_shape\"]))\n",
    "\n",
    "    def forward(self, x):\n",
    "        x = self.encoder(x)\n",
    "        x = self.decoder(x)\n",
<<<<<<< HEAD
    "        return x"
=======
    "        return x\n",
    "    def forward_encoder_only(self,x):\n",
    "        return self.encoder(x)"
>>>>>>> 1f28cb82c557aa9eb045c3a05cc9f11c3167a865
   ]
  },
  {
   "cell_type": "code",
   "execution_count": 28,
   "metadata": {},
   "outputs": [],
   "source": [
<<<<<<< HEAD
    "class Autoencoder_EncodeOnly(nn.Module):\n",
    "    def __init__(self, **kwargs):\n",
    "        super().__init__()\n",
    "        \n",
    "        self.encoder = nn.Sequential(\n",
    "            nn.Linear(in_features=kwargs[\"input_shape\"],out_features=100),\n",
    "            nn.ReLU(True),\n",
    "            nn.Linear(100, 64),\n",
    "            nn.ReLU(True))\n",
    "        self.decoder = nn.Sequential(\n",
    "            nn.Linear(64, 100),\n",
    "            nn.ReLU(True),\n",
    "            nn.Linear(in_features= 100, out_features=kwargs[\"input_shape\"]))\n",
    "\n",
    "    def forward(self, x):\n",
    "        x = self.encoder(x)\n",
    "        return x"
=======
    "# class Autoencoder_EncodeOnly(nn.Module):\n",
    "#     def __init__(self, **kwargs):\n",
    "#         super().__init__()\n",
    "        \n",
    "#         self.encoder = nn.Sequential(\n",
    "#             nn.Linear(in_features=kwargs[\"input_shape\"],out_features=100),\n",
    "#             nn.ReLU(True),\n",
    "#             nn.Linear(100, 64),\n",
    "#             nn.ReLU(True))\n",
    "#         self.decoder = nn.Sequential(\n",
    "#             nn.Linear(64, 100),\n",
    "#             nn.ReLU(True),\n",
    "#             nn.Linear(in_features= 100, out_features=kwargs[\"input_shape\"]))\n",
    "\n",
    "#     def forward(self, x):\n",
    "#         x = self.encoder(x)\n",
    "#         return x"
>>>>>>> 1f28cb82c557aa9eb045c3a05cc9f11c3167a865
   ]
  },
  {
   "cell_type": "markdown",
   "metadata": {},
   "source": [
    "### Leverage GPU, if available"
   ]
  },
  {
   "cell_type": "code",
   "execution_count": 29,
   "metadata": {},
   "outputs": [],
   "source": [
    "device = torch.device(\"cuda\" if torch.cuda.is_available() else \"cpu\")"
   ]
  },
  {
   "cell_type": "markdown",
   "metadata": {},
   "source": [
    "### Define the input shape"
   ]
  },
  {
   "cell_type": "code",
   "execution_count": 30,
   "metadata": {},
   "outputs": [],
   "source": [
    "input_shape = 180\n",
    "input_shape_s1 = 12\n",
    "input_shape_s2 = 15"
   ]
  },
  {
   "cell_type": "markdown",
   "metadata": {},
   "source": [
    "### Create an autoencoder instance"
   ]
  },
  {
   "cell_type": "code",
   "execution_count": 31,
   "metadata": {},
   "outputs": [],
   "source": [
    "model = Autoencoder(input_shape = input_shape).to(device)"
   ]
  },
  {
   "cell_type": "markdown",
   "metadata": {},
   "source": [
    "## Train the autoencoder"
   ]
  },
  {
   "cell_type": "markdown",
   "metadata": {},
   "source": [
    "### Define the `fit()` method\n",
    "#### Accepts the # of epochs (`num_epochs`) and learning rate (`learn_rate`) as parameters"
   ]
  },
  {
   "cell_type": "code",
   "execution_count": 32,
   "metadata": {},
   "outputs": [],
   "source": [
    "def fit(num_epochs, learn_rate):\n",
    "    loss_array = []\n",
    "    \n",
    "    # create an optimizer object\n",
    "    # Adam optimizer with learning rate\n",
    "    optimizer = optim.Adam(model.parameters(), lr = learn_rate)\n",
    "    \n",
    "    # Define the loss function\n",
    "    criterion = nn.MSELoss()\n",
    "    \n",
    "    for epoch in range(num_epochs):\n",
    "        loss = 0\n",
    "        count = 0\n",
    "        \n",
<<<<<<< HEAD
    "        for batch_features in train_dataset_loader:\n",
=======
    "        for batch_features,_ in train_dataset_loader:\n",
>>>>>>> 1f28cb82c557aa9eb045c3a05cc9f11c3167a865
    "            # reshape mini-batch data to [N, input_shape] matrix\n",
    "            # load it to the active device\n",
    "            batch_features = batch_features.view(-1, input_shape).to(device)\n",
    "\n",
    "            # plt.imshow(batch_features.numpy().squeeze())\n",
    "            # plt.show()\n",
    "\n",
    "            # reset the gradients back to zero\n",
    "            # PyTorch accumulates gradients on subsequent backward passes\n",
    "            optimizer.zero_grad()\n",
    "\n",
    "            # compute reconstructions\n",
    "            outputs = model(batch_features.float())\n",
    "\n",
    "            # compute training reconstruction loss\n",
    "            train_loss = criterion(outputs, batch_features.float())\n",
    "\n",
    "            # compute accumulated gradients\n",
    "            train_loss.backward()\n",
    "\n",
    "            # perform parameter update based on current gradients\n",
    "            optimizer.step()\n",
    "\n",
    "            # add the mini-batch training loss to epoch loss\n",
    "            loss += train_loss.item()\n",
    "\n",
    "        # compute the average training loss across the epoch\n",
    "        loss = loss / len(train_dataset_loader)\n",
    "        loss_array.append(loss)\n",
    "\n",
    "        # display the epoch training loss\n",
    "        print(\"epoch : {}/{}, loss = {:.6f}\".format(epoch + 1, num_epochs, loss)) \n",
    "    return loss_array"
   ]
  },
  {
   "cell_type": "markdown",
   "metadata": {},
   "source": [
    "### Run the autoencoder once, to visualize the results"
   ]
  },
  {
   "cell_type": "code",
   "execution_count": 33,
   "metadata": {
    "scrolled": true
   },
   "outputs": [
    {
     "name": "stdout",
     "output_type": "stream",
     "text": [
      "epoch : 1/20, loss = 0.699476\n",
      "epoch : 2/20, loss = 0.409956\n",
      "epoch : 3/20, loss = 0.343444\n",
      "epoch : 4/20, loss = 0.305109\n",
      "epoch : 5/20, loss = 0.273549\n",
      "epoch : 6/20, loss = 0.246183\n",
      "epoch : 7/20, loss = 0.226543\n",
      "epoch : 8/20, loss = 0.211102\n",
      "epoch : 9/20, loss = 0.205321\n",
      "epoch : 10/20, loss = 0.181117\n",
      "epoch : 11/20, loss = 0.174014\n",
      "epoch : 12/20, loss = 0.166666\n",
      "epoch : 13/20, loss = 0.158868\n",
      "epoch : 14/20, loss = 0.151236\n",
      "epoch : 15/20, loss = 0.145501\n",
      "epoch : 16/20, loss = 0.139496\n",
      "epoch : 17/20, loss = 0.132430\n",
      "epoch : 18/20, loss = 0.127917\n",
      "epoch : 19/20, loss = 0.124516\n",
      "epoch : 20/20, loss = 0.122029\n"
     ]
    }
   ],
   "source": [
    "loss_results = fit(num_epochs = 20, learn_rate = 1e-3)"
   ]
  },
  {
   "cell_type": "markdown",
   "metadata": {},
   "source": [
    "### Visualize how loss changes with # of epochs for training data "
   ]
  },
  {
   "cell_type": "code",
   "execution_count": 34,
   "metadata": {
    "scrolled": true
   },
   "outputs": [
    {
     "data": {
      "image/png": "iVBORw0KGgoAAAANSUhEUgAAAa4AAAEyCAYAAACiUTSiAAAABHNCSVQICAgIfAhkiAAAAAlwSFlzAAALEgAACxIB0t1+/AAAADh0RVh0U29mdHdhcmUAbWF0cGxvdGxpYiB2ZXJzaW9uMy4xLjAsIGh0dHA6Ly9tYXRwbG90bGliLm9yZy+17YcXAAAgAElEQVR4nO3deXycdbn//9eVfZm0SZuktOlKk4JlK1AqKIIscgC1LAqyiSKK+gMVPOqRHx6PcjzHDcUNF1DZFAGRzSOyyL53gQItW9ONbjTpnqVJmuT6/nHfaadplskkk5nJvJ+Pxzxm7mU+c00yyTWf+/7c18fcHRERkXSRlewAREREBkKJS0RE0ooSl4iIpBUlLhERSStKXCIiklaUuEREJK0ocYlIzMzsCTP7bLLjkMymxCUCmNlKMzsx2XEMhJndZGZtZtYYdXsl2XGJJJoSl0h6+5G7R6JuhyQ7IJFEU+IS6YeZfc7Mas1ss5ndb2YTwvVmZteaWZ2ZbTOzV83swHDbqWb2upk1mNlaM/taD+3mm9nWrueE6yrMbIeZVQ4y5qlm5mZ2iZmtM7P1Zvbv3V77Z+G2deHj/Kjtp5nZIjPbbmbLzOzkqOanmNmz4Xt72MzKBxOryEApcYn0wcyOB74PnA2MB1YBt4ebTwKOAWYApcAngE3htj8An3f3EuBA4LHubbt7K3A3cG7U6rOBJ929bojewnFATRjrN6MOh14FHAnMAg4B5gDfAjCzOcAtwNfD93UMsDKqzfOAi4BKIA/YKymLJJISl0jfzgf+6O4vhYnmSuAoM5sK7ARKgP0Bc/c33H19+LydwEwzG+XuW9z9pV7av409E9d54bpYfS3stXXdbu62/bvu3uTurwE3Rr3W+cDV7l7n7vXAd4FPhtsuDt/zI+7e6e5r3f3NqDZvdPe33X0HcCdB8hMZNkpcIn2bQNDLAsDdGwl6VVXu/hjwK+A6YIOZXW9mo8JdPwacCqwysyfN7Khe2n8MKDSz95rZFIIkcM8A4rvG3Uujbp/qtn111ONV4fvZ63112zYJWNbHa74b9bgZiAwgXpFBU+IS6ds6YErXgpkVA2OBtQDu/gt3Pxw4gOCQ4dfD9fPd/TSCw2n3EvRM9uLuneG2cwl6W//n7g1DGP+kqMeTw/cD3d5Xt22rgelDGIPIkFLiEtkt18wKom45BIftLjKzWeHghf8FXnT3lWZ2RNhTygWagBagw8zyzOx8Mxvt7juB7UBHH697G8H5sfMZ2GHCWPynmRWZ2QEE56XuCNf/BfhWOBikHPg28Kdw2x/C93yCmWWZWZWZ7T/EcYnETYlLZLcHgB1Rt++4+6PAfwJ/A9YT9ETOCfcfBdwAbCE41LYJuCbc9klgpZltB74AXNDbi7r7iwSJbwLwz671ZjY5vDZrch8xf6PbdVwbu21/EqgFHiU4rPhwuP57wALgVeA14KVwHe4+jyDJXQtsC9uYgkiKME0kKTLyhINHVgC57t6e3GhEhpZ6XCIiklaUuEREJK3oUKGIiKQV9bhERCSt5CQ7gIEqLy/3qVOnJjsMERFJsIULF25094ru69MucU2dOpUFCxYkOwwREUkwM1vV03odKhQRkbSixCUiImlFiUtERNKKEpeIiKQVJS4REUkrSlwiIpJWEpq4zOxkM3vLzGrN7Js9bL/WzBaFt7fNbGsi4xERkfSXsOu4zCybYGbYDwFrgPlmdr+7v961j7tfEbX/l4BDExWPiIiMDInscc0Bat19ubu3AbcDp/Wx/7kEk9sl1PaWnSxctTnRLyMiIgmSyMRVRTAFeJc14bq9mNkUYBrwWC/bLzGzBWa2oL6+flBB3Tl/NR/7zfNsamwdVDsiIpIciUxc1sO63krRnwPc5e49Tm/u7te7+2x3n11RsVfZqgGprowAUFvXOKh2REQkORKZuNYAk6KWJwLretn3HIbhMCFAzbgSAGrrlbhERNJRIhPXfKDGzKaZWR5Bcrq/+05mth9QBjyfwFh2mTC6gOK8bJZuUOISEUlHCUtc7t4OXAY8BLwB3OnuS8zsajObG7XrucDtPkwzWpoZ0ysjLFOPS0QkLSV0WhN3fwB4oNu6b3db/k4iY+hJdWWE52o3DffLiojIEMjIyhnVlRHe3d7C9padyQ5FREQGKCMTV01lMEBjmUYWioiknYxMXF1D4pcqcYmIpJ2MTFyTygrJy8lSj0tEJA1lZOLKyc5i3/Ji9bhERNJQRiYuCA4XqnqGiEj6ydjEVVNZwuotzexo67HKlIiIpKiMTVzVlRHc0YXIIiJpJmMTV824YGShEpeISHrJ2MQ1dWwx2VmmmoUiImkmYxNXXk4WU8YWaYCGiEiaydjEBVBdEWFpXUOywxARkQHI6MRVMy7Cqk3NtLV3JjsUERGJUWYnrsoS2judVZuakh2KiIjEKKMTV1fNQp3nEhFJHxmduKZXRDBTsV0RkXSS0YmrMC+bqtJCJS4RkTSS0YkLoEY1C0VE0krGJ67qygjL6hvp6PRkhyIiIjHI+MRVU1lCW3sna7Y0JzsUERGJQcYnruqwZqFKP4mIpAclrq4h8Sq2KyKSFjI+cY0qyGXcqHz1uERE0kTGJy7omg1ZNQtFRNKBEhfBAI3aukbcNbJQRCTVKXEB0ysjNLV1sH5bS7JDERGRfihxEVyEDKpZKCKSDpS42D2yUKWfRERSnxIXMLY4j7KiXPW4RETSgBIXYGbhAA2NLBQRSXUJTVxmdrKZvWVmtWb2zV72OdvMXjezJWZ2WyLj6cv0yghLNbJQRCTlJSxxmVk2cB1wCjATONfMZnbbpwa4Eni/ux8AXJ6oePpTUxlha/NONjW1JSsEERGJQSJ7XHOAWndf7u5twO3Aad32+RxwnbtvAXD3ugTG06ddAzRUQUNEJKUlMnFVAaujlteE66LNAGaY2bNm9oKZndxTQ2Z2iZktMLMF9fX1CQm2ZpxqFoqIpINEJi7rYV33E0g5QA3wQeBc4PdmVrrXk9yvd/fZ7j67oqJiyAMF2GdUAZH8HGo3aICGiEgqS2TiWgNMilqeCKzrYZ/73H2nu68A3iJIZMPOzJheGVGPS0QkxSUycc0HasxsmpnlAecA93fb517gOAAzKyc4dLg8gTH1qaYyonNcIiIpLmGJy93bgcuAh4A3gDvdfYmZXW1mc8PdHgI2mdnrwOPA1919U6Ji6k91ZYS6hla27diZrBBERKQfOYls3N0fAB7otu7bUY8d+Gp4S7romoWHTylLcjQiItITVc6Isms2ZFXQEBFJWUpcUSaWFZGfk6WahSIiKUyJK0p2lrFvRURV4kVEUli/icvMzjSzpWa2zcy2m1mDmW0fjuCSoaYyoh6XiEgKi6XH9SNgrruPdvdR7l7i7qMSHViy1FRGWLNlB81t7ckORUREehBL4trg7m8kPJIU0TVAY3l9U5IjERGRnvQ6HN7MzgwfLjCzOwguFm7t2u7udyc4tqToqlm4tK6BA6tGJzkaERHprq/ruD4a9bgZOClq2YERmbimjC0mJ8tUQUNEJEX1mrjc/aLhDCRV5GZnMbW8WAM0RERSVCyjCm+OrthuZmVm9sfEhpVc1RUaWSgikqpiGZxxsLtv7VoIJ308NHEhJV/NuAirNjfT2t6R7FBERKSbWBJXlpntKtxnZmNIcI3DZKuujNDR6azc2JzsUEREpJtYEtBPgOfM7K5w+SzgfxIXUvJVRxXb3W+fkiRHIyIi0fpNXO5+i5ktAI4PV53p7q8nNqzkml4RwSwYEg/jkx2OiIhEibVWYS5gUY9HtILcbCaVFalmoYhICoplVOFXgD8D5UAl8Ccz+1KiA0u2msoIy5S4RERSTiznuC4G3uvuTQBm9kPgeeCXiQws2aorIzy9dCPtHZ3kZKuIvohIqojlP7IB0ePCO9h92HDEqq6M0NbRyeotO5IdioiIRImlx3Uj8KKZ3UOQsE4D/pDQqFJA18jCpRsamFZenORoRESkS789Lnf/KXARsBnYBFzk7j9LdGDJtmtIfL3Oc4mIpJKBnLwxguK6I/4wIUBJQS7jRxdQq2K7IiIpJZZRhd8GbgbKCEYW3mhm30p0YKmgujKiIfEiIikmlh7XucAR7v4dd/8v4Ejg/MSGlRqqKyMsq2+ks9OTHYqIiIRiSVwrgYKo5XxgWUKiSTHVlRGa2zpYt00jC0VEUkUsiasVWGJmN5nZjcBioNHMfmFmv0hseMlVUxnUKdQUJyIiqSOW4fD3hLcuTyQmlNQTXWz3g/tVJjkaERGB2Irs3mxmhcBkd39rGGJKGWOK8xhbnKcel4hICollVOFHgUXAg+HyLDO7P9GBpQqNLBQRSS2xnOP6DjAH2Arg7ouAaQmMKaVUV0ZYuqEBd40sFBFJBbEkrnZ339ZtXUz/xc3sZDN7y8xqzeybPWz/tJnVm9mi8PbZWNodTjWVEba3tFPf2JrsUEREhNgGZyw2s/OAbDOrAb4MPNffk8wsG7gO+BCwBphvZvf3MAnlHe5+2QDjHjbVXSMLNzRSWVLQz94iIpJosfS4vgQcQDAs/jZgG3B5DM+bA9S6+3J3bwNuJyjQm1ZqxqlmoYhIKollVGEzcFV4G4gqYHXU8hrgvT3s9zEzOwZ4G7jC3Vf3sE/SVJbkU5Kfw1LVLBQRSQmJnCGxp2K83c+N/R2Y6u4HA/8iqIm4d0Nml5jZAjNbUF9fP8Rh9s3MqB4X0ZB4EZEUkcjEtQaYFLU8EVgXvYO7b3L3rlEPNwCH99SQu1/v7rPdfXZFRUVCgu1LdYWGxIuIpIpEJq75QI2ZTTOzPOAcYI/rv8xsfNTiXOCNBMYTt5pxETY2trK1uS3ZoYiIZLxYLkCeYWaPmtnicPngWKY1cfd24DLgIYKEdKe7LzGzq81sbrjbl81siZm9QjBa8dPxvpFEUs1CEZHUEUuP6wbgSmAngLu/StB76pe7P+DuM9x9urv/T7ju2+5+f/j4Snc/wN0Pcffj3P3N+N5GYnXVLNThQhGR5IslcRW5+7xu69oTEUyqqiotpCA3Sz0uEZEUEEvi2mhm0wlHBJrZx4H1CY0qxWRlGdM1QENEJCXEUjnjUuB6YH8zWwusAC5IaFQpqKYywvyVW5IdhohIxovlAuTlwIlmVgxkuXtD4sNKPdWVEe5dtI6m1naK82PJ9yIikgj9/gc2s3zgY8BUIMcsuK7Y3a9OaGQppqtm4bL6Rg6eWJrkaEREMlcs57juI6gx2A40Rd0ySlfNQpV+EhFJrliOeU1095MTHkmKmzKmiNxs0wANEZEki6XH9ZyZHZTwSFJcTnYW08qLNSReRCTJeu1xmdlrBEPgc4CLzGw5wdQmBnhYGDejVFdGeH3d9mSHISKS0fo6VPiRYYsiTVRXlvDg4ndp2dlBQW52ssMREclIvR4qdPdV7r4K+F7X4+h1wxdi6qiujNDpsGJjxo1NERFJGbGc4zogesHMsull+pGRriasWajzXCIiydNr4jKzK82sATjYzLaHtwagjmCIfMaZVl5MlqnYrohIMvV1qPD77l4C/NjdR4W3Encf6+5XDmOMKaMgN5vJY4qorcvI4iEiIimh30OFmZqkelNdWaJDhSIiSZTIGZBHpOrKCCs2NtHe0ZnsUEREMpIS1wDVVEbY2eGs2tyc7FBERDJSn4nLzLLMbPFwBZMOds2GrJqFIiJJ0WficvdO4BUzmzxM8aS86WHiWlavxCUikgyxFNkdDywxs3lEVYV397kJiyqFRfJzmDC6gKUbNLJQRCQZYklc3014FGmmelyJruUSEUmSWIbDPwm8CZSEtzfCdRmrpjLCsvpGOjs92aGIiGScfhOXmZ0NzAPOAs4GXjSzjyc6sFRWXRmhZWcna7fuSHYoIiIZJ5ZDhVcBR7h7HYCZVQD/Au5KZGCpLLpm4aQxRUmORkQks8RyHVdWV9IKbYrxeSPWriHxKv0kIjLsYulxPWhmDwF/CZc/ATyQuJBSX2lRHuWRfJV+EhFJgr5mQM5391Z3/7qZnQkcTTD78fXufs+wRZiiqiuLNbJQRCQJ+upxPQ8cZma3uvsngbuHKaa0UFNZwr2L1uLumFmywxERyRh9Ja48M/sU8L6wx7UHd8/oRFYzLkJDSzt1Da2MG1WQ7HBERDJGX4MsvgAcCZQCH+12+0jiQ0ttB0wYBcBdC9ckORIRkczSa4/L3Z8BnjGzBe7+h3gaN7OTgZ8D2cDv3f0Hvez3ceCvBMPuF8TzWsPtsMllfPjg8Vz7yNt8oKacgyeWJjskEZGMEEvljHiTVjZwHXAKMBM418xm9rBfCfBl4MV4XidZzIz/Pf0gKkryufz2RTS3tSc7JBGRjJDI67HmALXuvtzd24DbgdN62O+/gR8BLQmMJSFGF+Xyk7MPYcWmJr73jzeSHY6ISEZIZOKqAlZHLa8J1+1iZocCk9z9//pqyMwuMbMFZragvr5+6CMdhPdNL+eSD+zLbS++wyOvb0h2OCIiI14stQrfb2bF4eMLzOynZjYlhrZ7GiO+qyqtmWUB1wL/3l9D7n69u89299kVFRUxvPTw+upJM5g5fhT/8bdXqWtIu46jiEhaiaXH9Rug2cwOAb4BrAJuieF5a4BJUcsTgXVRyyXAgcATZraSYATj/WY2O4a2U0p+Tja/OHcWTa3tfP2vr+KuqvEiIokSS+Jq9+A/8WnAz9395wRJpz/zgRozm2ZmecA5wP1dG919m7uXu/tUd58KvADMTZdRhd1VV5Zw1Yffw5Nv13PL86uSHY6IyIgVS+JqMLMrgQuAf4SjBXP7e5K7twOXAQ8BbwB3uvsSM7vazEbk7MmfPHIKx+1Xwf8+8IZmSBYRSRDr77CWme0DnAfMd/enzWwy8EF3j+Vw4ZCbPXu2L1iQup2y+oZWTv7ZU1SOKuDeS99Hfk52skMSEUlLZrbQ3fc6fRRTj4vgEOHTZjYDmMXuSvHSTUVJPj/6+MG8sX47P3n47WSHIyIy4sSSuJ4C8s2sCngUuAi4KZFBpbsT3jOO8987mRueXs5ztRuTHY6IyIgSS+Iyd28GzgR+6e5nAAckNqz0960Pz2RaeTFfvfMVtja3JTscEZERI6bEZWZHAecD/wjX6cRNPwrzsvn5Jw5lY2MrV92zWEPkRUSGSCyJ63LgSuCecFTgvsDjiQ1rZDho4mi+etIM/vHaev720tpkhyMiMiLEUmT3SXefC/zazCJh7cEvD0NsI8Lnj5nOnGlj+K/7FvPOpuZkhyMikvZiKfl0kJm9DCwGXjezhWamc1wxys4yfnr2IWRlGZff8TLtHZ3JDklEJK3Fcqjwd8BX3X2Ku08mqC14Q2LDGlkmlhXxvdMP5KV3tnLd48uSHY6ISFqLJXEVu/uuc1ru/gRQnLCIRqjTZlVx2qwJ/OKxpbz0zpZkhyMikrZiSVzLzew/zWxqePsWsCLRgY1EV592IPuMKuCKOxbR2KqJJ0VE4hFL4voMUAHcDdwTPr4okUGNVKMLc/np2YfwzuZmrv77kmSHIyKSlnL628HdtwAaRThE3rvvWL547HR+/cQyjt+/kpMPHJ/skERE0kqvicvM/k7UxI/dhUPkJQ6XnziDp5du5Jt3v8asSWXsM7og2SGJiKSNvnpc1wxbFBkmLyeLn50zi4/84hm+ftcr3HzRHLKyepowWkREuus1cbn7k8MZSKaZXhHhWx95D1fds5gbn1vJxUdPS3ZIIiJpIZbBGZIg582ZzInvGccP//kmC1dpiLyISCyUuJLIzPjhxw5i3Oh8zr3hBe55eU2yQxIRSXkxJy4z00XHCTA2ks99lx7NYZNLueKOV/jfB96go1OV5EVEehNLrcL3mdnrwBvh8iFm9uuER5ZBxhTncevF7+VTR03h+qeWc9FN89nWvDPZYYmIpKRYelzXAv8GbAJw91eAYxIZVCbKzc7iu6cdyPfPPIjnl23k9F8/S21dY7LDEhFJOTEdKnT31d1WdSQgFgHOnTOZ2z53JNt37OSM657lsTc3JDskEZGUEkviWm1m7wPczPLM7GuEhw0lMY6YOob7v3Q0k8cWcfHNC/j1E7WaQVlEJBRL4voCcClQBawBZoXLkkBVpYXc9YX38eGDxvOjB9/iK7cvYkebOroiIrHUKtwInD8MsUg3hXnZ/PLcQ3nP+FFc8/BbLN/YyPWfnM2E0sJkhyYikjT9Ji4z+0UPq7cBC9z9vqEPSaKZGZceV83++5TwldsXMfdXz/LbCw5j9tQxyQ5NRCQpYjlUWEBweHBpeDsYGANcbGY/S2BsEuWE94zj3kvfRyQ/m3NveIHb572T7JBERJIilsRVDRzv7r90918CJwLvAc4ATkpkcLKn6soS7rv0aI7cdyzfvPs1/uu+xezs6Ex2WCIiwyqWxFUFRFfNKAYmuHsH0JqQqKRXo4tyufHTR/DZo6dx8/OruPAP89jS1JbssEREhk0sietHwCIzu9HMbgJeBq4JS0D9K5HBSc9ysrP41kdm8pOzDmHhO1uYe90zvPnu9mSHJSIyLCyW64PMbDwwBzBgnruvS3RgvZk9e7YvWLAgWS+fcl5+Zwufv3Uhja3t/PTsWZx84D7JDklEZEiY2UJ3n919faxFdluA9cBmoNrMYir5ZGYnm9lbZlZrZt/sYfsXzOw1M1tkZs+Y2cwY45HQoZPL+PuXjqZmXAlf+NNCvv/PN2jZqeu9RGTkiqXI7meBp4CHgO+G99+J4XnZwHXAKcBM4NweEtNt7n6Qu88iOCT50wFFLwCMG1XAHZccyblzJvO7J5fz0V8+w6trtiY7LBGRhIilx/UV4AhglbsfBxwK1MfwvDlArbsvd/c24HbgtOgd3D36xEwxoLpGcSrIzeb7Zx7EzZ+ZQ0NLO2f8+jmueegtWtvV+xKRkSWWxNXi7i0AZpbv7m8C+8XwvCogujjvmnDdHszsUjNbRtDj+nJPDZnZJWa2wMwW1NfHkjMz17EzKnjoimM489AqfvV4Laf96lkWr92W7LBERIZMLIlrjZmVAvcCj5jZfUAsgzOsh3V79ajc/Tp3nw78B/Ctnhpy9+vdfba7z66oqIjhpTPb6MJcfnzWIfzx07PZ3NTG6dc9y7WPvE1bu675EpH012/icvcz3H2ru38H+E/gD8DpMbS9BpgUtTyRvhPe7TG2KzE6fv9xPHLFscw9ZAI/f3Qpp1/3LK+v07B5EUlvfSYuM8sys8Vdy+7+pLvfH56z6s98oMbMpplZHnAOcH+39muiFj9MUFJKhtDoolx++olZ3HDhbOoaWjntumf4xaNLVXFDRNJWn4nL3TuBV8xs8kAbdvd24DKCUYhvAHe6+xIzu9rM5oa7XWZmS8xsEfBV4FMDfR2JzYdmjuORK47h1IPG89NH3uaMXz/LW+82JDssEZEB6/cCZDN7jGBU4TygqWu9u8/t9UkJpAuQB+/Bxeu56p7FNLS085UTa/j8MfuSkx3rJX0iIsOjtwuQ+53WhODaLRlBTj5wPEdMHcO371/Cjx96i4eXvMs1Zx1CzbiSZIcmItKvWAZnPAmsBHLDx/OBlxIclyTY2Eg+1513GL8671De2dzMh3/5DL97chkdnbqUTkRSWyyVMz4H3AX8LlxVRTA0XkaAjxw8gYevOJbj9qvg+/98k4//9jmW1TcmOywRkV7FcmLjUuD9wHYAd18KVCYyKBleFSX5/PaCw/n5ObNYsbGJU3/+NL95Ypmu+xKRlBRL4mqNHv5uZjmoNNOIY2acNquKh684hmNnVPDDB9/k3372FI+9uSHZoYmI7CGWxPWkmf3/QKGZfQj4K/D3xIYlyVJZUsD1F87mpouOwAw+c9MCPn3jPB0+FJGUEctw+CzgYuAkgjJODwG/91gm8koADYcfPm3tndzy/Ep+/q+l7NjZwUXvn8qXTqhhVEFuskMTkQzQ23D4WBLXGcAD7t6aqOAGQolr+NU3tHLNQ29x58LVjC3O4xv/tj8fP3wiWVk9laMUERkag5lIci7wtpndamYfDs9xSQapKMnnhx8/mPsvPZopY4v5xt9e5fRfP8vCVVuSHZqIZKBYruO6CKgmOLd1HrDMzH6f6MAk9Rw0cTR3feEofvaJWWzY3sLHfvMcV9yxiA3bW5IdmohkkJh6T+6+08z+STCasJBgQsjPJjIwSU1mxumHVvGhmeP49RO13PDUCh5a8i6XHlfNxUdPoyA3O9khisgIF8sFyCeb2U1ALfBx4PfA+ATHJSmuOD+Hr//b/vzrq8dydHU5P37oLU669ikeXvIuSRq3IyIZIpZzXJ8mqJQxw90/5e4PhJXfRZg8tojrL5zNny5+L/k5WVxy60Iu/OM8autUeV5EEqPfUYV7PcHs/cB57n5pYkLqm0YVpq6dHZ386YVVXPvI2zS1dXDhUVO4/MQZjC7U8HkRGbjBVIfHzGYRDMw4G1gB3D204clIkJudxUXvn8bcQybwk0fe5qbnVnLXgjV87PCJfPKoKUyviCQ7RBEZAXrtcZnZDIJZi88FNgF3AF9z9ynDF97e1ONKH0vWbeOGp5bzj9fWs7PDObq6nE8eNYUT9q/U/F8i0q8BX4BsZp3A08DF7l4brlvu7vsmNNJ+KHGln42NrdwxfzV/fmEV67a1MGF0AecfOYVPHDGJ8kh+ssMTkRQVT+I6g6DH9T7gQeB2glJP0xIZaH+UuNJXe0cnj75Zx63Pr+KZ2o3kZhunHjSeC4+awmGTyzBTJQ4R2W0wJZ+KgdMJDhkeD9wM3OPuDyci0P4ocY0My+obufX5Vfxt4RoaWtuZOX4UFx41hdNmVVGYp2vBRGQQiatbI2OAs4BPuPvxQxhfzJS4Rpam1nbuXbSWW59fxZvvNjCqIIezZk/igiOnMK28ONnhiUgSDUniSgVKXCOTuzN/5RZueX4lDy5+l/ZO55gZFVx45BSO27+SbBX0Fck4gxoOL5JoZsacaWOYM20Mddtb+Mu81dw2bxWfvWUBVaWFnPfeyXz04AlMHluU7FBFJMnU45KUtbOjk3+9voFbnl/F88s3AXDAhFGcetB4TjlwH/bVdWEiI5oOFUpaW725mQcXv8sDi9fz8jtbAdh/nxJOPWg8px60D9WVJUmOUESGmhKXjBjrtu7gwRw2vuEAABXxSURBVMXv8s/F61mwagvuUFMZ4ZQwie03rkRD60VGACUuGZE2bG/hoSXv8sBr65m3YjOdDvuWF3PKQftwyoHjOWDCKCUxkTSlxCUjXn1DKw8tCXpiLyzfTEenM2VsEaccGPTEDqoarSQmkkaUuCSjbGps5ZHXN/DA4nd5rnYj7Z1OVWkhJx0wjprKEqrKCplYVkhVaaEmvxRJUUpckrG2NrfxyOsb+Ofid3lm6UbaOjr32F4eyd+VyCaWhgmtrJCJZUVUlRZSnK+rRkSSISmJy8xOBn4OZBPUOfxBt+1fBT4LtAP1wGfcfVVfbSpxyWB0dDobtrewZssO1m5tZs3mHazduiNc3sHaLTv2SmxlRblBIist2pXgJpUVcXRNuXprIgk07Bcgm1k2cB3wIWANMN/M7nf316N2exmY7e7NZvZF4EfAJxIVk0h2ljGhtJAJpYXAmL22d3Y6GxtbWb2lK6E1s3ZLkNhq6xt54u06WnYGiW3cqHwuO66aTxwxmbwcTdMiMlwSeQxkDlDr7ssBzOx24DRgV+Jy98ej9n8BuCCB8Yj0KyvLqBxVQOWoAg6fUrbXdndnc1Mbi9dt51ePLeU/71vCb59czldOqOHMw6o0z5jIMEjkX1kVsDpqeU24rjcXA/9MYDwig2ZmjI3kc+yMCu78/FHc8pk5lEfy+MbfXuVD1z7FvS+vpaMzvc4bi6SbRCaunsYd9/gXbWYXALOBH/ey/RIzW2BmC+rr64cwRJH4mRnHzKjg3kvfzw0XziY/J4vL71jEyT97in++tp5OJTCRhEhk4loDTIpangis676TmZ0IXAXMdffWnhpy9+vdfba7z66oqEhIsCLxMjM+NHMcD3z5A/zqvEPpdOeLf36Jj/7qGR57cwPpNnJXJNUlMnHNB2rMbJqZ5RHMpnx/9A5mdijwO4KkVZfAWEQSLivL+MjBE3j4imP56dmH0NDSzmduWsAZv36OZ5ZuVAITGSIJS1zu3g5cBjwEvAHc6e5LzOxqM5sb7vZjIAL81cwWmdn9vTQnkjays4wzD5vIo/9+LN8/8yDqtrdwwR9e5JzrX2Deis3JDk8k7ekCZJEEa23v4PZ5q/nV47XUN7TygZpy/v2k/Zg1qTTZoYmkNFXOEEmyHW0d3PrCSn7zxDK2NO/kxPeM46sfmsHMCaOSHZpISlLiEkkRja3t3PjMCq5/ejkNLe1UV0aYVl7MvhXFTC+PMK2imH3LixlTnKeiwJLRlLhEUsy25p386cVVvLJ6K8s3NrFqUxM7O3b/PY4uzGXfimKmlRczvSLCvuXFTKsoZurYYpWakoww7CWfRKRvo4tyufS46l3L7R2drN26g+X1TSzf2MTy+kaW1zfxXO0m7n5p7a79zKCqtHB3QotKbuNHF6iXJiOeEpdIisjJzmLK2GKmjC3muG7bmlrbWbGxiWX1jazY2BQmt0b+umA1TW0du/YryssODjlWRHbfKtVLk5FFiUskDRTn53Bg1WgOrBq9x3p3p66hlWVh72xZfSPL6ptYsHIL9y3afb2/GUwqK2J6V1Kr7EpsOpcm6UeJSySNmRnjRhUwblQB75tevse25rauXloTy+oadyW155ZtorV999QtpUW5u5LY9IoI1ZURaipLmFhWSFaWEpqkHiUukRGqKC+HAyaM5oAJe/bSOjudtVt37Epky+obWVbXyGNv1nPngjW79ivIzaK6MsKMyhKqxwX3NeMiTCwrIlsJTZJIiUskw2RlGZPGFDFpTBEf3G/Pbduad1Jb38jSDQ0srWvk7Q0NPL98E3e/vHtwSEFuFtMrItRURqgZV0JNZYQZ40qYNEYJTYaHEpeI7DK6KJfDp5TtNRfZ9pad1NaFCW1DI0vrGpm3YjP3Rp1Hy88JE9q43UmtujLClDFFmqdMhpQSl4j0a1RBLodNLuOwyXsmtIauhFa3u5fWfWBIXnYWU8uLqKksYXplkNS6LrrWSEeJhxKXiMStpCCXQyeXcWi3hNbY2k5tXWPUrYHF67bxwOL1dNU8yDKYMrZ4Vy+tOryfXhGhOF//mqR3+nSIyJCL5Ocwa1LpXoWEW3Z2sLy+idr6RmrDHlptXSNPvFVHe9TEm1Wlhbt6Z9MrIkwaU0hVaSETSgvVSxMlLhEZPgW52cycMGqvwsI7OzpZtamZ2rqGqEOPjby4fM+h+wAVJflUlRZSVVbIxLJCJoaPq0qLqCorJKLe2oin37CIJF1udjD0vroyssf6jk5n3dYdrN26gzVbdrB2yw7Wbm1m7dYdLFm7jUeWbKCtY8/EVlqUGyS2XcmtiKrSIMlNKitiVGGOLrhOc0pcIpKysqOG7veks9Opb2wNktrWILGt2RIkthUbm3imdiPNUSWxAEryc5g4pohJYVKbNCZIaBPDe51fS336DYlI2srK2l05pPsQfghKYm1t3hkmtmbWbNnB6s3NrN4SJLanl25kx849E9uY4rxdSa0rmU0sK2TSmKDnpnNsyafEJSIjlplRVpxHWXEeB00cvdd2d2dTU9uuZLZmSzOrNwf3S9Zt4+HX391jqhmAypJ8ppYHc6YFlfmDCv2TxxSRq+vVhoUSl4hkLDOjPJJPeSR/ryH9EByK3NDQsiuZrd68g3c2N7NqUxMPv76BzU1tu/bNzjImjykKJgUN507bN0xqlSX5Oq82hJS4RER6kZVljB9dyPjRhcyZNmav7Vub21i+sYkV4TQzXVPOPFu7cY/RkMV52bsSWdds1/uWR5hYVkhpUa6S2gApcYmIxKm0KI/DJuftVVGks9NZv72F5XvMn9bES+9s4e+vriN64vncbKMikk/FqAIqS/KpKMmPut+9rjyST16ODkWCEpeIyJDLyrJdQ/I/UFOxx7aWnR2s2tTM8vpG1m9roa6hlfqGVuoaWli9uZmXVm1hU9QhyGhlRblBMhuVHya78L4kn9GFuZQV5VFalEtpUR4l+TkjdloaJS4RkWFUkJvNfvuUsN8+Jb3us7Ojk02NbdQ1tIRJrZW67a3UN7aE960sr2+ivqF1r+vYumRnGaMLcyktzN2VzEqLciktzKOsaPe63ckul9GFuRTnpX7CU+ISEUkxudlZ7DO6gH1GF/S5n7uzfUc7G5ta2dq8k63NbWxt3smW5ja27Qjug/U72bC9hbfebWBrcxtN3a5t6644L5tIQQ7F+TmU5Af3ka5bQXBfnJ9DSUEOxXm710WvH1ucl7BZAZS4RETSlJkxuiiX0UW5A3peW3snW3e0sa15J1uiEt62HTtpbG2nsbWdptZ2GsL7xpZ23mlq3rWtsaV9j9qSPXnkimOoGdd7r3IwlLhERDJMXk5WOPCj7x5db9yd1vbOIKlFJbOmtnYaWtppau3ot7c4GEpcIiIyIGZGQW42BbnZjI3kD/vra2yliIikFSUuERFJK0pcIiKSVhKauMzsZDN7y8xqzeybPWw/xsxeMrN2M/t4ImMREZGRIWGJy8yygeuAU4CZwLlmNrPbbu8AnwZuS1QcIiIysiRyVOEcoNbdlwOY2e3AacDrXTu4+8pwW8+XfouIiHSTyEOFVcDqqOU14boBM7NLzGyBmS2or68fkuBERCQ9JTJx9VTsqu9LrXvh7te7+2x3n11RUdH/E0REZMRKZOJaA0yKWp4IrEvg64mISAZI5Dmu+UCNmU0D1gLnAOcNttGFCxduNLNVg2ymHNg42FiGsJ2hbEvtDE87Q9mW2hmedoayLbUzPO1M6XGtuyfsBpwKvA0sA64K110NzA0fH0HQM2sCNgFLEhlPVFwLUqmdVIxJ7aRfTGon/WJSO/HdElqr0N0fAB7otu7bUY/nExxCFBERiYkqZ4iISFrJ1MR1fYq1M5RtqZ3haWco21I7w9POULaldoannR5ZeDxSREQkLWRqj0tERNKUEpeIiKSVjEtc/VWsj7GNP5pZnZktHmQsk8zscTN7w8yWmNlX4mynwMzmmdkrYTvfHWRc2Wb2spn93yDbWWlmr5nZIjNbMIh2Ss3sLjN7M/xZHRVHG/uFcXTdtpvZ5XHGc0X4c15sZn8xs7jmKDezr4RtLBloLD19Bs1sjJk9YmZLw/uyONs5K4yp08xmDyKeH4e/s1fN7B4zK42znf8O21hkZg+b2YR42ona9jUzczMrH8R7+46ZrY36PJ0ab0xm9qXwf9ISM/tRnPHcERXLSjNbFGc7s8zsha6/WTObE2c7h5jZ8+Hf/9/NbFR/7QxIIsfap9oNyCa4pmxfIA94BZgZRzvHAIcBiwcZz3jgsPBxCcE1b/HEY0AkfJwLvAgcOYi4vkpQsf//Bvn+VgLlQ/B7uxn4bPg4Dygdgs/Bu8CUOJ5bBawACsPlO4FPx9HOgcBioIigEMC/gJrBfAaBHwHfDB9/E/hhnO28B9gPeAKYPYh4TgJywsc/HEQ8o6Iefxn4bTzthOsnAQ8Bq2L9bPYS03eArw3wd95TO8eFv/v8cLky3vcWtf0nwLfjjOdh4JTw8anAE3G2Mx84Nnz8GeC/B/Kz6u+WaT2uXRXr3b0N6KpYPyDu/hSwebDBuPt6d38pfNwAvEEchYg90Bgu5oa3uEbdmNlE4MPA7+N5/lALv6kdA/wBwN3b3H3rIJs9AVjm7vFWYMkBCs0shyDxxFPK7D3AC+7e7O7twJPAGbE+uZfP4GkESZ7w/vR42nH3N9z9rVhj6aOdh8P3BvACMVyz2Us726MWi4nhs93H3+i1wDdiaSOGtgakl3a+CPzA3VvDfeoGE4+ZGXA28Jc423Ggq3c0mhg+2720sx/wVPj4EeBj/bUzEJmWuIasYv1QM7OpwKEEvaV4np8dHh6oAx5x97jaAX5G8Ic9FFPNOPCwmS00s0vibGNfoB64MTx8+XszKx5kXOcQwx92T9x9LXANwVxy64Ft7v5wHE0tBo4xs7FmVkTw7XZSP8/pzzh3Xx/GuR6oHGR7Q+kzwD/jfbKZ/Y+ZrQbOB77d3/69tDEXWOvur8QbRzeXhYcw/xjLYdlezAA+YGYvmtmTZnbEIGP6ALDB3ZfG+fzLgR+HP+trgCvjbGcxMDd8fBaD/2zvIdMS15BVrB9KZhYB/gZc3u3bZczcvcPdZxF8q51jZgfGEcdHgDp3XxhPDD14v7sfRjCZ6KVmdkwcbeQQHIb4jbsfSlAeLK5zkwBmlkfwB/XXOJ9fRtCzmQZMAIrN7IKBtuPubxAcPnsEeJDgsHV7n09KU2Z2FcF7+3O8bbj7Ve4+KWzjsjhiKAKuIs6k14PfANOBWQRfYH4SZzs5QBlwJPB14M6w1xSvc4nzS1noi8AV4c/6CsIjHXH4DMHf/EKC0yBtg4hpL5mWuFKuYr2Z5RIkrT+7+92DbS88jPYEcHIcT38/MNfMVhIcRj3ezP40iFjWhfd1wD0Eh2oHag2wJqoHeRdBIovXKcBL7r4hzuefCKxw93p33wncDbwvnobc/Q/ufpi7H0NwqCXeb8ldNpjZeIDwvt/DTolmZp8CPgKc7+EJj0G6jfgOO00n+LLxSvj5ngi8ZGb7xBOEu28Ivyx2AjcQ32cbgs/33eHh/nkERzpiGjTSXXjo+kzgjjhjAfgUwWcagi93cb0vd3/T3U9y98MJEumyQcS0l0xLXLsq1offvM8B7k9WMOE3qz8Ab7j7TwfRTkXXiC0zKyT45/rmQNtx9yvdfaK7TyX42Tzm7gPuTYRxFJtZSddjghP1Ax6F6e7vAqvNbL9w1QlEzaIdh8F+I30HONLMisLf3wkE5yYHzMwqw/vJBP9wBhMXBJ/lT4WPPwXcN8j2BsXMTgb+g6CodvMg2qmJWpxLfJ/t19y90t2nhp/vNQQDo96NM6bxUYtnEMdnO3QvcHzY5gyCwUfxVlU/EXjT3dfE+XwIvsgfGz4+nji/TEV9trOAbwG/HURMexvKkR7pcKOHivVxtPEXgsMDOwn+AC6Os52jCQ5VvgosCm+nxtHOwcDLYTuLiWFEUQxtfpBBjCokODf1SnhbEu/POmxrFrAgfH/3AmVxtlNEMAvB6EH+bL5L8M9zMXAr4YiwONp5miAJvwKcMNjPIDAWeJTgn82jwJg42zkjfNwKbAAeirOdWoJzyl2f7VhGA/bUzt/Cn/WrwN+Bqnja6bZ9JbGPKuwppluB18KY7gfGx9lOHvCn8P29BBwf73sDbgK+MMjP0NHAwvAz+SJweJztfIXg/+zbwA8IqzQN1U0ln0REJK1k2qFCERFJc0pcIiKSVpS4REQkrShxiYhIWlHiEhGRtKLEJRknrAz+k6jlr5nZd4ao7ZvM7OND0VY/r3OWBZXyH++2fqqZ7bA9K+FfOISv+0Eb5KwBIoOVk+wARJKgFTjTzL7v7vFe7DnkzCzb3Tti3P1i4P9z98d72LbMg/JfIiOSelySidqB6wlqse2he4/JzBrD+w+GRVDvNLO3zewHZna+BfOgvWZm06OaOdHMng73+0j4/GwL5qeaHxZm/XxUu4+b2W0EF7R2j+fcsP3FZvbDcN23CS4U/a2Z/TjWN21mjWb2EzN7ycweNbOKcH3XHExd82aVheurzexfFszz9lLUe4zY7vnR/txVWy/8mbwetnNNrHGJDJQSl2Sq64DzzWz0AJ5zCEFFgIOATwIz3H0OwRQwX4rabypB2ZwPEySXAoIe0jZ3PwI4AvicmU0L959DUFlkZvSLWTBh4g8JSu/MAo4ws9Pd/WqCSiLnu/vXe4hzerdDhR8I1xcT1Gk8jGAalf8K198C/Ie7H0yQPLvW/xm4zt0PIajHuD5cfyhBFfGZBBVS3m9mYwgqbhwQtvO9/n6YIvFS4pKM5EEV/lsIJiaM1XwP5lBrJSgZ1jWdyWsEyarLne7e6cHUEsuB/QlqNV5owdQzLxKUZ+qqwTfP3Vf08HpHEEzkV+/BvFZ/JpibrD/L3H1W1O3pcH0nuwuw/gk4Okzcpe7+ZLj+ZoLpVkoISivdA+DuLb673uA8d1/jQYHZReF73w60AL83szOBuGsTivRHiUsy2c8IekLR83u1E/5dhIfA8qK2tUY97oxa7mTP88Xd66g5wZQ6X4pKJtN89zxeTb3EN5jpLWLRV723vl47+ufQQTDLcTtBz/FvBBNYPjj48ER6psQlGcvdNwN3EiSvLiuBw8PHpxHMJj1QZ5lZVnhOaF/gLYLp4r8YTmODmc2w/ifEfBE41szKzSyboLL9k/08py9ZQNf5u/OAZ9x9G7Al6nDiJ4Enwx7pGjM7PYw334I5rXpkwZxyo939AYLDiBocIgmjUYWS6X7CnhMT3gDcZ2bzCCqs99Yb6stbBAlmHEG17hYz+z3BIbWXwp5cPUHPpFfuvt7MrgQeJ+gBPeDusUxVMj08JNnlj+7+C4L3coAFk/ttAz4Rbv8Uwbm4IoJDmxeF6z8J/M7Mriao/H1WH69ZQvBzKwhj3Wvgi8hQUXV4kQxhZo3uHkl2HCKDpUOFIiKSVtTjEhGRtKIel4iIpBUlLhERSStKXCIiklaUuEREJK0ocYmISFr5f8PP1Fryh8XkAAAAAElFTkSuQmCC\n",
      "text/plain": [
       "<Figure size 432x288 with 1 Axes>"
      ]
     },
     "metadata": {
      "needs_background": "light"
     },
     "output_type": "display_data"
    }
   ],
   "source": [
    "fig = plt.figure()\n",
    "ax1 = fig.add_subplot(111)\n",
    "fig.tight_layout()\n",
    "ax1.plot(loss_results)\n",
    "plt.xticks([x for x in range(20)])\n",
    "plt.xlabel(\"Number of Epochs\")\n",
    "plt.ylabel(\"Average loss for the epoch\")\n",
    "plt.title(\"Loss v. Epoch\")\n",
    "plt.show()"
   ]
  },
  {
   "cell_type": "markdown",
   "metadata": {},
   "source": [
    "## Test the dataset"
   ]
  },
  {
   "cell_type": "code",
   "execution_count": 35,
   "metadata": {},
   "outputs": [],
   "source": [
    "test_examples = None\n",
    "reconstruction = None\n",
    "\n",
    "with torch.no_grad():\n",
    "    for batch_features in test_dataset_loader:\n",
    "        test_examples = batch_features.view(-1, input_shape)\n",
    "        reconstruction = model(test_examples.float())\n",
    "        break"
   ]
  },
  {
   "cell_type": "markdown",
   "metadata": {},
   "source": [
    "### Visualize the results"
   ]
  },
  {
   "cell_type": "code",
   "execution_count": 36,
   "metadata": {
    "scrolled": true
   },
   "outputs": [
    {
     "name": "stdout",
     "output_type": "stream",
     "text": [
      "torch.Size([20, 180])\n",
      "torch.Size([20, 180])\n"
     ]
    }
   ],
   "source": [
    "print(test_examples.shape)\n",
    "print(reconstruction.shape)"
   ]
  },
  {
   "cell_type": "code",
   "execution_count": 37,
   "metadata": {},
   "outputs": [
    {
     "data": {
      "image/png": "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\n",
      "text/plain": [
       "<Figure size 864x432 with 8 Axes>"
      ]
     },
     "metadata": {
      "needs_background": "light"
     },
     "output_type": "display_data"
    }
   ],
   "source": [
    "with torch.no_grad():\n",
    "    number = 4\n",
    "    plt.figure(figsize=(12, 6))\n",
    "    for index in range(number):\n",
    "        \n",
    "        # display original\n",
    "        ax = plt.subplot(2, number, index + 1)\n",
    "        plt.imshow(test_examples[index].numpy().reshape(input_shape_s1, input_shape_s2))\n",
    "        plt.title('Original #' + str(index + 1))\n",
    "        ax.get_xaxis().set_visible(False)\n",
    "        ax.get_yaxis().set_visible(False)\n",
    "        \n",
    "        # display reconstructed\n",
    "        ax = plt.subplot(2, number, index + 1+ number)\n",
    "        plt.imshow(reconstruction[index].numpy().reshape(input_shape_s1, input_shape_s2))\n",
    "        plt.title('Reconstructed #' + str(index + 1))\n",
    "        ax.get_xaxis().set_visible(False)\n",
    "        ax.get_yaxis().set_visible(False)  "
   ]
  },
  {
   "cell_type": "code",
   "execution_count": 38,
   "metadata": {},
   "outputs": [
    {
     "data": {
      "image/png": "iVBORw0KGgoAAAANSUhEUgAAAs8AAAGDCAYAAADUAP09AAAABHNCSVQICAgIfAhkiAAAAAlwSFlzAAALEgAACxIB0t1+/AAAADh0RVh0U29mdHdhcmUAbWF0cGxvdGxpYiB2ZXJzaW9uMy4xLjAsIGh0dHA6Ly9tYXRwbG90bGliLm9yZy+17YcXAAAgAElEQVR4nOydd5gb1fX+3zujtr3YXvfeMGADtgFTTK+hhtBCdb4kpAFJgORHSCChhRJC6BB6qCEQQg3NxtjGveOKe13bW7x9V23m/v6YuaM7oxlppJVWK+/9PI8f70oj6a50defMe99zDqGUQiAQCAQCgUAgECRHyvUABAKBQCAQCASCfEEEzwKBQCAQCAQCgUtE8CwQCAQCgUAgELhEBM8CgUAgEAgEAoFLRPAsEAgEAoFAIBC4RATPAoFAIBAIBAKBS0TwnGMIIbcTQl7I9LEunosSQkZl4rkEPRMxdwX5ipi7gnxEzNvugwieMwghZBohZBUhpJ0QspcQ8gwhpDzRYyilf6GU/tjN86dybKYghPybEHI6IcRPCNlrue9SQsg8/e/9uivHJcgsPXDuPkwI2UgIaSGErCeEXNOVYxNkjh44dx8ihOwkhDQTQrYTQv7QlWMTZIaeNm+5YyoJIbWEkG+6cmyZRgTPGYIQcguABwH8FkAZgCkAhgL4khDic3iMp+tGmDaTACwDMAHAast9+wE8CuCBrh6UIHP00LnbBuA8aH/vtQAeI4Qc27XDE3SWHjp3XwRwEKW0FMCxAK4ghFzUxeMTdIIeOm8ZDwJY12UjyhIieM4AhJBSAHcBuJFS+hmlNEIp3QbgUmhfiKv04/5MCHmXEPI6IaQZwDT9tte557pGVxPqCSF3EEK2EUJO4x7/uv7zMH0r5VpCyA5CSB2vQBBCjiKEzCeENBJC9hBCnnT6Uib4uyoAEEppPYDJ0L4UBpTS6ZTSfwOoTvlNE3QLevDc/ROldD2lVKWULgQwB8Axqb5/gtzRg+fud5TSNu4mFYDYUs8Teuq81Y85BsChAF5O5bm7IyJ4zgzHAggAeI+/kVLaCuBTAKdzN18A4F0A5QDe4I8nhBwM4GkAVwLoD+2KdGCS1z4ewFgApwK4kxAyTr9dAfAbAL2hBQWnAviFmz+GEHIqIaQRwE4Ag/SfHwPwS/3LdaKb5xHkBT1+7hJCCgAcCWCNm9cQdBt67NwlhNxGCGkFsAtAEYA33byGoFvQI+ctIUQG8BSAGwBQN8/dnRHBc2boDaCOUhq1uW+Pfj9jPqX0fV3x6rAcezGAjyil31BKwwDuRPJJdheltINSuhLASgCHAQCldCmldAGlNKpf1f4DgKugl1I6g1JaDuB9AJdA+0JuA9CHUlpOKZ3l5nkEeYGYu8Cz+ut/7uY1BN2GHjt3KaUPACgBMBHAawCa3LyGoFvQU+ftTQAWUkqXunne7k4+eGjygToAvQkhHpsvRH/9fsbOBM8zgL+fUtpOCKlP8tq8Kb8dQDEAEELGAHgE2vZJIbTP2tWkJYTs0p+nBMC5ALz646sJIS9RSm928zyCvKBHz11CyF+hbSOeTCnNezWkh9Gj564+X5cTQs6EZgMQ63J+0OPmLSFkALTgeZKb58wHhPKcGeYDCAEwJW0QQooAnA1gBndzohP0HgCDuMcXAOiV5pieAbAewGg9seR2AMTNAymlgwCcBWC6fkX5HIBf6leRYoE+sOixc5cQche0v/EMSmlzmmMV5I4eO3cteACMTHO8gq6nJ87bo6BdGKwlWhWOxwAcRbQqI3KaY84pInjOAJTSJmhX/k8QQs4ihHgJIcMAvAPNk/aay6d6F8B5hJBjdbP+XXA5gW0oAdAMoJUQchCAn6f4eJY1C2hbg0usBxBCZEJIANriLRFCAoQQb5rjFeSAHjx3fw/gCgCn6wkugjyjJ85dQohECPkpIaSCaBwF4JcwB1yCbkxPnLfQvNzDAByu/7sTwHIAh1NKlTTHnFNE8JwhKKUPQbtaexjaJFwIbUvlVEppyOVzrAFwI4B/QbuqbAFQA+0qNVVuhRYctAB4HsDbKT5+EoBlhBAC4CDYJ1NdDaAD2lXrVP3n59MYqyCH9NC5+xcAQwBsJIS06v9uT2OsghzSQ+fu9wFs1l/jdQBP6P8EeUJPm7eU0hCldC/7B82jH9F/zkuIsPl1XwghxQAaoW2lbM31eAQCt4i5K8hXxNwV5CNi3nYtQnnuZhBCziOEFOr+p4cBrIKWuSoQdGvE3BXkK2LuCvIRMW9zhwieux8XQGs6Ug1gNIDLRRUAQZ4g5q4gXxFzV5CPiHmbI4RtQyAQCAQCgUAgcIlQngUCgUAgEAgEApeI4FkgEAgEAkG3Ry+PupwQ8nGuxyLo2eRVh8HevXvTYcOG5XoYgjxn6dKldZTSPl35mmLuCjqLmLeCfCWDc/dXANYBKE12oJi7gkzgNHfzKngeNmwYliyJ63cgEKQEIWR7V7+mmLuCziLmrSBfycTcJYQMAnAOgPvgohW5mLuCTOA0d4VtQyAQCAQCQXfnUQC/A6DmeiACgQieBQKBQCAQdFsIIecCqKGULk1y3PWEkCWEkCW1tbVdNDpBT0QEzzqqStEcjOR6GAKBIA9pC0URUYQgJsg/mtrz4rx3HIDzCSHboLWjPoUQ8rr1IErpc5TSyZTSyX36dGl6wAFDMKKgI6zkehjdHhE86zz42XpM+PMXaBEBtEAgSJFD/vQ5pr28KNfDOGDYub8dj03fCNGHILvM21SHw+7+AjO/q8n1UBJCKf09pXQQpXQYgMsBfEUpvSrHwzogOf7BmRh352e5Hka3RwTPOh+urAYAtASjOR6JQCDIR+Zuqs/1EA4YfvLqEvx9+gbs2N+e66Ec0Czb0QAAWLx1f45HIugu1LWGcj2EvCDnwbOo2ygQCAQCnlBUs8BEVaE8ZxNCCAAgn95lSunXlNJzcz0OQc8m58EzYnUbc4rYHRQIBDxb69qE9y9HSFpMB1UEz12COP/1PN5ZshO/f29VroeRt+Q0eObqNr6Qy3Hw6BfiAoGgB6OoFCc//DV++eayXA+lRyLr0bOInbMLO9/RvNKeBYlYW93sKgn0t+9+i7cW7eiCER2Y5Fp5Tlq3UZSeEXQ3CCEvEUJqCCGrcz0WQXZglTO+2VSX45H0TCTCgmcR1GUTAqEWHWh87/E5uOy5+a6PF0m56ZGz4Nlt3UZRekbQDXkFwFm5HoQge7Dg2SMlDy7EySfzMC+uIqTnrGLstIq3+YBi/d4W18d2RIQ1LR1yqTy7qtvYVYhtK4FbKKWzAYj09AOYsJ6wJrsInkWAl3lk/cwk3tvsImLnA4t0LuRFhbH0yFnwLOo2CgSC7kpE0U5CXjn5EikqQmQeWZdExXvbNYjdkwODdL4vzR2it0U65Nrz3O0Qa7UgUwi/fv6Sim1DqKOZh9k2oqJrY1YxEgbFFD4gSGctahbKc1p0i+C5O9VtFKWRBJmiO/j1l+9oMCwIAveEUwieebVHtLbNDOxtF8pzdhEJgwcWkTQuNkVX5fToFsGzQCDIPNvq2vD9p+fhro/W5HooeYehPLuwbfAX3FMfyl1r22RVYIjG44SQTYSQbwkhE7t6jG5hXvN0ggGBe2Kl6gQHAm6V51A0doGfyPN86bPzccmz8zo9rkwSUVRMfegrnPXo7JwG/iJ4tiBKIwmSQQh5C8B8AGMJIbsIIdflekx2tIa0RXHp9oYcjyT/iES1dSBV5bm2JaetbV9B4iowZwMYrf+7HsAzXTCmtGC2DeY9F2QXcdo7MHD7fWkLuQueF23bj8Xbutf5oz2kYOf+Dqzf24IttW05G4cnZ6/cTRG7hIJkUEp/mOsxuCHg1a6NhW0jdcKKdnLJp2oblNLZhJBhCQ65AMCrVMsOW0AIKSeE9KeU7umSAaaALDzPXYqoNnVg4HYtagvFAubmPLNthJRY4B9Vc7c+COVZh115C+VZcKDA4o6QCJ5TJsyUZxe2DSV/1oyBAHZyv+/SbzPRHRJdDdtGN7kwOVBhCn/+TGFBItwGk7zanG+e51Ak9jdGc7gzJYJnC2IRERwoML8o728TuIO9d17ZhfLsYgFfsbMR6/Y0d3pcncTuj4kbfHdIdGVeXKE8ZxeRLnhg4TaYbA3xwXN+VdsIc2tCLhOKRfBsQdS7FBwosIWFv1IXuIMFz1bbhqpSPDZ9I6obO4zbkqk9lFJc+NRcnP3YnMwPNDV2ARjM/T4IQHWOxpIQkTDYNcRK1Ynz3oGAUzCpqtRIbK5pCeKbTXXGfXM21iGYR10GTcqzCJ5zD/sIxC6h4ECBqXZBoTynjKE8S+YlcvnORvx9+gbc/t9Vxm3JrF5rqnOuODM+BHCNXnVjCoCm7uh3BmKeZ5EwmF1Eh8EDC6cL+Ql3fYHT/j4LAPCTV5fi8RkbAQB/PGcctta1Yca6mrjHuM2VufTZ+fjr5+vTHHHqmJTnHF5ci+DZgkicEBwosKtyEYCkRiiqYMf+dgDxyvPepiAAc+fBZOrHrA2ab7gkkN38bLsqMISQnxFCfqYf8j8AWwBsAvA8gF9kdUCdQDRJ6VoUleLwu7/AO0t2Jj9Y0G1xsm20hqJGZYr61hBKAx787ZLDcOYh/QAAbeF460a7zW0A8N3eFvx3+S7j90Xb9uOpmZsBaDsYH66szqpVMBThEwZzd24T1TYs5DB5UyBAWyiKtxfvxLRjh0FyUekhEblMpshnbn3nW3y0UnMzeCye533NWvBcVeI3bkv2PrP2t25afXeGZFVg9Cobv8zqIDKEaJLSNbC3tyOioLE9gjs/WINLJg9O/CBBRlm9uwl9SwPow60p6eLm+xJRVJx1aD/8YNIg7NbtZ3bN4docmj2d+ehsAMD3jxgUd9+sDbW46a3luP6EEbj9e+NSGbprzMqzsG10G0S1DUEueeiz9bj747WYsT5+Gy1VIuJKMC0+XRVzMljrPO9s0BTpIn9Md0hWHord39wREd5Sl8Q8z+L9yibsfMemJemmGYSEkMGEkJmEkHWEkDWEkF/lekyZ4twnvsHZj83OyHMpLtb8cFSF3yMDiNmj7CoGtYdSTyRs0oUCtkOXDcyeZ2Hb6HIiioo/vr8Ke5o6TLeLc5sgl7DMZ6ZWdgahPHcea6m6HfVa8Mwn2CQrVcfuj6oUQZG86QpJJAx2CSx4Zv9309gZAKIAbqGUjgMwBcAvCSEH53hMGaOuNZyR53FzsRmOqvB5tHWNpXSkojznGqE855h5m+vx+oId+P17q0y3C8+zIJewrf1MBA3CL5oe/ApgLVXHtjlNwbNL5RnIv4YEuUbM4ezC3l4WhJBuKj1TSvdQSpfpP7cAWAebGuU9HTdNUsJKLHg2lGebx6WjPHeF+Mj7qYXynAOctjeExU6QS9iilongmW8wIYKQ9JAt1TZY0NyRQqF+U/CcgR2FngCzt4gmKanx2eo9mMuVIUuGauyKaPO5e4bOZvQumkcAWGhzX84b/KRCptflZOcNVaWIKBQ+XaRh9ii7JayFC55TtZtl8xqMrwIiStXlABY7y5YOS8LzLMglTHlOtSvgq/O3GZYCBn+B2F234Lo7Vs8z2xbt4N7PZGsGf79Qnt3BLjjERV9q/Oz1ZbjyhbiY0hG2Xd9dWswngxBSDOA/AH5NKY2rAdkdGvykQjjD8zvZ58hez+9ltg1tfbOzbfDNU+ye1+4xXbFzbwqehW2j62E+ROs2VSZi571NwbwqOi7oPng9qSdKtYWiuPODNfjh8wtMt/PP0ZbGFlxPhVdZrAoKU+iCKZRL4hf45g7xObiBxRQiYTC78H58AN1aeiaEeKEFzm9QSt/L9XjcoKgUj8/YiO31bbb3Z7qBVbLvCxNlDOU5QcJgK3ehb7fG2d1Gu2AahYTynFvYCdJaPSoT2fBT7p+Ba19a1OnnEfQ8WFMOtwXqgVhw1tgetr0d0EpR5RtRRc15dQrry7OTk9nzHP9ZLd3eYIxdEcpzyhi2DaE8ZxUWe7D3ubvGzkRTuV4EsI5S+kiux+OW/yzdhUe+3IB/zN5ie39XKM+8Qsz8wn6PxbaRRHm2+x4qKnVcn7PpnTcFz6JJStfD3nPJ8iFn6kJm4db9mXkiQY+CbfG3R9wrlCFFWxCtU5dPpsiXFt3/W7UHn3y7B3WtIRxxz5e48Ol5OOmvM1HfGjIdN3dTHd5YuD0rxfj599FqyWAnEf5ixG7r8AfPzMMbC3doz6FSFPq00lDC8+wOQxEVynNWYYFVJNq9EwYBHAfgagCnEEJW6P++l+tBJePNRdoa0L80YHt/KiIJz6aaFqP5Eo9dAh0foLOA2Ki2YdhWbRIGuTXOTtFWKM2J3ae7KM89tkkKOynGgmdzyR6BIBew4CwVm4XTAswveJlo0f3M15txUL8SnHxQVaefy4lfvLHM9PvKnY0AgM21behVrDURqG7sMHyd8zbX46krJmZtPNblgAVzfPDstGZs2NeiPUalKA140R5WhPfcJeykLGqVZxd2kRJiynM3jZ0ppd+g+wrjjrCLZacgL9XcFsZpj2h1obc9cI7pdruLTV41ZuMx6jwbynP8ayhJEs4VhSIqmV+vK8KncFSFRyKIqlR4nnOBUdfS8nVM9uFHFRW/e3clNtW02t6f621mQX7DAuG2kPsgyyl45he8THjwH/xsPX70yuJOP0868JaUxvaYertmd1NGX4dSaloDrIGx4XkOJ/c8s4sXlVJD6cmXxKxcw9524XnOLmx+szUk76LTbg5re+1UUi3TO2d26wv/HYpXnvXH2cQtfNBtV/UmqqqO61l2Pc8KCrwyJCJK1eUE1fA8WxMGEy/W6/a04N9LduGmt5bb3i9OjoLOwLbYWlNQnp3Ui6jJ65aKhzp+UczFReGpnMK9vb4dw277BO8u3WWovn1L/WkrN05Yn4//symlMc8zd5zTd555oRU1FjwfyDaE2pYQttXZJ0aliqi2kTrpfEcN24Z4n7MCE0GcLgLTtW04YbdTY1Ke9ZwLljBICIFE7CtnJFWeKTWdY1S1a7pksCYvHkkSCYO5gM2xVD3PLLhhJ0MrufwwBflPWPceZsK2wQdqoRSU50P//DnO+Pss022ZDlKdYKXhfLKEgFc2bv9WV5hf+maroaKXF/gyfvJpt9gq+NMB/93mS9U5Bc/s/VdUapQgTNaNMJ+Zcv8MnPTw1xl5LsVIGDxw369MY32vvlq/D6t2Jd6ZYVPXUJ67q28jD6GUGsqz0zqV6fXLbi3iX4NV++HjF1kitusSv97Zep5Vs+c5rKixIDyL0ygUVeH3SPDIRCQM5gL2oVuD52TXTuwqzmct06EjPNOCzsAuzlLxxjplbPNbWqm0hQ5GVGyuNSuIfOa1W77d1Yjxf/4cNS1B14/pU6L5ml//8dFGLVIgZtugiAWuZYXejAf11osWXshhwbBPltARUQylz9G2wdXQ9UgEHok4NmfKBISQswgh3xFCNhFCbrO5fxohpJZLuPpxJl8/k7tu7CScy23ZfMNqAbj7o7V4bo59lQcG+8yEbSPzaGuE9rOTst/Z9csaPNoFuWEb5dnPBc8SIbbKM//cduOPKubgORRRjbWQZHEmMeVZlkhOL657bMIg296wuDaSKs9sErF6vFaE8ixIh5qWIHbUtyOsnwAznTDYWW9dq6XblBuF6tlZm9ESjGL+5npccLi7TroRRcUVRw/BUcMr8f6K3cbttS0h47WZbaOswNupv6slGMH0dftAQHDY4HKs2NmA/W3mahj8xTBbM0oCHtS3hRGKqgh45eS2Dao1I5D1JJdsQAiRATwF4HQAuwAsJoR8SCldazn0bUrpDVkZRAYxOt8J5dk11nWgPawkVeYMz3M3TxjMR/g102ked1Z5DkVVeDghj784Z+t0xFRtQ7dtWJVnfV3irT9Rk23DpgSepdpGSFGyKg4YrxNV4PfI8MpSTm2yPTd41iet1fOcTDk2gmcn5VkEz4I0uOjpedjV0IFTdJ/vpppWvLt0Fy6eNMg4ZvmOBjS2R+KqXbAFOL4yRHrKsx0tXH3illAUpQFv0scwC4rTLo0doYhqqCIBT8y2sacppl4z5bm8wIuIQqGq1OiU5ZbalhCueWkR1u2Ja1Jmgn9L2QmkWA+egxEFAa+cNGFQUdWY8py9YPAoAJsopVsAgBDyLwAXALAGz3kBe5syXQf3QMaqYgYjStKLNWvCoNCeMwef9O2kPLP5neLyZRCMKCjyx8I4XjBRKSCTWBlCwMG2QWK2DX668AGznZc6qlLIlnKoXaEE88rz6wu344QxfXD6wX2z/rpWeqxtg33I7KTLAo9kSRcsIHAKnoXyLEiHXQ0dAMxB6hdr9pqO+f7T82yrXSRKGGQe4nQUWv670MrZNva3hu0OjyMdC0pIUY2FPcDZNpr0EksqpzyXF3pNr+PEppoWXPjUXLy7dBdufnsFvv/0XEx96CtsrWvFP66ehGuPGQoAmDKiEv+7aSo+vvF4nKEvxiYlRokpz0CsXJ3TBbPC2TZkkl3lGcBAADu533fpt1n5ASHkW0LIu4SQwdkYSCbUIMO2IYJn11hVzGBETSrmsLc35nnOytB6JPzuodMaFXYQ8dxiXftNSX56YGtv24gJE5JEbNu085YpO+XZ6nkORWOJ5tmcR8zz7JUIKAV+8uqS7L1YAnqs8ux0xZfMssyCEEfPswieBZ2gtiWEKSMqEVGoY8UNq23CKTCOqiqK/B40dUTSUp7bwzFVo5kPntvDGIaipI9nFhRr50MnKKUIR1VjYecX+NgxMNk2AE3x4JMLeZqDETw6fSNW7GzEip2NqCj04qB+pbh40iBcNnkIxg8qwxFDyrF2TzP+fP4hOKhfKQDguWsm49wn5pjWA7ZmsNdlJ0dn5TlWbcMjSfBkd5vR7nRlfbGPALxFKQ0RQn4G4J8ATol7IkKuB3A9AAwZMiTlgXREFBT7O3dqUZP4yQXx8IGUolKEFTW58sw8z+IiJePwwbOd8tzYHjaaqKSbqGkNnvmLTaNWuk2TFL9DwqBqEguSVNuwJgxGk8+3TGBU2+BisKb2CJqDEQyuLMz66zN6sPLMEiRSq7bBOrV1ZbWNYbd9gr9+vj7jzytIn2TJWelS2xKCzyOjJOBxDJ6tSm6iaht+jwSPRNKq89zIdcPjx/KXT9a5KovVoX9XVu9uwvS1+0yquh3sBO63UZ4ZpoRBFjwrzn/bOY/Pwcff7jF+f3HakXjr+im498LxGD+oDABQVRLAOz871gicGRIhtieTgeUFAIC9TZoP28nnZ1KeJQKJZFV53gWAV5IHAajmD6CU1lNKWavG5wFMsnsiSulzlNLJlNLJffr0SXkgHRloBBM78bt/v1SV4vEZG1Fn6UbZU+DXAXZBnexizWpTrG0J4bJ/zM/84A5QFJWaBLMFW+rx7tJdiCiqUWkDsFdur31pERbpnYjltINn83fN5FO2CZ5ZkxSfJWGQHcLPB37u2NV5jleeYx77bG5gdES0Os8eTvk854k5mPrQTNvj9zYFM7ImWclZ8EwIGUwImUkIWUcIWUMI+VVXvj6bUKy6BpsCyTzPTPXyyvbTI9PKEvtiPjVzc0afV5A+XHLW2QAOBvBDQsjBmXjutrACn0xQ7Pc4Vrg49E+fG93rPlu9F79991vb4yKKViIt4JVdZXVTSrFRf14AaGiLKcZ84LtkewO21bebHrt6dxMe/Gy9Kaiu05P83l9RjR+/ugQn/vVr/OmD1VhTbV8+i5382a6Ok5ocjCjwe2Kl7BK1Ht+5v8P4+ftHDMQRg8sdj7VCYPEA6kHy0F6a6l7dqD23k2hnlKrTEwazXG1jMYDRhJDhhBAfgMsBfMgfQAjpz/16PoB12RhIJhrysHU4lZ285Tsb8MiXG/Dbd1Z2+vXzET6QYjtNyaqV2JUoW6gHdILkjLz9f0ZX1Je+2YrLn1uAW99ZiTs/WI1W3fNcEvDEKfuqSrGSKyOYtm3DsvbZJfnxF1VGkxSZD55j3zP+68YHzBGb80dUNdd57ozyHFFU3PzvFdhen7xOfGsoiuKABx4uBmO2RyuUUky5fwaufy3z1o5cKs9RALdQSscBmALgl5kKQFy9uJHMY749maAWC57t37qMB8+i9F13xEjOopSGAbDkrLThhQefR0JJwJuwPNzHKzVR8WevL3U8Jqqq8MgEAa9kBDQvzNmCP32wGoB2sn1+9hasrdaS5v6zbDdO//ts4/FNvPKsj+X1644GAOzcbw6eb3prOZ75erOxiFFKjQoZADBxSDkO7l+Kf87fjhe/2Wo7XhbgsxJ1tsqz7nku8MmGepLowqBKL333+a9PwN8vOzyl7VFCiMn3wFTQQRUFIATYbQTPiUsFsoTBbHqeKaVRADcA+BxaUPxvSukaQsjdhJDz9cNu0oWKlQBuAjAtG2PpyEjwrP2fSqk6tlQ2p1FWMRM0toehqhTBiILfv/ctPlixG5+u2pP8gRmCD5LY9z3Z+UicXpyhlOKlb7YaF8nt4Sg+Wlkdt+v22Zq9CEUVPPDpepxyUBWOHl6Jb3c1GbaNikJfnG1jmyVITCV2tvqMeUxWC/27Y9ckhS8D6mTb4Ne1H7+6JG7NT+R5TrWe/dLtDXhv2W5HIYinNRhFsd8TV2YYiLfHtOifwZyNdSmNxw05C54ppXsopcv0n1ugLfju6lllgLASO7FZxpXwcUz+9zjM9kyfHIXlr1viNjnLNV4p9lX0yRJKAp44mwO/2zGoIrm3K6poCYN+j2woUfd+sg7/nL8dgFYH9r7/rcOVLyxAQ1sYy3c0mB7/5sId+POHawBoi1DAK2F4H0113dlgXkgrinwAgGX6c1Q3BU1qyzXHDMPrPz4aY/uWmJIPedwoz1GVoiOsbdsxT3Sick+hqIppxw7D2H4ljsc4IRHzesAW5kKfB32K/cZJ1ek7H7NtaFujHtm+nmqmoJT+j1I6hlI6klJ6n37bnZTSD/Wff08pPYRSehil9GRKaVa8YJnYIrVLYEoGS/7ORfmq5mAEh9/9JW58azkuenoe3lq0E7/61wrc+4lZ3N+wrwXnP/kNpr28KCMKPU/IJnhOdj5yLrOo3b67scO0A9WTqG4K4u6P1+LnukDx9y834Ma3lmPe5vq4Y98aaS8AACAASURBVOdvrkdYUXHB4QMwuLIQDW1hI3guL/TG2Y+sF3ipVAvidxjibRvxnucw99qN7eYOg4C5zrNqo1wz3l680/S7YlGeQ1HVqMqR6neQCSFuSve16Mqz3dy2lnjdp1dpcorXOkO38DwTQoYBOALAQpv7rieELCGELKmtrc3Ya8aSecy3J/vM2aLkdFymlWKhPHdL3CRnpTR3+S0oryyhxO9BKKqaFpOyAp/xs92VvbXBT0RR4ZUl+L2SbVIhs340tEewbEdD3FX7J6v24JV52zDstk/w3OwtCHhl9CsNwCuTuG2y/mUBAMDyHY0AgK/W7TPdP0IPuosDHpMXkCdsUZ7tEgbbw4rhefMbyrNzENIejqLAZ2//SAaxeJ7ZCdArEwwoL0B1k/YeOAXE7HhVpZAlZLvaRrchE8qzkkbCIPON5iJ4ZhcMn6zag7Vc+UPrBfCXa/fh211N+Pq7WrymX8RmCnPw7C6IcVII2Vpw3ANf4cj7pmdohPlFux6I7dcTnlnexwbO2sZ4auYmAMCYviWoLPJhf3vYKFVXVuBFRFHx7a5GbKtrw56mDizYYg7AU5mzvFXDjW2Dt1x0RBRIBKZkO7Py7Dwmaw5OVFVhTRhkpThTXedYML+roQObalodjwtFFYSjKkr8HtskTOtu7b5mbfeztCB5adVUyXm1DUJIMYD/APg1pTSu6Cql9DkAzwHA5MmTM7YqstqHVuXZrefZadHJdFF/ETx3S5ImZwGpzV0+YcTnkVCsl0NrC0Xh82hBcyEXBNqpVtYdbpaoFiCybbWN1pCC0VXF2FjTiqaOSMLkrEMGlGLKiF6QJS1w/G5vC95YuB2KSnHU8EpjPK/M24blOxqwpbYNI/oUYYveqXB4by14ZtU/7AgZyrP2d9rZNtpDUaO+sj+JbSMc1eqOFqUZPGvKc+x3lgzjlSUMLC8wgqRkynNUVbVqG1wzggOZjATPaSjPbE3OxXvsNAfawoqpOo4xxz0S6toym9jI7/QEXSYMOu202iWe9TRYwjRbm8sLtXV45/4OvLNkp8lisHibtuM2ok8RKgp9CEZU7GnqQJFPRsAro641jPOfnAtAs+hZ3/ZU5mzQpDxbStVxa7hdtQ0gvtgB3yTF3BTKPCZrYKqq5nHzdcVTrWfPbLB1rSGc9sgsrLnrTFP96prmICh3XLHfYxtrNVsuVvc1a8ozKy+aSXIaPBNCvNAC5zcope915WsbyrPl/U/0kb+5cAde1dUCp8mReeU5o08nyAxGchaA3dCSs65I98n4rnlAzPMMaAsWs0REFK2+ZSiq2gbDYUU1nagjKoVHliARe3W2NRTBqD5a8NzQHjGdfB+4aDxGVhVj/Z5mVJUGcOYh/Yz7BlcU4qv1NfhqfQ0AYMKgMpPFgiXC/O7Ysdha146X5m41/p5iv2zYHeLGzwUWgL1toz2ioC2koNAnGwq13Vbf2upm/HPeNgCazSIdrMozOzF4JILSglg1FEWl8MlSXFIQ+12lrMOg1CMCkUzYNtjbnsr7Fctj6fr3mFf3rjh6CN5cuMMYy66GDszaUIurpgzVu6NJ8MpSxoWWELeGsM8gqfLscL+orx2zODBLBdtFWL+3GTPWx3bWBlUUYFdDB3oX++H3yKgs0ta65TsaMaRXEXyyZCrXaRcipDLP+bXfuq7zzUys1Ta8stbO2rqjJxH7BF1FVfX7tN93Wax6UVWFxE2T9nDUsI10dp2b+tBMvPfzYzFMF12O+ssMAMDs354MACgOeG3LKzJLILso3HsgBs9EO8O/CGAdpfSRrn79dDzPt/93lfGz0+TI9MmxJyhV+QalNEoIYclZMoCXKKVr0n0+az1WnywZdXJbQrEr6Yii4qKJg/DWoh2OfsmwEquTHFVUeCUCryzZVqRoCynoX64lvzW1h00BQEnAiyOHVeLIYZVxj/vpiSMwqqoY507oj38t3omZ62tQVRrAsSN7YXt9Ow4fUo4RvYtw5dFDIUkEd54XywMu8nnQGozi0ekbsKmmFU9eMdG4j50I/AmCZ0qBhvYw+pT4DYXarrPa9x6fE3tNf5q2DViyz/U1wyNrwQ/7PapSeGUCa8zIJ23JBD1HeU4heJ63qQ5XvLAQS/54GnoX+43bDSUspeDZXYWJbMC/5kEWf/20lxdhc20bpo7uHatRKxHbbefOwAcTrUlqkDOc7rYGJu3haNoXofnInqYOfKgnZTPluUnvzrdw637T9/iHRw3BxCEVxs5gha5Qf7evBd8b3w8emZg6pNqRysUKv/a7aZLCjikr8KGuNRQXSJqVZ35MFD6PZATr2+sTJwy2hKK2CrYbrOvi/rYwPlm1B788eZTpdnY+1JRnZ9vGaY/MwviBZUY502yQy2/DcQCuBrCKELJCv+12Sun/uuLF+QYGQCxoTvShF/pktBtX9E61XTO7ILqppyvoevR5mpG52h4yBxua8qwHz9xWWVjvrOTzSKatO55QlA+eKTwygd8rYb9N0k9rUGuzXVbgRWNHxHQy9zvUMQeAqaP7YOporf7vvM31qG8LwyMTHNSvBG/+ZErCv7XI70FbKIpHp28EANx9QRiVurJuVZ7ZGEoDHlOCTX1bGIMrCw3lmVdfVJUaSYuMgjRP+lr903jPs48Fz9HYGmJXaqqDD54lCZLwPMfxzCytBOfq3U04aWys7Xw6nme2zZwT5ZlTkSsKffBwnzULOiKKanyHCcl88MxfILdxuyKJcLo4sariuxs6MLpv6km3mYQQchaAx6AJFi9QSh/I1mud+ffZxpojGcFzBCP6FKGxPWJaT2WJ4JiRvYzf2XoGAMN6FaGmJbk9R6XA52v2mnb4nOCDZ6uIYm5swpRn7f/yQq8ePJsDSqc6z1F9R40Fz7WW+unWhMHWYNR4rVTXOf51TxjTB7sb2rF0u7aOt3M5MkxZLgl4bG2GLLjeXNuGzbVtmDikXH+OA6jOM6X0G0opoZROoJQerv/rksAZiE0o6+KSKFZlzRGARD7Hzo+Npweca3s89br3kXlzCWLbTGyxmLe5TqsB7ZEQ8NgryYDZwhBRtYTBgEeOOz4YURBWVBT7ZZQXeNHYHjGpGE5NgKz0K9USBfc1h1x1lSv2e4zyQQAwZ2MskTIU1yRFez8KfLIpO7y2JWRKGGR/c01LEE/O3IQrnjfnHafteZasHbeY8kx05Tm2hnhsSlealGcJ2a7z3G1IpYoEU6mtqiZNw78cNax4uQiembrnxWnj+ppKmUYNgSZ2cevj5k+m4NXiWPfL1Os8A/HBs1Md3a4ik7X1KaVxVRle/GYrznp0Ni79x3wEI4rpYn1vcxArdjaiqT2MQRWFGNbLXOnIWsmhgg+eexc5lrUFgBG9Y51af/ra0rhkxFBUwY76dpOIxq/TcaXqbKptsLlZUagFzaU2yrPd901RKXycxUNRqWkc1gYxbZzybF3n1lQ34e9fbsB/lu6CHfw0LPLJOHJYJZZub4CqUuzgSuSxHZVif3ztbEA7X/JjXKYnsB9QTVJyjVV5ZiRaqwdWxIJnR69Yhk+OPWGbtyfT1B7BaY9otZUn6RaJrfXtRiDaHIzg8zV7ccXzCw1vbcArIxhRbFUjPnhmpeoCXilODWR+vmK/B2WFPjS0h00qt+vgWa+yAbjzlRVZAuxFXEMGa/dOVpqPgKCs0Iupo3vjnAlan49DBpSa6jzXtARx1H0z8MiXG+JeM23PMzTPc0dYQTCiGMqmVybwycTwmEdValtzNBjR7leopkzLEsm4z7U78ORXG/HZ6r3G76mcqNi8tAr3fLKlW4w1PQfvMQuEH7v8cFMNch5WPUdrLZxd5Zk16Ej2XjidXiKW951VlskhGaut/8KcrTjkT5/jhTlb8N3eFtS2hHDPx2uxfm8LFm3dj3csAV5TRwQXPjUXTR0RlBV4TfYiID54riyMBc9j+5bA59BQDQA+/fVU3HTqaON3a4Oaez9ehxP+OhNj/vgpPv5Ws5HwF6cfrqhGMKKgqSOC7fVtRldXALjvf+vw+IyN+Ie+u8MUZ6vyzFfbMCVIq2rcDiR/wadQs/LcEooav7N1bsa6fZh875c45/Fv8NiMjbjFoYERfxFX4JNx9IhKNHVEsGp3E7bV2QTPAXvbRnMwavKEe2WC08b1zUgSs5WeY2Ky4JQwmMy2wXAKajMtLAnbxoHN+yt2Gz8fM6IXZm+ohU+WMKC8AKUBD/67fLeR5Q3A6BgYjChotSn5Fo6q2NccxGMzNmLdnmacNLbKsErwMLW7OOBFRaEX+9vCpkzlRLYNHnPwnNxfVsz5jw/qV2JKHrS252ZWiEK/jOG9ijC2Xwl+d9ZBeEpPzWRbp6GIgme/3mJ6nYuOGIj3lmvvbdqeZ6IlEH/v8TmoawnhrgsOAQB4JMkIjqK6+uJUR7S6KWjYOrLhc+0OPPyF+YKlxaGtvB3spGZN+kyn2oaxE5BD5ZntkNgHzwpCUQU+WdICj04E+fM21WHG+hpUFvkwsk8RVuxswsqdjcb9hm0jyXuRzLbB/LBOtdm7ELva+ken80Qf6UHovZ+sw0UTm3HauL4AgD+eMw73frIOr+qJxla04NkDalVuLcpyWYEXhwwoxfGjemPCoDJ8tDKuEJOB3yOblODX5m/DltpW1LeG0R6OYvbGOpTou3VvL96JcycMMAWHa/c04/b3VmHe5nojOW5UVTE21bRi0db9hjgxfmCZIVyUFpjHz9vTzDttFAGvjEKfjJKAB/uaQ4iqqlEtRFEpJKIdT4im+rI1mz3fyp2NqGsN48ZTRqElGMUrDu8t/7qFPhknjamCRLTg21x1Qztvlfg9thd+LcGoYfO46/xD8INJg/DEVxsxe2PmyhwzkgbPhJC+AP4CYACl9Gx9q+QYSumLGR9NFxLbctUmIvscEgWr4ah5y8KOTCvPQniOZ1tdG6pK/UkVxX379uH2229HdXU1Pv30U6xduxbz58/volEm54MVu/Hw598Zv4+qKsbz10zGUcMqEfDK+OmJI/FX7n4A8HpYx0DVdlEORVW8v2K3ke2/u7EDo/sWo8WyndXQxpRnzbaxpbbNFDynozwXp6g8D6ksNCWhsGoBzLPdrzSAW04fg/MPH2C0xOZhQfbXG2oNfxwAnDimDx657HAjeC5Mu1QdgUqBrXVaub0VenDCbBuAFjRFHTzPALBk2349YVBTnhvq63HdddfFzcnrrrsurTF2R56bvQVnHdoPE4dUJD2WqdQhy0VFWtU20mzQkAlYsMnsOz6brfpQRPc8ezXLht22sxs27mvBj15ZDJVSR+tHq1vPc5I6zz5ZQoeqJOx2ypPFNdd1bX0A1wPAkCFDbJ+IT0TeVteGRVv3o9An4/tHDMS9n6zDxppWHDmswig/x2jqiKC8wBf3XbdeOEsSwSc3TY3dn8C2AZhbc2/Y14oN+7Q6x2P6FmNYr0K8cM2ReHPRDjw7azNOeGgm6i3eY7bODaoogKpS3HTqaNz01nJUFvmw6PZTjTHc9h+ttF6pjfLM5gF/saXtqAFr7z4LL8zZgns/WYeIQkGgvfFRhYLowXNZgRetoaixvrPvLavJf8sZY/HodO0iW1VpXFMY/iKu0OdBRZEPE4dUYPbGOhyh+5YBTU0HnM81raGI4W8u9Mko9ntQ6PVoNagTrNPp4OYM+Qq0qgID9N83APh1xkaQI5xsG4ku1KOqigmDynDY4HLM/K4Gz8/eEndMpkvV5UJF6e6c9PDX+L9XFic9btq0aTjzzDNRXa0FmWPGjMGjjz6a7eG5RiIEBw8oxcvTjsRhg8sxaWgFTj+4L8p0b9rPThyJx394BH503DDjMcy2MWtDLf7w39Vxz7lk+348+dUm9C3VthZH9ClCSUDzh/H+OEN59ntRXujDjv3thpUDcK88l3DBsNVLZwdbXIt8stZoxEZ5ZoE7IQQ3njraNnDmj/v6u1q06C1bgZgPm5F+qTrtYpqttzPWaaX5WMIgoNWLjyiqqckNo9jvweJt+42ThUciWPrqfd16TmaK7Zb2w044Ks/cNrLbihvpJitlAmZzYFYju4vPYFTLM9DmD3FVYeG7vS2YtaEWHWEF8zbX4dlZm3HNS4tQEvBg7v87xTjub5cchlV/PgN3na/tjrittuEUXEcs/nFrgwwnsrjmuq6tTymdTCmd3KdPH9sn4i+mt9W3Y92eZhzcvxS9ODvG8aP6wOrEUqkWJPYpMds2kgVkzLbhdBHPgm+fR8LC20/FottPxUc3HI8vfnMivvjNiRjSqxCXHTkYk4dWYHRVMS6aOAg3nz7G9BzlhV58dctJmHvbKYa3+QcTB8IjS0bwzi4a4jzPnPJs9TQzOxpb76KKapRCVSg1xMfyAq/J88zioPawYvzdMvc4K/w0LNDHObRXEWqag4bazFNgU4kJ0EShdkseRYFPGztv3WgORlzPaSfcnCF7U0r/DUAFtDJdADJvIOliwlH74DnRWsM8pB5JU6TYVZD1GEYmLBfZbOebj7DPa8GW/UmOBOrq6nDppZdC0ltfezweyHJ6KmQ2OHdCf7z1kyk4+aAqfPDL40xZ2oC2KJ9/2ADceW4sL0ZLGJRtPVyFPhl/+O9qRFWKaccOx+I/nIYHfzDBUBp4ZZm13C3yyxike/n5sj523f3sIITg1IOqkh+owwLc8kIfBpQH0BKKojkYwYZ9LUbw7jZw5xWfwZUFuHSydm6tLDa/j0UZqrbBCu57ZAlefYwz1u/DhyurEVVonG/34P6l2LC3FVHd1iFLEsKtTd16TqaKdY376QkjAAAdYXeqKlOenWwbgHsBwajznAvPczTWQEf7394DH4ponmevy4TBMx+djWtfWoTD7/4CVzy/EA98uh5+j4QXrj0SVaUBnDxWCxBPOagKJQGvcXHKbBbJPc9OO6h6EKT/71Z5zuKaa9TWJ4T4oNXW/zCdJ+IDr/1tYWyu1XYyAa3s3NTRvfGTE4Zj3d1n4ZJJg0yPLQl44sqfJWv9zObEgPL4dRaIKdN+WULf0gCqSgMYP6jMdMzw3kV49+fH4sVpR+KeCw81fNIBr4Q3f3I03vjx0fDpVVyOG9kbT185Ef/vrINsxxNXbUOK2U2tpTlZ8MzEAaZGA6xUnfZzWaEPLaForHynElOeWdDO1Ga7Ocffxmx2vYp9qG8LG+su49mrJhkBPGBOCN/Z0G50sC30s4Rz7TvBV+046r7pmPrgV3HjSAU3Z5U2Qkgv6FskhJApAJo69ardAOeEQefFRlOYpISdVMx1FqntIpoKQng2k4pntKioCPX19cYXbcGCBSgrK0vyqK6DEBKnbjgdx/Dp7bYBYOro3jjr0H44d/wAeD0Em2paMX9zPSYMKsfEoeVGAMwS+Zo7YosH8wuXBDyYduwwnDquLwaUBzD2j59pr+MygAWAhy6egPv+tw4njLZXenhYYFxe6DVOJjPX1+BX/1phHOP2tfn3Zc7vTsHjM7Tyd9bvcNrtuaFdcLCvtNEkRU8YBLRargDwq1NH488frTGVRAr4ZDR3RKDQmPIs+QLdek6milXZZG1w2x1asFthuyHW4JlSmLyVDkKTCata2pXwcwNw9jyHFRUlAQ8UNbltYw+XpBeKqvjjOeNwyaTBxs4UADxxxUTs3N9uVHhggRwLINKt82x9L61txp3I1pqbydr61ouWutYQ+uiq8/0XjTfdN+24YaYEwgKfHFc9I5ktg11oDywvwKaaVlxw+AC8On97XG5HKmsuAMz67UkoDXhN1T0ALUj93vj+ccez2MQak8hcLoYpflGocX7ySjGbGtGNG1ogHasys6exIy5XIRhRjPWXBeJ2zlZeJGTBbkWhD6Goim317ago9KJBF1fOOLiv6bGlBV60hRVUFmk7qEYFH33RYP8H9Qt6VaUIRrRGY/M21eGYkb1M5xK3uAmeb4Z2hTeSEDIXQB8AF6f8St0Mx1J1CR+jotDnSegjM3mGFHeLfiKEbcNMKluyjzzyCM4//3xs3rwZxx13HGpra/Huu+/isMMOy+IIswtLGAS0xfjKo4ca900YVI4Jg8rjHsMCGv4EWG8ozx54ZMlon82w82w60avYj0cuPdz1+AEtgWVQhVbyiQ+cU31tIKbkDK7UgvEBZdr/rPV4qiclBiEEjW3xQYNXitk2WGLW2eP74f5P15mCZ59eUYElFMoywajzfm47J/MVa1k6dqGWSrk6IL4ph0IpvLKEcFR1/Z13EkQAbaflszV7MWloBcakWK+Y79qZ7LVjyrNd6cKY8hxV48ul8dS3hnDM/WZl7Lrjh8eNo9jvwbj+pcbvLHi38zzvamjH24t34ubTx8S23h1tG1oiLDv9uN3izuaam6na+q2h+O+0tYIG45ABZfjrxROMVtyFPg8mWFThZMozu39or0J8/usTMLJPES6dPNh4TXZ/opJ2djjZ2Zxg3yNrgqNTwiBv2zCUZ4Ua7nNVpYjqPzPPs1FtQ4+QO3jbhv6yyWwbLNjtpV8U1LWGMGlohZHXwhTsCYPK8O2uJiM4H11VjIVb92Ov3pCG7cKw1z/hrzOx8b6zjfsB4IoXFuLt66fg6BGxOt1uSRo8U0qXEUJOBDAW2tv2HaXU3WVoN8apJmgiq0VU1ZpOJFpHTU0VVBUF6Fz0nGkPdb6TSiemiRMnYtasWfjuu+9AKcXYsWPh9Wav41BX4PVIhmLRy2JPcIJ53PjapQ3tseDZDqZuZ5rDBpfjqSsm4tRxVfDJEu6/aDxaghEcPbwXtta1IeCVkyo5PJ/9eir6lmge5wsPH4gCrwen68rEv396DHZaWsqmgkTsK0fwCYNse9zvkTF1dB+jKxmgVeUwEgoJgUwICgeMxvQszclkTSQIIX4ArwKYBKAewGWU0m2deU1rndmAV4ZHIq6aEvBrpZ1to9Ara4k+Lm0YUdVeEAGAt5fsxAOfrscRQ8rx318cZ7qvoS0Mr0eKq1O+ra4NV76wEB0RBfdeeKitmsdgYgxT6Nj/PKy2ut+j/V2JbBtNHeZT7NVThrpSxwzl2abO801vLceyHY04d8IAjNW7IDqd76KKajo3urVt5MOay/8trP201cfM4+cUsAKvjL6lAXx0w/E478lvACT3PLMLwwKvbLzvhw6MBeBsvfN6MpfMZgdTd2USrzyzOIOfDhFVNf42Nsao3rJb+zmmTJcXeNEeVuLssO1hzrZhuWA79v4ZGNe/FC9OOzKu2gZgbjYzoneRKSkcAN78yRQ0tIXx8zeWAgDG9C3Bwq378YG+BrOgOsDtPO5tCsbV0v7o22ocNrjctqNtItxU27jGctNEQggopa+m9ErdDKODlWUBS+QxjigUHkmCbv+2f17LtkdnEaXqzKSSof7qq+YpumzZskwPp8vhOz45qSVWmMeNV57rWsMgBCh28AOnqv6mAqvVDGgeQ8Zhg+NV82Qc1C+muhFCcNahsQ5dFUW+uC3NVODPMcN7FxlVNzwSFzzr9XS9MsFDF0/AuRP64/rXtMXc65GMkwmzbVQv/hxvvhmruMXm5DXXWJfZVMdqNJE4HVpy1WJCyIeU0rXcYdcBaKCUjiKEXA7gQQCXdeZ1rcGzVyYo8Jk9+Qu21ENVKQI+GTPX1+CWM8YCiF3AAWY7FluDvR4JCLmvYBRrzx2/Zjbrwahd8tER93yJQRUF+IZLwAOAez9Zi73NQQzrVYhfvLEMvYp8ePunUzCqKl655hvoOBGMxOo88+3dnY5lzL3tFFODrkTIEtsR0d5/lcaUc/ac/Os67WxGFHPrZbfKcz6suexvmTKiEtWNQezY355wLQ1wO1csIOM/52TKc1C/kHSyjxkJg1lcc4HYBUJcbg2nPPOfOaWx+ute/Qet2gYLglVIRBsz2/1j3zP2HQxGFKPUKgvE2fe7uimIal0FttZ5BszNZkb0KY77e4r9HqOaBqAp+wAwe4NWlo7luvAx3c6GdqNq0o+OG4aX527D6wt2YFtdO17/cWqVD93YNo7kfg4AOBXAMmgKRt5i3aZgn13ihEFV9ws5f1n4hTsTZesOwLKwnSKVC5LFi2MVOYLBIGbMmIGJEydmY1hZh9Vb9XmIoSq5DZ6NhEHO81zXGkKJ3xNXMoiRivp7oMI3PhmhB89emYAQAp+HbY9HjHbLAa+MgwfEgnmvFAtYPHqTlOad67F4sRaE83Oys8EzuCYSAEAIYU0k+OD5AgB/1n9+F8CThBBCO3GFbrVneCQJBXodcsblzy0wHcNsAyt2xOoS80E4W5NZMOHWumZq4GApS8WU8NqWkMmGwfyR1g56lFJ8s6kOVx09BH8452Dc9p9v8d7y3dhU02obPFttG3YYdZ5dBM+s5fyDPxjvOnAGYoEYH+wq+o4pez/499ppCFFVNQVSbj3P+bDmtgSjuGrKENx74Xhc89Ii7NjfnlB55hVJporyvuFkyjO7kHSqEJGubSNVbjx1FIb1LsKZh5g9w5Jkb9sAYnklhvLM+aAVFUad53Ldh9+oB8/s+ToiCgYYtg3nahv8EhSw2DYA4LDBzr55piwPqSzE2L4lRh4KSxgcz6n87y7Zhc/X7MUpB1XhT+cdgn/O2waVApdMHhT/xElwY9u4kf+dEFIG4LWUX6mbEetg5d7zrNk2pISeZzXDyrOwbZhJ5T194oknTL83NTXh6quvzvSQugSPvsB5Zck4Mbq1bRgJg7zy3BIyvNA8Rw2vNHX968mYguc+RZixntueN5TnqMlT7eG2672yhKAeBEkSgUcmGHLuDXjiD6cZx2RwTrppImEcoydgNQHoBaAu3Re1tn33yhIKfHJC2wZLpF64tR5emWg1j6PxaijbxrZbb//2xXd4f8VuvDztKIyqKtafN/Ycry/YjsMHlxu7GUZVD0VFc0fUSLpbv7fZeExEUY3PtblD61Q2uLIQPo+EG08djfeW7zYpwjyxeZFYedbac+ul6hKcR9jrDK4sdDzGDtli2wDYeSt2X5+lAwAAIABJREFU39a6Ntzx/mr86LhhCWwb1PgcPBJxbdvo7msupRQtwQiK/drnP7xXIWYD6J3ItsErz14WCJq/54lg3wUnWwBTsd1WGUoXv0fGxZPig0SZxGwb1niDXRewMUZU1ZAOFVUFsSjPbDeJt20UWGwbdrv7vM7I5ilfNWnyUK37rl051N+eMRbb6tpw9IheeHHaZBz/4EwAMe90VWkAG+49G2P++CneW74bgysLjJKOd19wKF5fsD2hJcuJdGo4tQMYnfSobo5xpRVX59l5QQtHNeVZUWMLpLXgd1QEz1klmW1j5/527GrowDEj4xMACgsLsXHjxmwNLat4JIIQNDWOBc99XCrPhT4ZskRM6lFzMGok7PH880dHmbbTezQm24Z529DHeZ75sn681dUjE0OBZU1SrIFgBuekmyYSGWs0wWAKKcMrExR45YQturV1VMKS7Q04fHA5VuxsNH2v2YnUx6ldPM3BCJ74ahMA4OHPv8OzV08CYFae//ShVojhrvMPwdTRvdHOKeG1rUEjeF5dHQued+xvx0h9e5h1a+ur1wxnAYBTm9+omlx5DkYUhHjbRjSBbSOaOOBygqmY/HmIzTkWlHy0shpr9zTjt+9+ayTZWgkrMa95eaEXda1hw3KSCt1tzQ3pXnMmKEwd3QeLtjWgKkXlmbdqJFOe2fpQXmjv/WaBeLaVZydkk/Jsvs+o8yzxynNsjvFNUoDYDj5fbSPgQnnmb2NvJ99DwOeRcO+Fh+JYm/P6+EFlmP27kwHAlLfA757y8/bZqyYZF6VXTRmKq6bEku5TwY3n+SPEFlgJwMEA/p3Wq3UjrOWnqMOVF09UVeGVJEQkbmGiFBJ3TjKXquu85yLT7b7zHet7umBLPcb1LzW+vFMf0q46tz1wDs477zzji66qKtauXYtLL70U69ev79pBZwC28Hg9krGAlzksxlYIISgJeEy2DSC+TSug+c0KfO63iQ9k2InDJ0s4ekQlRlUV4zK9ljQrP9UaUkyKEZ+M4+X86Vp7bgkbX78D5y/W1Dl+TmYAN00k2DG7CCEeAGUA4rYZKKXPAXgOACZPnpzw6t2qxHp05ZkFmXZiBLMr1LaEcOSwSqytbjYpz4ZtQw86rBccsSRNCV9vqIl7Xh4WRPPUtIQM68XW2lgzl801rUbwzMrE9dc7aAb0BFqnKiIscLd6nvnAJBTVEqr8euOKcAJxhSn6qaqRdoGcUWVBn5uzNsRaFfONkUyP4ZTnsgIteG4NRVHpSbzb1d3XXKags+D5tIP74jRL6TMrfPAcSMPzfPMZY9C7xIdzJwywvd/wFecoeJb0vhVAvJgYX23DnJsQhTl4ZhgdBsOKoQDLloRBHn6dGKyLOoQQPHvVJIzrr31X3QS5bjoIHsxVp+kMbpTnh7mfowC2U0p3OR2cL7AgLF55TvAYRfOOeRRzsMyLA9Y6z51FKM9meBWqJRjB5c8twNTRvfHadeYdakopbr31VuN3j8eDoUOHYtCgQXjwwQe7bLyZgi2sPlnCc9dMxlfr9qGqJJDkUTEqCn3Yb1GUrW1aBWbYOixLBCP7FGP6zSca9xnKcyiC0kDsYoO3bfBqh6x7nntN+QFu+b+jtGO5OZkBjCYSAHZDayJxheWYDwFcC2A+tHKjX3XG7wzYKM+SWXm2szmwQLktFEWRX4aPS6wEYioUq6VtXUfZzsvw3kVYv7fFsFtEFYpiv9bEYrfeuXJEnyJs0QPksgIvmjoi2FTTirrWMIr9Mpo6IijyyQhGVfzqXyswpLIQoaiCw3W7B1OeA0mUZ8PzbKmyUaGrtkAscPN7ZfhkklBcCaWrPNvYRqzKM09LMAq/R4pL/IyqqnFuZPautlA0LtnMSndfc9ncKXHRDZVhZ9vgv+fJArZivwe/OGmU4/1GK/Qs2zackElsjlhVYaPOs2HboGbLKzHPEYaiUlBKtfbcrM6zkTAYPwYWk3984/Go4jrE8gngnWX2b09GVFVdVa1xgxvP86yMvFI3g32A1smSKN5li7QsxT5968JuKlWXgWw/ETyb4bd3a1u0zPmN+1pBKcVjM2Lbg6GoihNPPDHu8fkK33xhYHkBrj5mWEqP713sQ32rudKAnedZEIMtsXYnR3YxE4yYt7JNtg3L1q5HIvAPOTQr89KpiQQh5G4ASyilHwJ4EcBrhJBN0BTnyzv7utagyyNrOyOs1Jq15Br/mLaQgiK/Jy54Nqpt6O+xdQ1kQWi/sgDW721BWyiK8kIfoqqKAp+M6TefiJZQBP9atBNXHj0Elz23AJtqWjG0VyG+3dWEOz8wq9GDKwtQVRLA0u0NRrLRtnqtxCELnrWkUPuLAUBb62WJxCXgVhT6jOCZlYr06cqzk22jLRTFZj3gT115jj+eBen8XYcOLMXq3ZplpcjvQShqvrCOKNQ4twX0HQA357PuvuZWFvrwl++PxxGDK1w/hr+Asesg6bF5z1MhHGU7LTlSnk3tuePvA2J/Y1RRje+jolIQosIjkbiLkaiq+ftVGnv/Etd51udaBkqkPnPlROzYH1+idEiv1PIHkuEYPBNCWmCfP0cAUEppZrTvHKFwE4AncYdBLdGFPyla6w5bm6R0lp4WPO9vC8PvkRzrD/Pv6T697FShX8b2+nY8Ol0Lnnf8/RL0edoTZ/B00+ygu+LppC+ud7EfG2taTbcJ5Tkx7MRhJyzxJ0+/x16F4j+rn552KCjVLv5KH4vNbTYnm5tj3tt0sWsiQSm9k/s5COCSTr8Qh12pugCnPDd2xPvnI4oa67bHgmd+O1j/irNgIqpoKtbw3/8Pt54xBuP1RkDMUtES1ILniEI15dsno8AnGy2M2Ym9X2kAGKQp3787ayz+75UlADQ1cVz/krg6shWFXmMMhBAEPFoVkW11behbGjCVHosq1Hb7ni+3xcp4GZ5nh2YuR9zzpfF7up5nAIaizIQiPrlzdFUJFzzL2N9mehqtzrM+PlbzPVGifElJie3a2t3W3LJCL644OrGP34pdQMd/zxOVJ3SDoTzn1LbhkDCoD8lIGFSoKXgG0R5f4o9XnpnFqdDSYdBuHrHnzMRcOTuN5L90cAyeKaWptWHKIyiNbT3EdRhM4nn2yJJjgqD1+TJj2+j0U+QVE+/5EgPLCzD3tlNs7+cvVrbVayt+kc+DWk5VHfKbdzDz1pPiuuYxutNi7ha2eLmwdNnSq9iHeZutynM6+cI9BzZPEinPQLw9I3ZM7OeXZ67F7sYOPDlzE7bef042hpsTrB5gr6yVqmP2BjtPbVhRjTrERX4PfLLFtmFRnhVuq/jhLzbgqSu00mf9SjW7DNuKjyiq4UXnYReJhT4ZH95wvHE7G2fAK+Pm08eiT3EAPz9pJJZub8Ct76yMC7ICXglN7RGc9PDXOG1cFV64NlbFNaJQ2+CnspALnvWEXVZtw07J/WLtXtPvnfE8F+uKstHtjfusWIUSIFYPlyfCBc9G4maCk1FLS4vjfUB+rrkMPiGYwX//k3mek8HWj6pSdwngmcapzjPAJQxyTVKs+WIeiaDIb36PFJXGlegz6jwnUJ6lPJonrs+ehJAqaHWeAQCU0h1ZGVEXwM+PuFJ1DusDpdRQNvgvi3WymZukZCJhsIdFz4DhV7SDV2t+/94qAMCq3U245Nn5puNaudJKNTU1CAaDyGfYnEvUlSwRvYv9cVvoQnlODFvH7YJnPmDmT67WhEGGpHueKdW+03V1taY5mayqRXcl3rZhbpJiZ9sIR1WjlJpm25Dt6zx7Yidsfp1m7ZWZ8syCZyf1l9mTCixBIhtnwCujssiHX52mKdXHjOxle/Fe4JWxcpdWm3r6uhrTfRFFNSuQ+o98hQWWsMuUZ0rj61FvqTNLwKkqz/wFW5Hfg/q2cKzmLlcBZSTXdKLQpnlHhEsYZB32EinPVg6ENZdhdwEjWyxZneH0cX1x1/mH4NLJg5MfnAV45dka/xh1nlkVF6vyDN2Sxq11JX4PWkJR4wK5wKI82wbP+tff2v2wO+Om2sb5AP4GYACAGgBDAawDcEh2h5Y9+EXAGpw6rQ/sMR5ZMl0dWYPvaIaVZ7cNAnoKico78bSEIvjwww9xyy23oLq6GlVVVdi+fTvGjRuX5RFmh39cPRmvzNvqqKYnw66hivA8J0ZKEDy7UZ49FnXKIxG0b1yIsWN/HTcn16yJrwrRndnXHER7WEHIrkkKV+e5yUZ5jihqLHHLxrZhKJ6emPLM3888z/3L9eA5yCnPNuovs21Yg0SmiLkNUANeGev3xhRWPvBlu5JOrw1ojYnY3xXbBlchS9rrP/31Jvxj1hbT41O1afGeZ2Z9MyofcJ/V6L7Fccfx8AmDbpRnxoG05jLsGknxF2md9TxLEsG1xw7r1HN0BlmKxT1OdZ7ZPAwrqhFgv7ZgO4b2Koy7YB1YUYD1e1uM77i1znNi20bn/56uws2nfg+AKQA2UEqHQ+swODero8oy/AQxStXZ3MdjbFFY/E2KRQlUuFTSVFpJOyFiZzNuy/+1BqO44447sGDBAowZMwZbt27FjBkzcNxxx2V5hNlhVFUx7r1wfNoqh13w3Ntlk5WeClvs7dQQJ88zvz3tk83qlCxJaJzzGr6eMzfv5+TFz87DXR+twbtLtcJLrEObRLSTZTiqbfvbeZ5D0VjwXOT3wC9LCHNVO6wdBqMqtVTZ0R7LkvmYHSKqd9Kz4hg8678HXFojrEH2ltpYDoGTbYM14zh0YCxFKOCRjWMjior2cBQvfbMVD332natxJMJjsm2YFWO+cU0/rqKBnfIc5RIGYxcxydfeA2nNTQT/PZc76XnONW5sG+x7FbaIV9vr2+OSVFlHzDo9ob9E3+GMteeOH4Nh2+ikit+VuFk1IpTSegASIUSilM4EcHiWx5VV2KLglWPbFTD/F0eYM/VTU/BtSRjkfm0POTcKcEtPShh0UzXLrW2hJRiF1+tFr169oKoqVFXFySefjBUrVnR2mHmJNVAe27cEx4/qnaPR5Afs/Gi3oDspzzy8EikRTXkmsgdlFZV5PycnDqnA19/VGkosa4Gr0pjS1BaOYpMlSRXQTsCtJtuGtdqG9j+7QFFVavIHt4aiKPLJRm1Z3vNspwIyW43VT8mCxgKb4NEOa+IYn9EfZ9vQYV7QHx07HPdfNB6/PHkkpozsZcyfiELxh/+uxt0fr417bDrwF9eG8qzE2zYKfbIxv+2U5zCfMMglbiajJ6653jwK+OyQJGLsMsQ3SdH+Z98ra/Cs3RevPAPAnI1aPXHWiIevtmE917PXPaBsGwAaCSHFAOYAeIMQUgOt3nPewieksK2smOfHQXlmRfAlYrJSxHue+e1F+wL06Yw136CU4p0lu3DuYf1RaJOQYofVP2kHfxItCXgwok8xVu5sjDuuNRRFeXk5WltbMXXqVFx55ZWoqqqCx9Mzk+T4rP/bzj4IPz1hRF4n8XQFiRIGeZXRzhPp132tDI/ueZb8RWhqasn7OTlxSAU+WBHrwfLo5YfjizX7MKqq2MhZmLepHst3xH83w1HVECOK9eC5sUP7ffXuJqOJR8zzbAmeg1EUBzxGN7HWYBS1LSGs3t2E0VXxee5ezlrBw5TkgE1CmB0syD5kQCnWVDejvjWmqjv5rQdXFqJfaQCj+xZjgl4lBIDJtvHf5btNj/nJ1OF4fs5WV2Oywo+BJQKqlCKqaO/5dccPx89OHAlCCIp8HrSGorbK88tzt+GIIVo5Nz9nn0lGT1xzO+t5zjUyicU01viHGAmD2v92F3lDLC3kR+vJqP+cvx0eiaB/mRY887YN61SKJQx25i/pWhyVZ0LIk4SQ4wBcAK0l968BfAZgM4DzumZ42UHltqNYAo+T54fBkv88smRSl+OrbcR+ZopIZ0hHeN7XHMRrC7Zja10bXvxmK37z9go88Ol6LN9hLsW0YV8LXp67Fev3dr5MlpXp62rwu/98ixveXI5lltcFgPmb67Fkm7m5WcihhioPr35MHd0bRw3TFvjDBpVh+s0n4rt7z8L+L5/ByqUL8cEHH6CwsBCPPvoozjrrLIwcORIfffRRp/4uQsglhJA1hBCVEDK5U0/WhfABXpFPFoGzC4w6zzbvlcQlDluV56evnIgvfnOCydrxzP1/wJY1S9HnojvgCwQyOidzAWsiwigNeHHxJK3Zy3Eje6FPiR+3/3cVNta0YvJQc03diEKNhMHigLnaxm/eXoG/fq7ZF3xyzHbAvveEaOtqsd9jqKetoShOefhrNLRHbNVftgNgVU5Z0Oi2tiwLssf20wL0urZY9ZqwxW99xzkH47BBZThhdB8suP1UU+AMxHYuNluU+bvOPwTnHzbQ1XjsMCvP2nijXOWDfqUBw2LD7mfvs5Vb/q0pxn7uIsaJG264AXPnzs3KmtsdOG5UL/z4+OG293XW85xr+C6Y1hwrQ3lO4L0/VN91Ylx+1BCcNk7r2lha4DXmJF9tI65EsJq5UnVdRaJLwo3Qugv2B/A2gLcopf/sklFlGcPLxUoh0VgGqdP6EOGtHmpi5bkk4EFLMGoUxe8M6dg2HvxsPd5btjvu9o5w1FATAODX/1qBtXuaIUsEc353MgaUZ64tM9vS/Gp9Db5aX4NtD5jLc/3w+QUAgJV/OgP7moMY07ckrluZHRFOPSor8BoZ9MeN6m2UX/L3Goh3n74f7/3t/+Gyyy7DD3/4Q1x77bUZ+bsArAZwEYB/ZOoJuwJTRYg8X+y7CqPOs4Mc4pUlRFUlrpTV9/Q6o2uqYxelg4eNwNtP/gXVO3bjbvUqXDft6kzOyS7n0IFluOHkUXhy5qa4+zyyhDvOPRh3vL8aAHDquL5YwtVQ3rCvxWhoVOzTlOeIQqGqFNVcpR22HvDKMwHQEoqiOOAFIQTFfg8a2yNo0YNx3tfL8HI1anmMhEGXtg0W8A6uKEShT7Yoz+bgefygMnzAlcVzGtP//XOx6faKIh+KU+h+Z4Xf5WN+a0VVDcsG/7dqdo0QnOKigFdGRImaEjedGD16NG699Vbs2bMnG2tuznnjx1Mc78t3z7O5zrPlPku1DTvYefc3p43Bqt2N8MoSph07DNPX7cP+tth3RDYpzw62jTySnh3PopTSxyilxwA4EVo3qpcJIesIIXcQQsZ02QizgLUUktZKUrvPKVZlVR68smRuhGINnqmWOFLs95jKpaVLOrYNvs8873Xd2dCB4x74Cmc9OhtALPtbUanRrS9T7Gs2lylatqMB932yNm5b6OmvN+HiZ+aBUurYvYuHr7YxqKLQeD5e/Rsy9WJc/ZfXMGvWLFRWVuJHP/oRxo0bh3vuuQcbNmzozJ8FSuk6SmnnM3u6GL/XbCEQJCfm93MKnu2VZwb/uIuvvR73vPg++l3xAErLK2znpKpSvLFwOxrb/z975x3mRnkt7veobHWvuGIMpmOa6R1MCy2QSnpuCCGXlJtfuAHCTSAhCSTkJjeFFAgpEEpCIAFCMb1jwMbY2MYGYxv37l1v35X0/f6YGWlmNNrV7koaafe8z+PHq5nR6Gh05pvzne+U7CS7ciMaEa44cx+eueJk7rrkqKz95x88kTe/ezpLvncmR08f5dnn7gTqtOdu7kjw9LIttHQmufTE6UwZVcvhtsc6mUp5DN/m9q50MlwsItwx9/30vqAyl04C08QR3nb2vQ3baLW9t2OGVjOqvspjGCRSxrPS0BPuDpVuRtbFe9U62o87ftu5RolkxvNcF3fvtz4nV21dJ6mwKg/P89e//nVeeeWVooy5InKTiCwTkUUi8k8RGdHzu0pHpY+n7oRB//PZX+fZYfZ+4/iIvdI0c7Llef767Bnp2ucHT7G2jRuaSVTPtOc2ASv2Ayhsw8EY874x5sfGmEOBT2B53d4uumRFxF/8PeXyPOeMeU5lwja8nmd/wqBVvmhIdaxXMc93v7aG7z9kxRO1dCTSGeR9CXl2FH5UfRXXX3BgevvaHa2sb2hj2aYmjDE0tHVx6FRrHOpPiElXMkV7VxJjx9YlkqmsRKGLfvMyt76wirU72jz1r9dsb2VXe4LtLZ205+F5dm66r582gy+eMD0dO+m+uYfWWLF8u+++O1deeSULFizgrrvu4v7776/4skl9xR22UUkZzWHiLCHmMi6cpcxcjSzcDTuiYsU8x4aP47Kv/b8snUwkUzy1bAvX/HMxz7+7rcDfpHjsMaaeY3MknooI9dWxbkvBxaIRjtpjFFubOrjkdqvj30cOn8wL3zo1vRzsj3lu60qlvcZOvKVjcAY5Ac46cDdu/cwsPn+cd9nd+V3zLVXXbI/JY4dUMXpIddr5AFYcd3dL237cS/3uZiwj66rSRm1fcQyWOvs8yZRJVyhxJwc6MdG5xgPnmjorK/lU2yjSmPsEcKAxZibwDnB1f09YSCrdeLY8z97mce59kO0RPnbPMfz4QzN5+psnZYVtgFVh4+cfO5i7vpjx2DvnSAaFbVRgtY186jzHgbOAj2OVqXsO+F6R5eoTnYkUt76wki8cvwetnUmuuHchVdEIv/v04Z7j/HVET/vf59JGWa4wCcfzEXctcUB2HF0iaRnP9dWxXhmkTsOP75y7H1+7ewENbV3c9+Vj86pA4aelI8Hw2jgvXXmqJ8553c6MV6a9K0VnIsWkEbUsWNOQHly7Y0tTO6PqqkikDNuaO9jW3MmcJZv480ur054Nd/xUEO9ta/Z4QTc0tqdlc983QTVbX3x3Gz942Jq3XXbSntZyb8KbEQ5ww0UzGVEXp6uri8cee4x77rmHp556ipNOOolrr72WCy+8sNvvKSJPArsF7LrGGPNAt2/2nudS4FIIvwlGVVQ9z72luyYpQOCqh5t4xHvNY1HBJBPMefRhnnnkXx6d/MpdC3hsySbiUeHMA8YX9ouETJBxeu7MCew3wSrf9uHDJ/PW+kYiIhw9fRQzxlsxxemHbcqknRciQofd2ATgN586nKb2LqaNrmff7zwW+Pkiwun7Z19T5/etzTPm2Wn6MGZINWPqq9jY2M6KLU1ced9bbGxoY4+x+ddgr4pZH77vbkP50YUHcderVs+xUfVVvW6M4ue0/cZz92trMo0tUibdrGakq2nLxUdNxWA4fq8x/PbZ97LO4yRw5+N5dujrmNsdxpjHXS/nAh/u88mKQCWFGgThhFOkTO5qG1nviQiRiDDd1WzHz4WHTvadK3M/Z3d29h5TCeQ0nkXkdOBi4BzgNeAe4FJjTEuu9/QWETkL+AUQBf5gjLmxP+e7d/5abpqznK5kioOnjODpZVYXqHbXYAvZxvPGxkyIQS5bNV1tIxrBbS8HhW1EI5L2fvaWxet38czyLUREaO9K9qlJSnNHgtH1VdRWRT2NMNxF8nfaS8OTR1qem5ZuZO1IJFmyYRcX/eZlwHroOGKJwLkzJ7LHmHp++dS7GGP4f6fvTWcixc3Prsi6nis2NzOmPrOUs9xOVly/s83TnrS9K5llPH/qtlfTfztLpCfsPYY/vrSKI6ZlloabV77BrXffzcMPP8yRRx7Jxz/+cW655Rbq6/N7uBljZud1YM/nuQW4BWDWrFmhlk1xJ2JU0uw+THqKeR5ZV8XO1q7A9r3grQU97+XnePD+e1n3xBzuOu5ovvDZT/H73/+e6x9byYMNHTy9zGrLfMUZ++Q8X6USlJB35gG7cd7BEwFLN7/vWiFziLmMZ3fYhns8t0IyMrkaTtfBfHB+nep8Pc/2GDl6SDWjh1SxaH0jNz66nPl2PLdj9OeD023Q3/RoZF3/a69/7/wDOH6vMekwFbfnebjLeD7/4Imcb/8GQTit1/OptvHEE09wdz/G3F7wH1g5WIGE4bCopCS3INIl5FImq2lcLmO2L4+Q7hIGHTunkh5N3Xmevw3cBVxhjNnRzXF9QkSiwM3A6cA64HURedAY0+eCl05SxM6WTk89wi27Opg6OlNOxfmhgro35RofOtPVNsSzfBUUu+OEbeRKGPzm3xfyxNJN/OoTh3HS3mM9ivSLp96xZ4CG5ZuaPPJ89e4FTBlZy6xpI9l9dL2nxaqblo5EenkuVwvmjY2WF9qpydidoX/7y+/zw0cykTrH7zWGc2dOYMyQavYcO4Rp9gPgxBljGDOkOv16zpJNvOsL33h3SxPTXR4aJ+Zv3c5WhtXGPNuHup6D/pvauRFP2Wccb3//LE+s349+9CM+8YlP8NOf/pRRo7zxlop6nvMlU20jeP+hU0eycltLlm46uMM27vjt/3HMGRewfPcP8turz2Gf3YYyd+V2/jZvLQDjh1Xz3H+f0m+vYzkSFFOcT3fLqMtz6k4YbE+kAg3y5//7lF4l2zl2Qb53w/Sx9axvaGNUXRXjhtawtamDJ9/enN4fVPItF07bbqcqwfSx9azc2uIZx+p7cT43VbEI58ycwFvrGgE8zWpG1AYb5wdPGZEu+flfs2fw55dXp8fmqjzqPPd3zM1ntU9ErsEqk3tnrvOUk8OiUoi4jFr/ynuueUFfJgyZhMHsFf5MqbrKeTblHGmMMacU+bOPBFYYY1YCiMg9WGXx+mw8OwZuV8p4jeemdo/x7DzsgmIVeypVVxWNeDrkJFNWvG8iZRhSHUsbz8Nq4mxoaCOVMqzY2syMcUPSCvfM8i3sak/w+JJNnLT32LQhC1aJt92G1bBpVzuL1jcyzPUweGjhBqIR4TfPGkbXVzH/O6cHytrckUiXIXIbpG7e22otIEzOw3heuc069tR9x3HyPmO56LDJgXF5s6Z5B80gr/nKrS1sCYhLXN/Q5lkCand5yRPJFEff8LTnePfN629y8Mwzz+T8Lv1FRC4EfgWMBR4WkTeNMWcW7QOLQCUNUGGSK97PYda0kdz3xjrW7mwN3O8O27j3ocdYvrmJB++Yz78XbWBL0yhue3EVVdEIZx24G5edtGefDWcRGYXljZsGrAY+aozJqg8pIkngLfvlGmPM+X36wF5SHWDoDsvDyHXWmYMQAAAgAElEQVTigt2l6sBykgQZ5O4xPh96ex/8+uLDWLKxkeF1cT533DR2G16DCJw4YyyvvLedWdNG9nwSm5P3Gcfj3ziRvW1v9T8uO9ZTaeSFb50S2LykN0QDwjZG1AVPWh64/Dj+9/Hl/OrpFQhCPBpJVztJV6XqxvPc3zG3p9U+EfkscC5wmulLLKOSE28VDO++XPdIX0JVnFOlTHbC4IAK2ygBk4C1rtfrgKy07d4sw2zZZRllja1dPuPZa6w5P9whU0bw8nvbPftyJwwGN0lJJA0f+/0rvLulmbeuO5NNje1ExUkYTPCjR97mDy+u4qqz9+Wyk/akI5FMZ2nPf38nyZTJSq77j+Onccfc9/n10++mM87B8my8fNWpXHHvIp58e3NWOIpDc0eSSfaSXa7kk5W28TxuaDXxqHRrPLd1JpgyqpbbPjurVzPOPUZb3pRxQ6vTv8HO1s707+Rm3c42j8Hs/vuFFds8yTlhYoz5J/DPsOXoD+p5zo+eYp4vOmwSSzfs4tITpwfuj8cy7xtRF2eE7W391dOZ8m5XnLE3Xzl1Rn9FvQp4yhhzo4hcZb++MuC4NmNMybvDOoau01wEvBWBcuHMPRIpk3aMALQngse93uL8vvlaYsPr4hy7p5UcOWZINZ86evf0vimjeme4A2nDGaxY51GuRkZ9OZ8fp+Z1MmVobO2iOhbJ+7rFI8KudjtsI56pFx0GdnjnlcBJxpjgmarSZ5zx7cUV23LWefbTr7CNgPCQAVlto4gEXaasu9MYc4sxZpYxZtbYsWO7PaGTab2+oc0z2G7xlU1zfih/4XqwwjZue3EVx934NN99YDEpe+DpSgZX29jS1MHCdY20dib58WPLmPf+Tt7d0szQmhhbmjr4w4urAPjZE+/Q3pVkkx1fPWVULcs2NbH/dx/jc3+yan3eeNFBXHve/nzyqN35/admsXlXB4+8tSn9WbGIMKKuijPs5JetTR3p87lpsZsIOPI6jHYNziu3Wgb7yLoqK7kxIMRky652fvXUu7yycjuj6qt7vVTzs48ews2fOIwDJg5Lb2tsS7CjxWsITxlVy3qf8eyOz35k0UaG1cT41+XH9erzlWAqvS5pqRC69zxXx6Jc/8ED03kDftwVFYbWxLPqqJ+yz1g+fcy0Qoh6AeDU4P8L8MFCnLRQRCLC3y49mr9+IeMbySdsI+15TqbSnueEXVY038Ym3ZNZrh6IOHp7+V1vsK6hrccJizuPJR6LpMfjjOe552obReLXwFDgCRF5U0R+F5YgAxHH2/ulO+bT7quTnjvmuQ9hG3lU26ik5MswPc/rgCmu15OBDTmOzQuntvDGxjaP53mzz/Ps/FCxiHD12ftyw6PL0vvcNUNvf+V97pu/js5kit9+0qrYEY8KJ8wYw1N2MqI75u2W51em/x7qijX+2Kwp/G3eWpZvaqKl0zJSLz1hOg+/tZFJI+rYd7eh7Da8Jp1AA7D/xGFceda+/PixjGxOjLbTIer/nnyX+95Yxz8uO8YTMuGOeXYzeVQd222vt+PtHlEXZ0h1LCthcGtTB1+9ewGvrrLC3Q+YmF2OpieG18U5Z+YEnliamQDsautiR2sXk0bU0tKZ4NR9xjGsNs6989bS7otT39HSyaj6Kt7d0sxBk4d7jH+l7wR1zFOyccbxvi4luiucRCPCbq5kthsvOoiPH1mwhKbxxpiNAMaYjSIyLsdxNSIyDytu9EZjzL8KJUBPHDV9tOd1rlwMN5mHLZ5SdZB/ebnucJo7TBxeuOZQ5YR7henZZVvS+S25MLbvSnAaANnhjfH8q20UA2PMXqF88CDBPby5c5usfYUznt3VNvy6lEpP3Crn2RSm8fw6MENE9gDWY5XC+0RfTtSZSHHtg0vSXay2NHWwbFMTYMXWOWECN81ZxoxxQ9ndjo2LRoUvnbQnjy/dnM6YBjjnoAl884y9OfV/n6PFnok1dVgxY3VVMT577DQOmDScj/zuFXa2eBsaHDxlBNedt78nWfCjR1jG8+INjeklzOP2GtOj18lfdN9ZhhszxDKe73tjHWA1HbjD5dVpdnme3UwZWZtOClm5rQURq8vWkOpYukPXI29tZP77O7nN9pg7jOqH4er2eHQmU2xqtCpr3Pulk4lFI/zhhZW0dCY9KwSX3D6PAyYO4+GvncD6hjZO2WdsXg9cpWc0bCM/nMG+r94Qf6tod4JyT4aMn9mzZwMcICKLfbuu6cVpphpjNojIdOBpEXnLGJNVo6wUFQtylfdzk6m2kSqK8fz5Y6ex34Sh6VCMgYa4FndbOpM5kwWz3ifeMSKfmGelclm1LXcBtZxhG31Y+Il2k5iYSpmKCtmAEI1nY0xCRL4CzMEqVfdHY8ySvpzrN8+u4O7XrDqZFx06iSfe3px+ve+EYTyxdBP/72+G+xesJx4V7rYLdzseOL8xsee4IUwfO4Q/f/4I/jp3DU++vZlNjZYBPrLOagvrdF9yjOurzt6XGx9dxqUnTOfQqSM9IQiHTR3B8No4d85dw9KNVszfhDy8Hf5qIM4y5pihmUFwdH0VL7+3PR3/nEim6EikAj3P+4wfyvM1W/nNJw/n7/PWss9uQ9MtbpvbE7z47jb+8843PO85YtpIXl+9s19eX8d4dtqWr9rWyszJw9MhJc6y93tbvbHfSzbsoiORZGtTB5NG1PWrba2SQUvV5Uc65rmP3pCgaj4OuUI9cvHkk08iIkuMMbP8+0Rks4hMsL3OE4AtQecwxmyw/18pIs8ChwJZxnO5VCxwJ7z5PVWFMJ4jERmwhjPA6CFVnrr7w3MkCzoYl/fPPbmp7kWdZ6XycGyFX3z8EMYPq+HJpZu5/ZX36UymChu24aq24U4ATtntuispZAPC9TxjjHkEeKQ/52jrTPKXl1cze7/xXHHm3kwaUcu2lk6ef2crADd9eCaf/9Pr3L9gPWB5Wj/5B6tesPNj+R9yVbbH6OR9xrF6W4ttPFuZ0I4h6LzXCXe49ITpzN5vPNPtMm018SgfmzWFeEwQES48dBIPLrSiUqaPrc+qEBGEX5kcT/RoV53kS0+czg2PLmPJhkYO331UupC/2/P81y8cRSKV4ujpo7nwsElMHlnH8TMyD4366hjPvbOVV1Z6kydfvPIU/vLyal5fvbNfmd+1VZmyeU3tCbY1d3jqmToVP9zx3dbxMTY2WN7oiSNqKu7mKlfU85wf6Q6Dfbxe3bVr7k094jx4EPgscKP9f1YjHxEZCbQaYzpEZAxwHPCTQgpRaNKe56QJ8DyHma5TGdRXx3jvRx/gA794gaUbdzFmSPcOELdp7H4mZjoMqvE8EPn6aTM4dd9x6V4JR08fzZ2vroFkdwmDfQjbsFXKMZYdksaQNKaiQjYgZOO5ELyzuQkR4UsnTWff3azENKdjVFU0wu6j63n6ipNJJFN88fZ5PLN8a/q9mb7tuZdXHQ/HhsZ2htXE0t5SZ0m2uSNBVSxCJCLpGDqHH394Zvrv684/gOvOP4BEMpV3dncuudxegfMPmcgNjy7j8aWb+cf8denqIW7j2W0oB3m8Fq9vTP99w0UHpbsdTh5Zl47dbu3suXV2LpyH4FCX59jd6Wrq6DpP4xWwvH4diRTrG7z1qJW+E4sIiVTlzfDDIhPz3Lf3B3mef/DBA3l40cZC13O+Efi7iHwBWAN8BEBEZgGXGWMuAfYDfi8iKaxE8Rv7U1O/FHjrPPs8zwOskUwxufjIKTy6eBNfPqn70GH3+OsJ28ijzrNSudTEo54mY2DbN13eGOT7vnwMH/rtK0DfQtlyJQwm7STgSsvFqXjj+eApI3j5qlM9NZudB5PbyIxFI1neU8cA9j/k3K8dD/GmxnZGuLylTghFruS8XMS6WcrNOtYXWOR/bywiTBhey6QRtfz+uZWefaN78DK4OWLaKB5bsoll159FdSzC1fe/xcFTrEokh021SuXtNyH/7ll+nJvGbdCPdIWBDKuJ89wVp3DiTVat0Le/fxa/fe49fvnUu6y3W4pPHtH/0k2Dnagaz73CiRnta8KgP+YZ4FNH7+4pcVYIjDHbgdMCts8DLrH/fhk4qKAf3AeO32tMugZ9T4gIEbFiJIsR8zxY+PQx0/Kq6pJOGBTvszMetX6HEKttlCUPXH4cO1o7ez6wAnFsIPfYd/juo5gxbgjvbmnuW6m6HAmDKWM05jks/ANpbYDxDNk1jzOeZ5/xHMtestrY2J6unQzu4PfiDeTZCUeZ13OvPi09YbjzkqNYua2Z0fXVjKyrYl1DK0dOy7/L088/dgjXdyTS3+Olq05NNzE4fsYYnr3i5HSSZV9w5HaXp/K3oZ06uo7/+9ghLFrXSG1VNL0su8lOIhzVi8mAEkwsInRQWeWAwqS/1TacJinH7zVw42p7y18vySrl3y2xiFX1IaFhG8XHiXlGPJ7naETSv4OSwXEwDUSc39//qHCeHX0JscjVyTCZssI2KqlBCgwQ49lP2vPsM4r9HuJMzLP3R6v2hG1Yf29r7vDUK3YPLsUayLM8z67PdJe9mjamPt0SG3rfaau2KuqJwZ7kq0frPndfuOiwySxY28BXTtmLp+0SfyMDklc+eOgkPnjoJCAzadluN0eps3/T/zlnP08NbyV/HH1X4zk/0mN5Hy9XJCI89c2TBmwptFIQjQiJZIqupHcsVM9z4XHMGRGvQykSEU/ioTLwSXuefc8Kx6HXlxALj+c5mR22UWmJ7APSeHYMQb/nOStsw/6x/OEQ7s5gta5B2m3wuQ2QYsXf+Y2c3oR8lBP11TF+9tFDPM1leqo2kJ60tHRSXxVN31iXnBDczU3pmXS8foUNUmGRThjsh0dkz7FDej5IyUksKnQFJgyq8VxonO66gnf1NRaRdL6EMjhwjGT/0BeNOEZ178/pPMOT/oRB+3WlPZYGpvFsD6x+I2GIL9auNwmDgC/mOfOe6iJ5nrPlqjDt8hGJCA9cfhzV8Ug6uTMXzoRkR3Nnvyp9KBmikf4bg4MJ5zrp1QqPqmiErmSKRMrvea5MR0IlIGK153aIiBCNqud5MBHL8azItT0f3HWePQmD9utKey4NSKvEMZ79hbhzhW34wyNyGc/uON1SeJ79nuZKU64g8o0Tc6779pYOre9cIGI59F0JxrndKs0jMpCIRyMkksbTMRbU81wMjCvm2f0MzHieNVxusJBJGPRu74/x7JwrZbxlD1Mpa1ulhW0MyKeo45VI+oxnf8KgMz5k13nOjnkGGFmfCdsQkbQBXbSEQZ8yDaZYVScZcntzZ2C3RKX3BFV/UHLT34RBpf/EY2J7ntV4LjbumGe34yaqMc+DDscm8sc25wrnyAd3e26/59lUYNjGADWebc+zb6JcX+U3nq2v7w+HcMdK1+YI27De7xjPxUoY9Mo1mB7iGc9zZ9bvpvQNx+OsHqT8SN9vg+e2Kzvi0QidyVRWjeGaPNp7K73D7WuqchlJIla1DX+tbWXgkjGS/Q68vrdqT4dt2NU1HFKpygzbGJAjkJMw6P+Bs8I2nPbc3cQ8V+dIGISMcVtdtFJ1Ay9sI1/cExKNeS4MTqlAfQT2jsF035UbTsyzv8JOpSZPlzPGNTLEfcnF6nkeXERzJEunu372xXh2PM8BTVJSpvLG2QFplTje4p7CNiI5wjbcnmhP2IbP85w2novkBcn2PBflY8oS97KsP9FT6Ru/+9Rh3Dd/XbqFvNI9mjAYPk61DbfneTCFr5WSdMyzSHpy4twDWm1jcBFJxzZ7tzv3Xl9WISJuz7NLlxJOtY0Kmw9XmLj5kU4Y9N3s/olNLB22kTthsCoaSSvQCL/n2T6uVE1SBtNDwz0hUc9zYZgwvJavnDqjTwXuByPO7aaXKzzitufZXapumCYQF4XPHLM744ZWc85BE9JhG1GP51nDvQYLac+zv1xuPzzPYOuRz/PsNE3R9txlQHUOz/O4YdWe1xnPc+6YZxGhJh6ltTOZ5XlOxzwXqdqG36ivtGWN/uD1PA9INVXKnELUeVb6R8Z4zozl7k6lSuGYPnYIr10zG8gOi7Ga1ajnebCQ6SQYvL2veTNREZIpBkTYxqDyPI8bWsP8/5mdfp2OefatF/g7E9bEo1RFI9RVeY3kWJETBv2e5kor5dIfqjXmWQkZ9TyHjxXzbDwP6+FqPBcdx3HjlHuNlUGdZxG5QkSMiGi/+yKTqydAfz3PkYhd59nfJCVlKm6cHZBWiZMwGPT7jh6S8T6nwzZ8Mcv+17XxKNGIZC13O6EF1cXyPPuM+sFUaczteVbjWQkFJ+a50kb1AUQ8KuxqT3nqPKvxXHzivjbM0Ugk1JhnEZkCnA6sCU2IQUQ0R8yzsyrf57ANkaxSdemwjQpzDg5sz7Pp/gdOh234fjR/GEd1PJJVaQNgmp14VTTPc3QQe55dExhNGFRCwR4/yv22E5GPiMgSEUmJyKxujjtLRJaLyAoRuaqUMvaVeDRCZyLFjpbO9LZhNWo8FxvH87zb8BrA8jiG7Hn+OfAttFhQSYjkCFm76uz9uPjIKZx38MS+nTeSbTxn2nOX+UDrY0Abzz3d7M5MZ8wQbyx0VthGLJpV4xlg7/FDAehIFCeRwm/UV5py9Qf3bzCqvrqbIxWlODjDh5R/vY3FwEXA87kOEJEocDNwNrA/cLGI7F8a8fqOE/O8takjvW1Yra5EFRvHeJ44ohawY55zxLlu2dXOrc+v5D/vnI/pwWHVF0TkfGC9MWZhwU+uBOI8fv2rbqPqq7jhopl9LpIQjUh2e+6UIZmqvBW+ATkKOfGy/oQ7P44xetp+4/jlxYfytbsXBL7vE0dNpT7A+7nXuCEArN7W0m+Zg8hK2qgw5eoP7hvpiGkjQ5REGaw4hkC533bGmLehx4fPkcAKY8xK+9h7gAuApUUXsB/Eo0JbZ5LtLZ1UxyJ0JFLqeS4BTkzqBJfnuSuZbTxv3tXOGT9/nsa2LmZOHk5Daxcj67MdTT0hIk8CuwXsugb4NnBGnue5FLgUYOrUqb2WQ7HIFbbR7/MGhG0kU1aHwUor3T4wjedYhK+fNoMzDwi6FzPEIpmYxvMPnpg2nqt8Mc+fOnr3wPefc9AE5izexH+esmcBpM4mO2GwKB9T9gR5/cNCRG4CzgM6gfeAzxtjGsKVSikGzvA+QFZ8JgFrXa/XAUeFJEvexKMRNjS2A/CRWZP569w1nDuzb0vGSv5stq/5hOEZz3NbV7ZX+YZH3qatK8m/v3o8B04a3ufPM8bMDtouIgcBewAL7cnhZOANETnSGLMp4Dy3ALcAzJo1S0M8+kiusI3+IiKkjDekNmkqM2xjQBrPIsI3Tt+7x+NyBaj7m5Pkor46xm2fO6JXsvUGf+x1pSlXf/ncsdPYf+KwsMXw8wRwtTEmISI/Bq4GrgxZJqUIlFNPiNmzZwMcICKLfbuuMcY8kMcpggaPwG9YTt47d/L2yXuP4wcfPChEaQYPziPQWV0Ninleva2FBxdu4IsnTO+X4dwdxpi3gHHOaxFZDcwyxmwrygcqQBE9zxGrCpo7+TSVgqTRsI2KItePVS4/or+E3mAznq87/4CwRcjCGPO46+Vc4MNhyaIUF5NOGAz/vnvyyScRkSXGmJwJgT2wDpjiej0Z2BB0YDl579y5D/46/Urx+PLJe7Hb8FrOOWgCYFfb8NV5vuu1NURE+MLxe4QholJEoq5V+YKeV7KbpCSNHbYR/jDbKwZpIEBl4PeAV1opl0HAfwCPhi2EUhxSFVJtI09eB2aIyB4iUgV8HHgwZJl6xL36Nn5YTYiSDC5qq6J84qip6QpPfs+zMYaHF23khBljGFfC38UYM029zsUnWqSwjUhEstpzO6/LwUnRG9R4LmP8pekqTLcqFhF5UkQWB/y7wHXMNUACuLOb81wqIvNEZN7WrVtLIbpSQJywvHK/70TkQhFZBxwDPCwic+ztE0XkEQBjTAL4CjAHeBv4uzFmSVgy50vMU3WnfHIfBhvRqFVto6HVKhn4zPItrG9o0/jzAUqxHHVB7bkTTqm6CvNSDOqwjUpjMFXbCJNcySsOIvJZ4FzgNNNNbaZyWv5Wek+lJAwaY/4J/DNg+wbgA67XjwCPlFC0fuNUPqqORXqsnqQUj3hEWLuzjUO+/wTf/sC+3DtvHdPH1ve53q9S3jiGbLLApQedahspf4dBU3krfGo8VxCVNjMbiIjIWVgJgicZY1rDlkcpHukBXm+70Kiywzb6WldWKQxOsxqAHz2yDIBrz9s/qzKVMjBwHHWFrtsdses8J/wdBlOGWIXpkhrPFUS5e8AGCb8GqoEn7GSKucaYy8IVSSkGGdtZ77uwcLzNxeriquRHUMjMrN1HhSCJUgocP12hu0pGRVi+qYlH3spUGXQ80ZWW06XGcwWhq5bhY4zZK2wZlNJgBlbCYEXiGM/q4QwXfxdegP0mDA1BEqUUpMM2Cmw8RyLCe5u9TeVSxgrbKJcqZ/kSivGsjSb6hsY8K0rpcJ4buuITHk6d5+qYhm2EyeghGc/z9RccQFNHIqsDrjJwcGyNVIHDNjoTyaxtjue50pwUYXmey7LRxH1fPobWzuwft1yotJmZolQylVJtYyDjxDxXqaEWKm7P86ePmRaeIEpJiNr3XaLAnuf3tlpe57/8x5EMqY7xod++zJwlm0imTMU5B0MxnsNuNHHHF47knc3NWdsPL/MYrkqLCVKUSsbY9TZ00hoeTqOoao15DhW351kZ+KQ9zwU2nn/8oYMwBk7aeywbGtoAmLNkM5BpBV8plEPM838Af8u1sxitYk+YMZYTZowtyLlKycn7VJ7MilKppLTYRuhkwjbUeA6TsQExz8rAJZqOeS7seT92RMaG8zsDK803WDTjWUSeBHYL2HWNMeYB+5geG01orVyL1TeeE7YIijK4MI7nOWQ5BjFO2IbGPIfLSG1QM6hw8jwKXefZTV2V956utJX1ohnPhWo0oSiKEgaaMFg+qOc5XLRBzeDCMWQLHbbhZmhNnNeuOY1fPbWCO+a+X7TPKRZhVdvQRhOKopQ1KS1VFzoddmMOLVUXPrd+ZhZTRlVWXKrSN6JF6jDoZ9zQGmZOHg7A+9sryxQMK+ZZG00oilLWOI8NTRgMD8d41rCN8Dl9//Fhi6CUiEiREgaDmDl5BABLN+4q+mcVkrCqbWijCUVRyhotVRc+aeNZq20oSsmIRYpTqi6IPcfWF/0zioGOSGXOR2dN5qJDJ4UthqIMOj4yazI18QjnzZwYtiiDltn7jWNodYzPam1hRSkZZx+0GzXxCB8/YkrRPysWjXD9BQdw5yVHFf2zCkk5lKpTuuEnHz44bBEUZVCy59ghLLv+7LDF6BER+QhwHbAfcKQxZl6O41YDTUASSBhjZpVKxr4yYXgtb33vzLDFUJRBxeSRdSUd+yqx8Y4az4qiKJXNYuAi4Pd5HHuKMWZbkeVRFEUZ0KjxrCiKUsEYY94GTWxUFEUpFRrzrCiKMjgwwOMiMt/u3KooiqL0AfU8K4qilDmzZ88GOEBEFvt2pTu25sFxxpgNIjIOq0zoMmPM8/6DbMP6UoCpU6f6dyuKogx6pJKa+4nIViBXK5oxQLnF8pWbTOUmD4Qj0+7GmLGl/MBudFd/k/xQmXrQWxF5FrgiV8Kg79jrgGZjzE97OE7H3P6jMpXXmAv6m+RLuclUNvZCRXmee3hwzCu37PFyk6nc5IHylKkY5NLdcvz+KlN+lKNMuRCReiBijGmy/z4D+H5P79Mxt/+oTOGgutt/yk2mcpJHY54VRVEqGBG5UETWAccAD4vIHHv7RBF5xD5sPPCiiCwEXgMeNsY8Fo7EiqIolU1FeZ4VRVEUL8aYfwL/DNi+AfiA/fdKQIvGK4qiFICB5Hm+JWwBAig3mcpNHihPmUpJOX5/lSk/ylGmUlKO319lyo9ylKmUlOP3V5l6pmzkqaiEQUVRFEVRFEUJk4HkeVYURVEURVGUoqLGs6IoiqIoiqLkScUbzyJylogsF5EVInJViHKsFpG3RORNEZlnbxslIk+IyLv2/yOLLMMfRWSLu5FCLhnE4pf2dVskIoeVUKbrRGS9fa3eFJEPuPZdbcu0XETOLIZM5YLqrkcG1d0KQfU2S46y0l3V29yo7npkKCu97Uam8tRdY0zF/gOiwHvAdKAKWAjsH5Isq4Exvm0/Aa6y/74K+HGRZTgROAxY3JMMWFn4jwICHA28WkKZrsNq5uA/dn/7N6wG9rB/22jYelak66K627OeqO6W2T/V27z1JDTdVb3NeV1Ud3vWEx1z8/xX6Z7nI4EVxpiVxphO4B7ggpBlcnMB8Bf7778AHyzmhxmr1e6OPGW4ALjdWMwFRojIhBLJlIsLgHuMMR3GmFXACqzfeCCiuutCdbdiUL31UW66q3qbE9VdF+Wmt93IlItQdbfSjedJwFrX63X2tjAwwOMiMl9ELrW3jTfGbASw/x8Xgly5ZAj72n3FXv75o2t5KmyZSkk5fVfV3d4xmHW3nL5nueptd3KEef0Gs95CeX3XctXdctRbKEPdrXTjWQK2hVV77zhjzGHA2cDlInJiSHLkS5jX7rfAnsAhwEbgf8tAplJTTt9VdTd/BrvultP3rDS9hfCu32DXWyiv71ppuqtjro9KN57XAVNcrycDG8IQxFjdvDDGbMHq9nUksNlZ2rD/3xKCaLlkCO3aGWM2G2OSxpgUcCuZpZay+T1LQNl8V9Xd/FHdLZ/vWcZ6SzdyhHL9VG+BMvquZay7ZaW3UL66W+nG8+vADBHZQ0SqgI8DD5ZaCBGpF5Ghzt/AGcBiW5bP2od9Fnig1LJ1I8ODwGfsLNqjgUZnuabY+GKlLsS6Vo5MHxeRahHZA5gBvFYKmUJAdbdnVHfLD9Xb/Cgr3VW9BVR386Gs9BbKWHdLlZlYrH9YWaDvYGVaXhOSDNOxsj4XAkscOYDRwFPAu/b/o4osx91YyxpdWLOyL+SSAdBUkscAACAASURBVGvJ42b7ur0FzCqhTHfYn7kI6waY4Dr+Glum5cDZYetXkX8v1d3u9UR1twz/qd6Wt+6q3qru9kNPdMzN85+251YURVEURVGUPKn0sA1FURRFURRFKRlqPCuKoiiKoihKnqjxrCiKoiiKoih5osazoiiKoiiKouSJGs+KoiiKoiiKkidqPJcBIpIUkTdd/6b14RwjROQ/Cy+douRGdVepVFR3lUpFdTd8tFRdGSAizcaYIf08xzTg38aYA3v5vqgxJtmfz1YGL6q7SqWiuqtUKqq74aOe5zJFRKIicpOIvC4ii0TkS/b2ISLylIi8ISJvicgF9ltuBPa0Z6E3icjJIvJv1/l+LSKfs/9eLSLfFZEXgY+IyJ4i8piIzBeRF0Rk31J/X2XgoLqrVCqqu0qlorpbWmJhC6AAUCsib9p/rzLGXIjVWafRGHOEiFQDL4nI48Ba4EJjzC4RGQPMFZEHgauAA40xhwCIyMk9fGa7MeZ4+9ingMuMMe+KyFHAb4BTC/0llQGJ6q5SqajuKpWK6m7IqPFcHrQ5CuziDGCmiHzYfj0cq3f7OuBHInIikAImAeP78Jl/A2tWChwL3Csizr7qPpxPGZyo7iqViuquUqmo7oaMGs/liwBfNcbM8Wy0llHGAocbY7pEZDVQE/D+BN6wHP8xLfb/EaAh4EZUlL6iuqtUKqq7SqWiultCNOa5fJkDfFlE4gAisreI1GPNJrfYN8EpwO728U3AUNf73wf2F5FqERkOnBb0IcaYXcAqEfmI/TkiIgcX5yspgwTVXaVSUd1VKhXV3RKixnP58gdgKfCGiCwGfo+1UnAnMEtE5gGfBJYBGGO2Y8U4LRaRm4wxa4G/A4vs9yzo5rM+CXxBRBYCS4ALujlWUXpCdVepVFR3lUpFdbeEaKk6RVEURVEURckT9TwriqIoiqIoSp6o8awoiqIoiqIoeaLGs6IoiqIoiqLkiRrPiqIoiqIoipInajwriqIoiqIoSp6o8awoiqIoiqIoeaLGs6IoiqIoiqLkiRrPiqIoiqIoipInajwriqIoiqIoSp6o8awoiqIoiqIoeaLGs6IoiqIoiqLkiRrPiqIoiqIoipInajwriqIoiqIoSp6o8awoiqIoiqIoeaLGs6IoiqIoiqLkiRrPiqIoiqIoipInajwriqIoiqIoSp6o8awoiqIoiqIoeaLGs6IoiqIoiqLkiRrPSr8RkZNFZF3YcihKb1HdVSoV1V2lUhkIujtojWcRWS0ibSLSLCKbROTPIjIkbLmCEJHrROSvRTz/n0XkB8U6v++zNohIrYicKiL3+/ZdLyJviUhCRK4rhTyViOqu5/yh666IjBORu+39jSLykogcVQqZKg3VXc/5Q9dde98zIrJVRHaJyEIRuaAUMlUaqrue85eF7rqOOUlETKlkgkFsPNucZ4wZAhwCHApcHbI8fUIsyv63FJEpwDZjTBtwOPCG75AVwLeAh0stWwWiultCetDdIcDr9vZRwF+Ah8v1wVoGqO6WkDzG3a8DE4wxw4BLgb+KyIQSi1kpqO6WkDx0FxGJA78AXi2lbGV/8UqBMWYTMAfrhgBARKpF5KciskZENovI70Sk1rX/AhF5056tvyciZ9nbJ4rIgyKyQ0RWiMgXXe+5TkT+LiK3i0iTiCwRkVmu/VeKyHp733IROc0+77eBj9kz3oX2sc+KyA9F5CWgFZhuz4xn+z7vr67Xx4vIyyLSICJrReRzInIp8EngW/b5H3J9j/tsj8QqEfma6zy19sxzp4gsBY7I81LPAua7/vbcCMaYvxhjHgWa8jzfoEd1N3zdNcasNMb8zBiz0RiTNMbcAlQB++R57kGJ6m74umv/DouMMQnnJRAHpuR57kGJ6m556K7NN4HHgWV5nrMwGGMG5T9gNTDb/nsy8BbwC9f+/wMexPIkDQUeAm6w9x0JNAKnY01AJgH72vueA34D1GDdWFuB0+x91wHtwAeAKHADMNfetw+wFphov54G7Ol631998j8LrAEOAGJYA176O/nfB0zFMkovto8dDRxi7/sz8APX+yJYCvtdLCNgOrASONPefyPwgn1tpgCLgXXdXOtrgQb7u7fafyfta9gARH3H/xW4LmwdKdd/qrvlq7v2ew6xjx8etq6U2z/V3fLUXeDf9nEGeAyIhK0r5fZPdbf8dBfYHXgHa/XPI1PR9SFshQz5Rmi2lcMATwEj7H0CtDiKaG87Blhl//174OcB55xi/8BDXdtuAP7sUswnXfv2B9rsv/cCtgCzgbjvvLluhO8HfKdcN8LVwD9zXAv/jXAUsMZ3zNXAn+y/VwJnufZd2t2NYB8TA94GdgOOBR7u5lg1nlV3K1V3h2E9VK8OW0/K8Z/qblnrbhw4G/hG2HpSjv9Ud8tPd4EHgI8FyVTsf4M9bOODxpihwMnAvsAYe/tYoA6Yby9XNGDNxsfa+6cA7wWcbyKwwxjjDjt4H2uW6bDJ9XcrUCMiMWPMCuC/sJR3i4jcIyITe5B/bQ/73eSSOYjdgYnOd7e//7eB8fb+ib7Pfj/XiUTkEPv9O7Fu9mXAM8DJ9rkv6sV3UDKo7gYTmu7aS7QPYXmGbshT3sGI6m4woY67xpguY4XNnSki5+cp82BDdTeYkuuuiJyHNen4Wy++U8EY7MYzAMaY57BmLT+1N20D2oADjDEj7H/DjZUoAJYS7Blwqg3AKBEZ6to2FVifpxx3GWOOx1JEA/zY2ZXrLb7XLVg3sMNurr9zyRx0nrVYM+YRrn9DjTEfsPdvxBsTNzXHeTHGvGmMGQH8EPiu/fdS4GD7vIHZs0p+qO6Wh+6KSDXwL6zr9aVc51QyqO6Wh+4GEOtGZgXV3YDzhKG7pwGzxKp8sgn4GPBfIvJArnMXEjWeM/wfcLqIHGKMSQG3Aj8XkXEAIjJJRM60j70N+LwdnB+x9+1rjFkLvAzcICI1IjIT+AJwZ08fLiL7iFWKpRorzqcNazkHYDMwTXrOjn0T+LiIxO2kgg+79t0JzBaRj4pITERGi4iT7LAZK0bJ4TVgl52MUCsiURE5UEScIP+/A1eLyEgRmQx8tafvh50pKyJVWLPqrBmtLXcNll7G7GsYzePcgx3V3Qwl112xsr3/YX/vz9i/gZIfqrsZwtDdfUXkbPvz4iLyKeBErDhcpXtUdzOEYTN8B9gbK078EKx481uBz+dx7n6jxrONMWYrcDvWDwJwJVbptLkisgt4Ejt73hjzGtYP9HOsAPbnsGZ+YAXXT8OaUf4TuNYY80QeIlRjBdVvw1qmGYe17AFwr/3/dhEJyjZ1+A7WTHEn8D3gLtf3W4OVdPBNYAfWTXOwvfs2YH+xlkT+ZYxJAudhKeQqW6Y/AMPt47+HteyyCivL9Y48vp9TZuYg4C1jTNDM+FasAeBi4Br770/nce5Bjepu6Lp7LHAucAbQIFYGerOInJDHuQc1qruh665gL/tjJap9HSuGtLvvq6C6S8i6a4xpMsZscv5h2QstxpgdeZy730iwDaMoiqIoiqIoih/1PCuKoiiKoihKnqjxrCiKoiiKoih5osazoiiKoiiKouSJGs+KoiiKoiiKkiexsAXoDWPGjDHTpk0LWwylwpk/f/42Y8zYno8sHKq7Sn9RvVUqFdVdpVLJpbsVZTxPmzaNefPmhS2GUuGISM7uRsVCdVfpLz3prYj8Eatk3hZjzIEB+wX4BVb5qVbgcz2VJFO9VQqBjrlKpZJLdzVsQ1EUZWDwZ+CsbvafDcyw/10K/LYEMimKogw41HhWFBci8kcR2SIii3PsFxH5pYisEJFFInJYqWVUlCCMMc9jNTPIxQXA7cZiLjBCRCaURjpFUZSBgxrPiuLlz6j3ThmYTALWul6vs7cpiqIovUCNZ5uG1k6eWLo5bDGUkFHvndIXXnlvO2t3tIYtRk9IwLasFrMicqmIzBOReVu3bi2BWNk0tnYxZ8mmUD5bUZTypr0ryX3z15FKhdchW41nm8v+Op8v3j6PrU0dYYuilDd5e+/KwQhRSsPFt87lxJueCVuMnlgHTHG9ngxs8B9kjLnFGDPLGDNr7NiSFkhI89V7FvClO+azoaEtlM9XFKV8+fb9b/HNexeyYO3O0GRQ49nm/e2W16grmQpZEqXMyct7B+VhhCilw4TnBMmXB4HP2HH7RwONxpiNYQsVxLqd1njc2pkIWZKBTWcixc3PrKAjkQxbFEXJm/sXrA9bhMoqVacoZUBe3jtFKTUicjdwMjBGRNYB1wJxAGPM74BHsMrUrcAqVff5cCTtmXjE8uskQlyWHQzcMfd9bpqzHIDLT9krZGmUUvHe1mZ+8tgyJgyvZebk4Vx02OSwRcob94S6MxHe+KDGs00FeI2U8uBB4Csicg9wFGXsvVP6jjGGi2+dyyXHT2f2/uM9+zY1tjN2aDXRSNAiRHgYYy7uYb8BLi+ROP3CubaJpA7MxaTNNkRaOtTDP1D44M0v8Ykjp/LRI6bkPOYrdy3g7Y270q9zGc8PLtyAMYYLDslEJja0drKtuYO9xg0tnNC9oL0rEx0QZqSAhm34kPJ6HiolxvbevQLsIyLrROQLInKZiFxmH/IIsBLLe3cr8J8hiaoUkY5Eirkrd3D5Xd4eIpt3tXP0DU/x08eXhyTZ4CAWtY1n9TwXFbEfeHqVBw5vrm3gW/ct6vaYdzc3eV6v2NIUeNzX7l7A1+9507Pt/F+/xOyfPd8/IfuBO8QoTONZPc+K4mIgee8AmjsS1FdF0w9JJT9aO60BuiYe9WzfvKsdgOff2cqVZ+1bcrkGC47nOZnSHBRF6S/3v7GOuqoYZx24G5t3tWdNSheubUx7ktc3tNGZSLHHmPrAc63xVRV69K2NTBpZy8zJIwArjr4qVjy/bId6nhVFKSabd7Vz4LVzuPWFlWGLUnE4cXU1ce8Q6Tx0YlEdOotJzDaeuzRsoySUe9iiiEwRkWdE5G0RWSIiXw9bpnLE5Pgh/9/fF3LZX+cD8NDC7BSdpOt9x934NKf89Nm8P/PLd77B+b9+CYAVW5rZ+38eDfyMQtHu8TxrqbqyoRCDyIaGNto6NXtZCZctu6yyiw+8qfmMvcW5f2t9nmcnBjdeZvHOA42YnTDYmVDPczGpoAWpBPBNY8x+wNHA5SKyf8gylR3JPMKcHl28iYMmDfdsC6qXnOiDV3fJhkYAHi9iz4xB73ku15lkqgfrub0r2eOAfuyNT/OZP75aSLEUpdc4S2dafrH35ArbSNhhBO5kwVzeHqXvODHPajwrAMaYjcaYN+y/m4C30e6YWSTzGIu2NXew51hvSEaQzd3Q1tVnOYo5JnYkBrnxTJnOJHv6zff9zmOc/+sXezzP66vDK96tKJAx8NQA6T2O8VztM54dz07cFbaRj7dH6R1p3dWJX0kwFZQyKCLTgEMB9VD5yCdFoKMrRXUsyq8uPpQLD7XmH0FGd0NrZ7fnCctp4E4Y7ByMYRvlNpN0Bo+ePM8AyzYFZ6YqSjnhDG5qPPeeti4r5rnWF/PseDrcnud8vD1K79CwjdIgTs+nClFhERkC3Af8lzFmV8D+Qd3VNZ+xqD2RpDoe4byDJ/I/5+wHBBvCO1oynucgD29YPgNP2EaI40NZxDx3N5Ms9c3QnULkM9PSJVylXHCS29R713tyhW04NUZjnrCN0sk1WHCur3a+Ky4VFPOMiMSxDOc7jTH3Bx1TiV1db35mBS+/t60g50rm4Ym1PM+W6RcRp6pN9vt2ujzPbV3Z92EiwM1diqpOGrZh09NMstQ3Q3dLsE15FJLXJVylXHB0sUO9d72mNUfCoGPMOTG5oPd8MdCY59JS7hosllV2G/C2MeZnYctTSG6as5xP3FqYCJSePM/GGDoSybRTIBLpxnhucRnPAQUQwqoiWS51nkM1nvOZSZZMFnv5qjvPsVuZcqFLuEq54IQgacJg72nr0fPsinnWe77gZDzPqrvFpIIcz8cBnwZOFZE37X8fCFuo/lLoleqeJvKJlCFlcHmeHTmyj3UnDAYZz0Ge51LgHhPCjHkOrUlKuc4ku9O9na09Z5+qF0opF9JhG2qA9JpM2IbXv9BuL1+6Y56Dyjwp/SPqxDzrxE8BjDEvUlG2fn4UWr+Dcrbc45MzflXHLKdAuhlRwPvcz42gsI3ubOdijogdXep5LsuZZHcJg3l5nvVBqpQJzqCpKtl72uwmKVW+ZiiO18MdtqHXt/A4l10nfsVF0p5HVeJiYIzpdnJd6H4QQe3su1xWrjN+Vce9Mc+BRrdrW2uAnGGtuDnfQSTchMHQPM/lNpPMp9qGO4A+mTIe75N7u6KUA0EDqZIfQQ8LyHhu3AmDes8XDw3bKC6ZcMWQBRmgnPq/zzGsNs4Dlx8XuD/Io9sfggx19wQ0bTz7EgaD3ufe1J5nwmApcL7DkKrYoPU8lyXdDSI7XJ7nxrYumgMSCPVBqpQLGk7Qd1rth4X/EjoDt3t7PuUtBwNrtrfy1rrGgpzLeSaq57k0qAYXh1XbWli4tiGnZ7/Qnucg+8Pdwtoxgp1cjnTYRsBt5pb5k394ldXbWjz7U6lwViw6EkliEaGmKjo46zyXK/l6ns/55QsceO2crGPUeFbKBfU89x3noeYfD5yHj7t1rRrPFife9Azn5dFAKh+ca6rGc3GppFJ1lYZbd9fuaAs8xlnhKtTv0FPscnO75fDzJwwGjWH+TXNXbs/6rDDsHafUXlU00qcW4oVCjWcf3enCrraMp3ljY3vgMZp5r5QLqot9p9WOefZfQafahntiohPmwpPUZFelwtm8K2MjvLEmuOOwMxmPRwtjigWtNrpDG5rSxrPleRYRRHqOeQYYUVfleZ1MmpI9Yxrbumi0CzZ0JFJUx6PEoqJhG+VEd16kls6e6zwnirCMMO2qh7n5mRUFP68ysNGwjb7jeIT8y5JOjVG3wewP/Vu7o5XpVz/Msk1ZZeuVPHEeylptozToPLvwuB1sbkPajTPO+BOT+0rQaqP7HmrusAxQx/MMEBXJYTx7X/vjnpPGZI19xXrmHPy9xzn4+48D1hhcHYsQj0Y8ISmlRo1nH93F8LR29ByfVOglXEeem+YsL+h5lWBE5CwRWS4iK0TkqoD9nxORra4KMZeEIWc+uAdSzabvHbvsGqf+h0NHgOfZf88/vnQzKQP3vLa2uEL6GEi6m1LPc5/4yWPL+OOLq3r9PqNRzwVnY2MmVCPIqH1m+RZ2tVvjTFWsMKZY0CqY+x7a5XieXSU4IyI9xjxDdhJ1MpXK8jz3N1Rw6YZdPP9O952k2+2wjXg0EurkOrRqG+VKd799S2eCWES6VZBCx5mq87B0iEgUuBk4HVgHvC4iDxpjlvoO/Zsx5islF7CXuL0AXUlDVUwDHPNlS1MHkG1UBHme/Q+QgCI8RaecdNcY0+82vZnumNqeuzf85tn3APiP4/fI63iN1+8/f399Lb95dgWPf+MkjxG8oSHjbfZPAtftbOXzf3qdo6ePAiAeLcygEfR7dhe2ARCJ5A7bqI1H0xVBWn0r78lUtrGefub0Ua0+8MsXAFh94zk5j7E8z1GqNGyjPHB0p7tlh9bOJGOHVnu2+QPWC71soYNbSTkSWGGMWWmM6QTuAS4IWaY+457IFbok0kAmlTJsa7aM5+ylS+t+dw/a/nu+u9qpRaRsdLcQ3iDn2mmpuuKStnX0MdMntjd38K37FrF6eysbGrxJgau2NTO6vopoRLLKujle3AVrGoDSeZ6bbE93jc/znKtUXTQivPvDs4HsyiDJlMnyTpciBtqKeXbCNtR4Lhu6s32DjGd/zE3hPc86qpWQSYB7rX2dvc3Ph0RkkYj8Q0SmlEa03uPWnUKXRBrINLR1pe9r//3XG89ziRMJC6a7InKpiMwTkXlbt3a/hBqEM8HoD86l07CN4qLJrv3jvF9lqsusb2hj/vs7+M6/FmOMYenGXew/cRixiNDSkUyXut3Q0MYCO4HQmRwWKmEw0HhOBlXbyHieoyKBRm/KGMSWLR6VdPlO92f5P68UFZ46XGEbXQmNeS4buo157kwwvDbu2eYf3As9GKntXFKC1s78v8BDwDRjzEzgSeAvOU/WTyOkv7iTVyt9+bsrmeKrdy/gnc1NRf+srXbIBpD16wdV2/DHRUva81wU8XJRMN01xtxijJlljJk1duzYXgtSCF1LV9vQhMGioknF/WN7S2d6sry+oY0H3tzAHXPfp7UzyTubmtl/wjCqohH+/PJqDrv+CQCOvfFprrzvLc95CpUw2FOd5yZfqTqASEQC7YxUyqRL6NXGo9meZ+OtttFTN8Xe4D6P28YyxqTDNuKxcGOe1Xj20W3Mc0eSYTU+4zlZXONZPc8lZR3g9sZNBja4DzDGbDfGONbVrcDhuU7WFyMklTIFMxDdA1uYWcmFYNnGJh5auIFv/O1NADY1tnPzMyuKkgi5pSkTq5iP59l/TCQd71vSa15Q3e0PHQXxPA/chMGNjW2s29kathiAO2yjsseHsIiI8JljpiFieZRX2Y1EFq9vpDOZsjzPBYpndvP+9hZeW7Uja3tPdZ6bnGobcVfMs+QwulOGiD0zqKuKBcQ8pzyOg65k4eo+t7sm4O5mdO1dKStsIxbRmOdyoztjtbUzwdAab45llvFc4EFIHQMl5XVghojsISJVwMeBB90HiMgE18vzgbcLKcAfX1rFGT9/Pmdd0N7gnr2H1Uq1WHzpjnncNGd5+mFVSNyeZ//t53ic3bkO/gdGuvFAaS956LrrENTKt7c417S3D8dKCEM45oanOf7HzxT8vH0xgJ3nlfNOY0yojScqjaQx1MSjjB1Szfqdbazebo1H7221/p82ut4TkpFLP3vrJDvppmf56O9fyT6P66cLuoeCPM/RSHDYRjJp0o6AuqpoQLUNr72TSKUCv9/i9Y0sXt+7zqMtrspmTpw2WDaYE/Mci2jMc1mRS4lTKUNbV5JheYZtFKpjkHqeS4cxJgF8BZiDZVj83RizRES+LyLn24d9TUSWiMhC4GvA5wopw9INVm3glVv7bxS6QwvCjA0rJM59tXSjdZ1a8igf2Vsc43n8sOqsyatzf3dXqi6MhMFy0F2HQsQ8p69zL1ZMNjW2s+e3H+Fvr6/p9+cXgvauJE3tXTS1d/HU25uB4oZJ9CW50pHHud5X3LuIva55tKByDWSSKUM0ApNG1vL+9lbW77SSBrfbCcdDamIe4zlX4nahYoXdTpKuZApjDC+u2JbeFmQ8i0jgxKsrlUo7AmqrAsI2UsbnoDGuyZidM5IynPurFzn3V73rPNrg6ubsyAxW3llHIkmNHbYR5oqqlqqzycy8g/e3J5IYA8N8nmf/zMcZhCIFsp6NOgFKijHmEeAR37bvuv6+Gri6WJ/vLKcVIm7Ubbx1VajneWdLJ796egXnzLScps5XcgbNhrbOXG/tMztaOqmORaivjmUZwI4x113YhqRb3hZctG4JW3cd2guou73RW2cV4v431vOxI6b2W4b+csGvX2L55iZm7zeeJ9/ezEtXnVrUMJS+ePyd6+z8f98b6woqU6Xy1rpGXl21nUtOmJ7zGGO3p45GIkwcUcsTSzan73mnWs+Q6pgnbMMf+hCPSo/hDs0dVoncGleohVsGd1nIlPEas/9+Yz13vZqZTDa1d1EVi3jeExUJ/PxEMnPuYM+zV+5EwPd4bXV2aEku/rkgo3un//x5fv2JQzl35sRs47nL8jyTSKnnuZzI5S1yPFxD/THPuTzPBZJHi9cPLhyPQCEesm6vXTE6X5aCn8xZxh9fWsVDCzPhu+4YuIbWrqC39YuG1i5G1MWtCXAenmf/+O08cAZrHGkhYp7TS869WDFx7IEwr7r7N19u5y6s2tYMWBVvlmzo3fJ1b+iLx9/xFPqNnsGquw7n/fpFfvDw2zlXChLJFKu3W3HrUREmjaj1hHBusytr1Fd7Pc/N7V7j+UOHTbbPF/w5/160gQOvncOV9y0K3O9fbXCPRYlkirU7vLH1u9oTHq8zWGEbQV8z4fE8B8Q8+xIGE8nssI15eRrPSzY08o2/LfRsm7PEWq1xh220OGEbsShVIZeqU8+zj1wTQEdx6qu9lyxbeQsdtlGY8yiVgdP5qTDlvrwDW6Xw0MINTBxRy4aGNt7eaBkgLS6DeZOrc5d7ea9Q7GztZGRdFSljsj3PqWxjI6tRgM+bN9goRMyzc0n7FKsf4mX/5VMruPmZFYwfXh24f43LmHGqBhSKvqxWpQImg87rQjXuqGR2tXcxoq4qa/sNjy7jNruTYyxqGc9utjV1IAJ18SgxV9ekTY3eNt2XnDAdY+DZd7YEfr6TFDj//eAcmNbOpMcj7R6LOpOpLG/11qYOpo+p92wTCQ4nSrhjnuNRNtqeZxFrBTDlC9vocnminaHP7QRq70oGes/BMuCzttmb3M6SNjtsozoWIZkybG3qIOVKbCwloRrPIvJH4FxgizHmwDBlcejJ8zykOmoF2OdIaMl4novXMUgZuDgP00KEbSR8A1slsHZHK1+9e0HWdnesoHtiURTPc1sXw2vjNLR2Zd1/yVR2k5SsRgEpx3jObNvZ0kkkIlmlLgciBQ3b6MWKSabGSTi6nkoZbn1hJZ3JFGt3ZCZ4GfUwHq98U3uC6iGFM577MuF2dNRvPHUlUwWrPVzJ7GjpDDSe3S2kIyJM9BnP21s6qa+KEYmIpwHKFfd6vavxqBCLBodNADS2WePb5l3tdoiI165o6Ugwqj4jn9dhYrK8xQDjh9V4XudMGEyZ9D3lDtsQrPmpO8bZ+rxUluOg03X/bm/pzJpkOMQi2brW3JFkW3OHJ2yjuSORrrZRE4+SMvC9h5bwvQtKbz6GfXf8GTgrZBk85FquauuyfsC6qphHgXPWee6l7fyNv73JiT/JzsBW43lw4SypFaKzmjcerTI8z88utzwwnzt2GtPHZjwk7mQVt2ezCQ8bowAAIABJREFUoa0YYRuW59nxsLgJ9Dzn8E67791Dr3+Cw+06rwOdQiYM9mZZNuxKG2+ua6C5I8H/nLOfZ7sz8UumvNWZmtqzDZv+0BePv3PN/HOUgZJg3F92BkzOOxPe8IRYRJg4wjJInfF7e3MH9dXR9H6HDT7PczwaIRaRnAmDjnOgK2nY2NiWtd8fh5xIeY1npzGLm92Ge43niASHbXSlMjHPtVWZNt3ONn/Mc1fSZI2P7vvXSaIMIsjOefLtzcz6wZMez3NjWxfGWLlBXzl1L8YNrWZlESou5UOoxrMx5nkg/4jyEpBrrHY8z3VV3mUY/+CeSHuee8c/F6z3LOk5qO08uHAGnYIsffsGtnxZsGYnyzcVvxlJEM+/u42po+q49rz9GT80M8iX1PPsinlOGcugf3XldiBXzLPP82yPCbkM74FOIUvV9SZWvyPHdS8Vc20dOWP/3TzbnZCjrmTK42zZVeCJX78SBn26qc1pLBpaO7ntxVV86g+vsmZ7K5++7VX2/p9HPQZbJCJMHlEHwN7jhwKW0e2EeHbnwY9HI0QjEZI59LyhrSsdPvP+9mz7oMXnWfaGUaQCx0e/5zmSM2wjheMQrq/OxDy7O6i677VEKpVVvcWt79sDDHmH7ia+LZ4cF+scTofBfXYbyq4CT0LzJWzPc4+UuktbLk+v8/CuiUeJSm7Ps/P+QlXbUM9zNt/512JecpXfGUg4k7HettNeumGXZ5ABX9hGLx6GF/7mZc78v+d79fmFYkdLJ1NH1SEixF3LnW4Pi9uQzifmubG1i5vmLMsrCdMYY4Vt1MVtz7Phc396nY/dMhcI9jznMpIH671biFUTd7WNfJPXuuzPDeuqv7mmgWmj6xg3zBvv7OhulvHcXmDjuS+l6nIkDA60uvB9ZUdLJ9f/eykvrtjGM8u38MK72c+dWEQYVhvjkCkjOG2/centQ/Iynq2wjUQquDtfY2snMyePAIKN59aO7AoYDrk8zxOGZ4dtBE2i3DHP1bFIWnedkNSkyV1tw5kLeD3Pucfq7vtrJNM5ZDtautLyAAyriXsSCktJ2RvP/W0V2x1LN+zKmezjxzkuFhWirkQK/ww97XnWhMGiYIzhjrnv88k/vBq2KEXB0aemjuDZdCpluOOV1R4vU3tXkg/88gUuv+sN77G+AvaVgBVrad087pa1zmTCmIyHbfyw6rzCNn7x1Lvc/Mx7/HvRhh6PbetK0plIMbKuiohIliGW8YjmbpLij/sbbJULCul5Nib/cIzOtOe59NfbGMObaxs4ZMqILGMp4Vqt8HR7K7DHrKNPYRv2/8bwuqsyQjmGbYjIWSKyXERWiMhVhT7/bS+u4ogfPunRN7fndktTO9GIZCXcRSKCiPCvy4/j00fvnt7uGM/+DoPfmL13+m/L8yy0dSWZ/u1H2NrUwfceWpKeWDW2dTFj3BAgU/7Ojd/z7O0qm2JnayfH7zWG5//7FEbbsdHZnudMzLX/meEYz7FIhJRzL6abQJmsz8s4FyzF6kymGFln5XnsaOkmbKObx1NLR4KxQ6wJqdOZ08kNGloTo6k9wcbGNhaubchxbsO989YWvExk2RvPxWLphl184Jcv8Mun3vVszzXuOsoVFfGEbWR5ngtcqq6YRfXLkQO++xhfvH1ezv3u8INbnn+PO+a+XwqxSoazTO0vaeTw4MINfOeBJfz66RXpbY6n73Vfu1av5zlbj55YupkHF/ZsUDpcdsd8fvPsip4P7AddSUPMNj6qYpm7qK0rO+Z5/LCadEJNdzjvzSfEwzlmRG3cWs50DQjG5WnxhG3kjHl25K2MiUt/cRwGvTHiUikT2CXSPezlG+4SZivvxrYutjR1cMDE4UQjQlDyf5ddl9Z5fhQ8bKMP39+ZaLR2JvjI7zId68otbENEosDNwNnA/sDFIrJ/f85577y1ntKB1/97KVubOjzl3X74SKYJ5+ZdHYwdUp3VZdhtD9RWZRJAc4VtjHetTDgxzw4/e+Id/vTSam55biWplKGxrYuxQ6upjUfT+uI27rNbZmcbz5NG1DJ1dB0fPtwqizd2qDcB0h3z7O0YaNL3dNwei7uSmfJ1fm95ImWyVjK6koYRdVVUxSLdep6768y8s7WLYbVxTt5nLP9etBHIVKWyjOcuPnnrq1xw80vpMaC9K8lV9y1iU2M797y+lv/+xyLuerWwtsKgNZ6d+OIldkc3h5wdBu3t1sCYj+e5QE1SBpftTEtnkieWbs653+1B/dEjy/jOvxaXQqyS4SxzNefwPDthCu4l3/Rymk/n/Etwfr54+zy+FlDZIhePLdnETx5bntexxhhufX4l6xuyk1y6oyuZSnuc3Z5n53qIZIyEYTXxvAwm57Js3tXOmu2tfP2eBTm9ozvt6zuirgp8iTTue93TYTAr5tnrcS708nw5knLFP/bGiLv1hZWc8tNn05010+fzebTyoTPEsA1nAltnJ4kFLdV3JlN0JFOMHmIZL73xPL+7uYmn3t7M8+9szemJ70/CoD9MLMz6uTk4ElhhjFlpjOkE7gEu6OvJWjoS/Pc/FnHur17kfx9fzrUPZJ4jTn1uP5sa2xk/rDrdyMrBHcZZ4yo9mAnb8I7L7uoY8ah4Kk04ZTjbupI0dSRIGRheG2d4bTztKHD/zs8u3+r5rZI+Y3ZnSxcj7c/71ln7/n/2vjs8jurs/tyZbVpp1WXJsmW5yg3buNIxYJvm0IspARJa+BICJDihhfxI+CBAGiHlAxIgQELogVAC2FRjsLHBNrhXuclNsqy+de7vj5l7507bnV1JtiTveR4/lnZHs7Mzt7z33POeF89cPQ2TBhUZrkeSRO27/npMkG14tWuMJRQu21AsCYN6IqXu066O56W5vow1z3tbwsj1ybhh+jD+GpNthAJehGMKtmrxHPOV/mjdXjy/ZDv+963V+HqHykh3VUzGcEiDZ0LIvwB8DmAkIWQHIeSag/XZzAqMrWAYnJ4hCz5kqXuZZ/OW4+Gqm3SC3Xbiy1/u6DMMPRsIzfplBha0iY4vTrZ2xoG0c5MhNTGwqbCrKYz73l6Da5923kWwgyjbEAMQNnFQCoS1iT4/x+Nqkt/brGa4r97VjFteWIbXl9fhK5NvajSuYPO+Vv760LJcSMT4XVnZbo9ktJYyNz0z8ywyjD0wKOkSiIuJxz/ZjJU7rcVAfjdvPQbf/pbhtSW16v1m27EM5ix+N4hx2Ybx9ca2KC569DNss9GMdhXYPOC1WfgxxBOUS4IIgWutZm19G2b9/hNc8/RSXPnkF3j0402m8yq4/G+L8PY3u/hrlFIs2LAvZeJvgjPPJteGnldUaQCA7cLvO7TXMgLb4qcU+OMHG/H05zorud7hnu1obEdZKGBbZIRBkgh/9rkOCymfqTS2KOtgQWBCoXzcKMjxIj/Hwxfh4i7c68vr8McPNmJbQzt++cZqPtYBasXNaELBgKIcfp0n1pRZgkjZSbaRUHgcw8ZkNaBWX7MWSaHW4DmhwOshKM7zJXXbEMfZZ6+ZhqDA4O9pDiPo83DZCWCUbQDgUpqPNQtBtoPY1BHjWvGutl481G4bl1JK+1NKvZTSgZTSJw7WZzO/TXNHcNQ8C4mAoubZyW0j0+jZvEWZDZ6NsNtOnPvSCry+YuchuJquQySeQENrhAcKa3e32Brjc+29zQLO3ORSyTbMWFK73xLc6Nen33cWRCYDm3zT3ZqOxXV/WXGSEYMpxry4YZ5X1zXjUy25dMGGeny1TZ003121G88u2ora+jb8+IXlmP7rD3HKbz/Gnz7ciJryPNSUh1Q/U+G27WlWvzcz6GcDvnnL0WzTJDLPToui3ow/fbCB68lDGtu2cW+r5TizRC4ZjLsm7hYcEQfmee3uFiypbcQHa513tDoL9qxZ4OT1WKdWljDo96rV0dwmVn6jLUR+cfZYDCjMwaempLXN9W1YuLEBH63TE+pbInFc8cQXuPD/PrM958a9rfjde+v4fe4wsdZsnG3qiGHw7W/h/TXdd+9cwm5GtQxqbg0GvtpmX3QEAJZrgfV1JwwxvL6jsQP98v2WQh9m7+WARsjl+VWtr9nD2LywEv9+8z5VwrTzQAd++eZqAOoumBPzDABrdzXjvL8sxJMLt+CxTzbz1xdvVlnYCQMLHL8roAbwis1YllB05plJ6eIJhQffqmxDP09csTLPUc0vvCTX74p5/ue1R+GEEWW4/7xx/L09zartn+iRz+I2xu6zMZaNO6z6Y2skzlUGdp7XncFhK9tgbJ25IzixaorA+CVz2xCD7ExgDsb7CKHaZWD358pjqnHzjBH89V0m/8zehrkvfY3J/zvfMDD+/bNay3E686x3XadJWKGUB6DJApDXl+9EQqF46+tdjseIMpLVu5odj2OIJtTvsfNAB179akfK4xliiq55tmMKVNlGArJEkOOTU2ozz3xkga3m+OnPt+Lu11bipN98hFeX7eTtZ09zhJfMlYRJBdAZbLZtyxlmoZO+tmwnnly4Rf0uLHjuMJr89zX85r31+PGLavGHi6ZUAUguITDuEjmTFWwIdVvgx6ktsIl1ZV3qdpspWFvw8rZrHf+jLHiWJfhkyZWu+KN1e/GTl1dAlggumVaFE2vKsKquCVc8sRhzHlM1ynYs/5srtL7sMA1d/NjneOSDjTwga4vYyzbWaH39sY834xBjB4Aq4feBACwJG24NBpwq9gHA+2v3ojTPh7mnjcTxw0v563GFojwUSBk8s+aan6MGdmLuBmBdWHlsBPLzVu/h8sXyfD/yA14+jpj71nur96ChLYqgTzbMBa8u2wGvTDCyIuT4Xdn127ptCJpnFvBHBTbamjCo/87+j/Hg2edK88zipnMnDsA/rz2Kvx/0eZAvBs9eXbYB6MTGnhZ1jK7V8ihW7mzi0kFzG+8sDtvgmW1TsRUMawOOsg2B8TMUSTExeszjNVN5jTkYP9wy9VOBDeoTBhaiNKQnXjgl2PUWMGZn7e4WjOiXh1EVIdvEKzvm2Sl4jisUAY+uVXPCzc8vxz8Xb7Us+ES2V7y/K7ZbJ2szxG3gH7+4wr3dWEKBj7lt2LB3qtuGgoBHC0BcsndzplThoQvGG147a0Kl5biR5SF89ziVcZIIMTHPWvCsXZfdVuctLywXrMnU18Wkxq4ewHsa8rRt1GTBs5sEwISi60djLp7xf7/ZxfX45rbGtMXm/JZ00ZiEOWPt0GMjOWKIJyiiCQU+jwSfR3Il4fnu35cgHFMgSwR+j4yxlfloDsexYEM9Fm/Zj+3727Fyp/V7Ld6iek6P7p9ve15mYcbGDjMrZ7bMDPi6rhJihlgCYAQhZAghxAfgEgD/yeREikKxbPsBzJlSZXmPscaXHVUNv0fGtCHFhvdLQz4+pjKYg1+2QK7ppwat5nE1GfMs4vxJA/DSDcdg/MBCA/PcEbW2myGlufjJaSP570VBLygFRlXkpywBLxPCGWRDom5Cd9tgCYPxhB5QWxIGBdkG23mMaprnkjwfGly4bYj3grHKgFpfQ1y0sO+Ub0re3N2kfkZtgxo8izuuZmeSzuKwDZ7ZgGoe5FIlDErm4NnCPKv/Z6p5NrMRWebZCNYZvB4JxULZ1B2N6SWm9TSM0Mz1N+5thVdWJ1c7Zsqsef7TBxtw7p8Xqm+aGp2iUD7gpJJtNLbFLAs+tRRqgv/MsHRr6rpG5gQkVqnr2UVbeVKHHQyyDQeNWkcsgYBXdhWADC5Rixf8aFYNpgw2JsqcM6HSMIFec/wQvHnT8XrQrrltsHu9R5OrBEzMs1OyS9xGttEXmWcRTLaRLGnQ7n5Zkl0p5eySk15f9LD9n3/qNo3mts6kQxv2tGRso7dgwz5MvHeeoSyzCLNsw67tMtmGVybwulz4VRWp7bdQY92OrCo0vH/CQx/iyYVbMKoihArBgowFWqmcT/Tg2V7zzF4Peg9t8EwpjQO4EcC7ANYAeJFSuiqTc22ub8OB9hgmVxfhtLHlhveqi3PhlQm+ffQgAMAPTh6OS6cN4u+bgzhAjQnsMKq/Oqaz1njWhEos+OnJlpjDjnkGVEu7qYPV4D0/x8vHkbA2Jpfm6fPf0UNLkOO1On2cfoSxYI8dCNGZX0OugUJ5kRSPmDBI7BMGRdkG92lPUHhlguJcP8IxxVE6oRsy6K/lBcTg2RgkB0zMM0NDWwTRuILahjZ8a3x//rpHIl0umTtsg2fWEK1FTuyPF63qxC1za3lue+cDtzAP/FnNsxH6JEUMWcsfrdvLt9UffGctnv9i2yG5vkzRX5j4vDJxZFVZ+2ID7m/eW8/fs9M8s52SVAmDXo/VXuu6p5di5M/eAaAHfUPLcrFs2wFLABSJJ1AnOGu0mybtugMdWLmzCXe/thI3P7/c8TpiCcq3Ne3YO4VShLXg2SsL3qMOiMYVXDR5ICoKAhhalod3bzmRvze4NBcPXjgeG+47A3ecMQq3zBxh+EyJqBMfC4QY+86Z54SVeTZ8to3uuy9qnkWwSTs582zXrq26cT/fNbHe39eX78Ske+fZShaipgRaNtbHFYr1Nk4K+1oiKS0Pn9USyuoc3GP4oj6J5Cim+Tz7PBK8HuIqD8EjE3hlgn9oW9hHDCjgsiIRZ02oxGe3n8LZR/Z9zEGxGU7PKWpa+OUceuYZlNK3KaU1lNJhlNL7Mj0P0zRPqi7EI5dONMj/zplYiR+eMgL9tOqmskQM0o0cr2zJk3IKfgcU5mjXrf4+YWABqoqDFhmHR2gr04YU46O5J+H9W6ejqjjIX8/P8aI1EoeiUE5MPPrtyTh5pCpNmTio0BDUnzJKLdZy0RRrWzFDlghnkBUHzTNrzzGBeTYnDHZEE/zvGbEQ03ZamMPMWodkTHYeMW4KCcwzS75kMCcMAipTTSmwqq4J4ZiCo4YUc+KjsjAH7dEEwrEE/vrJ5i4prHL4Bs9sZe5SJsGDZ5kkLc/Nfs2YeXaoWJiFCna/PZJkCJ6bw3F8+4nFaGxTy6k6ddKeCpFl9spq6VE7VpW9xJJWnQZuQGUGJM0dJlX2vE+WLAu+LzSGOBpXeOB41JBitEbiXMLA8JOXvsaxD3zArzlsmrS/9cdPcfXflwAAhmum/2ZQShFTFHglZ9lGXKGIxBQEvBJ/PxmDx7bJGUT93yBtcvLKEr43fZiFxVBlGzrzzJKq2OTJgkAn8lu3HdTvRV8Lns0uN2zhl8zb2m6xY9lxUyifIO36AXOWsPOIjsQV/OKNVfwY0RLOTrox9b75mHbffMfrVRTKK5o6BZFsl4E7xXis/TIWV7T2KLuWHO1vi2LO1Cpe9hkAfnPReCy+c4bhuHOOrIQkERRqBSmakwTP4hznFDyze87YfTPb2puxraENhADVJbnwe2QcPbSEv/f9k4bjJiGYBozjkN+bmnlmDLA+nlLDecwLKza+DCoO4sXvHYPBpbkYVmYcI/MDamD41bZGbN6nJsUFvDKqS1SXiXEDCjgbCwB3njkan91+Cl8EJIOY22G2iCQ8eBZ9nrUKg0LSNKDmt7B5ho0LLGGQseTn/8U+gVURyEmGZMwzG4PFJMJhZeq9WKzVO6guycWiO2bg09tORq7fg9ZIHB+v34f73l6Dix9blOq2pIQn9SF9E2xAdbKaM0NknqVksg3OPGd2XeaJIpPYuakjhmXbGnHSyH5JjwvHEvBIxLDyPZRwo4tl98frkVCUq3ecydVF+HJrI274x5eIxhWcc6RVz+oWhJDTAfwBgAzgb5TSB0zv+wE8A2AygAYAcyiltRl/IIyTGJNttLdbAy1z4p/KKltX7YC6mvdIRAvEk99bryw5Lvj2NIe5XoyxKWaP2vmaZruhNYqKgoDtpL1Xkz3YBcUAG4yTJ13FEoqBeQbUAToH9pN7JK5YPm/OlCq8vXKX43UwEKLuRLEJpYPnSZgSBh3aLWurCYFp7WuyDXPQ65Ul+L2Sa80zu3V2pEEy5plZUdk9w0hcwVMLa/HUwlrUPjAbzR0xVOQH0BaN2zLV7G8opZY+1BaJ4+bnl6FNe/ZOAW9UGJcAYxDAwGQbPm1xnCphMJ5QcKA9hpJcY7lvQgjK8wN46ILxqC4JoiOWwEBN3sEW001acpnZRQOAwfXAaZHD2q6u8+47JE5dUxj9Qn4+frAFhxPENhbwyIYgFbASGIvvmmGYt9nPLEh2km2YKxGKYEHihUIhm4BXxm2nj8KpY8sxun++gdAIeGVUamN1KkgS4XJTc7lt9tV05llPGEwo1EAcbN/fbs88yxKOHaaz93bg8ZVYcMYgQ7FnnsVnN7QsDyt2NGHxZlXvP6Q0F2VaXlSuT0Z7NM7dTNbsasbKnU34z4o6PP1ZLdbee3raaoGeETUdArDtKLNHrqNsQyiSInYW8/Y0Z57TeBBi0GhNGHR9Go7731qD7zy1BGt36yxLNK7g2UVbDcHXVU9+gXH3vGfQDh5KuCnDq2+PEhRpmuc7zhiFl284BkNLc7F4y34MKc21aAPdwmUlq2sANFJKhwP4PYAHM/owAeIk59USiuwSAXmp34R1sDE3uThjnuXUsg317+3b7JpdzTxYZgOyufAHYwbYAG7uFyKcAhBRzw7YB0axuGLQPCc7H2AfPD944Xh8c89pjn/DwJhnds8588y1uMmDZ/aMDEkr3Rg8pypfTAjxE0Je0N5fTAgZ3NnPNLdRWSIIeGVH73HAvp9bdvBEzbNNkMmCZ7tCI2YrxZZwHAU5Xozun5/U99jOsecfi7Zi/pq9+P5JaoEGp4CXt10m6bPpS3GF8vbod6HXZ3kCJXk+2/cvnlqFo4aWGEgSJilk/VPUmCoKxd6WMHYL39PpOTE//f1a0aC+VCVzd1MY/Qv0wDJV8Cwu4gNeyeq2YXrW+QGvgRFlwwNjbM3jEQ+qJedwTNxlZeiX70eOT+aBaaa7A7LgZ2+2ntN9nm1kG4LbRlnIj+2NHbrmmRdJofDK6j27ZeYIw3siFNM9AjQPbO3eWJhnbWwgRPfVHqyx8EtqG+GVCfoX6Kx70O/Bwo0NePCdtTxh95+Lt+HxTzYjElc4sZMOUgbPhJByQsgThJD/ar+POZjFTLoLzPbFrUyCPXCJGBMGzdqZRAbFKEQmxpowmH70zBIK3l+zF7e9/DX2toTx8Pz1uPu1lfjvyt38uMVb9qMjlsBryzLzSH71qx1JS2mnCzdZ+LGEgkRbIx688xac/a3ZqH1gNk4oi+DJJ5/EcZo27YqjqztTTchNJatzADyt/fwygBmkk+WLxAQ7r0RsEwab2mPYpVWgYgGFU6Y2oLZZj6RWsErFPEfjimPbvf7ZL3k5cDbpmP2bmak9G4TMsg3zZ9m+zre+kyRdKUzzLHFXDqcghFLKrcEyAdEqDLK+zwIRxnowzbPToi/KmWfK2ao9e/bimmuuwRlnnAEAWL16NZ54ovP29odq0Wd+ll6ZIOCVLAmjIuz6uXUHUHDbsGOeO9SgrtWFdrE5HEMo4EFZnp9XkGQQg0dWiSyWULgudtHmBgzvl4frThhqe50M+o6Y2ibtemU0riAaT8DvkVwlDDJSwy5wcgIL9PQyxQpvv7+btx7T7nsfm/bpHtyOzLM2FrBFittEyz179nRL++5K1DV1oLJQD6yKgsnvr6hxDthonpONwQBANdbeHIgysGQ8O6kPg9luriDHi3yTzCzT4FlyKpJi0DzrYy07JCG4bQwuCWL7/nad3DEVSQF0ht2uFLduyGB8/YQR6pxu7ivi3MB0zwO1YjCtkTgGFgUNO+p5AnM9qiKES6ZW4V9CXtQaF/arZriZVf4ONcOV7YOvB3BL2p/Ug0CpugIHROaEau/Z/41oVSc2cXOiSYIaV15uIE7+XaF5Zo3o1++uwwtLt+OZz7ZigWasf9PzyzD3JdWTlVXs2Zek8k8y/PjFFZi3eg//rm9+XZfUPzMV3AbP9W89jOOmz0BdnWrzWVNTg4cffhi3zByBm04ZjsuOGpTiLEnhppIVP0bLAm8CUGI6xrVhP2CVbfhtJtfjH/oA765S5RFie+SfZzonG/x8MknJckXiiaRFG3Y3hyER1XMUsGOe1cGJM89C8HTCiFJcOFlNXCnI8TqyXRbdqINjQTimIEeUbaRgss3ldN2CACbmWf0cFgiz4Nip2bJ7Hhf0u888+FOcdtpplrbbBTgkiz7zs5QlCQGPnFzzbBMM2/nlM3YpZlrUUUo5K+umxHVLOI78HC/yBbsvBvH3TdqW7q/eXotz/7wQG/e2YunWRkwdXJxylyNmWvg5HcM0+E45DSKYtVc6wbNdIMfIlDe0QjbsewJJNM9xo+bZTv5hh+985zvd1b67BJRS7DpgZJ5Z0GkuisLgk/XxI8crW8tzpwqeteZu9kw2/725mIqIASYJht1uhFlO4haSUDFVDGwphSVhMK4ohoIq7O+qS3KxtyXCx312TFRwT2JyVzuyQZTFirjxFJWtPmKAarn40IXjMbp/vkE6y7TRrIw5APQLGaVOol1fWySOu2aPxuRq3X0pkxwpN3e7lFL6IgAF4MFCrzYr3dHYwQfftJlnU0cxM3CptnLtIJac7ooiKRHTxLVgwz6srFO1fpSq5awBfUCsd7llsfNABy569DNs328sc8smoBufW4YLHCpaJUN9q5rtLk6qTvrnaJxC6WjG7HPPh6QNNh6PB7IsoyTPjx+fOrKzyS12I6H5Ytwc49qwH7DKNuyYKTFQsCuWYoaiqMluHllKWaUtEldSsksK1bV3YuEPQA9QGfMsfp+a8hDuP28cnrv2KEyuLkq99W1TYZAfE1cQjifUKm0pPKzZ5zhZ3qWCRIwLug6Nec7VthDZ83FaKLMAJJ5QOFvVcmA/Lr74Ykvb7QIckkWfuY16ZFW2EU4i27CTEJnbREJYcJiTXdujCf65LSlkMOf86VN8s7MJoYAHhUEvDrTHDGNLU7s+frOFH/NIXrixHi3hOKYNKXIRPGtJYTLbTrYeE2cGVST6AAAgAElEQVRuG9yK0nlwjycU3PoiIzn8jseZIQZgzCe33aTXFsdvJ8KCfR9uj+YyeK6vr++u9t0laOqIoSOWMGzpA0DtA7Nx12zzRo0Kn4l5TlUkxQx2hxntZs7l8LpI/javce2KsOVkzDwLdS5M7YF9jIfvaFAek4iyDSbnY32ItauopnkGBObZVrZhH19Nri7C5vvPxPiBqgzz4ilV+O/NJxiOYcxzrl8v4d0v3/h8mc4/5PfgwQvGw++R8fgVkzH31BqU5PqwtpuY5zZCSAm0NkAIORrqoNtr8fUO9fILcryufZUTQta92G6bw3FQSjH3pRV48+s6wfLF/fVEEvrAlKxIyuq6Zpz/l4Upy8yG4wmEAh68+cPj8b0Th2LFjiYLo64oVA+eXTLPL3yxDUtqG/Hb99YZyjg3tEVdGf7/+cON+POHGy2vT/nf+Tjt958YJlXnQV0B8frR1tTIB5RFixahoCB5CdI04KaSFT+GEOIBUAAgtflxEohMnUeTbSS7pzEu23A+J7Oq88jEUqXNvDiJxBVH5lmcaJgjhXnRyGQazC6wQ9BaBn1qoHvs8NKkLgNm9s7J7qstEjcwz07XzTxuUyUGOkEiRpcS1l+C2hYgCxDttiHZtQLqZMGuwRcIoqGhoTva7iFZ9JnHT49EkOOVLcEW2+kDjH2bTZriM2RjKGPSzP1A3NVIZTm1Qhvr97dFUZDjRVyhGHLH21ikJRWJzDPTArNr+dcX2+CRCE4e2U/dcSTJNM+pmWfVyguceU4m29jR2IFdTWEEvBIGlwYdjzNDDMCYw0EHL9qjfp6dQ4kZ7Hty9xyXmufc3Nzuat9dgr0tERAC18l0gFXz7DMFv26ZZ9b7zMdz5jlJwiAAfO/Eofxnu4/MWPMsEX3H3DQacJ22HfMsyDZYsRI2L7AAmVUYFM9lN7dzn2ebRYGTjzZDSCuDnlAo36UxM8+7NIvJZ66Zhimad3ZJnh83njIC1584lEs+04Ebt40fQ63kM4wQshBAGYAL0/6kHoQVOw7A55EwfmCBRQPnmPyjUEujJ0RtLB+s3YuXv9yBeav34PxJKtmTTLbxwH/XYkhpEHOmqvICUdO3tyWCt77ehdmawbd4mh889xW21Lfh6r8vxblHVuLhSybanr8jqiA/4MURAwqwTNPumRGOJ3inTlZzXgQ712vLjbHk/raowcIpEk/A71GThn719loEvDJuP2MUfv2uWgHsBycPNxwLqLIAcUUqbveIiCsKik65Ft+/6lJs2rQJxx13HPbt24eXX37Z1XdwAV7JCsBOqJWsLjMd8x8AVwH4HGpf+IB2shRkRywBojEAcS3YSja56pUG9XtkvgCFqgmDXsnKPJt1pJFYwpZdeuum4zG2sgArdzYhHEvA55GQ45XRHI7h800NmKZ5aTIXiU/W78Pg29/CxEF6wqaY7OH32idCAqLmWe1nZm0hoLaLPc0RVBUF3TPPGQbPhBjPzYIQxjyzHR4nzbOqD6SIKWrSjEcimH3dT3H22Wd3R9tNZ9G3o6sWfeZdLlki8Hslwy5JU0cM0+57n/8uLkhYOxTbOpvInazqxHaaSrZRmufHmeMqcNrYCgPjesnjizD31Bpega8gx8tZMzYmrd3dguk1ZSjUNLFuFn4sALKb7pljjZqwlFxKxfrTw3MmpqwQJ0KWxeDZj9qGdgvzzKqvJQN7Rmw30C3z/Lvf/c62fU+YMMH1d+hO1JSHsO7eM9L6GzPzbGaB09U8m/+emKQRTrjjzNH49tHVOOGhDy2VDwE9RyBdiFZ15rGMF0kR3DZEzTPrq6x0drPWHxNaARWF6t+LLezsYiPWFewY9VS4eOpAfL65AdUlQS71MgfPYyrzsWFvK4aWWW1Svzd9WNqfCbgInimlXxFCpgMYCfX5r6OUdt5huhvQEU3gd/PW4aYZIxAKeLFwYz3mr9mD/3fWWMNxW+rbMLgkiDy/x+JXu2ZXMwbf/hZe+Z9jMLlab6CKQvmqiG2/FAd9aGiL4l9fqLulAwpzbM3GRSze3IBHP94EAHrwLAzId7z6DQBg6uAZ6JcfMJxnS30bpteU4eP1+/Da8jrH4Fnd1lYbkbl8JYPI3riRbSgKxRdb7OfZ/W1RwwCyraEdI8pDePnLHfj7Z7UAwDNtzdiwR09eiZuCZ7vdylicwl8xHK/85j207tkGSilGjhwJrzd5xrRbUErjhBBWyUoG8CSldBUh5JcAllJK/wPgCQDPEkI2Qg0+LunMZya07dzSPD/qWyOIaRn5yaysWNAhqjastok682ze+jZvnUcTRub5L5dPQjSuYIwWXBwxQGeP8nM8+O/K3fjrgi34yWkj8YOTh3MGsE5j75Zt0xdtQWFhlSwAiZtkG8kmkyFluZwNcUqGZJ+TqWyDEGLQ2/LgWdsOZ0GW07qJLYQSilpeWZIIKoaNwccff4x169Z1dds9JIs+O6u6gFc2OF7MX23cKTMvkgFjgKzw4Jm5bRgvscMmePbKxqIjYyvzsaquGbeeWsMrxL2zcpfhPA/P34AHtZLtIytC+GLLfny+qcGwIJgwUG/3Tg444vcwt9mQ38OlJcxpxSenLi3PxmexRLEbiI4NpXnqAMruF7s/B9pTT9+iXh9wHzxPmjSpu9p3lyHdxbTB59ljtfRMFTwzVsMpvYARG8lkGwxVxUG89oPjMLp/yPJewJf5DptT3GJJGIzTpMwzQ0KhekEzZt8oJWGeFet85hbnTRyIM8f1h98j87GlzBQ8/+r8cbhh+jCDC0pnkbJnEkKuNL00iagWTs902VV0ET7bVI+/LtiCI6uKMHt8f1z+t8UAgJ/NHmNo4Huaw6goyLEdDD9YuxcA8ObXuzBhYCHeWbUbZxzRHwnF2kmKctXgmVnC7W4OC5pn+2t8fYVOBjW2RVGU67MNkrY3tluCZ4moVYXu+c8qvLB0O+IJxdajORxN8FVoyCF4ZoFAaZ4P9W1RW49TEc3hGCJxBVOqi7DUlBS4vy1qmBBn/f4TzBpTjm0NKtNTWRAwBMkimFA/FPAYJkmnwDGaUNC68n288cpuvtr96iu1NO+VV5qbamaglL4N4G3Taz8Xfg4DuKhLPgz6xFSa50N9a4TrxGIJygudmKEPuPrzN0/GLGHQI0sG2UY4luB6SoZIzKh5nlBVaElSYcgPeLFhr/o8F2zYh++fNCypf7HIICdj1K2yDef2OLQ018KomcFe92eaSEOMgRuz32Oeo2HOPDufoz2aQDzBXE8Ivpz3Gp7bp0uRu6rtHopFH2C997pVnf76O6t2G45hC7em9hjf+YsaZBvq/36HnYUOG9mGSmioz+qmGSPw/ZOGIZZQDIVv8oWJ856zxuCeN1Zzh42R5WrwfOlfFxkSrwYU6X3An2RBa9U8E/6ZLHhm7TVVwmA8oWC/liwY9KfHJopzFEsqa4/GkVCoQYcuBvX238e4q+JWtvHMM8awgLXv3gy/oNkmhFjmyVRBL3uGdjtpgN523NZbcLJhzZQkMMo2zJpno2wj5pAwaC4wlVCoZSeR5efYEYuiFXAm4A5I2vWwhSND0Ofhu0xdBTfL2qnCzwEAMwB8BbVIRKeQqhhFumBarp0HjAltrZG4YcWxuymMURUhUKoP2ux5ssly0eb9uObppfh4/T784uyougVueq5Fmj/kjkZVT7O/LcqZENF1Y/6aPZg1phyEEH4sACzd2ohZY8ptJ/8djR2YXG10//DKEnJ8MkaUq1sP7bEE8u2C53iCyyjMjZqBsQ9VxUEs23YALZG4xfpGBMu6HlOZbwme61sjWKFJOmaP74/a+jbME9imjlgCa3bbC/I37FWD5/4FAQMbmizAiu7agK+XheH3ygiHw3j//fcxadKkLgueDzZY0MomO1bCF1AXCwHJOoGyQUIcx+OKMdhWFNWxwKsQg2zjjRV1BstCgCUM6sc4DfSAMQhZXdeM5o44FKruvOy0KV8sbsWpch53sg12D/w2i9whpbk8gHcKQiKdZZ5h3FpnfZHJUCIpNM+AyjbGFQqPrFpcbl+/Ekti6gK6q9vuwV70AVa3Da8kIeDRi6RQSi0OPKztTvjle/w1W9mGpuE06/VZEFoY9KIlrJYsFoPaH8+qAWDVgBbm6A4Fx2sWWGycEucHsR8MKNT1xsl3TYxtl0EkLzjzrPnMmtvt7+etRyjgwScb6vHJejVRM13m2WOSbQDqYqOhNWKYS8pC/qTBs0XznCQBVMSSJUv4z2L77s0wW8iZ44BUUoPbTh+lyYf6274fc2g76SJT4xxC9AWrWbbBzshlG3GFE4OKQnlxFXPskKCU76jrzLP6Xrqa53TAgu+DURHTjWzjh+LvhJACAM929oMFX9JZULV4Swgh/6GUrs70nEzLtbOxw5BFLQbPsYSCfa0RVOQHsL89qgfP2rFs0FizqxlrtF2+V77agfEDC3gDYs+3UPCHHFiUgx2NHdiq6erYbuhzX2zDz15bid9eNAEXTB6InY3tOH54KT7dWI9aLdi3m/xZkC2u0tgKl20bt0cStgFvR1QMnu0fMUvgGaQFz/UtEVfB89hKffX2h0uOxJ2vfoNHP97EJ7Q/XToRhBDc+NxXePNr9QZ2xBKchTb3DVb2OZagho7rFGDFExTFs27A735xGp9YmpqacMUVVzhee08H21ZlWfVihnIsofCBID/g4ZoyFlCY244YbMcVihxCLCyXuLq/ZGoVFmyot1jVJdvaZPc95Fev5x+LtwJQ24Zd8Cw+c8Y8/+rtNVi9qxnPXD2ND/oxU7DLGOhQwINIq67L98kScv0ePtk4JgyaBu90IUn2khDmGRrhC+/UwbMsSZAlgtOuuwO/POcI/n5vb7v724wSAMY8h2MJ1LdGcOYfFliKMNn6PAvtk40DumxDfU9R1AINLDDvF/KjJRw3/G0y4qpAKIYxpFQlIOqawgj5Pbhg8kDMX7PHYlklMs/JZBt6Aq/xAsTgty2il3f3ytZz/eH9DZbzBh3KgTvBkDCobV23RxM4YErwLQ35sTlJ4iDXPKcp2/jjH/9o+L23t2/AuvieNKhIZWtt8k7sEAp4ccvMGsNrP55Vg1Gad7NeXe/Q1KyTHcpzAxAqDOqSCzbeiT+b4wxK9fGRjeOceU4i2+ikcyYeumACHvtkkyHnpruQydNqB2AvYE0PbnxJ00JtvRqg7WjsMDCdYkb2vhZ1BV5eEIBP1lkwJ41yrk/G6rpmJBTrCrNYCJ6naJ6BLCBm7WN7o35NlFLUHQijpjwEWSK2W5YMevCsv8YGZjagtkXtmYNwTOGyDaeAmFmKDSpWmZVkSYNb6tvwwH/XAgBGVujB8zlHDkBxng/tUbVoxTXHD+GNX9wiCccUri2nVH0edVqQxVieSCxh0TzbwcxOAkAwGMSGDdaJp7eATUwsUziWEJhn4T6IjC8LKMz3yeBaQJlVnVEPKuoypwwuRnm+X3XbECbIZMzz7PH9Mb2mDE9fMw2jKkL464LNANRdCUCdbOaeqk8WxMA8q1vfj32yGQs21OPj9boVmrnCoJ//bwwgmD+n07Y+Q7STwTMBsbX448yzdr+SVcZsicQRTyjwarINc+DYm9vui0u2c894Bl4kJZbAiu0H+DgzvJ+eqGN3v4yyDfV9tmhkiZdD73wbv3xzNV9slucH0NQR4xrlS6ZW4bPbZzheb6HQf2TNFQRQJ/4hpbncAkts+6LTjLrwsw8iowkKnyzxts5afJ7IPEcFzbOLCoNABsyzEICVCbINc/BrTqgyw6p5VpIuEp3Qm9s3g1lOUZTrw8b79KTDTGLem2aMwKljKwCA7ySfVJPc2aa7IEti8Gx8z+zzHE2YmGemebbRErN+qgfP6ut2i2e78tyZYFBJEPedNy5l8mVXwI3m+Q3oxKwEtXrVi13w2Xa+pEd15oSceT7QYShL2qLZyVGq6pIBdVDc0diR1Kv1L5dPwtrdLXjk/Q1a0o/x/SLBvP6YYSV4bXkdtz4yTxAJRUFju+oxObAoB4U5Xs4GmNmtMf3zeWa4gXnWLoBl+7dH7AfycDyBQCrmuVmd1Kq04DlZ0uANz36JdXtURsYsxD9nwgDIEsEtM0cYgiTzcWwRAQA/fflrLhtgfSUcV4yJRMLE8t6q3Whoi+LSaYMQSyjY+/IvcOGqx7TtJgWrV6/GxRdf7Hj9PR0dUfW7sgHILNtgECd17qNpCZ4TALz4z4o6fL2jCTNH91Mt1wRJjDiweGXVFi8SMyYMJpM6XDylChdPUY0djhpSjKc/V5nnUdrC6nvTh+LGU0Zgw95WvL68zsAGmgPZ+Wv28PLCLDmPsWfsOs2TNttyT1Ukhd27ZAuBZCDEKhkAdM0zu19uZBuypMo2XrzvRqx8Sk1C6+1tlxXdEKEzzwqXhgV9MqYNKcZGTWYjMlYMYjv/ZIO6oNIXR7q37FMLa3FEpXr/KgtysCBaz72Ixw0sQIXJv1dE0CeDEOCnp40CoO7gdcQSPMAlhGDBT09Gnt+DiffOA2Dc/k2l17fbdhe9d9n9CHhlntOQCuayxKkgyjaYs8D+tpiF5Z41ppzvDNohKgTPElGDqkhcSbkdftZZZ/F5QGzfa9euTet79HSIc10q5jkVxlYWYNndswzxxMEEIYTnbVhkG6bgWUwYjAtuG0GfbGDjAT03wax5ti2Sor3UWdnGwYSbnvkb4ec4gK2U0h1d8NmuPEcJIdcDuB4ABg0a5HiySDzB2cydjR2GgaklHMPdr6/EPxZtw/9druqvyvMDqoYtoZYvtZv/xlbmY5M24EfjCu8k7PkOLcvlx44oD6F/QQC7mnT3DkopGjVGd29LhF9fZWGOZtivvmdmII4eWoInF27B68t3GoJfzjxrk7dTkpaYMJjrMPjua9VlGwBQb2Kedx7oQGVBAIQQQ3Z7cdAHWSK8pOnc00banv/UMeV4rqoQRwzIxz8WbcPWBj14/mxTA/+Z9aNkzPP1z34JADx4Ljz6Asy97mgAqgl/dXU1Bg4caHsdvQHs/orSIp8pMBRX+YAz8xyNqwzRTf9aBgBobI+hJNdnSHzzeYwDv98j40BHzMBOud0+ExnF6pIgNtx3Bg9+bzt9FMKxBE7TGBbAGMiW5vkMmf8x0zafne/ptCHFuFyrIGlnVZdQKJdp6W4bmVs42bGDutuG88KboS2iJmvleGV4JAmTz7oS3z9JtWrs7W1XbFMswGLBMwBeSn7xnTPQHI7jucXbAKhEQrupfDe3Uatvw83PLwdgdNsQF38scZN59bIxN5WlGyEEW341m/+e55dR36o/T0AnE9648XiLE5PfIzsmDMYTCt8xUT9L/V9kLdl4PawsD1/vaOJ2XrJE+PfPD6iJfGw+SnfXRJRtDC7JRdCnOp+wvv3QheMxrCwXE6uK+H22QyyhLnASCuVysXAskTJ4njt3rn4tQvt+8MFOV4LvsegKtcWhCpwBlRHmzLPZqk7wpiYEeGHJNt2qjupuGxIhyPXJXFYI6PkQbC5jgbFd8MwW04dIuZIR3GieP+6mz3bjSwpK6eMAHgeAKVOmOM5S2/e3Q6Hq5PrFlv1YtVOv49ISjuMfi9SBm+m88gNenoWvbkXopz5qSDGqS4KoEuqjR+IKf7DMqs4nSzj3yEq8trwOAwtzUFMeMgTPu5vDWLFdvY7nl2zn9dOrinNQFPShUdMLmlmB288YhU827MNzi7fhuhN0Y3SueWbMczSOJz/dgnW7W/DgheP5ceG4ghzNtsbJYJzdjwGFOSDEyDyv3NmEb/3xU9x33hG4/KhqQzJNjk/GN/ecCmK79tFRGPThtR8chxeXbAewDbubwwj6ZLRHE6guCfJCNQyRuGLYIk9WySt/yHhMnz496ef3JrDgmW0RH1FZYJBtrK5rxpmPLAAAnD9pALbUtyGuUOxriaDNJghZLnh7f7m1EbPH9bdNfANUVsDvkRCJqZrnE0aU4uwJla6vfZgQPI8sDxnaW2VhDh67YorheDF4HlAUNBSp4I4FHqNjAQWw8PZTkOOVDaWKxa1EhofeWYvHPtmMS6ZW8S3vTN02mO+2+lm69CXgkQ3a2ySxM1ojCcQTCmS/B5IEVI6ajOnTj8zoenoaxElw0iDVhSehUH7f1+5ugc8jIc/vQSjgxZs/PB7f+uOniCeoZeHP+vtTC7fw1zyyBEnz2hY/ixXkYXpkFqSnu8PAgmY7acS4gQUYB2NxD58sobEthtN+/wlOHtUPt50+krfRaILabhWb1395fg8GFuXwJLRYQoEsyVxa+ONZNaipCOGyvy5O67vwzxP6n88joV/Ij70tYS6PG1UR4tXa7GREDDFhJzDPz4Ln1DKTvjQuu0VnmedDDYmklm0A6lhYJ8Q37ZE4Z6xliSDX7zEEz/e+uQaAKNtwDp4TQhDeW+AYPBNCWmDDBENljCmltLO+H258SV1ji6Z3vv6EoVhau99QyEOshsb8Z/1eia+IXv1qpyEIOXpoCX6kZWyzLYdwLGHZUpAlgt9cNAHXnTgU/fIDGFURMmg4T/39JwYT/xU7mhDwSqgpD6Ew6MMOTcpgZrd8Hgmnj63A/328CRdM0hlh1vjYtvGK7QfwyAdqxb4HLhjHB/IOgXlOhfyAF0VBH/784UYcNbQYxw4rxTotaeauf6/EgfaYJQBPZyuRJS5SClSX5GLNrmZbn9G4Qg2LiGjCKkkJhUKIJijiCYr8P+jfj9nsNTenX2KzJ2CPNiCNrczH6z84DiMrQvhondqO6lujPCEPUCc8r6RuH0+9bz4AoCI/gDGV+fhg7V68tmwnCoJGFkPUPO9uCnOXCkAd2PxeGVGtPPcRAwpw0ZQquIXIPKeqBAUYmbSioNeQTOZkVVdRELC1zWPHvfLlDsyZWgW/R+Zb0c8v0RVhmZfn1r9PwCsjllD7skdbcGzY04qm9lhSzTOTbTz3g5NBKbBYInjiOv16enPbFdngv3x7Ej7f1IChZXm8rc1bvQeluT4+LrGdhIRCLcVN2AJoi7BDJRFoNovG4JktNgdYmOf0njNPfHWQtpnh80hYrREg6/a04LSx5Zg4SNXfxzRdOwMjF8xJYKP7qwtMn0DKBLwyvx+hgNfgCpIuzAF8WciPfS0RzgKKzLFXlhBX9HF2aFkuNu9TyaVoQuGBddDka26HUChku1uVygK1L6CzOt1DDYnocguzBC3ZuqC2oR3jtIWYRPTF6AkjSrFwYz0ncZgsKmnw3EmrukMBx1tDKQ1RSvNt/oW6IHAGpTQOgPmSrgHwIqV0VabnY4l6UwYXYfzAQmwTqkmtFuqWswfql2VuhXTnv78xnEuc4BnbG4krtmU1PbKEsZoG7/QjKgzv21W/yvN74JUlFAW9nHWz2xo+Y1wFFErx01e+tlwLC17nr9nL32PnolT187TbXhsmyEwYcnyy6rGsUM52iLZEv353XUZ13/n5hesYXKJuie5riWD8wAJLQNQmsFF2zPOmun34yXOf48ifvYbm5mb+r6WlpVcGHwxb97dBlggqC3MwoaoQAa/MA4FL/7oIbwnaRI+sujaIW8pXHluNy7RCEI98sBHLtx9AUdCLJ66agjd/eDw8ksQHrKN/9T5P/gS04NkjoS2qBnnpVqkqy/Nj5uh+eORS+4I9Zoh9qyDHa5RtmIoF9AsF8Ps5E/C4ib1mYPdoxY4m/G2BylgyGZLTZ6YDcc4X27FHUguBvLNqNyb88r2kxWxaNdnG1Y9/jJPufxvX/fWTPtN2RZapJNePc45U/atryvMwqDiISFzhjg+A/lzjijPzzPyNAXVS90pqgR9z8OyTJZ5Xwcpq+9O0p2LBs5O0zQzWjtjfibajMZNsg8HsAcxYX7PkiN2PUMCDwmDmhRzMc1S/UAD7WiOcNRYXGGxxes6RlVj+81k86R1QCRgWPDPfayeWGgBvx+Z/vbl9u0VPCvgGlwTTJgtkifAdNrNsw2mHmRBg2/52RGIJSETdJWTB88CiIJemqb+r8zzrC3Y5IkpfYp7NIIT0g+rzDACglG7r7Ifb+ZJmitqGNhTkeFEY9FmYhIUbdY1tfas6OPu9EobblGoEjE4OomzD3EnMD3rioCK8+v1j8cf3N+DDdToD/Yuzx6KhNYJHPtjIB8/CoJe7bTDG9Zrjh2DWmHIAahLB/0wfhr98tImfhzPP2mC/fo9uq7S7OYzCoFpwhVIYymUzPH/9MVix/QCufWYpf83nkQyTAKAzoQyRuIIJAwvw09NHWc6ZCuJ1VJeowXtHLIFcnwcdPiOTIeogozbJNI1tMcTilDNYe/fuRTisX2syTXxPBKUUdU1hbG1oV7dyhUHPKeBjFQPFxaFPljCpughVxTnYvr8Db6yow7QhxZgxWm1LXtmYMGg4n8ai7tESSItz05u4CSH421VTUx+ogelSA14JhTnepLINQK0e5QTxfrGFqt3Y2xm3DQbRMkyWiCEIefsb+8QrWSJoi8QRS6j5ErKQuNnb2y4AwwJOHBsJIZg1phxPfLoFJYLMRkwYEh2QAD2I3C9YErIxN6FQQ+DWobn7MAkPyyXJWLaRBvMMABOqCrBwYwOfS9j1i+1xUnURvqjdj/J8NcD3ygTfProaN81QjapEK8p4QsErX6lpRKGAt1PBszlPoCzkxycb7Jln9n08koTCoM8wn7XHErw0N1tQmys9JoO5ffd23HPWGAwosi7MAXeVAQ8W3r/1pLRdUSSis8HWIin2fzO8LA8b9rZiS32bXjlQ68OhgMdg8ViRr4aNEmeerXMR6949aSGSCm7cNs4G8FsAlQD2AqiGyhSPTfZ3BxOUUiytbcTIctU30bzy2ra/HUGfjKqiIHeN8MkSpgwuspwLsLoRAOqWFRtcWIOye9CTBhXhmGElPHh+9pppOGGEakEzoaqQ22wVBn0Ia1XddjeF1Szw00cakl7M9i9MW8USBsUJZVdTGKMq8hGOWhmGv145BfGEgrKQHzPHlOPPl2EjI70AACAASURBVE3C+2v24NON9QD0jsMnoybroHfmuP44bnip7f1KBnGwHlKqDz65fo/BEQUwJkBGbHxF97dFEUsoaF63CCNG/A/q6urQr18/bN26FaNHj8aqVRlvXBwSPPTuOvzri20oCvosjKkY8DFfcEBtA15ZMmjT/JoW+N/fPw5T/leVcowQ5BSyZC3PzeDVbLMY+uU7uxV0BVjfDPo8KMjxojkc44VdzLKNVBD7X55fxj8WbcXnm9WF8tFDi7Fos1pOPmOfZ6F7BwzMMzHoxp3KHef6ZJ4wyIqkbP7yY4z45aW9uu1SSrFwY4PtzhoDC57FSl8G5tks29ASXUXLzPrWCDyyxBPrGJiPfWGOFxLRHZTSLYyQK/iVu4Ffa5fDy/KwaPN+HjwrCkXMpHmee2oNzp1YifVaZdVTx1bg/52lT5miU8wjH2zEUwtr1WsJeAy7HGlDu01s0VKmeWFzpw9hfmF9kbVzMVBqj8T5Qo/dV6cFuIj//Oc/uPXWWy3tu7fjO8cNcXyvJ7Gl6piY3vVIQoVBs6TC6buNKFeD5w17W/kxq+rUHYbzJg7gFpWATkBy5tmmGema57Qu/ZDCzaxyL4CjAaynlA6BWmFwYbdeVZr4alsj1u1pwXmT1G1DcfXNBsbJ1UWcYfDJEiRJLR7BAm4RYoY0C1jDMSvz7LTiFBucqAmdMbqcF1ZhbhWLNjdge2M7+ucHLNni5vOzzxcDHibFYGwxk1yIjO+sMeU4Q6huNHt8f/xuzpH44q6ZANTgGtC3TnfbBM+Zjg9BG+YZUHXbbFDO1Y4Rg+n1e1oslcka26OIKRTb5z2FRYsWoaamBlu2bMH777+P4447LrMLPIT41vj+ONAew5b6NlSXmIJnoQ0+fuVk/jMLwkSwSb00z8/v5dTBxfrfJEkMUhMG9WdU3t3Bs9ZuAx4JBUEfKAX2t6uLos5U2trbEsHPXlsJSoFLp1XhV+frCbSZWtWJ/VjsT7JMDCWinZDn96A1kkAsofttf/nKo32i7d79+kre1uwwpboIQ0pzufc3IGoeFUt1u831bXhp6Q5E4gqXc+1riWg2iybmOZZAjleGpLn+1B3ITPPMuliuy+CZXUFZyI/iXB/qW6L4dEM9ht75NlbubILPtGM5qiKfj8+TBxmJGibx+MuHm/DBWr0aa37A2ymNcGmeHxdPGYhnrpmmXqu2eGG7i2LyLLsGfTwRmGdBtiG6nqTC3Xff3SfadzroScxzJpAI4Wy1U5EUM5grzY7Gdj5O/ur8cbjsqEEY3T/fNkeFHWe3CFOoWgCpN+nj3Yw2MUppAwCJECJRSj8E0KPSxRdsqAchwFmaS4DIADDfz6OHlnDtlshE/fsHx6Kq2PigjYOgzjybO4lTgpQ46ZaH7IORY4aVoCDHi+ueWYpXv9qJgTZaTfOqT1wUsImLMdm3v/oNrnzyCzRo257paFdnjSnHT04bidaIakdU16TLOG6ZqW4zThtS4vp8IkQWRQwQc/0eHlgzN49Wwbf6rwu24IL/+8xwroa2KGJxBbLsRUlJCRRFgaIoOPnkk7F8ubPtUk/F2MoC3HjycPg9kiHYBcy7H0YNvjm4FNvzU9+dhieumoJzjtQdMxh7ZwePJBkWOGybubvAJuKAT+bP/YQHP8TFj32uF0nJIMFvheAwUpzr4/p6oBPluR01z8SxQJGIXL9HZ541n2cie3p92yWE4NFvT+aLbzt4ZAkf3Dod3xUYOzZ+xhI68/zej07Ez781BgB4fseFk1WpzrkTB8AjEdWmMWEMntnCuyjXxxngdKvxsTjBTuJmByY1Kc3zozTPj8821+N389YBUHf+zMU0ALWPL/jpyfjucYMNr7M2+cLS7Vi5U9cEM8nh9Joy3HTKcKQLSSJ46MIJPA+HWaAxiY1R82x0ZGLtXSIqkaFrnq07nU7wert+bCaE/JoQspYQ8jUh5N+EkO4vH5cG3CRK92TIRE0oX7at0cIKOzHPrPgaIwYA1Ur2/vPGAQAqC61xD4tf7DYwEgrtVR7PgDvN8wFCSB6ABQD+SQjZC9Xvucegtr4NlQU5PJFDnCx/P+dIbNvfjpNH9sNXGpMpDiBBnweleX5s368HjHaBSySmWDqJk7ZIPMypYw0pzcXHPzkJFz/2OdbvabVNdDLr10TGsVHbhhtcqrO5n6zfx4OIkrz0MrbZNt/OAx28lDYAzBxdjptnjMh4RcgmpsKgMYs8z+/hiY/5OV7UNYUNCYMMYgLDS0u34+sdTaC+IFpbW3HCCSfg8ssvR79+/eDxpFdMoKdg7mkjbb2yWUBcFvIbFm0eiViskcSE02lDjEE4+xunamY+D8HICn33Rdxm7w4wtisoBM8dsQSWbTuAo4eqC7R0gud7zz0Cd7+2EisE68OioOrwwJwGMm274t+JwbNakUv9eUhpLrY4lDnO9Xt4IqZHVjXP3py8PtF2WZtZePspFj9kBvN9F7PtmURrSGkuaspDGFwaxNV/V3Mxxg0oQO0Ds/nfiMUYANXFo0arytYv5OfFV9Jtu+yMbttHc0ecf05png9rdjWb5g3781TZJrHaH8t2R5++epqra0oFpp/e0xyGzyMZvqtFtqG9nuNVLUXZgoWx1clcZfjnFRZ2R/ueB+AOSmmcEPIggDsA3NbZk2ahgsUo5/3lM/zRlPjt1DdYoZ9oQrFlp4M+D2aOLsdZE/Qd7+TMc+9bhDjOUoSQPxFCjoNaMrsdwC0A3gGwCcBZB+fy3KG2oR2DBT2tOPmO7p+PM8f1R45PlwmYt/e8pmDEzPQBRqu6VIOt20ZQGPThrPHOnroW5lk4L2MIvzWuEn++bBJevuEYDCnNRVNHDBdPGYgTR6RX6pNNPB+t24e4QjFW225VfaAzb9QseO4X8iPglTi7kevz8ACRDfBmDTQAfLxBT7z86KkHEN6xGsO//QsEg0E8/PDDOP300zFs2DC88cYbGV9jTwQbYKqK1PvPAg+PLFl2QJJpTwFYKj+J8EgSjqzSiZzuLmvKpEE5XtngHw4A/1y0FWP656eVNHLF0dWYZmLtWQLuvB+diH9//9iMr9WgefaJzLN+jyYMNHoBi2C+5nFFwby/3Y/Gzd/g2P95sE+13QGFOZg0yD53xAzGzMYViu372xHwSry9Ta/px48rFhb+HpkgoSiWJCMmLWNlpnN9smv5RaZglQxLQ36D0whDOn3HSSff1f2PlSTf0xxGwDzvMdmGKZcnxycjEle4XShnnpO4ytx4441YuHAhXn/99S5v35TS9zR3LgBYBLUmRBZdBHGce315neN75teZZa7TeP23q6ZwBx5Aj1/M0hD2Wi+LnZMyzxugVhfsD+AFAP+ilD59UK4qTWxtaDNoepkBPSHGB+u3kW0A1ocvMgicebZx23Bah6eTQDB7fH/8dt56nDTSGuzaWeMxPH/9MQj6ZJTnBzBI26J+/IrJ2NrQjhmj+6Ud8DKmev5qVX/35HemIuCRUdCJzG9AZ+z6hdRqhSW5ftS3RpDrl/lgzRjpxVv2W/7+u08tAQCcPaESH28ajvDXz2PPx/W4I/wpLr30Ulx11VWdur6eipp+Ifzg5GG44ujBALSMaIBrZ0U4scoMHlmyLYkMqBNod+ucRbC+MaAwByPLQzhqSDEumlKFuS+tQHM4jlNG9UtxBivMbXS8FtAWBn2YOChzz1wn2YbYLU8/osLgKS/C75HQEo4jkaDoX1mNJa/+CR0H6nHHziv7dNt1Aps8l2zZj3dW7cYcwU9clggmVBVixfYDRocOG80zADyu5WmwtlsW6t4dE0CvF1CS67NNyUon8J1cbVxwLLpjBvYJSVZdBdY36lujlnvE5IlctqF9K0Z4NGlMO3fbSMI8jxgxAnPnzsWuXbswZ86c7mzfV0ONR7LoIohyiflr9hjeE2OZl244Bhc9+jl/PdfvQWN7zDXZobty2BdJ6TOyDUrpHwD8gRBSDbWAyVOEkACA5wC8QCldf5CuMSma2mNobI9hiJCMxossmBhlnXk2atzM/pwG5plrnq3BsxNYg3Nz/NCyPKy993TbZBdrgqJ+zJBSq2fziPIQRtgkQLoBK3X7+eYGDCzK6bKAyqsxpYwhqihQg+c8v4cP1ox5Zgb9djh2WAkeeelhAMDWrVvx/PPP47vf/S7C4TAuu+wyzJkzBzU1NV1yzT0BkkTwk9N0a0B1MUQ1qzq1HZxzZCX6hfy44pjqpOfSs5xtgmftvZ/NHn1QEl+mDi7CvecegfMmDkCe34MXvncMFIXit++tw76WCGaP75/6JCYwBnt6TRkeuWRipxd8DJKDbENcmM4cXY5jh5Vg5c4mAxt5wohS+DxqMZuYouCE865C6dHnYU/dDhT7NvbptusENp69s2o3vDLB3WeNMbz/9Hen4t1Vuw0SNlUiQw0Tbn7AwyU+LCBMVZrbDpdMrcJzi7fhpBp3u3RnjOuv2u/l+fDIJRPxRe1+DCjMQVNHDI9+vMmWAHFCdUkuah+YjcG3vwVAzc1h+TldCXF3J+C1n+fMLlKsrTOm3c99np0X6TfffDNuvvlmx7E5FQgh8wFU2Lx1F6X0de2Yu6BKRv+Z5DzXA7ge6J32j4cCyXbKxXh26uBihAIetITjkIjud+6WLJSTMM8JzXGpN8FNee6tAB4E8CAhZCKAJwHcA6ATfjpdh9oGNeCqtkkQMjN0bAVtLtfrtTDPVrcNQH/4qR4xO53bYMTJYsmuomF3oTxfreK280AHzjjCbgzLHFMGF2GqpsUtDwWwEs0IeGV+n8y+3Gy7W4TBL7q6Grfddhtuu+02LFu2DFdffTXuueceJGyqEroFIaQYKqMxGEAtgIsppY02xyUAsKo62yilZ2f8oelcn/a/KNuoLMzBbS68t/mK3y541tr6tUIZ+O4EIQRXHG0M9iWJ4KOfnASZENukq1RgzPuxw0q6LHAGjP3cKanMI0v457VH4esdTTjnz6oJ0Rd3zUB+wIufvPw1olppaVki8EgE/sJy3PbDC7q07fYWiOPhpEFFlrLYhUEf5kw1BjzMZlFc+InjM1vk203IqTB+YCHXVrvBnWeOxk2njEDQ58GgEg/f8QOsBbLc4jvHDs7IXcYt/B6Zj6fmJPISTarHPp1rnrVcFMa0p+Pz7DQ2pwKl1Dn7FAAh5CoA3wIwgyYxMqaUPg7gcQCYMmVK+o3iMESy4Ncpb4EQwvuvW4vIZPOQQmm3xjfdgZQzFSHESwg5ixDyTwD/BbAewAXdfmUuMaYyHx/cOh3HDNPdIPTyvsavl+NTfzezvOYg287nGbBpZA5dk62gMs3yZ3BrjddVOHdipfb/gBRHpofnrz8Gl2oV8Mo1duVAe5TfT7OMxjypAkZmKRaL4Y033sDll1+OM844AzU1NXjllVc6e5m3A3ifUjoCwPva73booJQeqf07KIEzoLc9j0QQ0aqFFbkMFFkbdpPwc6jg98gZBc4AsFcr8DJlsDVZsjNwShgEgCeumoIfz6rhx7HnU5EfQL9QgFeJjMRUyy+vRCBLUne13V4BcTwTx+tkUDXPRtmGOF6zHa2D0bJliXTp4gwA7jl7LO6aPSb1gZ0A0z2bSaOZo1WJ1IodapI5a+852nFsJyWQRsJgd7RvQsjpUBMEz6aUtqc6Pov0kGzhaQ45GKHHZBsAUOrSnCBZeW5V89y7gmdH5pkQMgvApQBmA/gCwPMArqeUOu+tHwJ4ZQlDTZUCvaYsYga2gjY/JHOQLWZCe2ySBxmow5DNzm9XrjUdJNM8dwd+NLMGs8dVGrxZuxoXTR6I5xZvw9Qhxbxgjdk9Ii/gMZisAyrzN2/ePPzrX//CW2+9hWnTpuGSSy7B448/jtxcq4QlA5wD4CTt56cBfIQelNHNmqxHJmiJqIwQ8wpPBVbZzcwczRzdz5K01xtxz9lj8cKS7YbEx66AOE6Yzz1jdDmv4AiAV0oU2UifR0I4rlb83Ljsc3z61qvYsuxTeE86rkvbbk/fNRE+n//sVqPMNM/iBC+OFyyY7e1eu92JwqAPdU1hC/PM8guGafPnD08Zjn0tEZw1oT8Wbd7PmWdGNsWSBM/dPDb/CYAfwDytDS2ilN7QFSfOwliczAxzrMSIQVG2UeLS5YYF3nbBc0LpWcVm3CCZbONOqPrmuZRSayZXD4bXwQaIbS+YF1rm4FkcnMVB2a0mJ13ZhhMszHM3bu+p55e6NXAG1BLm+lap+n1K83yYUl2EpZqVoF3FrxyvjHvuvx+XXXYZfvOb36C4uGtZRgDllNJdAEAp3aWVo7dDgBCyFKr27gFK6WtOJ+xK/Z3IPDN3DbfBs17ZzahZTKesdk/GyIoQfn5W17N34lheXRLE01dPw6q6JttjayrUAIT5ogPqzhOzX5z//KMYMHkm+s26Fm/c3eUxK9s1eYAQcrv2u93Cr4NS2iM8+u12l+xgp3kWdwOHl+VhzpQqXH38kC6/xr4CllNiZp5DAS8+u/0UXlm2JM+PP18+iRenauHMszpv2pVVZri/G8dmSmn6htdZuAbzL2fWniKSMc95nHl2GTwnY54Vii42mul2JEsYPPlgXkhXgsklzI+IbT+ZtynMQa5TgQqzpY8TxEqAnYE5eO5tK7NU4P6ihOCZa6ZhzM/fBWBfTjnglfDhhx926vNmzpyJ3bt3A8BYQshK4a270jjNIEppHSFkKIAPCCHfUEo32R3Ylfo7rnmWJL6dWpTrjjX29ALZRk+E2P08koTpNWWY7pBc1i8UsOhn/V6J2+bd+vA/saquGV/vOGD3551Fj941sYM5z8EJHkmyaJ4Nu4GyhAcvHG/3p1loYMGzXeGsSptKcMyCjCUMsuA5lkTz3NmxOYtDB+ZffueZo/CjF1YY3nPWPOt5IGVdINtI0N7nttHLYn13YEGrmWH2M+bZdLxZa2mUbeg/y7KuawTAi3yYQRy0vOnC3Jj6WvDMtNXHDCuxFKEww6w5zQTz58/HypUrAWAVpfQI4d/rAPYQQvoDgPb/XrtzUErrtP83Qw1SJtod19UwyDa0SY1VeUoFXtktGzynBbG/SRl0Zb+48NYSBhMZJLa5gGHXBEDSXRNCyCJCyLlOJyOEXK8dt3Tfvn1Oh3UKuQ5jpxmSBE3zrLOeWYlGeqjRHJhYMJwKQa8pYTANzXMWvQ9MthHye5FvWtRaZRv664wYcCvb4K5PDj7Pvak0N9Dng2fjQ9JlG9R0fBLmWbIyzz8/awx+feF4HGVTzQ3oPtlGX5szpg4uRu0DszGsLM/QcewWCZlYUaWJ/wBgxqRXAXjdfAAhpIgQ4td+LgVwHIDV3X1hgN4WPJLE70W+S70y0zwnXGTLZyHAxDynC5+pFLIkkYyfwcyZMwFtx8T075w0TjOIUjoFwGUAHiaEDLM7iFL6OKV0CqV0SllZesWW3CIvHeZZUQyBW2dJicMNZ2o1EJbUWmTwtghy5lkNqvzcbSO5n3wWvROMjAkFPPi/b0/GtCHFfLfCUbYhqYXjANUdyw2klLKN3hXg9L66sC7AgmGLbMPDZBvG180To3FbUGCetYcb9HlwkWDwbwZrYFnZRmawI+e6W+8N4AEALxJCrgGwDcBFAEAImQLgBkrptQBGA3iMEKJAXXg+QCk9KMEzW1zIEsHjV0zGvNV7XHtxs/4QS6JZzMIKsb9lMrCLQR5jnpMVmkiG+fPngxCySgt+DSCE7CGE9Ne0+q52TQghH0HdNbGVHHU3Qn63Cz+CBDXaW2WZ5/RQUx7C1MFFhmpvycB2+VotPs/ZxbeIquIcQ3n23or/d9ZY3PvmakyoKkTAK+O44aU46v75AKwSVT1hkPDg2a1VnbnewMtf7kBJng8nj+yHBO1+Q4SuxiEJngkhF0H1ih4NYBqldGlXnt+JmWAaHfMQYE4wFJloTzKrOgcQHjx3LfOc0mC6j8DsYvL4FZNttXld+pmUNgCYYfP6UgDXaj9/BmBct16IA1hT8MoEVcXBtBKkWDtig10W7iB2v0wGdnG3xCMRnvzWDWC7Jg8gya4JgHZKaUTYNXmoOy7GDdwzz2p5bsVB85yFO7x0g/sy9SwYaosYg6OsbMOIeT+a3l39+aDiiAEFeOF7xxheY4SiOebR874Ijh1Wgv+u3I2RFe4Ks5mZ57kvqfrq2gdmQ1H6Vnnu7sRKAOcDeKw7Ts6ZZFO75isks2zDxDz7HGQbbhkPLtvo5CBv0RsdpszzqWO7tmhL74TOPKcLTzZ4zggEXcc8s+I23cTe9ehdEzuwpLRUkLQiKXFDkZTDYxw8VJAlAq9MuBaWJRomSxg8HOGWce2NYH3MKWFQIsC3j67GqWMrXO+AJqt026d8nrsTlNI1gPXBdBWcZBteBxeOZEVSDMxzmjXcOzvIm6+rt63Msug66Mxz+gsytpgMx7KyjXTQWebZZ/KI74zmORl6+q6JHdzmMKjMs8ltI5PszSzSQsAj8+DZzxMGs+PH4QIxSBbBAlyJEBBCXAfO4t/aEQiJXqh57pOjECtOYk4MZM8mlVWdGLQarOpc3i3SiUBHhHklRg4T3UaW37CCNYVMBhjmEpNlntODuLjPRGcr+up2VvN8uELWHEqyzPPBhd8rc49yN1Z1WfQt6IXmnJnndMHGUCXLPCcHIWQ+ALv99rs0azC350m70ISTzzMLPs0LaHOQ6yTVcMt4sPN3Nng2T9h9nXB56ILx+KJ2fzbIs4HUCR09a0cd2fuaFkgXMs9eWS3P3U1WdX0WOvMsWtX18YGwByDglfiCxavp9bOa58MHjEC0MM/c5zkDEkfqW8xztwXPlNKZXXSetAtNOPk8DyxSk84uPcoYhJu1yaI8Q3ygbldGzJO0qxMGe5sPYrq4eGoVLp5ahaaOGI4dVoo7//1N6j86TCBxt42sbONgweC2kUHfM7ptSDwQzMI97DTPB8F557BHwOS7L2d3TQ4rsHnGonnWfs2EJSaEQCLWnX9AdUDrZbFzH5VtOAyuRbk+1D4wG1ccXe3qeEB94Ox9t0RyVNve6nrZxuGBghwvLtMWOKx07OEOXiQlk4RBOcs8ZwLxTrvNdxBhTBjUNM8KtcjJsnAGW3AoBtlGn5y2ehQCXrHtSvBKJOvzfBiBhUTmGLkzsg3293GbMVChNKMx9lDiUFnVnQfgjwDKALxFCFlOKT2tq86f7uCa6niPJCGWSLhm/WJxxjx3UrZhSRjsXY2rs5j3oxOzwbMGscJguuBuG9Fs8JwOOjuYm63quOaP6pPT4YbzJw7glqFuwKQuWZ/ng4uAjc1ilnk+fOBkVUeEhMFMIEsEiikBGNBkG70svjlUbhv/BvDv7jo/Y3zMfsFOSDUYe2QCxNwzz10l27Ba1XXqdL0OI8rd+UceDmBtIRO9py7byAbP6YB1v0z7nd9UJEXX/CmQpb5rc5UMv5tzZFrH27ptZJnnbodZtuGVJUOJ9Cz6NvQy3MbXdZ/nzM4rE3URFjXtYiSU3sc898lRyEnz7ITZ4/vjtLHlKc/ndmXEZBudHeTNQX1f1zxn4Qz25DMZX3iRlHg2eE4HLME40wQ1UbYR8Mr8OWR1z+4ha3KBrNvGwYVBtpFNGDzsIPEg2d5tI9NYhLWjWNzYlmhW89wz4OTz7ISgz4PHrrBUveXg3oYuny7Thvm6uDx3NnY+fMHaYCbTF+sPHdEsc5QO9GJHmXU8kXkeUJjDF8PZ7W/3UKsyIuvzfJDhNzHPHolkreoOI+jaZrPjF5OeZdYWWPAcSRiJnATNum30CPCgtYv6Op9EXT7cOVOrsHJnM26eMaJzn2u2qstGz4ct2KPPJNksyzxnBt3hJLN+JzLPZXl+fh47n9Ms7KF6YyuIC4FbL5tjeyWY5tkjqcUwPLKUZZ4PI+jFUIyvMx4h0zFMllQLRPNCLKH0Pp/nPrmE7+ps7HSZ56DPg99ePAFFnUx2s8g2OnW2LHozJgwsBADk+tNf73LNczZhMC10xuEEMO48SULCoBPzHI4lcOuLK7Bxb0tGn9cXwZgq0R+7l82xvRJMtsEWfNkCP4cXnJjnzkrPZEkNvKNx4y6o0guZ574ZPKeZMJgKbNA42FneTlsmWRx+uP/8cXj1+8eif0FO2n+btarLDIQzz53XPAN6/3WaeP62YDNe+WoH9jZHMvq8vgjm8iAWScnmfnQ/WMIgI6I8ctaq7nACCzXMXY3FJJnKNjycedbbUkKh2QqDPQUsyE33+b57y4m2jgT1repkNm5AYaevLR1kNc9ZMAS8MiYNKsrob1l/+O/K3V15SX0e6cq1zBCt6sTzOAXPf/+sFjNG9cOxw0sz+ry+CFkioNRYGjo7DHY/GPPMmj7bbndCayQOj0QMLh1Z9F44JQayADfTdZQkqYG3yDzHEgoSSu+TpfZJ5pltl/7wlPQ0xyMrQphQ5RwgTx2cWfCSKSzBc3bayCID9LbtsJ4CdtcyvX9emaAk14dfnD1WO486LtkFzx3RBOpbo5hUfXDHmJ4OtuAwbPNmm3O3g2me2W6JNwXz/PRntRjz83fQkZWG9Qk4FUPheRudZJ5Fq7poQoGiUNdWwD0FfZJ5liSC2gdmd9n57jpzNHwe6aD7i5on7WwM1H0ghFwE4B4AowFMo5QudTjudAB/ACAD+Bul9IGDdpEZIuuLmxnEwCETEELw5d2z+O/sMdgxeLuaOgAA/QsCGX1WXwVbcESEZNcsidD9YIVsmEwsVZGULfVtKM3zp1UAJ4ueCz1hsGvdNiRi1TxH40qvdNvIzqoucN2JQ3HVsYMP+ueat4t727ZGL8NKAOcD+MTpAEKIDODPAM4AMAbApYSQMQfn8jKHnezgpJFlh+BKehdIJ902zNCZZyuDt7spDAAZadr7MtiCIxITNc+H6GIOIzCrukHFanv0SsndNrbUt2FIaW63XhMhZC4hhBJCsrqmbkYqt41MEwZV5lkxaJ5jCQUKpb0ul6FPMs99BdbSmIfoQg4DIf1nuAAAETlJREFUUErXACmTkaYB2Egp3awd+zyAcwCs7vYL7ATMwd97Pzqx2ye6vgB217rKV1jXPFvfq+PBc5Z5FsGZZ+GmZYfB7kdTexQAUF2ijhNqsRrngKm2vg2zxjgXGussCCFVAGYB2NZtH5IFh6PmuZNuG5JEkFBgCJ6jcU220csCnCzz3INhTRjsXY2rD2IAgO3C7zu013o0zNaNuX5Pl9s59kXwkuhdVNGO9eeYTfS8W5NtVGQQPBNCLiKErCKEKIQQx2pPhJDTCSHrCCEbCSG3p/1BhwB2mufsMPj/27v3GLnK847j32dv473i624wvhsTsE1C7eUeLg4bCKTN1lVAKFGgKamLc6n6R9qQGFUItVFbt6pUpU0wLW2aogaqioACwWDUNATJFOPYYIcYiG3A+LY2mLUX33b99I9zZnd2PTMe786Zc87s7yONdnbm7JnnzDw78857nvd9o5edmWdBewsQzrZRYHnuD46e5GDfCeZE+4X874E/o2yrN0gxhco2rpg3BYD5YV6crboaY+DUqdMHDKawbEM9zwk2MpdSlluJ09XVxd69ewEWmdmWnLtWufvjJewi3ytQ8M3czFYAKwBmzZp1NqGWVW7edLRlmDLG+cfHi7HO8zxSazhHd++xk6fd9+b+I0xubhjtbAXZkqMHCm2QU3L0KYIvfS+Z2RPunoqzJsdzG8/qe47c3dfNpyVTz/LfCvoGis3zvPNAH0BkZ7PM7LPAu+6+WR1IlVFoqrpbl87gmgVTR11eVlcbrFR5IucsRu+xfvYcOkbHxek666bGc4KNfKPQh8bYrFu3DgAz2+ruhddjL2wXMDPn9xnA7kIbu/saYA1AZ2dnbD0muXn04re74gojdYaW5y5PL31H2Ku8r/fYsNv/8slf8eNNu/nc0hmj2u94KDk6njOFqNpP0WudUM/K6+cP/l5bU1OwbGPnwbE3ns1sHfCRPHetAr4N3FjifhLRYZF22f+7keMCzWxM4zJaJ9TzwdGTw3qeN771Pv2nnCWzKjsV8Fip8ZwirRP0csXsJWCBmc0F3gVuBz4fb0gSlXIPGOxoyzaehxZB2d5zhAef38FtnTP4zvKLy/I4BeQrObo8ygcsh+xznzu1lXofK6++SNnGjgN9mMGsyU2j3r+75/1Wb2YXA3OBbK/zDGCjmV3m7qdNXJ+UDou0G1xJcJSzahTSNqGOXe99OKx0bf329wBSN02nCh9T4t7PXMQXr5wddxhVy8yWm9ku4ErgSTNbG94+3cyeAnD3fuBrwFrgNeBRd98aV8wSraEBg+VprLVk6mjJ1A3OrAHw9nsfAnBb58yiPdxdXV0QlhuNuHSX+PAllxyZ2Qoz22BmG3p6ekrcfTTqBnueNWAwTsWmqttxoI/p5zRGskCKu7/q7u3uPsfd5xB86VuSr+Es5TM4n3OZl2Rva6yn99jwnufX9vTS3pphakumrI8VtVi6Ms1sNfA7wAngN8CX3P1QHLGkxZevmRd3CFXN3R8DHstz+27glpzfnwKeqmBoEpOaMvc8Q1Bzni3bOHjkOD9//QAA500qfip03bp1Yyk3grMoOUpS791QzbPKNuJUX1t4qrqdFZimTipraCXBcvc819N7tH9Y4/nQhydGNVA6bnH1PD8LLHb3jwGvA9+KKQ4RkbyyM9SVq+cZgtKNfb3HcHc+/+CLPPTCDmprjPbWyD88BkuOzKyBoOToiagfdKzylm2o77nimhpq6T16+kDXYycH2N7Tx5ypoy/ZOBthD/SBijzYOJZtPI92MZRC2hrrODFwisPH+wdv6zsxQHMmfSWpsTSe3f2Z8BQ4wHqCXhARidBkzbJxVrKNtNoyzfMMMK01w8a3D3Hvj7ewbd9hIOjdGUvvdjWXHOWbqu4TC7RGRqV1tE3g/Q9PDjsDAPCvL+zk8PF+bll8bkyRSRSyFWRR9DxDcNYtV2MEJT9RS0Jz/w+ARwrdqdGzImP3v396Pec01scdRqpkywNGuzx3Pt2XTOfxTbt5dMM7TGlu4GDfiTHvs5pLjrJfXA4eOcGSWRP575VXacBgDDragnrUnsPHmTFpqJf56a17WTp7Eledry801WSo57m8+20LP4MOjGg8N6VwWffIep7NbF2ewS3DBriY2SqgH3i40H7cfY27d7p757RpWlJYZDRmT2lmYpN6nkejnDXPn7ywg3/70qWcHPDBhnN2Ll05XbYHrP+U07WwQw3nmLTnmSnG3dm+/wiLprfFFZZEJLuSYNnLNsIZww4eGd5p0JTCso3IIi409UyWmd0J/DZwg3uZXyERkTHKnrIsZ80zwOVzpwxe/+IVs7m/e1FZ919NcktmVl43v8iWEqWOsCZ/fzjY9a2DfVy3+mcAnD/K1eYkubLveWUv2wh7nvd8MHyu+6YUlm3EUvNsZp8Gvgl81t0/jCMGEZFislNzlWuRlKzGhlomNgUfIlNbMupNLSL3i4uep/hkyzZWPryRX779Pj/dMjRT3PxpajxXmyhn2wB499BR5k0bmqFFAwZL912gFXjWzDaZ2fdjikNEJK+oep4hmPMZYHKz6tCLyZbMnJvCqayqyaSckq+7/+Nl1m8/OPi7ep6rT5SzbWTNnNQ0OFCwMYU1z7E09939/DgeV0SkVP3h9GjlrHnOam4I3nonaQaUorIrkc0cw+p1MnY1NUZ7a4b9h4+zr/c4+3p7uOHCdm5a9JHBlTOlekQ128Y5jfXUWDAQsb01Q3OmjqMnB2hOYeNZKwyKiOSRLduoL3PZBkBTJviw0AwoxfWF88EuPFeD0uL2/DeX8S93Dq3Rs3TOJG67dGaRv5C0qoloee5MXe3gbC0dbRPI1AXvrY0NKtsQEakK/QPBB0cUPc/TJzZGtu9q0nVRB/d+5iLuufnCuEMZ9zJ1tcN6mTuiX9hHYlIblm1EMZXDlJbgbFt7W2aw8ZzGqerS19wXEamA/ghrnv+iezEf7WgdNvOGnK6utoYvXzMv7jAk1B4OHBx5XapLtga5nHPcZ00Mz7ZNbGqgQY1nEZHqMnAquprnSc0N/PENC8q+X5EoTWkeajCr1rl63X7pLPb3Hucry8o/PeQlMyfxP9t6aJtQl9N4Tl9TVGUbIiJ5nByIrudZJI1yv0i2t6rnuVo11NXwjZs+Gkmj9qvL5vPgHZ1cd8E0GmrV8ywiUlUGIprnWaQaaLCrjEZdbQ2fWtgBMNjzXO4p8SpBnwoiInmkeTCLSNS0aI2M1dSW9J69UM9zwv3wrsvKPteiiJzZH147jwF37rhyTtyhiCTGIyuu4GDfibjDkCpwf/ciFrS3cPX8qXGHctbUeE64axZMizuEccHMbgXuAy4CLnP3DQW22wkcBgaAfnfvzLedpN+E+lr+pOuCuMMQSZTL52mGGCmPiU0NfD2lA6fVeBYJbAF+D3ighG2XufuBiOMRERGRBFLjWQRw99dAdXwiIiJSnAYMipwdB54xs5fNbEWxDc1shZltMLMNPT09FQpPREREoqSeZxk3urq62Lt3L8AiM9uSc9cqd3+8xN1c7e67zawdeNbMfu3uP8+3obuvAdYAdHZ2atSniIhIFTBP0fx6ZtYDvFXg7qlA0upQkxZT0uKBeGKa7e55R2Ka2c+AbxQaMDhi2/uAI+7+tyVsWyh39ZqURjEVyduo6D23LBSTcrcUiunMEtNeSFXPc7F/PjPbkLSZD5IWU9LigWTGVIiZNQM17n44vH4jcH8pf1uksZ6441dMpUliTOWm99yxU0zxUO6OXdJiSlI8qnkWAcxsuZntAq4EnjSzteHt083sqXCzDuAXZrYZ+D/gSXd/Op6IRUREJA6p6nkWiYq7PwY8luf23cAt4fXtwMcrHJqIiIgkSDX1PK+JO4A8khZT0uKBZMZUSUk8fsVUmiTGVElJPH7FVJokxlRJSTx+xXRmiYknVQMGRURERETiVE09zyIiIiIikUp949nMPm1m28zsTTO7J8Y4dprZq2a2ycw2hLdNNrNnzeyN8OekiGN4yMz2585hXCgGC/xD+Ly9YmZLKhjTfWb2bvhcbTKzW3Lu+1YY0zYzuymKmJJCuTssBuVuSihvT4sjUbmrvC1MuTsshkTlbZGYkpm77p7aC1AL/AaYBzQAm4GFMcWyE5g64ra/Ae4Jr98D/HXEMVwLLAG2nCkGgkFwPwUMuAJ4sYIx3Ucwl/LIbReGr2EGmBu+trVx51lEz4ty98x5otxN2EV5W3KexJa7ytuCz4ty98x5ovfcEi9p73m+DHjT3be7+wngR0B3zDHl6gZ+EF7/AfC7UT6YByvdvVdiDN3Av3tgPTDRzM6tUEyFdAM/cvfj7r4DeJPgNa5Gyt0cyt3UUN6OkLTcVd4WpNzNkbS8LRJTIbHmbtobz+cB7+T8viu8LQ4OPGNmL5vZivC2DnffAxD+bI8hrkIxxP3cfS08/fNQzumpuGOqpCQdq3L37Izn3E3ScSY1b4vFEefzN57zFpJ1rEnN3STmLSQwd9PeeLY8t8U1fcjV7r4EuBn4qpldG1McpYrzufseMB+4BNgD/F0CYqq0JB2rcrd04z13k3ScactbiO/5G+95C8k61rTlrt5zR0h743kXMDPn9xnA7jgC8WAxDdx9P8FiG5cB+7KnNsKf+2MIrVAMsT137r7P3Qfc/RTwIEOnWhLzelZAYo5VuVs65W5yjjPBeUuROGJ5/pS3QIKONcG5m6i8heTmbtobzy8BC8xsrpk1ALcDT1Q6CDNrNrPW7HXgRmBLGMud4WZ3Ao9XOrYiMTwB3BGOor0C+CB7uiZqI2qllhM8V9mYbjezjJnNBRYQLINdjZS7Z6bcTR7lbWkSlbvKW0C5W4pE5S0kOHcrNTIxqgvBKNDXCUZaroophnkEoz43A1uzcQBTgOeAN8KfkyOO4z8JTmucJPhWdlehGAhOefxj+Ly9CnRWMKYfho/5CsE/wLk5268KY9oG3Bx3fkX8eil3i+eJcjeBF+VtsnNXeavcHUOe6D23xItWGBQRERERKVHayzZERERERCpGjWcRERERkRKp8SwiIiIiUiI1nkVERERESqTGs4iIiIhIidR4TgAzGzCzTTmXOaPYx0Qz+0r5oxMpTLkraaXclbRS7sZPU9UlgJkdcfeWMe5jDvATd198ln9X6+4DY3lsGb+Uu5JWyl1JK+Vu/NTznFBmVmtmq83sJTN7xcz+KLy9xcyeM7ONZvaqmXWHf/JXwPzwW+hqM7vezH6Ss7/vmtnvh9d3mtmfm9kvgFvNbL6ZPW1mL5vZ82Z2YaWPV6qHclfSSrkraaXcray6uAMQABrNbFN4fYe7LydYWecDd7/UzDLAC2b2DPAOsNzde81sKrDezJ4A7gEWu/slAGZ2/Rke85i7fyLc9jngbnd/w8wuB/4J+GS5D1KqknJX0kq5K2ml3I2ZGs/JcDSbwDluBD5mZp8Lfz+HYO32XcB3zOxa4BRwHtAxisd8BIJvpcBVwH+ZWfa+zCj2J+OTclfSSrkraaXcjZkaz8llwNfdfe2wG4PTKNOApe5+0sx2AhPy/H0/w8tyRm7TF/6sAQ7l+UcUGS3lrqSVclfSSrlbQap5Tq61wEozqwcwswvMrJng2+T+8J9gGTA73P4w0Jrz928BC80sY2bnADfkexB37wV2mNmt4eOYmX08mkOScUK5K2ml3JW0Uu5WkBrPyfXPwK+AjWa2BXiA4EzBw0CnmW0AvgD8GsDdDxLUOG0xs9Xu/g7wKPBK+De/LPJYXwDuMrPNwFagu8i2Imei3JW0Uu5KWil3K0hT1YmIiIiIlEg9zyIiIiIiJVLjWURERESkRGo8i4iIiIiUSI1nEREREZESqfEsIiIiIlIiNZ5FREREREqkxrOIiIiISInUeBYRERERKdH/A5rYMIsRKW79AAAAAElFTkSuQmCC\n",
      "text/plain": [
       "<Figure size 864x432 with 8 Axes>"
      ]
     },
     "metadata": {
      "needs_background": "light"
     },
     "output_type": "display_data"
    }
   ],
   "source": [
    "t = [i for i in range(input_shape)]\n",
    "count = 0 \n",
    "with torch.no_grad():\n",
    "    number = 4\n",
    "    fig, axes = plt.subplots(2, number, figsize=(12, 6))\n",
    "    fig.subplots_adjust(left=None, bottom=None, right=None, top=None, wspace=None, hspace=0.5)\n",
    "    for index in range(number):\n",
    "        # display original\n",
    "        ax = plt.subplot(2, number, index + 1)\n",
    "        sensor_read = test_examples[index].numpy().reshape(input_shape, 1)\n",
    "        plt.title('Original #' + str(index + 1))\n",
    "        plt.xlabel('Feature')\n",
    "        plt.ylabel('Value')\n",
    "        plt.subplot(ax)\n",
    "        plt.plot(t, sensor_read, label = 'Actual')\n",
    "\n",
    "        # display reconstructed\n",
    "        ax2 = plt.subplot(2, number, index + 1 + number)\n",
    "        sensor_read_rec = reconstruction[index].numpy().reshape(input_shape, 1)\n",
    "        plt.title('Reconstructed #' + str(index + 1))\n",
    "        plt.xlabel('Feature')\n",
    "        plt.ylabel('Value')\n",
    "        plt.subplot(ax2)\n",
    "        plt.plot(t, sensor_read_rec, label = 'Reconstructed'); "
   ]
  },
  {
   "cell_type": "markdown",
   "metadata": {},
   "source": [
    "# Run the Autoencoder logic for all the files"
   ]
  },
  {
   "cell_type": "code",
   "execution_count": 39,
   "metadata": {},
   "outputs": [
    {
     "name": "stdout",
     "output_type": "stream",
     "text": [
      "tensor([[0.2526, 0.0000, 0.0000,  ..., 0.0000, 0.1187, 0.0000],\n",
      "        [0.3936, 0.0000, 0.1353,  ..., 0.0000, 0.1110, 0.0000],\n",
      "        [0.2099, 0.0000, 0.0226,  ..., 0.0786, 0.0000, 0.0000],\n",
      "        ...,\n",
      "        [0.1438, 0.0000, 0.0000,  ..., 0.0000, 0.1134, 0.0000],\n",
      "        [0.3498, 0.0000, 0.0000,  ..., 0.5206, 1.2192, 0.7647],\n",
      "        [0.2082, 0.0000, 0.0000,  ..., 0.0632, 0.1259, 0.0031]],\n",
      "       grad_fn=<ReluBackward1>)\n"
     ]
    }
   ],
   "source": [
    "encoded_vals = [j for j in range(len(final_files))]\n",
    "count = 0\n",
<<<<<<< HEAD
    "\n",
=======
    "labels_shape = 226\n",
>>>>>>> 1f28cb82c557aa9eb045c3a05cc9f11c3167a865
    "for file in final_files:\n",
    "    if (file.endswith('.cs')):\n",
    "        continue\n",
    "       \n",
    "    raw_d = pd.read_csv('.' + file + '.csv')\n",
    "    \n",
    "    sensor_data = raw_d.iloc[:,1:input_shape+1]\n",
    "    sensor_data = remove_and_fill_nan(sensor_data)\n",
<<<<<<< HEAD
    "    \n",
    "    norm_sensor_data = normalize_data(sensor_data)\n",
    "    train_data_set, test_data_set, train_dataset_loader, test_dataset_loader = create_train_test_sets(norm_sensor_data)\n",
=======
    "    labels_data = raw_d.iloc[:,labels_shape:-1]\n",
    "    labels_data = remove_and_fill_nan_zero(labels_data)\n",
    "    norm_sensor_data = normalize_data(sensor_data)\n",
    "    train_data_set, test_data_set, train_dataset_loader, test_dataset_loader = create_train_test_sets(norm_sensor_data,labels_data)\n",
>>>>>>> 1f28cb82c557aa9eb045c3a05cc9f11c3167a865
    "    \n",
    "    # Use the Autoencoder that only encodes\n",
    "    device = torch.device(\"cuda\" if torch.cuda.is_available() else \"cpu\")\n",
    "    model = Autoencoder_EncodeOnly(input_shape = input_shape).to(device)\n",
    "    \n",
    "    # Use the Autoencoder that both encodes and decodes\n",
    "    # model = Autoencoder(input_shape = input_shape).to(device)\n",
    "    \n",
    "    # loss_results = fit(num_epochs = 20, learn_rate = 1e-3)\n",
    "    \n",
    "    i = 0\n",
    "    reconstruction = [[] for i in range(len(test_dataset_loader))]\n",
    "    with torch.no_grad():\n",
    "        for batch_features in test_dataset_loader:\n",
    "            test_examples = batch_features.view(-1, input_shape)\n",
    "            reconstruction[i] = model(test_examples.float())\n",
    "            break\n",
    "    \n",
    "    encoded_vals[count] = model(test_examples.float())\n",
    "    count += 1\n",
    "\n",
    "print(encoded_vals[0])"
   ]
  }
 ],
 "metadata": {
  "kernelspec": {
   "display_name": "Python 3",
   "language": "python",
   "name": "python3"
  },
  "language_info": {
   "codemirror_mode": {
    "name": "ipython",
    "version": 3
   },
   "file_extension": ".py",
   "mimetype": "text/x-python",
   "name": "python",
   "nbconvert_exporter": "python",
   "pygments_lexer": "ipython3",
<<<<<<< HEAD
   "version": "3.7.3"
=======
   "version": "3.6.9"
>>>>>>> 1f28cb82c557aa9eb045c3a05cc9f11c3167a865
  }
 },
 "nbformat": 4,
 "nbformat_minor": 4
}
